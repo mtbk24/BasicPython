{
 "cells": [
  {
   "cell_type": "code",
   "execution_count": 33,
   "metadata": {
    "collapsed": true
   },
   "outputs": [],
   "source": [
    "import json\n",
    "from collections import OrderedDict"
   ]
  },
  {
   "cell_type": "markdown",
   "metadata": {},
   "source": [
    "### MAKING 2 ORDERED DICTIONARIES WITH DATA"
   ]
  },
  {
   "cell_type": "code",
   "execution_count": 45,
   "metadata": {
    "collapsed": true
   },
   "outputs": [],
   "source": [
    "values = OrderedDict()\n",
    "values = {\"alpha\":-1.234, \"beta\": -2.563, \"tem\": 592.502, \"norm\": 0.000192}"
   ]
  },
  {
   "cell_type": "code",
   "execution_count": 46,
   "metadata": {
    "collapsed": true
   },
   "outputs": [],
   "source": [
    "errors = OrderedDict()\n",
    "errors = {\"alpha\":[\"nan\", -1.21], \"beta\": [\"nan\",\"nan\"], \n",
    "          \"tem\": [552.948, 601.193], \"norm\": [0.000188, 0.000199]}"
   ]
  },
  {
   "cell_type": "markdown",
   "metadata": {},
   "source": [
    "### Saving data to files to load later."
   ]
  },
  {
   "cell_type": "markdown",
   "metadata": {},
   "source": [
    "#### correct way:"
   ]
  },
  {
   "cell_type": "code",
   "execution_count": 36,
   "metadata": {
    "collapsed": true
   },
   "outputs": [],
   "source": [
    "!open ./"
   ]
  },
  {
   "cell_type": "code",
   "execution_count": 37,
   "metadata": {
    "collapsed": false
   },
   "outputs": [],
   "source": [
    "json.dump((values, errors), open('test1.json', 'w'))"
   ]
  },
  {
   "cell_type": "markdown",
   "metadata": {},
   "source": [
    "#### wrong way:"
   ]
  },
  {
   "cell_type": "code",
   "execution_count": 48,
   "metadata": {
    "collapsed": true
   },
   "outputs": [],
   "source": [
    "json.dump(values, open('test2.json', 'a'))\n",
    "json.dump(errors, open('test2.json', 'a'))"
   ]
  },
  {
   "cell_type": "markdown",
   "metadata": {},
   "source": [
    "### !!! DOESN'T WORK EITHER! \n",
    "Will save as \"alpha\" -1.234, \"beta\"  -2.563 instead of \"alpha\":-1.234, \"beta\": -2.563, so it breaks down the Dictionary format.  It doesn't even place the ',' between the brackets of the two dictionaires."
   ]
  },
  {
   "cell_type": "raw",
   "metadata": {},
   "source": [
    "json.dump(values, open('test5.json', 'a'), separators=', ')\n",
    "json.dump(errors, open('test5.json', 'a'), separators=', ')"
   ]
  },
  {
   "cell_type": "markdown",
   "metadata": {},
   "source": [
    " "
   ]
  },
  {
   "cell_type": "markdown",
   "metadata": {},
   "source": [
    "## NOW READ IN THOSE FILES"
   ]
  },
  {
   "cell_type": "markdown",
   "metadata": {},
   "source": [
    "#### Two separate dictionaries are read into test1"
   ]
  },
  {
   "cell_type": "code",
   "execution_count": 39,
   "metadata": {
    "collapsed": true
   },
   "outputs": [],
   "source": [
    "test1 = json.load(open('test1.json', 'r'))"
   ]
  },
  {
   "cell_type": "code",
   "execution_count": 40,
   "metadata": {
    "collapsed": false
   },
   "outputs": [
    {
     "data": {
      "text/plain": [
       "{u'alpha': -1.234, u'beta': -2.563, u'norm': 0.000192, u'tem': 592.502}"
      ]
     },
     "execution_count": 40,
     "metadata": {},
     "output_type": "execute_result"
    }
   ],
   "source": [
    "test1[0]"
   ]
  },
  {
   "cell_type": "code",
   "execution_count": 41,
   "metadata": {
    "collapsed": false
   },
   "outputs": [
    {
     "data": {
      "text/plain": [
       "{u'alpha': [u'nan', -1.21],\n",
       " u'beta': [u'nan', u'nan'],\n",
       " u'norm': [0.000188, 0.000199],\n",
       " u'tem': [552.948, 601.193]}"
      ]
     },
     "execution_count": 41,
     "metadata": {},
     "output_type": "execute_result"
    }
   ],
   "source": [
    "test1[1]"
   ]
  },
  {
   "cell_type": "markdown",
   "metadata": {},
   "source": [
    " "
   ]
  },
  {
   "cell_type": "markdown",
   "metadata": {},
   "source": [
    "\n",
    "However, test2 won't read in correctly because it was written incorrectly.  \n",
    "\n",
    "Instead of being separated by a comma between brackets like this: },{   there is nothing and it looks like this:   }{\n",
    "\n",
    "Therefore, \n",
    "\n",
    "    test2 = json.load(open('test2.json', 'r')) \n",
    "\n",
    "won't work."
   ]
  },
  {
   "cell_type": "code",
   "execution_count": 42,
   "metadata": {
    "collapsed": true
   },
   "outputs": [],
   "source": [
    "with open('test2.json') as data:   \n",
    "    raw = data.read()\n",
    "\n",
    "#  replace the  '}{'   with  '}*@*{' and then split the raw data on that identifier.\n",
    "adjusted_data   = raw.replace('}{', '}*@*{') \n",
    "parts_of_data   = adjusted_data.split('*@*')\n",
    "\n",
    "good_data    = [json.loads(part) for part in parts_of_data]"
   ]
  },
  {
   "cell_type": "markdown",
   "metadata": {
    "collapsed": true
   },
   "source": [
    "#### Two separate dictionaries are read into good_data"
   ]
  },
  {
   "cell_type": "code",
   "execution_count": 43,
   "metadata": {
    "collapsed": false
   },
   "outputs": [
    {
     "data": {
      "text/plain": [
       "{u'alpha': -1.234, u'beta': -2.563, u'norm': 0.000192, u'tem': 592.502}"
      ]
     },
     "execution_count": 43,
     "metadata": {},
     "output_type": "execute_result"
    }
   ],
   "source": [
    "good_data[0]"
   ]
  },
  {
   "cell_type": "code",
   "execution_count": 44,
   "metadata": {
    "collapsed": false
   },
   "outputs": [
    {
     "data": {
      "text/plain": [
       "{u'alpha': [u'nan', -1.21],\n",
       " u'beta': [u'nan', u'nan'],\n",
       " u'norm': [0.000188, 0.000199],\n",
       " u'tem': [552.948, 601.193]}"
      ]
     },
     "execution_count": 44,
     "metadata": {},
     "output_type": "execute_result"
    }
   ],
   "source": [
    "good_data[1]"
   ]
  },
  {
   "cell_type": "code",
   "execution_count": null,
   "metadata": {
    "collapsed": true
   },
   "outputs": [],
   "source": []
  }
 ],
 "metadata": {
  "kernelspec": {
   "display_name": "Python 2",
   "language": "python",
   "name": "python2"
  },
  "language_info": {
   "codemirror_mode": {
    "name": "ipython",
    "version": 2
   },
   "file_extension": ".py",
   "mimetype": "text/x-python",
   "name": "python",
   "nbconvert_exporter": "python",
   "pygments_lexer": "ipython2",
   "version": "2.7.5"
  }
 },
 "nbformat": 4,
 "nbformat_minor": 0
}
