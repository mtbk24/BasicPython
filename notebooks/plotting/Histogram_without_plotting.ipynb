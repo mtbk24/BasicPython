{
 "cells": [
  {
   "cell_type": "code",
   "execution_count": 1,
   "metadata": {
    "collapsed": true
   },
   "outputs": [],
   "source": [
    "from __future__ import division\n",
    "import os\n",
    "import numpy as np\n",
    "import pandas as pd\n",
    "import pyfits\n",
    "\n",
    "import matplotlib.pyplot as plt\n",
    "%matplotlib inline"
   ]
  },
  {
   "cell_type": "markdown",
   "metadata": {},
   "source": [
    "# READ IN DATA"
   ]
  },
  {
   "cell_type": "code",
   "execution_count": 2,
   "metadata": {
    "collapsed": false
   },
   "outputs": [],
   "source": [
    "burst        = 'bn080916009'\n",
    "modName      = 'grbm+blackb'\n",
    "version      = '-02-'\n",
    "det          = 'G'\n",
    "\n",
    "if 'L' in det:\n",
    "    detector = \"GBMwLAT\"\n",
    "else:\n",
    "    detector = \"GBM\"\n",
    "\n",
    "data_dir = \"/Users/derek/Documents/KimiZ/GRBs2/analysis/LAT/%s/integrated/\"%burst\n",
    "mod_dir = \\\n",
    "\"/Users/derek/Documents/KimiZ/GRBs2/analysis/LAT/%s/BXA/%s/%s/\"%(burst, detector, modName)\n",
    "\n",
    "filename = \"%s_%s_%s_chain.fits\"%(modName, version, det)\n",
    "fileName = os.path.join(mod_dir, filename)"
   ]
  },
  {
   "cell_type": "code",
   "execution_count": 3,
   "metadata": {
    "collapsed": false
   },
   "outputs": [],
   "source": [
    "f        = pyfits.open(fileName)\n",
    "\n",
    "Dat      = f[1].data\n",
    "data     = pd.DataFrame(Dat)\n",
    "data     = data.astype('float64')  # pyfits format needs to be converted to float64"
   ]
  },
  {
   "cell_type": "markdown",
   "metadata": {},
   "source": [
    "### data holds 4984 sets of parameters with their Fit Statistics."
   ]
  },
  {
   "cell_type": "code",
   "execution_count": 4,
   "metadata": {
    "collapsed": false
   },
   "outputs": [
    {
     "data": {
      "text/html": [
       "<div>\n",
       "<table border=\"1\" class=\"dataframe\">\n",
       "  <thead>\n",
       "    <tr style=\"text-align: right;\">\n",
       "      <th></th>\n",
       "      <th>alpha__1</th>\n",
       "      <th>beta__2</th>\n",
       "      <th>tem__3</th>\n",
       "      <th>norm__4</th>\n",
       "      <th>kT__5</th>\n",
       "      <th>norm__6</th>\n",
       "      <th>FIT_STATISTIC</th>\n",
       "    </tr>\n",
       "  </thead>\n",
       "  <tbody>\n",
       "    <tr>\n",
       "      <th>0</th>\n",
       "      <td>-1.313309</td>\n",
       "      <td>-8.529771</td>\n",
       "      <td>2233.760391</td>\n",
       "      <td>0.010978</td>\n",
       "      <td>38.545780</td>\n",
       "      <td>0.000008</td>\n",
       "      <td>-139.408838</td>\n",
       "    </tr>\n",
       "    <tr>\n",
       "      <th>1</th>\n",
       "      <td>-1.141458</td>\n",
       "      <td>-8.516176</td>\n",
       "      <td>881.587304</td>\n",
       "      <td>0.014162</td>\n",
       "      <td>41.013334</td>\n",
       "      <td>0.000002</td>\n",
       "      <td>-138.825519</td>\n",
       "    </tr>\n",
       "    <tr>\n",
       "      <th>2</th>\n",
       "      <td>-1.262837</td>\n",
       "      <td>-7.104426</td>\n",
       "      <td>2279.714171</td>\n",
       "      <td>0.011420</td>\n",
       "      <td>44.265954</td>\n",
       "      <td>0.000005</td>\n",
       "      <td>-138.585961</td>\n",
       "    </tr>\n",
       "    <tr>\n",
       "      <th>3</th>\n",
       "      <td>-1.237525</td>\n",
       "      <td>-3.609701</td>\n",
       "      <td>1098.085895</td>\n",
       "      <td>0.012300</td>\n",
       "      <td>44.813990</td>\n",
       "      <td>0.000004</td>\n",
       "      <td>-138.377547</td>\n",
       "    </tr>\n",
       "    <tr>\n",
       "      <th>4</th>\n",
       "      <td>-1.289565</td>\n",
       "      <td>-3.143231</td>\n",
       "      <td>1912.235161</td>\n",
       "      <td>0.011432</td>\n",
       "      <td>42.257085</td>\n",
       "      <td>0.000006</td>\n",
       "      <td>-138.224772</td>\n",
       "    </tr>\n",
       "  </tbody>\n",
       "</table>\n",
       "</div>"
      ],
      "text/plain": [
       "   alpha__1   beta__2       tem__3   norm__4      kT__5   norm__6  \\\n",
       "0 -1.313309 -8.529771  2233.760391  0.010978  38.545780  0.000008   \n",
       "1 -1.141458 -8.516176   881.587304  0.014162  41.013334  0.000002   \n",
       "2 -1.262837 -7.104426  2279.714171  0.011420  44.265954  0.000005   \n",
       "3 -1.237525 -3.609701  1098.085895  0.012300  44.813990  0.000004   \n",
       "4 -1.289565 -3.143231  1912.235161  0.011432  42.257085  0.000006   \n",
       "\n",
       "   FIT_STATISTIC  \n",
       "0    -139.408838  \n",
       "1    -138.825519  \n",
       "2    -138.585961  \n",
       "3    -138.377547  \n",
       "4    -138.224772  "
      ]
     },
     "execution_count": 4,
     "metadata": {},
     "output_type": "execute_result"
    }
   ],
   "source": [
    "data[0:5]"
   ]
  },
  {
   "cell_type": "code",
   "execution_count": 5,
   "metadata": {
    "collapsed": false
   },
   "outputs": [
    {
     "data": {
      "text/plain": [
       "4984"
      ]
     },
     "execution_count": 5,
     "metadata": {},
     "output_type": "execute_result"
    }
   ],
   "source": [
    "len(data)"
   ]
  },
  {
   "cell_type": "markdown",
   "metadata": {},
   "source": [
    "  "
   ]
  },
  {
   "cell_type": "markdown",
   "metadata": {},
   "source": [
    "---"
   ]
  },
  {
   "cell_type": "markdown",
   "metadata": {},
   "source": [
    "# We want to find the peak in the histrogram distribution without having to plot it."
   ]
  },
  {
   "cell_type": "markdown",
   "metadata": {},
   "source": [
    "### Plotting the parameter distribution for the 'alpha' parameter."
   ]
  },
  {
   "cell_type": "code",
   "execution_count": 6,
   "metadata": {
    "collapsed": true
   },
   "outputs": [],
   "source": [
    "d = data[\"alpha__1\"]"
   ]
  },
  {
   "cell_type": "code",
   "execution_count": 7,
   "metadata": {
    "collapsed": false
   },
   "outputs": [
    {
     "data": {
      "text/plain": [
       "<matplotlib.text.Text at 0x108046b50>"
      ]
     },
     "execution_count": 7,
     "metadata": {},
     "output_type": "execute_result"
    },
    {
     "data": {
      "image/png": "[encoded data removed]",
      "text/plain": [
       "<matplotlib.figure.Figure at 0x107fd3a90>"
      ]
     },
     "metadata": {},
     "output_type": "display_data"
    }
   ],
   "source": [
    "plt.figure(figsize=(9,4))\n",
    "counts, bins, ignored = plt.hist(d, 100, normed=True, color='grey', align='mid', \n",
    "                                 histtype= 'stepfilled', alpha=0.5)\n",
    "\n",
    "plt.ylabel('counts')\n",
    "plt.xlabel('alpha')"
   ]
  },
  {
   "cell_type": "markdown",
   "metadata": {},
   "source": [
    "  "
   ]
  },
  {
   "cell_type": "markdown",
   "metadata": {},
   "source": [
    "## If we don't want to plot the data, use numpy.hist\n",
    "\n",
    "### histo_cts will be the same as counts and bin_edges will be the same as bins."
   ]
  },
  {
   "cell_type": "code",
   "execution_count": 8,
   "metadata": {
    "collapsed": false
   },
   "outputs": [],
   "source": [
    "histo_cts, bin_edges = np.histogram(d, 100, normed=True)"
   ]
  },
  {
   "cell_type": "markdown",
   "metadata": {},
   "source": [
    "  "
   ]
  },
  {
   "cell_type": "markdown",
   "metadata": {},
   "source": [
    "  "
   ]
  },
  {
   "cell_type": "markdown",
   "metadata": {},
   "source": [
    "### Plotting both to see that the parameters are the same."
   ]
  },
  {
   "cell_type": "code",
   "execution_count": 9,
   "metadata": {
    "collapsed": false
   },
   "outputs": [
    {
     "data": {
      "text/plain": [
       "[<matplotlib.lines.Line2D at 0x1080c1ed0>]"
      ]
     },
     "execution_count": 9,
     "metadata": {},
     "output_type": "execute_result"
    },
    {
     "data": {
      "image/png": "[encoded data removed]",
      "text/plain": [
       "<matplotlib.figure.Figure at 0x1080d9710>"
      ]
     },
     "metadata": {},
     "output_type": "display_data"
    }
   ],
   "source": [
    "plt.figure(figsize=(9,4))\n",
    "plt.step(bin_edges[:-1], histo_cts, color='black', linestyle = '-')\n",
    "plt.step(bins[:-1], counts, color='red', linestyle = '-.')\n"
   ]
  },
  {
   "cell_type": "markdown",
   "metadata": {},
   "source": [
    "### Below are the histo_cts vs counts to compare, as well as the bin_edges vs bins to compare."
   ]
  },
  {
   "cell_type": "code",
   "execution_count": 10,
   "metadata": {
    "collapsed": false
   },
   "outputs": [
    {
     "data": {
      "text/plain": [
       "array([  0.08774243,   0.        ,   0.        ,   0.26322728,\n",
       "         0.08774243,   0.26322728,   0.08774243,   0.08774243,\n",
       "         0.26322728,   0.61419698,   0.96516668,   0.87742426,\n",
       "         1.49162124,   1.40387881,   1.84259094,   2.89550005,\n",
       "         2.10581822,   1.84259094,   3.94840916,   3.68518189,\n",
       "         3.50969703,   5.61551526,   5.61551526,   8.33553046,\n",
       "         6.84390922,   8.16004561,   9.21295472,   9.03746986,\n",
       "         8.94972744,  10.00263655,   8.77424259,  11.75748507,\n",
       "        12.28393962,  12.02071234,  12.02071234,  10.61683353,\n",
       "        11.31877294,  11.23103051,  12.37168205,  11.40651536,\n",
       "        12.72265175,  12.98587903,  12.28393962,  11.40651536,\n",
       "        10.96780323,  13.42459116,  11.66974264,  10.96780323,\n",
       "        10.5290911 ,   8.42327288,   8.77424259,   9.03746986,\n",
       "         7.28262135,   7.37036377,   6.93165164,   4.82583342,\n",
       "         4.91357585,   7.01939407,   5.96648496,   5.4400304 ,\n",
       "         4.47486372,   3.24646976,   3.68518189,   4.12389402,\n",
       "         3.59743946,   2.7200152 ,   3.15872733,   2.54453035,\n",
       "         2.10581822,   1.49162124,   1.66710609,   1.49162124,\n",
       "         1.66710609,   0.87742426,   0.61419698,   0.61419698,\n",
       "         0.43871213,   0.78968183,   0.52645456,   0.26322728,\n",
       "         0.3509697 ,   0.26322728,   0.17548485,   0.3509697 ,\n",
       "         0.17548485,   0.17548485,   0.        ,   0.17548485,\n",
       "         0.26322728,   0.17548485,   0.        ,   0.08774243,\n",
       "         0.        ,   0.08774243,   0.        ,   0.        ,\n",
       "         0.        ,   0.        ,   0.        ,   0.08774243])"
      ]
     },
     "execution_count": 10,
     "metadata": {},
     "output_type": "execute_result"
    }
   ],
   "source": [
    "histo_cts"
   ]
  },
  {
   "cell_type": "code",
   "execution_count": 11,
   "metadata": {
    "collapsed": false
   },
   "outputs": [
    {
     "data": {
      "text/plain": [
       "array([  0.08774243,   0.        ,   0.        ,   0.26322728,\n",
       "         0.08774243,   0.26322728,   0.08774243,   0.08774243,\n",
       "         0.26322728,   0.61419698,   0.96516668,   0.87742426,\n",
       "         1.49162124,   1.40387881,   1.84259094,   2.89550005,\n",
       "         2.10581822,   1.84259094,   3.94840916,   3.68518189,\n",
       "         3.50969703,   5.61551526,   5.61551526,   8.33553046,\n",
       "         6.84390922,   8.16004561,   9.21295472,   9.03746986,\n",
       "         8.94972744,  10.00263655,   8.77424259,  11.75748507,\n",
       "        12.28393962,  12.02071234,  12.02071234,  10.61683353,\n",
       "        11.31877294,  11.23103051,  12.37168205,  11.40651536,\n",
       "        12.72265175,  12.98587903,  12.28393962,  11.40651536,\n",
       "        10.96780323,  13.42459116,  11.66974264,  10.96780323,\n",
       "        10.5290911 ,   8.42327288,   8.77424259,   9.03746986,\n",
       "         7.28262135,   7.37036377,   6.93165164,   4.82583342,\n",
       "         4.91357585,   7.01939407,   5.96648496,   5.4400304 ,\n",
       "         4.47486372,   3.24646976,   3.68518189,   4.12389402,\n",
       "         3.59743946,   2.7200152 ,   3.15872733,   2.54453035,\n",
       "         2.10581822,   1.49162124,   1.66710609,   1.49162124,\n",
       "         1.66710609,   0.87742426,   0.61419698,   0.61419698,\n",
       "         0.43871213,   0.78968183,   0.52645456,   0.26322728,\n",
       "         0.3509697 ,   0.26322728,   0.17548485,   0.3509697 ,\n",
       "         0.17548485,   0.17548485,   0.        ,   0.17548485,\n",
       "         0.26322728,   0.17548485,   0.        ,   0.08774243,\n",
       "         0.        ,   0.08774243,   0.        ,   0.        ,\n",
       "         0.        ,   0.        ,   0.        ,   0.08774243])"
      ]
     },
     "execution_count": 11,
     "metadata": {},
     "output_type": "execute_result"
    }
   ],
   "source": [
    "counts"
   ]
  },
  {
   "cell_type": "code",
   "execution_count": 12,
   "metadata": {
    "collapsed": false
   },
   "outputs": [
    {
     "data": {
      "text/plain": [
       "array([-1.34628638, -1.34399966, -1.34171294, -1.33942623, -1.33713951,\n",
       "       -1.33485279, -1.33256608, -1.33027936, -1.32799264, -1.32570593,\n",
       "       -1.32341921, -1.32113249, -1.31884578, -1.31655906, -1.31427234,\n",
       "       -1.31198563, -1.30969891, -1.30741219, -1.30512548, -1.30283876,\n",
       "       -1.30055205, -1.29826533, -1.29597861, -1.2936919 , -1.29140518,\n",
       "       -1.28911846, -1.28683175, -1.28454503, -1.28225831, -1.2799716 ,\n",
       "       -1.27768488, -1.27539816, -1.27311145, -1.27082473, -1.26853801,\n",
       "       -1.2662513 , -1.26396458, -1.26167786, -1.25939115, -1.25710443,\n",
       "       -1.25481771, -1.252531  , -1.25024428, -1.24795757, -1.24567085,\n",
       "       -1.24338413, -1.24109742, -1.2388107 , -1.23652398, -1.23423727,\n",
       "       -1.23195055, -1.22966383, -1.22737712, -1.2250904 , -1.22280368,\n",
       "       -1.22051697, -1.21823025, -1.21594353, -1.21365682, -1.2113701 ,\n",
       "       -1.20908338, -1.20679667, -1.20450995, -1.20222323, -1.19993652,\n",
       "       -1.1976498 , -1.19536309, -1.19307637, -1.19078965, -1.18850294,\n",
       "       -1.18621622, -1.1839295 , -1.18164279, -1.17935607, -1.17706935,\n",
       "       -1.17478264, -1.17249592, -1.1702092 , -1.16792249, -1.16563577,\n",
       "       -1.16334905, -1.16106234, -1.15877562, -1.1564889 , -1.15420219,\n",
       "       -1.15191547, -1.14962875, -1.14734204, -1.14505532, -1.14276861,\n",
       "       -1.14048189, -1.13819517, -1.13590846, -1.13362174, -1.13133502,\n",
       "       -1.12904831, -1.12676159, -1.12447487, -1.12218816, -1.11990144,\n",
       "       -1.11761472])"
      ]
     },
     "execution_count": 12,
     "metadata": {},
     "output_type": "execute_result"
    }
   ],
   "source": [
    "bin_edges"
   ]
  },
  {
   "cell_type": "code",
   "execution_count": 13,
   "metadata": {
    "collapsed": false
   },
   "outputs": [
    {
     "data": {
      "text/plain": [
       "array([-1.34628638, -1.34399966, -1.34171294, -1.33942623, -1.33713951,\n",
       "       -1.33485279, -1.33256608, -1.33027936, -1.32799264, -1.32570593,\n",
       "       -1.32341921, -1.32113249, -1.31884578, -1.31655906, -1.31427234,\n",
       "       -1.31198563, -1.30969891, -1.30741219, -1.30512548, -1.30283876,\n",
       "       -1.30055205, -1.29826533, -1.29597861, -1.2936919 , -1.29140518,\n",
       "       -1.28911846, -1.28683175, -1.28454503, -1.28225831, -1.2799716 ,\n",
       "       -1.27768488, -1.27539816, -1.27311145, -1.27082473, -1.26853801,\n",
       "       -1.2662513 , -1.26396458, -1.26167786, -1.25939115, -1.25710443,\n",
       "       -1.25481771, -1.252531  , -1.25024428, -1.24795757, -1.24567085,\n",
       "       -1.24338413, -1.24109742, -1.2388107 , -1.23652398, -1.23423727,\n",
       "       -1.23195055, -1.22966383, -1.22737712, -1.2250904 , -1.22280368,\n",
       "       -1.22051697, -1.21823025, -1.21594353, -1.21365682, -1.2113701 ,\n",
       "       -1.20908338, -1.20679667, -1.20450995, -1.20222323, -1.19993652,\n",
       "       -1.1976498 , -1.19536309, -1.19307637, -1.19078965, -1.18850294,\n",
       "       -1.18621622, -1.1839295 , -1.18164279, -1.17935607, -1.17706935,\n",
       "       -1.17478264, -1.17249592, -1.1702092 , -1.16792249, -1.16563577,\n",
       "       -1.16334905, -1.16106234, -1.15877562, -1.1564889 , -1.15420219,\n",
       "       -1.15191547, -1.14962875, -1.14734204, -1.14505532, -1.14276861,\n",
       "       -1.14048189, -1.13819517, -1.13590846, -1.13362174, -1.13133502,\n",
       "       -1.12904831, -1.12676159, -1.12447487, -1.12218816, -1.11990144,\n",
       "       -1.11761472])"
      ]
     },
     "execution_count": 13,
     "metadata": {},
     "output_type": "execute_result"
    }
   ],
   "source": [
    "bins"
   ]
  },
  {
   "cell_type": "code",
   "execution_count": 14,
   "metadata": {
    "collapsed": false
   },
   "outputs": [
    {
     "data": {
      "text/plain": [
       "array([ True,  True,  True,  True,  True,  True,  True,  True,  True,\n",
       "        True,  True,  True,  True,  True,  True,  True,  True,  True,\n",
       "        True,  True,  True,  True,  True,  True,  True,  True,  True,\n",
       "        True,  True,  True,  True,  True,  True,  True,  True,  True,\n",
       "        True,  True,  True,  True,  True,  True,  True,  True,  True,\n",
       "        True,  True,  True,  True,  True,  True,  True,  True,  True,\n",
       "        True,  True,  True,  True,  True,  True,  True,  True,  True,\n",
       "        True,  True,  True,  True,  True,  True,  True,  True,  True,\n",
       "        True,  True,  True,  True,  True,  True,  True,  True,  True,\n",
       "        True,  True,  True,  True,  True,  True,  True,  True,  True,\n",
       "        True,  True,  True,  True,  True,  True,  True,  True,  True,\n",
       "        True,  True], dtype=bool)"
      ]
     },
     "execution_count": 14,
     "metadata": {},
     "output_type": "execute_result"
    }
   ],
   "source": [
    "bins == bin_edges"
   ]
  },
  {
   "cell_type": "code",
   "execution_count": null,
   "metadata": {
    "collapsed": true
   },
   "outputs": [],
   "source": []
  },
  {
   "cell_type": "code",
   "execution_count": null,
   "metadata": {
    "collapsed": true
   },
   "outputs": [],
   "source": []
  }
 ],
 "metadata": {
  "kernelspec": {
   "display_name": "Python 2",
   "language": "python",
   "name": "python2"
  },
  "language_info": {
   "codemirror_mode": {
    "name": "ipython",
    "version": 2
   },
   "file_extension": ".py",
   "mimetype": "text/x-python",
   "name": "python",
   "nbconvert_exporter": "python",
   "pygments_lexer": "ipython2",
   "version": "2.7.10"
  }
 },
 "nbformat": 4,
 "nbformat_minor": 1
}
