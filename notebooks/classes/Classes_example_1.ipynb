{
 "cells": [
  {
   "cell_type": "markdown",
   "metadata": {},
   "source": [
    "This notebook contains a few examples of creating classes in Python. \n",
    "Many of these examples were taken from others. For example, I used the following blogpost extensively for this notebook:  https://jeffknupp.com/blog/2014/06/18/improve-your-python-python-classes-and-object-oriented-programming/"
   ]
  },
  {
   "cell_type": "markdown",
   "metadata": {},
   "source": [
    "# Classes"
   ]
  },
  {
   "cell_type": "markdown",
   "metadata": {},
   "source": [
    "### Class Methods \n",
    "* A class method is a method which is bound to the class and not the object of the class.\n",
    "\n",
    "* They have the access to the state of the class as it takes a class parameter that points to the class and not the object instance.\n",
    "\n",
    "* It can modify a class state that would apply across all the instances of the class. For example it can modify a class variable that will be applicable to all the instances."
   ]
  },
  {
   "cell_type": "code",
   "execution_count": null,
   "metadata": {
    "collapsed": true
   },
   "outputs": [],
   "source": [
    "class C(object):\n",
    "    @classmethod\n",
    "    def fun(cls, arg1, arg2, ...):\n",
    "       ....\n",
    "# fun: function that needs to be converted into a class method\n",
    "# returns: a class method for function."
   ]
  },
  {
   "cell_type": "code",
   "execution_count": null,
   "metadata": {
    "collapsed": true
   },
   "outputs": [],
   "source": []
  },
  {
   "cell_type": "code",
   "execution_count": null,
   "metadata": {
    "collapsed": true
   },
   "outputs": [],
   "source": []
  },
  {
   "cell_type": "code",
   "execution_count": 66,
   "metadata": {
    "collapsed": true
   },
   "outputs": [],
   "source": [
    "class Car(object):\n",
    "    wheels = 4\n",
    "\n",
    "    # below are the things that can change about a car.\n",
    "    def __init__(self, make, model, cylinders):\n",
    "        self.make      = make\n",
    "        self.model     = model\n",
    "        self.cylinders = cylinders"
   ]
  },
  {
   "cell_type": "code",
   "execution_count": null,
   "metadata": {
    "collapsed": true
   },
   "outputs": [],
   "source": [
    "class C(object):\n",
    "    @classmethod\n",
    "    def fun(cls, arg1, arg2, ...):\n",
    "       ....\n",
    "fun: function that needs to be converted into a class method\n",
    "returns: a class method for function.a"
   ]
  },
  {
   "cell_type": "code",
   "execution_count": null,
   "metadata": {
    "collapsed": true
   },
   "outputs": [],
   "source": [
    "class C(object):\n",
    "    @classmethod\n",
    "    def fun(cls, arg1, arg2, ...):\n",
    "       ....\n",
    "fun: function that needs to be converted into a class method\n",
    "returns: a class method for function."
   ]
  },
  {
   "cell_type": "markdown",
   "metadata": {},
   "source": [
    "### Static Methods\n",
    "\n",
    "wheels = 4 is a static mehtod.\n",
    "cars will always have 4 wheels.  \n",
    "\n",
    "\n",
    "Typically, a class needs to be assigned to an instance ( i.e. myCar = Car() ) before you can use its attributes. \n",
    "This is not the case for static methods of classes."
   ]
  },
  {
   "cell_type": "code",
   "execution_count": 2,
   "metadata": {
    "collapsed": false
   },
   "outputs": [
    {
     "data": {
      "text/plain": [
       "4"
      ]
     },
     "execution_count": 2,
     "metadata": {},
     "output_type": "execute_result"
    }
   ],
   "source": [
    "Car.wheels"
   ]
  },
  {
   "cell_type": "code",
   "execution_count": 3,
   "metadata": {
    "collapsed": true
   },
   "outputs": [],
   "source": [
    "myCar = Car('Suzuki', 'Grand Vitara', 6)"
   ]
  },
  {
   "cell_type": "code",
   "execution_count": 4,
   "metadata": {
    "collapsed": false
   },
   "outputs": [
    {
     "data": {
      "text/plain": [
       "('Suzuki', 'Grand Vitara', 6)"
      ]
     },
     "execution_count": 4,
     "metadata": {},
     "output_type": "execute_result"
    }
   ],
   "source": [
    "myCar.make, myCar.model, myCar.cylinders"
   ]
  },
  {
   "cell_type": "markdown",
   "metadata": {},
   "source": [
    "You can also place wheels into an attribute that returns 4, but @staticmethod is required above it or wheels will be treated as a normal (non-static) method."
   ]
  },
  {
   "cell_type": "code",
   "execution_count": 5,
   "metadata": {
    "collapsed": true
   },
   "outputs": [],
   "source": [
    "class Car(object):\n",
    "    def __init__(self, make, model, cylinders=None):\n",
    "        self.make = make\n",
    "        self.model = model\n",
    "        self.cylinders = cylinders\n",
    "    @staticmethod\n",
    "    def wheels():\n",
    "        return 4"
   ]
  },
  {
   "cell_type": "markdown",
   "metadata": {},
   "source": [
    " ### Static methods do not need the word self in their definitions"
   ]
  },
  {
   "cell_type": "code",
   "execution_count": 6,
   "metadata": {
    "collapsed": true
   },
   "outputs": [],
   "source": [
    "class Car(object):\n",
    "\n",
    "    @staticmethod\n",
    "    def make_car_sound():\n",
    "        print('VRooooommmm!')"
   ]
  },
  {
   "cell_type": "code",
   "execution_count": 7,
   "metadata": {
    "collapsed": false
   },
   "outputs": [
    {
     "name": "stdout",
     "output_type": "stream",
     "text": [
      "VRooooommmm!\n"
     ]
    }
   ],
   "source": [
    "Car.make_car_sound()"
   ]
  },
  {
   "cell_type": "code",
   "execution_count": 8,
   "metadata": {
    "collapsed": true
   },
   "outputs": [],
   "source": [
    "sound = Car()"
   ]
  },
  {
   "cell_type": "code",
   "execution_count": 9,
   "metadata": {
    "collapsed": false
   },
   "outputs": [
    {
     "name": "stdout",
     "output_type": "stream",
     "text": [
      "VRooooommmm!\n"
     ]
    }
   ],
   "source": [
    "sound.make_car_sound()"
   ]
  },
  {
   "cell_type": "markdown",
   "metadata": {},
   "source": [
    "   \n",
    "   If make_car_sound was not a static method, Car.make_car_sound() would not work.  Notice how there is no self in def make_car_sound():\n",
    "    \n",
    "    \n",
    "   Self is there only for changes to the class attributes.  But a car always makes the same sound!\n"
   ]
  },
  {
   "cell_type": "code",
   "execution_count": 30,
   "metadata": {
    "collapsed": true
   },
   "outputs": [],
   "source": [
    "class MyClass(object):\n",
    "    @staticmethod\n",
    "    def name():\n",
    "        return 'Kim'\n",
    "    def age(self, age):\n",
    "        self.age = age\n",
    "        return age"
   ]
  },
  {
   "cell_type": "code",
   "execution_count": 31,
   "metadata": {
    "collapsed": false
   },
   "outputs": [
    {
     "data": {
      "text/plain": [
       "<function __main__.name>"
      ]
     },
     "execution_count": 31,
     "metadata": {},
     "output_type": "execute_result"
    }
   ],
   "source": [
    "MyClass.name"
   ]
  },
  {
   "cell_type": "code",
   "execution_count": 32,
   "metadata": {
    "collapsed": false
   },
   "outputs": [
    {
     "data": {
      "text/plain": [
       "'Kim'"
      ]
     },
     "execution_count": 32,
     "metadata": {},
     "output_type": "execute_result"
    }
   ],
   "source": [
    "MyClass.name()"
   ]
  },
  {
   "cell_type": "code",
   "execution_count": 33,
   "metadata": {
    "collapsed": false
   },
   "outputs": [
    {
     "data": {
      "text/plain": [
       "'Kim'"
      ]
     },
     "execution_count": 33,
     "metadata": {},
     "output_type": "execute_result"
    }
   ],
   "source": [
    "myself = MyClass()\n",
    "myself.name()"
   ]
  },
  {
   "cell_type": "code",
   "execution_count": 34,
   "metadata": {
    "collapsed": false
   },
   "outputs": [
    {
     "data": {
      "text/plain": [
       "'Kimberly'"
      ]
     },
     "execution_count": 34,
     "metadata": {},
     "output_type": "execute_result"
    }
   ],
   "source": [
    "MyClass.name = \"Kimberly\"\n",
    "MyClass.name "
   ]
  },
  {
   "cell_type": "code",
   "execution_count": 38,
   "metadata": {
    "collapsed": false
   },
   "outputs": [
    {
     "data": {
      "text/plain": [
       "'Kimberly'"
      ]
     },
     "execution_count": 38,
     "metadata": {},
     "output_type": "execute_result"
    }
   ],
   "source": [
    "myself = MyClass()\n",
    "# myself.name() # after changing name to Kimberly, this throws a TypeError\n",
    "#   TypeError: 'str' object is not callable\n",
    "\n",
    "myself.name # But this works, and returns Kimberly"
   ]
  },
  {
   "cell_type": "code",
   "execution_count": 39,
   "metadata": {
    "collapsed": false
   },
   "outputs": [],
   "source": [
    "myself.age = 29"
   ]
  },
  {
   "cell_type": "code",
   "execution_count": 40,
   "metadata": {
    "collapsed": false
   },
   "outputs": [
    {
     "data": {
      "text/plain": [
       "29"
      ]
     },
     "execution_count": 40,
     "metadata": {},
     "output_type": "execute_result"
    }
   ],
   "source": [
    "myself.age"
   ]
  },
  {
   "cell_type": "code",
   "execution_count": 44,
   "metadata": {
    "collapsed": true
   },
   "outputs": [],
   "source": [
    "class Vehicle(object):\n",
    "    @classmethod\n",
    "    def is_motorcycle(self):\n",
    "        return self.wheels == 2\n",
    "\n",
    "    "
   ]
  },
  {
   "cell_type": "code",
   "execution_count": 45,
   "metadata": {
    "collapsed": false
   },
   "outputs": [
    {
     "ename": "AttributeError",
     "evalue": "type object 'Vehicle' has no attribute 'wheels'",
     "output_type": "error",
     "traceback": [
      "\u001b[0;31m---------------------------------------------------------------------------\u001b[0m",
      "\u001b[0;31mAttributeError\u001b[0m                            Traceback (most recent call last)",
      "\u001b[0;32m<ipython-input-45-79822a37073a>\u001b[0m in \u001b[0;36m<module>\u001b[0;34m()\u001b[0m\n\u001b[1;32m      1\u001b[0m \u001b[0mkim\u001b[0m \u001b[0;34m=\u001b[0m \u001b[0mVehicle\u001b[0m\u001b[0;34m(\u001b[0m\u001b[0;34m)\u001b[0m\u001b[0;34m\u001b[0m\u001b[0m\n\u001b[0;32m----> 2\u001b[0;31m \u001b[0mkim\u001b[0m\u001b[0;34m.\u001b[0m\u001b[0mis_motorcycle\u001b[0m\u001b[0;34m(\u001b[0m\u001b[0;34m)\u001b[0m\u001b[0;34m\u001b[0m\u001b[0m\n\u001b[0m",
      "\u001b[0;32m<ipython-input-44-4ecd0fa5d461>\u001b[0m in \u001b[0;36mis_motorcycle\u001b[0;34m(self)\u001b[0m\n\u001b[1;32m      2\u001b[0m     \u001b[0;34m@\u001b[0m\u001b[0mclassmethod\u001b[0m\u001b[0;34m\u001b[0m\u001b[0m\n\u001b[1;32m      3\u001b[0m     \u001b[0;32mdef\u001b[0m \u001b[0mis_motorcycle\u001b[0m\u001b[0;34m(\u001b[0m\u001b[0mself\u001b[0m\u001b[0;34m)\u001b[0m\u001b[0;34m:\u001b[0m\u001b[0;34m\u001b[0m\u001b[0m\n\u001b[0;32m----> 4\u001b[0;31m         \u001b[0;32mreturn\u001b[0m \u001b[0mself\u001b[0m\u001b[0;34m.\u001b[0m\u001b[0mwheels\u001b[0m \u001b[0;34m==\u001b[0m \u001b[0;36m2\u001b[0m\u001b[0;34m\u001b[0m\u001b[0m\n\u001b[0m\u001b[1;32m      5\u001b[0m \u001b[0;34m\u001b[0m\u001b[0m\n\u001b[1;32m      6\u001b[0m \u001b[0;34m\u001b[0m\u001b[0m\n",
      "\u001b[0;31mAttributeError\u001b[0m: type object 'Vehicle' has no attribute 'wheels'"
     ]
    }
   ],
   "source": [
    "kim = Vehicle()\n",
    "kim.is_motorcycle()"
   ]
  },
  {
   "cell_type": "code",
   "execution_count": 46,
   "metadata": {
    "collapsed": true
   },
   "outputs": [],
   "source": [
    "class Car(object):\n",
    "    \"\"\"A car for sale by Jeffco Car Dealership.\n",
    "\n",
    "    Attributes:\n",
    "        wheels: An integer representing the number of wheels the car has.\n",
    "        miles: The integral number of miles driven on the car.\n",
    "        make: The make of the car as a string.\n",
    "        model: The model of the car as a string.\n",
    "        year: The integral year the car was built.\n",
    "        sold_on: The date the vehicle was sold.\n",
    "    \"\"\"\n",
    "\n",
    "    def __init__(self, wheels, miles, make, model, year, sold_on):\n",
    "        \"\"\"Return a new Car object.\"\"\"\n",
    "        self.wheels = wheels\n",
    "        self.miles = miles\n",
    "        self.make = make\n",
    "        self.model = model\n",
    "        self.year = year\n",
    "        self.sold_on = sold_on\n",
    "\n",
    "    def sale_price(self):\n",
    "        \"\"\"Return the sale price for this car as a float amount.\"\"\"\n",
    "        if self.sold_on is not None:\n",
    "            return 0.0  # Already sold\n",
    "        return 5000.0 * self.wheels\n",
    "\n",
    "    def purchase_price(self):\n",
    "        \"\"\"Return the price for which we would pay to purchase the car.\"\"\"\n",
    "        if self.sold_on is None:\n",
    "            return 0.0  # Not yet sold\n",
    "        return 8000 - (.10 * self.miles)"
   ]
  },
  {
   "cell_type": "code",
   "execution_count": 47,
   "metadata": {
    "collapsed": false
   },
   "outputs": [],
   "source": [
    "myCar = Car(wheels=4, miles=90000, make='Suzuki', model='GrandVitara', \n",
    "          year=2008, sold_on=None)"
   ]
  },
  {
   "cell_type": "code",
   "execution_count": 48,
   "metadata": {
    "collapsed": false
   },
   "outputs": [
    {
     "data": {
      "text/plain": [
       "'Suzuki'"
      ]
     },
     "execution_count": 48,
     "metadata": {},
     "output_type": "execute_result"
    }
   ],
   "source": [
    "myCar.make"
   ]
  },
  {
   "cell_type": "code",
   "execution_count": 49,
   "metadata": {
    "collapsed": false
   },
   "outputs": [
    {
     "data": {
      "text/plain": [
       "4"
      ]
     },
     "execution_count": 49,
     "metadata": {},
     "output_type": "execute_result"
    }
   ],
   "source": [
    "myCar.wheels"
   ]
  },
  {
   "cell_type": "code",
   "execution_count": 50,
   "metadata": {
    "collapsed": false
   },
   "outputs": [
    {
     "data": {
      "text/plain": [
       "20000.0"
      ]
     },
     "execution_count": 50,
     "metadata": {},
     "output_type": "execute_result"
    }
   ],
   "source": [
    "myCar.sale_price()"
   ]
  },
  {
   "cell_type": "code",
   "execution_count": 51,
   "metadata": {
    "collapsed": false
   },
   "outputs": [
    {
     "data": {
      "text/plain": [
       "0.0"
      ]
     },
     "execution_count": 51,
     "metadata": {},
     "output_type": "execute_result"
    }
   ],
   "source": [
    "myCar.purchase_price()"
   ]
  },
  {
   "cell_type": "code",
   "execution_count": 52,
   "metadata": {
    "collapsed": true
   },
   "outputs": [],
   "source": [
    "class Truck(object):\n",
    "    \"\"\"A truck for sale by Jeffco Car Dealership.\n",
    "\n",
    "    Attributes:\n",
    "        wheels: An integer representing the number of wheels the truck has.\n",
    "        miles: The integral number of miles driven on the truck.\n",
    "        make: The make of the truck as a string.\n",
    "        model: The model of the truck as a string.\n",
    "        year: The integral year the truck was built.\n",
    "        sold_on: The date the vehicle was sold.\n",
    "    \"\"\"\n",
    "\n",
    "    def __init__(self, wheels, miles, make, model, year, sold_on):\n",
    "        \"\"\"Return a new Truck object.\"\"\"\n",
    "        self.wheels = wheels\n",
    "        self.miles = miles\n",
    "        self.make = make\n",
    "        self.model = model\n",
    "        self.year = year\n",
    "        self.sold_on = sold_on\n",
    "\n",
    "    def sale_price(self):\n",
    "        \"\"\"Return the sale price for this truck as a float amount.\"\"\"\n",
    "        if self.sold_on is not None:\n",
    "            return 0.0  # Already sold\n",
    "        return 5000.0 * self.wheels\n",
    "\n",
    "    def purchase_price(self):\n",
    "        \"\"\"Return the price for which we would pay to purchase the truck.\"\"\"\n",
    "        if self.sold_on is None:\n",
    "            return 0.0  # Not yet sold\n",
    "        return 10000 - (.10 * self.miles)"
   ]
  },
  {
   "cell_type": "code",
   "execution_count": 57,
   "metadata": {
    "collapsed": true
   },
   "outputs": [],
   "source": [
    "class Vehicle(object):\n",
    "    \"\"\"A vehicle for sale by Jeffco Car Dealership.\n",
    "\n",
    "    Attributes:\n",
    "        wheels: An integer representing the number of wheels the vehicle has.\n",
    "        miles: The integral number of miles driven on the vehicle.\n",
    "        make: The make of the vehicle as a string.\n",
    "        model: The model of the vehicle as a string.\n",
    "        year: The integral year the vehicle was built.\n",
    "        sold_on: The date the vehicle was sold.\n",
    "    \"\"\"\n",
    "\n",
    "    base_sale_price = 0\n",
    "\n",
    "    def __init__(self, wheels, miles, make, model, year, sold_on):\n",
    "        \"\"\"Return a new Vehicle object.\"\"\"\n",
    "        self.wheels = wheels\n",
    "        self.miles = miles\n",
    "        self.make = make\n",
    "        self.model = model\n",
    "        self.year = year\n",
    "        self.sold_on = sold_on\n",
    "\n",
    "\n",
    "    def sale_price(self):\n",
    "        \"\"\"Return the sale price for this vehicle as a float amount.\"\"\"\n",
    "        if self.sold_on is not None:\n",
    "            return 0.0  # Already sold\n",
    "        return 5000.0 * self.wheels\n",
    "\n",
    "    def purchase_price(self):\n",
    "        \"\"\"Return the price for which we would pay to purchase the vehicle.\"\"\"\n",
    "        if self.sold_on is None:\n",
    "            return 0.0  # Not yet sold\n",
    "        return self.base_sale_price - (.10 * self.miles)"
   ]
  },
  {
   "cell_type": "code",
   "execution_count": 58,
   "metadata": {
    "collapsed": true
   },
   "outputs": [],
   "source": [
    "myCar = Vehicle(wheels=4, miles=90000, make='Suzuki', model='GrandVitara', \n",
    "          year=2008, sold_on=None)"
   ]
  },
  {
   "cell_type": "code",
   "execution_count": 59,
   "metadata": {
    "collapsed": false
   },
   "outputs": [
    {
     "data": {
      "text/plain": [
       "20000.0"
      ]
     },
     "execution_count": 59,
     "metadata": {},
     "output_type": "execute_result"
    }
   ],
   "source": [
    "myCar.sale_price()"
   ]
  },
  {
   "cell_type": "code",
   "execution_count": 60,
   "metadata": {
    "collapsed": false
   },
   "outputs": [
    {
     "data": {
      "text/plain": [
       "0.0"
      ]
     },
     "execution_count": 60,
     "metadata": {},
     "output_type": "execute_result"
    }
   ],
   "source": [
    "myCar.purchase_price()"
   ]
  },
  {
   "cell_type": "code",
   "execution_count": 61,
   "metadata": {
    "collapsed": true
   },
   "outputs": [],
   "source": [
    "class Car(Vehicle):\n",
    "\n",
    "    def __init__(self, wheels, miles, make, model, year, sold_on):\n",
    "        \"\"\"Return a new Car object.\"\"\"\n",
    "        self.wheels = wheels\n",
    "        self.miles = miles\n",
    "        self.make = make\n",
    "        self.model = model\n",
    "        self.year = year\n",
    "        self.sold_on = sold_on\n",
    "        self.base_sale_price = 8000\n",
    "\n",
    "\n",
    "class Truck(Vehicle):\n",
    "\n",
    "    def __init__(self, wheels, miles, make, model, year, sold_on):\n",
    "        \"\"\"Return a new Truck object.\"\"\"\n",
    "        self.wheels = wheels\n",
    "        self.miles = miles\n",
    "        self.make = make\n",
    "        self.model = model\n",
    "        self.year = year\n",
    "        self.sold_on = sold_on\n",
    "        self.base_sale_price = 10000"
   ]
  },
  {
   "cell_type": "code",
   "execution_count": 62,
   "metadata": {
    "collapsed": false
   },
   "outputs": [
    {
     "name": "stdout",
     "output_type": "stream",
     "text": [
      "0.0\n"
     ]
    }
   ],
   "source": [
    "v = Vehicle(4, 0, 'Honda', 'Accord', 2014, None)\n",
    "print v.purchase_price()"
   ]
  },
  {
   "cell_type": "code",
   "execution_count": 63,
   "metadata": {
    "collapsed": false
   },
   "outputs": [
    {
     "data": {
      "text/plain": [
       "20000.0"
      ]
     },
     "execution_count": 63,
     "metadata": {},
     "output_type": "execute_result"
    }
   ],
   "source": [
    "v.sale_price()"
   ]
  },
  {
   "cell_type": "code",
   "execution_count": 64,
   "metadata": {
    "collapsed": false
   },
   "outputs": [
    {
     "ename": "SyntaxError",
     "evalue": "invalid syntax (<ipython-input-64-d58706368180>, line 67)",
     "output_type": "error",
     "traceback": [
      "\u001b[0;36m  File \u001b[0;32m\"<ipython-input-64-d58706368180>\"\u001b[0;36m, line \u001b[0;32m67\u001b[0m\n\u001b[0;31m    self.base_sale_price =\u001b[0m\n\u001b[0m                           ^\u001b[0m\n\u001b[0;31mSyntaxError\u001b[0m\u001b[0;31m:\u001b[0m invalid syntax\n"
     ]
    }
   ],
   "source": [
    "class Book(object):\n",
    "    \"\"\"Used Bookstore\n",
    "\n",
    "    Attributes:\n",
    "        genre:    str, the genere of the book.\n",
    "        pages:    int, number of pages.\n",
    "        author:   str, the Author of the book.\n",
    "        title:    str, the title of the book. \n",
    "        year_rel: int, year book was released.\n",
    "        \n",
    "    \"\"\"\n",
    "\n",
    "    base_sale_price = 0\n",
    "\n",
    "    def __init__(self, genere, author, title, pages, year_rel):\n",
    "        \"\"\"Return a new Vehicle object.\"\"\"\n",
    "        self.genere      = genere\n",
    "        self.author      = author\n",
    "        self.title       = title\n",
    "        self.pages       = pages\n",
    "        self.year_rel    = year_rel\n",
    "        \n",
    "    def get_age(self):\n",
    "        return 2017 - self.year_rel\n",
    "    \n",
    "    def listprice(self):\n",
    "        \"\"\"Return the price we plan to sell the book for.\"\"\"\n",
    "        if self.genere == 'Fiction':\n",
    "            return 0.0  # Not yet sold\n",
    "        return self.base_sale_price - (.10 * self.miles)\n",
    "\n",
    "    def get_discount(self):\n",
    "        \"\"\"Return the discount we plan to give for a book being sold to our store.\"\"\"\n",
    "        0.10*listprice()\n",
    "        \n",
    "        if self.sold_on is not None:\n",
    "            return 0.0  # Already sold\n",
    "        return 5000.0 * self.wheels\n",
    "\n",
    "    def listprice(self):\n",
    "        \"\"\"Return the price we plan to sell the book for.\"\"\"\n",
    "        if self.sold_on is None:\n",
    "            return 0.0  # Not yet sold\n",
    "        return self.base_sale_price - (.10 * self.miles)\n",
    "\n",
    "class Fiction(Book):\n",
    "\n",
    "    def __init__(self, genere, author, title, pages, year_rel):\n",
    "        \"\"\"Fiction Books\"\"\"\n",
    "        self.genere      = genere\n",
    "        self.author      = author\n",
    "        self.title       = title\n",
    "        self.pages       = pages\n",
    "        self.year_rel    = year_rel\n",
    "        self.base_sale_price = 8.0\n",
    "\n",
    "\n",
    "class NonFiction(Book):\n",
    "\n",
    "    def __init__(self, genere, author, title, pages, year_rel):\n",
    "        \"\"\"NonFiction books\"\"\"\n",
    "        self.genere      = genere\n",
    "        self.author      = author\n",
    "        self.title       = title\n",
    "        self.pages       = pages\n",
    "        self.year_rel    = year_rel\n",
    "        self.base_sale_price = "
   ]
  },
  {
   "cell_type": "code",
   "execution_count": null,
   "metadata": {
    "collapsed": true
   },
   "outputs": [],
   "source": []
  },
  {
   "cell_type": "code",
   "execution_count": null,
   "metadata": {
    "collapsed": true
   },
   "outputs": [],
   "source": []
  },
  {
   "cell_type": "code",
   "execution_count": null,
   "metadata": {
    "collapsed": true
   },
   "outputs": [],
   "source": []
  },
  {
   "cell_type": "code",
   "execution_count": null,
   "metadata": {
    "collapsed": true
   },
   "outputs": [],
   "source": []
  },
  {
   "cell_type": "markdown",
   "metadata": {},
   "source": [
    "#### The instantiation operation (“calling” a class object) creates an empty object. Many classes like to create objects with instances customized to a specific initial state. Therefore a class may define a special method named __init__(), like this:"
   ]
  },
  {
   "cell_type": "code",
   "execution_count": null,
   "metadata": {
    "collapsed": true
   },
   "outputs": [],
   "source": [
    "class parameters:\n",
    "    def __init__(self, alpha, beta, epeak, norm):\n",
    "        self.alpha = alpha\n",
    "        self.beta = beta\n",
    "        self.epeak = epeak\n",
    "        self.norm = norm"
   ]
  },
  {
   "cell_type": "code",
   "execution_count": null,
   "metadata": {
    "collapsed": true
   },
   "outputs": [],
   "source": [
    "pars = parameters(-1.25, -2.74, 531.68, 0.07529)"
   ]
  },
  {
   "cell_type": "code",
   "execution_count": null,
   "metadata": {
    "collapsed": false
   },
   "outputs": [],
   "source": [
    "pars.alpha"
   ]
  },
  {
   "cell_type": "code",
   "execution_count": null,
   "metadata": {
    "collapsed": false
   },
   "outputs": [],
   "source": [
    "pars.beta"
   ]
  },
  {
   "cell_type": "code",
   "execution_count": null,
   "metadata": {
    "collapsed": true
   },
   "outputs": [],
   "source": []
  },
  {
   "cell_type": "code",
   "execution_count": null,
   "metadata": {
    "collapsed": true
   },
   "outputs": [],
   "source": [
    "## Class and Instance Variables"
   ]
  },
  {
   "cell_type": "code",
   "execution_count": null,
   "metadata": {
    "collapsed": true
   },
   "outputs": [],
   "source": [
    "#values = [-1.0, -2.0, 300.0, 0.01]\n",
    "#pars = ['alpha','beta','epeak','norm']"
   ]
  },
  {
   "cell_type": "code",
   "execution_count": null,
   "metadata": {
    "collapsed": true
   },
   "outputs": [],
   "source": [
    "modname = 'band'"
   ]
  },
  {
   "cell_type": "code",
   "execution_count": null,
   "metadata": {
    "collapsed": false
   },
   "outputs": [],
   "source": [
    "class Models:\n",
    "    name = modname\n",
    "#     parvalues = values  # class variables shared by all instances\n",
    "#     parnames = parnames\n",
    "    def band(self, alpha, beta, epeak, norm):\n",
    "        self.alpha = -1.0\n",
    "        self.beta = -2.0\n",
    "        self.epeak = 300.0\n",
    "        self.norm = 0.01\n",
    "        def pars(self, x):\n",
    "            vals = x*4\n",
    "            return vals\n",
    "    \n",
    "#     def parameters(self, alpha, beta, epeak, norm):\n",
    "#         self.alpha = 0.0\n",
    "#         self.beta = 0.0\n",
    "#         self.epeak = 0.0\n",
    "#         self.norm = 0.0\n",
    "        \n",
    "#     def __init__(self, name):\n",
    "#         self.name = 'zoldak'  # instance variable unique to each instance"
   ]
  },
  {
   "cell_type": "code",
   "execution_count": null,
   "metadata": {
    "collapsed": false
   },
   "outputs": [],
   "source": [
    "Models.name"
   ]
  },
  {
   "cell_type": "code",
   "execution_count": null,
   "metadata": {
    "collapsed": false
   },
   "outputs": [],
   "source": [
    "Models.parnames"
   ]
  },
  {
   "cell_type": "code",
   "execution_count": null,
   "metadata": {
    "collapsed": false
   },
   "outputs": [],
   "source": [
    "Models.parvalues"
   ]
  },
  {
   "cell_type": "code",
   "execution_count": null,
   "metadata": {
    "collapsed": false
   },
   "outputs": [],
   "source": [
    "kz = Models()"
   ]
  },
  {
   "cell_type": "code",
   "execution_count": null,
   "metadata": {
    "collapsed": false
   },
   "outputs": [],
   "source": [
    "kz.band('1')"
   ]
  },
  {
   "cell_type": "code",
   "execution_count": null,
   "metadata": {
    "collapsed": true
   },
   "outputs": [],
   "source": []
  },
  {
   "cell_type": "code",
   "execution_count": null,
   "metadata": {
    "collapsed": true
   },
   "outputs": [],
   "source": []
  },
  {
   "cell_type": "code",
   "execution_count": null,
   "metadata": {
    "collapsed": true
   },
   "outputs": [],
   "source": []
  },
  {
   "cell_type": "code",
   "execution_count": null,
   "metadata": {
    "collapsed": true
   },
   "outputs": [],
   "source": [
    "class MyClass(object):\n",
    "    def grades(self, x):\n",
    "        \n",
    "        return x"
   ]
  },
  {
   "cell_type": "code",
   "execution_count": null,
   "metadata": {
    "collapsed": false
   },
   "outputs": [],
   "source": [
    "D.f  # just an unbound method"
   ]
  },
  {
   "cell_type": "code",
   "execution_count": null,
   "metadata": {
    "collapsed": false
   },
   "outputs": [],
   "source": [
    "D.__dict__['f']  # stores internally as a function"
   ]
  },
  {
   "cell_type": "code",
   "execution_count": null,
   "metadata": {
    "collapsed": false
   },
   "outputs": [],
   "source": [
    "d= D()"
   ]
  },
  {
   "cell_type": "code",
   "execution_count": null,
   "metadata": {
    "collapsed": false
   },
   "outputs": [],
   "source": [
    "print type(d) # <class '__main__.D'>\n",
    "print type(D) # <type 'type'>\n",
    "print type(d.f) # <type 'instancemethod'>\n",
    "print type(D.f) # <type 'instancemethod'>"
   ]
  },
  {
   "cell_type": "code",
   "execution_count": null,
   "metadata": {
    "collapsed": false
   },
   "outputs": [],
   "source": [
    "print d.f  # <bound method D.f of <__main__.D object at 0x104b2e450>>\n",
    "print D.f  # <unbound method D.f>"
   ]
  },
  {
   "cell_type": "raw",
   "metadata": {},
   "source": [
    "D.f  # Get from a class becomes an unbound method.\n",
    "d.f  # Get from an instance becomes a bound method."
   ]
  },
  {
   "cell_type": "markdown",
   "metadata": {},
   "source": [
    "D -- object, class or module name.\n",
    "f -- attribute of the object, class or module.\n",
    "\n",
    "attributes can be read only, or read and write.\n",
    "D.number = 42 will make a new attribute (called number) and write it to the class (called D)."
   ]
  },
  {
   "cell_type": "code",
   "execution_count": null,
   "metadata": {
    "collapsed": false
   },
   "outputs": [],
   "source": [
    "D.number = 42"
   ]
  },
  {
   "cell_type": "code",
   "execution_count": null,
   "metadata": {
    "collapsed": false
   },
   "outputs": [],
   "source": [
    "D.number"
   ]
  },
  {
   "cell_type": "markdown",
   "metadata": {},
   "source": [
    "#### This will also carry over to the bound method. But won't work the opposite way around."
   ]
  },
  {
   "cell_type": "code",
   "execution_count": null,
   "metadata": {
    "collapsed": false
   },
   "outputs": [],
   "source": [
    "d.number"
   ]
  },
  {
   "cell_type": "code",
   "execution_count": null,
   "metadata": {
    "collapsed": true
   },
   "outputs": [],
   "source": [
    "d.letter = 'A'"
   ]
  },
  {
   "cell_type": "code",
   "execution_count": null,
   "metadata": {
    "collapsed": false
   },
   "outputs": [],
   "source": [
    "# D.letter  # not recognized."
   ]
  },
  {
   "cell_type": "markdown",
   "metadata": {},
   "source": [
    "d is bound to D and any changes made to D will be carried through to d.  But any changes made to d will not carry through to D.  d is bound to D.  "
   ]
  },
  {
   "cell_type": "code",
   "execution_count": null,
   "metadata": {
    "collapsed": true
   },
   "outputs": [],
   "source": []
  },
  {
   "cell_type": "code",
   "execution_count": null,
   "metadata": {
    "collapsed": false
   },
   "outputs": [],
   "source": []
  },
  {
   "cell_type": "code",
   "execution_count": null,
   "metadata": {
    "collapsed": true
   },
   "outputs": [],
   "source": [
    "class Mapping:\n",
    "    def __init__(self, iterable):\n",
    "        self.items_list = []\n",
    "        self.__update(iterable)\n",
    "\n",
    "    def update(self, iterable):\n",
    "        for item in iterable:\n",
    "            self.items_list.append(item)\n",
    "\n",
    "    __update = update   # private copy of original update() method\n",
    "\n",
    "class MappingSubclass(Mapping):\n",
    "\n",
    "    def update(self, keys, values):\n",
    "        # provides new signature for update()\n",
    "        # but does not break __init__()\n",
    "        for item in zip(keys, values):\n",
    "            self.items_list.append(item)"
   ]
  },
  {
   "cell_type": "code",
   "execution_count": null,
   "metadata": {
    "collapsed": false
   },
   "outputs": [],
   "source": [
    "list = [1,2,3,4,5]\n",
    "range(len(list))"
   ]
  },
  {
   "cell_type": "code",
   "execution_count": null,
   "metadata": {
    "collapsed": false
   },
   "outputs": [],
   "source": [
    "Mapping.update([1,2,3])"
   ]
  },
  {
   "cell_type": "code",
   "execution_count": null,
   "metadata": {
    "collapsed": true
   },
   "outputs": [],
   "source": [
    "class Reverse:\n",
    "    \"\"\"Iterator for looping over a sequence backwards.\"\"\"\n",
    "    def __init__(self, data):\n",
    "        self.data = data\n",
    "        self.index = len(data)\n",
    "\n",
    "    def __iter__(self):\n",
    "        return self\n",
    "\n",
    "    def next(self):\n",
    "        if self.index == 0:\n",
    "            raise StopIteration\n",
    "        self.index = self.index - 1\n",
    "        return self.data[self.index]"
   ]
  },
  {
   "cell_type": "code",
   "execution_count": null,
   "metadata": {
    "collapsed": false
   },
   "outputs": [],
   "source": [
    "rev = Reverse('spam')"
   ]
  },
  {
   "cell_type": "code",
   "execution_count": null,
   "metadata": {
    "collapsed": false
   },
   "outputs": [],
   "source": [
    "iter(rev)"
   ]
  },
  {
   "cell_type": "code",
   "execution_count": null,
   "metadata": {
    "collapsed": false
   },
   "outputs": [],
   "source": [
    "for char in rev:\n",
    "    print char"
   ]
  },
  {
   "cell_type": "code",
   "execution_count": null,
   "metadata": {
    "collapsed": false
   },
   "outputs": [],
   "source": [
    "lname = Reverse('Zoldak')\n",
    "\n",
    "for letter in lname:\n",
    "    print letter"
   ]
  },
  {
   "cell_type": "code",
   "execution_count": null,
   "metadata": {
    "collapsed": true
   },
   "outputs": [],
   "source": [
    "a = [1,2,3,4,5,6,7,8,9,10]"
   ]
  },
  {
   "cell_type": "code",
   "execution_count": null,
   "metadata": {
    "collapsed": false
   },
   "outputs": [],
   "source": [
    "numbers = Reverse(a)\n",
    "\n",
    "for n in numbers:\n",
    "    print n"
   ]
  },
  {
   "cell_type": "code",
   "execution_count": null,
   "metadata": {
    "collapsed": false
   },
   "outputs": [],
   "source": [
    "for n in iter(a):\n",
    "    print n"
   ]
  },
  {
   "cell_type": "markdown",
   "metadata": {},
   "source": [
    "## Nested functions and nested scopes"
   ]
  },
  {
   "cell_type": "code",
   "execution_count": null,
   "metadata": {
    "collapsed": true
   },
   "outputs": [],
   "source": []
  },
  {
   "cell_type": "code",
   "execution_count": null,
   "metadata": {
    "collapsed": true
   },
   "outputs": [],
   "source": []
  },
  {
   "cell_type": "code",
   "execution_count": null,
   "metadata": {
    "collapsed": true
   },
   "outputs": [],
   "source": []
  },
  {
   "cell_type": "code",
   "execution_count": null,
   "metadata": {
    "collapsed": true
   },
   "outputs": [],
   "source": []
  },
  {
   "cell_type": "code",
   "execution_count": null,
   "metadata": {
    "collapsed": true
   },
   "outputs": [],
   "source": []
  },
  {
   "cell_type": "code",
   "execution_count": null,
   "metadata": {
    "collapsed": true
   },
   "outputs": [],
   "source": []
  },
  {
   "cell_type": "code",
   "execution_count": null,
   "metadata": {
    "collapsed": true
   },
   "outputs": [],
   "source": []
  },
  {
   "cell_type": "code",
   "execution_count": null,
   "metadata": {
    "collapsed": true
   },
   "outputs": [],
   "source": []
  },
  {
   "cell_type": "code",
   "execution_count": null,
   "metadata": {
    "collapsed": true
   },
   "outputs": [],
   "source": []
  },
  {
   "cell_type": "markdown",
   "metadata": {},
   "source": [
    "# Kim's Play"
   ]
  },
  {
   "cell_type": "code",
   "execution_count": null,
   "metadata": {
    "collapsed": false
   },
   "outputs": [],
   "source": [
    "class Model(object):\n",
    "    # statements\n",
    "    #name = 'grbm'\n",
    "    #pars = ['alpha','beta','tem','norm']\n",
    "    \n",
    "    \n",
    "    def grbm(self, name='name', parNames = [], default=[]):\n",
    "        name = 'grbm'\n",
    "        parNames = ['alpha', 'beta', 'tem', 'norm']\n",
    "        default = [-1.0, -2.5, 300, 1]\n",
    "        \n",
    "        \n",
    "        #self.name = 'grbm'\n",
    "        #self.parNames = ['alpha', 'beta', 'tem', 'norm']\n",
    "        #self.default = [-1.0, -2.5, 300, 1]\n",
    "        #params = {\"alpha\":-1.235, \"beta\":-2.534, \"tem\": 555.2, \"norm\": 0.01}\n",
    "\n",
    "        \n",
    "    \n",
    "    def alpha(self, value):\n",
    "        self.value = -1.25\n",
    "        return self.value\n",
    "    \n",
    "    \n",
    "    \n",
    "    \n",
    "    # functions\n",
    "    def __get__(self, value):\n",
    "        self.value = -1.2\n",
    "        return value\n",
    "    \n",
    "m1 = Model()"
   ]
  },
  {
   "cell_type": "code",
   "execution_count": null,
   "metadata": {
    "collapsed": true
   },
   "outputs": [],
   "source": []
  },
  {
   "cell_type": "code",
   "execution_count": null,
   "metadata": {
    "collapsed": true
   },
   "outputs": [],
   "source": []
  },
  {
   "cell_type": "code",
   "execution_count": null,
   "metadata": {
    "collapsed": true
   },
   "outputs": [],
   "source": []
  },
  {
   "cell_type": "code",
   "execution_count": null,
   "metadata": {
    "collapsed": true
   },
   "outputs": [],
   "source": []
  },
  {
   "cell_type": "code",
   "execution_count": null,
   "metadata": {
    "collapsed": false
   },
   "outputs": [],
   "source": [
    "class Model(object):\n",
    "    # statements\n",
    "    name = 'grbm'\n",
    "    pars = ['alpha','beta','tem','norm']\n",
    "    \n",
    "    def alpha(self, value):\n",
    "        self.value = -1.25\n",
    "        return self.value\n",
    "    \n",
    "    \n",
    "    \n",
    "    \n",
    "    # functions\n",
    "    def __get__(self, value):\n",
    "        self.value = -1.2\n",
    "        return value\n",
    "    \n",
    "#fget = Model.__get__()"
   ]
  },
  {
   "cell_type": "code",
   "execution_count": null,
   "metadata": {
    "collapsed": false
   },
   "outputs": [],
   "source": []
  },
  {
   "cell_type": "code",
   "execution_count": null,
   "metadata": {
    "collapsed": false
   },
   "outputs": [],
   "source": [
    "m1.alpha('value')"
   ]
  },
  {
   "cell_type": "code",
   "execution_count": null,
   "metadata": {
    "collapsed": false
   },
   "outputs": [],
   "source": [
    "Model.pars"
   ]
  },
  {
   "cell_type": "code",
   "execution_count": null,
   "metadata": {
    "collapsed": false
   },
   "outputs": [],
   "source": [
    "Model.__get__()"
   ]
  },
  {
   "cell_type": "code",
   "execution_count": null,
   "metadata": {
    "collapsed": true
   },
   "outputs": [],
   "source": []
  },
  {
   "cell_type": "code",
   "execution_count": null,
   "metadata": {
    "collapsed": true
   },
   "outputs": [],
   "source": []
  },
  {
   "cell_type": "code",
   "execution_count": null,
   "metadata": {
    "collapsed": true
   },
   "outputs": [],
   "source": [
    "class MyClass(object):\n",
    "    class_var = 1\n",
    "    one = 1\n",
    "    two = 2\n",
    "    three = 3\n",
    "    four = 4\n",
    "    \n",
    "    def alpha(self, alpha_var):\n",
    "        self.alpha_var = alpha_var\n",
    "\n",
    "    def __init__(self, i_var):\n",
    "        self.i_var = i_var\n"
   ]
  },
  {
   "cell_type": "code",
   "execution_count": null,
   "metadata": {
    "collapsed": false
   },
   "outputs": [],
   "source": [
    "MyClass.__get__(object)"
   ]
  },
  {
   "cell_type": "code",
   "execution_count": null,
   "metadata": {
    "collapsed": false
   },
   "outputs": [],
   "source": [
    "MyClass.__init__"
   ]
  },
  {
   "cell_type": "code",
   "execution_count": null,
   "metadata": {
    "collapsed": false
   },
   "outputs": [],
   "source": [
    "MyClass.class_var"
   ]
  },
  {
   "cell_type": "code",
   "execution_count": null,
   "metadata": {
    "collapsed": false
   },
   "outputs": [],
   "source": [
    "MyClass.four"
   ]
  },
  {
   "cell_type": "code",
   "execution_count": null,
   "metadata": {
    "collapsed": true
   },
   "outputs": [],
   "source": []
  },
  {
   "cell_type": "code",
   "execution_count": null,
   "metadata": {
    "collapsed": true
   },
   "outputs": [],
   "source": []
  },
  {
   "cell_type": "code",
   "execution_count": null,
   "metadata": {
    "collapsed": true
   },
   "outputs": [],
   "source": []
  },
  {
   "cell_type": "code",
   "execution_count": null,
   "metadata": {
    "collapsed": true
   },
   "outputs": [],
   "source": []
  },
  {
   "cell_type": "code",
   "execution_count": null,
   "metadata": {
    "collapsed": true
   },
   "outputs": [],
   "source": []
  },
  {
   "cell_type": "code",
   "execution_count": null,
   "metadata": {
    "collapsed": true
   },
   "outputs": [],
   "source": []
  },
  {
   "cell_type": "code",
   "execution_count": null,
   "metadata": {
    "collapsed": true
   },
   "outputs": [],
   "source": []
  },
  {
   "cell_type": "code",
   "execution_count": null,
   "metadata": {
    "collapsed": true
   },
   "outputs": [],
   "source": []
  },
  {
   "cell_type": "code",
   "execution_count": null,
   "metadata": {
    "collapsed": false
   },
   "outputs": [],
   "source": [
    "class Model(object):\n",
    "#     alpha = -1.2\n",
    "#     beta = -2.5\n",
    "#     tem = 322.5\n",
    "#     norm = 1.0E-2\n",
    "\n",
    "    def alpha(self, alpha_v):\n",
    "        def name(self):\n",
    "            return 'alpha'\n",
    "        return\n",
    "        \n",
    "        \n",
    "    \n",
    "    def __get__(self, alpha, beta, tem, norm):\n",
    "        self.alpha = alpha\n",
    "        self.beta = beta\n",
    "        self.tem = tem\n",
    "        self.norm = norm\n",
    "\n",
    "Model.__dict__['alpha']\n",
    "    \n",
    "    #grbm.alpha.values = [-1.02976, -0.0102976, -10.0, -3.0, 2.0, 5.0]\n",
    "    #grbm.beta.values = [-2.20137, -0.022013699999999997, -10.0, -5.0, 2.0, 10.0]\n",
    "    #grbm = {1:'alpha', 2:'beta', 3:'tem', 4:'norm'}\n",
    "    "
   ]
  },
  {
   "cell_type": "code",
   "execution_count": null,
   "metadata": {
    "collapsed": false
   },
   "outputs": [],
   "source": [
    "Model.alpha('name')"
   ]
  },
  {
   "cell_type": "code",
   "execution_count": null,
   "metadata": {
    "collapsed": false
   },
   "outputs": [],
   "source": [
    "class Model(object):\n",
    "    def showList(self):\n",
    "        '''\n",
    "         Additive Models: \n",
    "      agauss        apec       bapec       bbody    bbodyrad      bexrav\n",
    "      bexriv     bkn2pow    bknpower         bmc      bremss      bvapec\n",
    "     bvvapec      c6mekl     c6pmekl     c6pvmkl     c6vmekl      cemekl\n",
    "      cevmkl       cflow      compLS      compPS      compST      compTT\n",
    "      compbb     compmag      comptb      compth    cplinear    cutoffpl\n",
    "        disk      diskbb      diskir    diskline       diskm       disko\n",
    "     diskpbb      diskpn    eplogpar      eqpair     eqtherm       equil\n",
    "      expdec    ezdiskbb       gadem    gaussian        gnei        grad\n",
    "        grbm      kerrbb       kerrd    kerrdisk        laor       laor2\n",
    "      logpar     lorentz        meka       mekal     mkcflow         nei\n",
    "      nlapec     npshock         nsa     nsagrav     nsatmos       nsmax\n",
    "      nsmaxg         nsx       nteea     nthComp     optxagn    optxagnf\n",
    "    pegpwrlw      pexmon      pexrav      pexriv      plcabs        posm\n",
    "    powerlaw      pshock     raymond       redge      refsch        rnei\n",
    "       sedov        sirf       smaug       srcut       sresc        step\n",
    "       vapec     vbremss      vequil      vgadem       vgnei     vmcflow\n",
    "       vmeka      vmekal        vnei    vnpshock     vpshock    vraymond\n",
    "       vrnei      vsedov      vvapec      vvgnei       vvnei   vvnpshock\n",
    "    vvpshock      vvrnei     vvsedov     zagauss      zbbody     zbremss\n",
    "      zgauss    zpowerlw\n",
    "\n",
    " Multiplicative Models: \n",
    "     SSS_ice       TBabs     TBgrain    TBvarabs      absori     acisabs\n",
    "        cabs    constant     cyclabs        dust        edge      expabs\n",
    "      expfac        gabs      heilin    highecut       hrefl       lyman\n",
    "       notch      pcfabs       phabs       plabs        pwab      recorn\n",
    "      redden      smedge    spexpcut      spline      swind1       uvred\n",
    "      varabs      vphabs        wabs      wndabs        xion      zTBabs\n",
    "       zbabs       zdust       zedge    zhighect        zigm     zpcfabs\n",
    "      zphabs     zredden     zsmdust     zvarabs     zvfeabs     zvphabs\n",
    "       zwabs     zwndabs      zxipcf\n",
    "\n",
    " Convolution Models: \n",
    "       cflux      cpflux     gsmooth    ireflect      kdblur     kdblur2\n",
    "    kerrconv     lsmooth     partcov      rdblur     reflect     rgsxsrc\n",
    "       simpl     zashift     zmshift\n",
    "\n",
    " Mixing Models: \n",
    "       ascac      projct      suzpsf      xmmpsf\n",
    "\n",
    " Pile-up Models: \n",
    "      pileup\n",
    "\n",
    " Additional models are available at :\n",
    "\t legacy.gsfc.nasa.gov/docs/xanadu/xspec/newmodels.html\n",
    "        '''\n",
    "    def __get__(self, value):\n",
    "        self.value = -1.25\n",
    "        return self.value\n",
    "    def __set__(self, value):\n",
    "        self.value = value\n",
    "        return\n",
    "    def __delete__(self, value):\n",
    "        del self.value\n",
    "        return\n",
    "    \n",
    "\n",
    "#Model.__dict__['showList']\n",
    "#Model.__setattr__['showList']\n",
    "Model.__init__['showList']"
   ]
  },
  {
   "cell_type": "code",
   "execution_count": null,
   "metadata": {
    "collapsed": false
   },
   "outputs": [],
   "source": [
    "Model.__init__['showList']"
   ]
  },
  {
   "cell_type": "markdown",
   "metadata": {},
   "source": [
    "Define any of these methods and an object is considered a descriptor and can override default behavior upon being looked up as an attribute."
   ]
  },
  {
   "cell_type": "raw",
   "metadata": {},
   "source": [
    "descr.__get__(self, obj, type=None) --> value\n",
    "descr.__set(self, obj) --> None\n",
    "descr.__delete__(self, obj) --> None"
   ]
  },
  {
   "cell_type": "code",
   "execution_count": null,
   "metadata": {
    "collapsed": false
   },
   "outputs": [],
   "source": [
    "Model.__get__(self, alpha, type=None) "
   ]
  },
  {
   "cell_type": "code",
   "execution_count": null,
   "metadata": {
    "collapsed": true
   },
   "outputs": [],
   "source": []
  },
  {
   "cell_type": "code",
   "execution_count": null,
   "metadata": {
    "collapsed": true
   },
   "outputs": [],
   "source": []
  },
  {
   "cell_type": "code",
   "execution_count": null,
   "metadata": {
    "collapsed": true
   },
   "outputs": [],
   "source": []
  },
  {
   "cell_type": "code",
   "execution_count": null,
   "metadata": {
    "collapsed": true
   },
   "outputs": [],
   "source": []
  },
  {
   "cell_type": "code",
   "execution_count": null,
   "metadata": {
    "collapsed": true
   },
   "outputs": [],
   "source": []
  },
  {
   "cell_type": "code",
   "execution_count": null,
   "metadata": {
    "collapsed": true
   },
   "outputs": [],
   "source": [
    "class Model(object):\n",
    "\n",
    "    def __get__(self, alpha):\n",
    "        alpha = -1.25\n",
    "        return alpha\n",
    "\n",
    "    def alpha(self, alpha_v):\n",
    "        def name(self):\n",
    "            return 'alpha'\n",
    "        return\n",
    "        \n",
    "        \n",
    "    \n",
    "    def __get__(self, alpha, beta, tem, norm):\n",
    "        self.alpha = alpha\n",
    "        self.beta = beta\n",
    "        self.tem = tem\n",
    "        self.norm = norm\n",
    "\n",
    "Model.__dict__['alpha']"
   ]
  }
 ],
 "metadata": {
  "kernelspec": {
   "display_name": "Python 2",
   "language": "python",
   "name": "python2"
  },
  "language_info": {
   "codemirror_mode": {
    "name": "ipython",
    "version": 2
   },
   "file_extension": ".py",
   "mimetype": "text/x-python",
   "name": "python",
   "nbconvert_exporter": "python",
   "pygments_lexer": "ipython2",
   "version": "2.7.11"
  }
 },
 "nbformat": 4,
 "nbformat_minor": 0
}
