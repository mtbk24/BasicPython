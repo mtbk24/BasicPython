{
 "cells": [
  {
   "cell_type": "markdown",
   "metadata": {},
   "source": [
    "** The class examples in this notebook are my own. "
   ]
  },
  {
   "cell_type": "markdown",
   "metadata": {},
   "source": [
    "  "
   ]
  },
  {
   "cell_type": "markdown",
   "metadata": {},
   "source": [
    "# Classes"
   ]
  },
  {
   "cell_type": "markdown",
   "metadata": {},
   "source": [
    "#### The instantiation operation (“calling” a class object) creates an empty object. Many classes like to create objects with instances customized to a specific initial state. Therefore a class may define a special method named __init__(), like this:"
   ]
  },
  {
   "cell_type": "code",
   "execution_count": 1,
   "metadata": {
    "collapsed": true
   },
   "outputs": [],
   "source": [
    "# a simple class example \n",
    "\n",
    "class parameters:\n",
    "    def __init__(self, alpha, beta, epeak, norm):\n",
    "        self.alpha = alpha\n",
    "        self.beta = beta\n",
    "        self.epeak = epeak\n",
    "        self.norm = norm"
   ]
  },
  {
   "cell_type": "code",
   "execution_count": 2,
   "metadata": {
    "collapsed": true
   },
   "outputs": [],
   "source": [
    "pars = parameters(-1.25, -2.74, 531.68, 0.07529)"
   ]
  },
  {
   "cell_type": "code",
   "execution_count": 3,
   "metadata": {
    "collapsed": false
   },
   "outputs": [
    {
     "data": {
      "text/plain": [
       "-1.25"
      ]
     },
     "execution_count": 3,
     "metadata": {},
     "output_type": "execute_result"
    }
   ],
   "source": [
    "pars.alpha"
   ]
  },
  {
   "cell_type": "code",
   "execution_count": 4,
   "metadata": {
    "collapsed": false
   },
   "outputs": [
    {
     "data": {
      "text/plain": [
       "-2.74"
      ]
     },
     "execution_count": 4,
     "metadata": {},
     "output_type": "execute_result"
    }
   ],
   "source": [
    "pars.beta"
   ]
  },
  {
   "cell_type": "code",
   "execution_count": 6,
   "metadata": {
    "collapsed": true
   },
   "outputs": [],
   "source": [
    "class Models(object):\n",
    "    \n",
    "    def __init__(self, modelname):\n",
    "        self.modelname = modelname\n",
    "    \n",
    "    def band(self, alpha, beta, epeak, norm):\n",
    "        self.alpha = -1.0\n",
    "        self.beta = -2.0\n",
    "        self.epeak = 300.0\n",
    "        self.norm = 0.01\n",
    "        \n",
    "        def pars(self, x):\n",
    "            vals = x*4\n",
    "            return vals"
   ]
  },
  {
   "cell_type": "code",
   "execution_count": 8,
   "metadata": {
    "collapsed": false
   },
   "outputs": [],
   "source": [
    "k = Models('band')"
   ]
  },
  {
   "cell_type": "code",
   "execution_count": 10,
   "metadata": {
    "collapsed": false
   },
   "outputs": [
    {
     "ename": "TypeError",
     "evalue": "band() takes exactly 5 arguments (1 given)",
     "output_type": "error",
     "traceback": [
      "\u001b[0;31m---------------------------------------------------------------------------\u001b[0m",
      "\u001b[0;31mTypeError\u001b[0m                                 Traceback (most recent call last)",
      "\u001b[0;32m<ipython-input-10-dc5c3e39bdde>\u001b[0m in \u001b[0;36m<module>\u001b[0;34m()\u001b[0m\n\u001b[0;32m----> 1\u001b[0;31m \u001b[0mk\u001b[0m\u001b[0;34m.\u001b[0m\u001b[0mband\u001b[0m\u001b[0;34m(\u001b[0m\u001b[0;34m)\u001b[0m\u001b[0;34m\u001b[0m\u001b[0m\n\u001b[0m",
      "\u001b[0;31mTypeError\u001b[0m: band() takes exactly 5 arguments (1 given)"
     ]
    }
   ],
   "source": []
  },
  {
   "cell_type": "code",
   "execution_count": 34,
   "metadata": {
    "collapsed": true
   },
   "outputs": [],
   "source": [
    "from __future__ import division, print_function\n",
    "import sys, os, glob\n",
    "import numpy\n",
    "import json\n",
    "import pandas\n",
    "from astropy.io import fits as pyfits\n",
    "from collections import OrderedDict\n",
    "\n",
    "\n",
    "old_stdout = sys.stdout\n",
    "\n",
    "# Disable Print\n",
    "def blockPrint():\n",
    "    sys.stdout = open(os.devnull, 'w')\n",
    "\n",
    "# Restore Print\n",
    "def enablePrint():\n",
    "    sys.stdout = old_stdout\n",
    "\n",
    "\n",
    "class Data(object):\n",
    "    '''\n",
    "    Data(**kwargs)\n",
    "        where the kwargs represent the following dictionary:\n",
    "    \n",
    "    \n",
    "    params_dict = {\n",
    "            'burst':        'bn080916009',\n",
    "            'det':          'L',\n",
    "            'model':        'grbm',\n",
    "            'pyx_version':  '-01-',\n",
    "            'bxa_version':  '-01-',\n",
    "            'bxa_Aversion': '-01-'\n",
    "            }\n",
    "                    \n",
    "    test        = Data(**params_dict)\n",
    "    \n",
    "\n",
    "\n",
    "    burst:   str, burst trigger name.  ex: 'bn080916009'\n",
    "    det:     str, 'L' or 'G'\n",
    "    model:   str, full model name.  ex: 'grbm+blackb+lpow'\n",
    "    pyx_version:  str, PYXSPEC version with '-' around it.  ex: '-01-'\n",
    "    bxa_version:  str, BXA Orig version with '-' around it.  ex: '-01-'\n",
    "    bxa_Aversion:  str, BXA Auto version with '-' around it.  ex: '-01-'\n",
    "\n",
    "\n",
    "    EXAMPLES:\n",
    "\n",
    "            example 1:\n",
    "    use *args if using this class as a standalone.\n",
    "      pars = ['bn080916009', 'G', 'grbm', '-01-', '-01-', '-01-']\n",
    "      Data(*pars)\n",
    "    The downfall of the *args method is that the variables in the\n",
    "    list must always be in the same order and contain all the same\n",
    "    variables.\n",
    "\n",
    "            example 2:\n",
    "    use **kwargs if inheriting the attributes of this class.\n",
    "    This will be done WITHIN another class.\n",
    "      pars = {\n",
    "            'burst':        'bn080916009',\n",
    "            'det':          'G',\n",
    "            'model':        'grbm',\n",
    "            'pyx_version':  '-01-',\n",
    "            'bxa_version':  '-01-',\n",
    "            'bxa_Aversion': '-01-'\n",
    "            }\n",
    "            \n",
    "      Data(**pars)\n",
    "\n",
    "    Within this class, there will be:\n",
    "    self._burst = kwargs['burst']\n",
    "    self._det    = kwargs['det']\n",
    "    etc...\n",
    "\n",
    "    The pars dictionary can also be written in the following way if\n",
    "    it already inherited the variables into the self variable:\n",
    "      pars = {'burst':self._burst, 'det':self._det,\n",
    "      'model':self._model, 'pyx_version': self._pyx_version,\n",
    "      'bxa_version': self._bxa_version,\n",
    "      'bxa_Aversion':self._bxa_Aversion}\n",
    "\n",
    "    The nice thing about the dictionary is that the entries do NOT need to\n",
    "    be in any specific order and you can pass more than needed by the\n",
    "    class or function that is inheriting them.\n",
    "\n",
    "    kwargs['burst'] will find the burst dictionary entry.\n",
    "\n",
    "\n",
    "    '''\n",
    "\n",
    "    \n",
    "    def __init__(self, *args, **kwargs):\n",
    "        if args:\n",
    "            raise Exception(\"Use Dictionary for now.\")\n",
    "        elif kwargs:\n",
    "            self._burst           = kwargs['burst']\n",
    "            self._det             = kwargs['det']\n",
    "            if 'model' in kwargs.keys():\n",
    "                self._model           = kwargs['model']\n",
    "            if 'pyx_version' in kwargs.keys():\n",
    "                self._pyx_version     = kwargs['pyx_version']\n",
    "            if 'bxa_version' in kwargs.keys():\n",
    "                self._bxa_version     = kwargs['bxa_version']\n",
    "            self._bxa_Aversion    = '-01-'\n",
    "            \n",
    "        # DEFINE A FEW DIRECTORIES \n",
    "        self._det_dir             = ('GBMwLAT' if 'L' in self._det else 'GBM')\n",
    "        self._base_dir            = \"/Users/KimiZ/Python/My_Modules/GRBAnalysis/\"\n",
    "        self._basedata_dir        = os.path.join(self._base_dir, 'data/')\n",
    "        self._burst_dir           = \"/Users/KimiZ/GRBs2/analysis/LAT/%s/\"%(self._burst)\n",
    "        \n",
    "\n",
    "    # FILE PREFIX IF THE BXA PROGRAMMING RESULTS ARE DESIRED.\n",
    "    # FOR AUTO RUNS, AN EXAMPLE WOULD BE:        grbm_-01-_auto_G_\n",
    "    # FOR ORIGINAL RUNS, AND EXAMPLE WOULD BE:   grbm_-01-_G_\n",
    "    def _Bxa_Prefix(self, method):\n",
    "        if 'a' in method:\n",
    "            return \"%s_-01-_auto_%s_\"%(self._model, self._det) # grbm_-01-_auto_G_\n",
    "        elif 'o' in method:\n",
    "            return \"%s_%s_%s_\"%(self._model, self._bxa_version, self._det) # grbm_-01-_G_\n",
    "\n",
    "    # FILE PREFIX FOR THE PYXSPEC PROGRAMMING FILES (PYTHON WRAPPER OF XSPEC)\n",
    "    def _Pyx_Prefix(self):\n",
    "        return \"%s_%s_%s_\"%(self._model, self._pyx_version, self._det)\n",
    "\n",
    "    # ALL POSSIBLE MODELS WE USED IN OUR ANALYSES. \n",
    "    def allModels(self):\n",
    "        return ['grbm', 'grbm+bbody', 'grbm+lpow', 'grbm+bbody+lpow',\n",
    "                'sbpl', 'sbpl+bbody', 'sbpl+lpow', 'sbpl+bbody+lpow',\n",
    "                'cutoffpl', 'cutoffpl+bbody', 'cutoffpl+lpow', 'cutoffpl+bbody+lpow']\n",
    "    \n",
    "    # ACCESSES THE GRB SAMPLE'S DATA, SUCH AS REDSHIFT, START AND ENDING TIMES. \n",
    "    def _BurstSample(self):\n",
    "        '''\n",
    "        _BurstSample(self)\n",
    "        \n",
    "        ACCESSES THE GRB SAMPLE'S DATA, SUCH AS REDSHIFT, START AND ENDING TIMES.\n",
    "        Stored in the following directory/filename:\n",
    "        /Users/KimiZ/Python/My_Modules/GRBAnalysis/data/burst_data.txt\n",
    "\n",
    "        trigger, redshift, burstname, t90_start, t90_stop, BATdet, LATdet, angT0, angT30, angT60\n",
    "        '''\n",
    "        datafile        = os.path.join(self._base_dir, 'data/burst_data.txt')\n",
    "        data\t\t\t= pandas.read_table(datafile, delimiter=\" \", header=0)\n",
    "        #\n",
    "        trigger\t\t\t= str(data.trigger[data['trigger']== self._burst])\n",
    "        redshift\t\t= float(data.z[data['trigger']== self._burst])\n",
    "        burstname\t\t= str(data.name[data['trigger']== self._burst])\n",
    "        t90_start\t\t= float(data.t90_start[data['trigger']== self._burst])\n",
    "        t90_stop\t\t= float(data.t90_stop[data['trigger']== self._burst])\n",
    "        BATdet\t\t\t= data.BATdet[data['trigger']== self._burst]\n",
    "        LATdet\t\t\t= data.LATdet[data['trigger']== self._burst]\n",
    "        angT0\t\t\t= data.angT0[data['trigger']== self._burst]\n",
    "        angT30\t\t\t= data.angT30[data['trigger']== self._burst]\n",
    "        angT60\t\t\t= data.angT60[data['trigger']== self._burst]\n",
    "        return trigger, redshift, t90_start, t90_stop, data\n",
    "\n",
    "    # PROPERTIES TO EASILY ACCESS THE BURST SAMPLE DATA ABOVE. \n",
    "    @property\n",
    "    def _burstdata(self):\n",
    "        return self._BurstSample()[-1]\n",
    "    \n",
    "    @property\n",
    "    def _trigger(self):\n",
    "        return self._BurstSample()[0]\n",
    "\n",
    "    @property\n",
    "    def _redshift(self):\n",
    "        return self._BurstSample()[1]\n",
    "\n",
    "    @property\n",
    "    def _t90start(self):\n",
    "        return self._BurstSample()[2]\n",
    "\n",
    "    @property\n",
    "    def _t90stop(self):\n",
    "        return self._BurstSample()[3]\n",
    "\n",
    "\n",
    "    # GET PARAMETER NAMES BASED ON MODEL.\n",
    "    def ParNames(self, model=None):\n",
    "        '''\n",
    "        ParNames(self, model=None)\n",
    "        \n",
    "        Given a model name, it will return the parameter names of the model.\n",
    "        See file 'ParameterNames.json in the $PYX/Analysis/ directory.\n",
    "        '\n",
    "        '''\n",
    "        if model:\n",
    "            modname = model\n",
    "        else:\n",
    "            modname = self._model\n",
    "        File  = os.path.join(self._basedata_dir, 'ParameterNames.json')\n",
    "        f     = json.load(open(File, 'r'), encoding='utf-8')\n",
    "        names = f[modname]\n",
    "        names = [str(i) for i in names]\n",
    "        return names\n",
    "\n",
    "\n",
    "    def ParNames_ext(self, model=None):\n",
    "        '''\n",
    "        ParNames_ext(self, model=None)\n",
    "        \n",
    "        \n",
    "        Takes the parameter names and extends them with the number of their order.\n",
    "        ex:     alpha --> alpha__1\n",
    "                beta --> beta__2\n",
    "\n",
    "        These are used way more often than ParNames alone.\n",
    "        '''\n",
    "        if model:\n",
    "            modname  = model\n",
    "            parNames = self.ParNames(modname)\n",
    "        else:\n",
    "            parNames = self.ParNames()\n",
    "        newNames = []\n",
    "        for i,j in enumerate(parNames):\n",
    "            newNames.append('%s__%i'%(j, i+1))\n",
    "        return newNames\n",
    "\n",
    "    def nPars(self, model=None):\n",
    "        '''\n",
    "        nPars(self, model=None)\n",
    "        \n",
    "        Returns the number of parameters for a model. \n",
    "         \n",
    "        '''\n",
    "        if model:\n",
    "            return len(self.ParNames(model=model))\n",
    "        else:\n",
    "            return len(self.ParNames())\n"
   ]
  },
  {
   "cell_type": "code",
   "execution_count": 74,
   "metadata": {
    "collapsed": true
   },
   "outputs": [],
   "source": [
    "class Data(object):\n",
    "    def __init__(self, *args, **kwargs):\n",
    "        if args:\n",
    "            raise Exception(\"Use Dictionary for now.\")\n",
    "        elif kwargs:\n",
    "            self._burst           = kwargs['burst']\n",
    "            self._det             = kwargs['det']\n",
    "            if 'model' in kwargs.keys():\n",
    "                self._model           = kwargs['model']\n",
    "            if 'pyx_version' in kwargs.keys():\n",
    "                self._pyx_version     = kwargs['pyx_version']\n",
    "            if 'bxa_version' in kwargs.keys():\n",
    "                self._bxa_version     = kwargs['bxa_version']\n",
    "            self._bxa_Aversion    = '-01-'\n",
    "            \n",
    "        # DEFINE A FEW DIRECTORIES \n",
    "        self._det_dir             = ('GBMwLAT' if 'L' in self._det else 'GBM')\n",
    "        self._base_dir            = \"/Users/KimiZ/Python/My_Modules/GRBAnalysis/\"\n",
    "        self._basedata_dir        = os.path.join(self._base_dir, 'data/')\n",
    "        self._burst_dir           = \"/Users/KimiZ/GRBs2/analysis/LAT/%s/\"%(self._burst)\n",
    "    \n",
    "    # ACCESSES THE GRB SAMPLE'S DATA, SUCH AS REDSHIFT, START AND ENDING TIMES. \n",
    "    def _BurstSample(self):\n",
    "        datafile = os.path.join(self._base_dir, 'data/burst_data.txt')\n",
    "        data     = pandas.read_table(datafile, delimiter=\" \", header=0)\n",
    "        colnames = data.colnames.tolist()\n",
    "        #\n",
    "        trigger\t\t\t= str(data.trigger[data['trigger']== self._burst])\n",
    "        redshift\t\t= float(data.z[data['trigger']== self._burst])\n",
    "        burstname\t\t= str(data.name[data['trigger']== self._burst])\n",
    "        t90_start\t\t= float(data.t90_start[data['trigger']== self._burst])\n",
    "        t90_stop\t\t= float(data.t90_stop[data['trigger']== self._burst])\n",
    "        BATdet\t\t\t= data.BATdet[data['trigger']== self._burst]\n",
    "        LATdet\t\t\t= data.LATdet[data['trigger']== self._burst]\n",
    "        angT0\t\t\t= data.angT0[data['trigger']== self._burst]\n",
    "        angT30\t\t\t= data.angT30[data['trigger']== self._burst]\n",
    "        angT60\t\t\t= data.angT60[data['trigger']== self._burst]\n",
    "        return trigger, redshift, t90_start, t90_stop, data\n",
    "\n",
    "    \n",
    "    # PROPERTIES TO EASILY ACCESS THE BURST SAMPLE DATA ABOVE. \n",
    "    @property\n",
    "    def _burstdata(self):\n",
    "        return self._BurstSample()[-1]\n",
    "    \n",
    "    @property\n",
    "    def _burstdata(self):\n",
    "        return self._BurstSample()[-1]\n",
    "    \n",
    "    @property\n",
    "    def _trigger(self):\n",
    "        return self._BurstSample()[0]\n",
    "\n",
    "    @property\n",
    "    def _redshift(self):\n",
    "        return self._BurstSample()[1]\n",
    "\n",
    "    @property\n",
    "    def _t90start(self):\n",
    "        return self._BurstSample()[2]\n",
    "\n",
    "    @property\n",
    "    def _t90stop(self):\n",
    "        return self._BurstSample()[3]\n",
    "\n",
    "\n",
    "params_dict = {\n",
    "            'burst':        'bn080916009',\n",
    "            'det':          'L',\n",
    "            'model':        'grbm'}\n",
    "                    \n",
    "test        = Data(**params_dict)"
   ]
  },
  {
   "cell_type": "code",
   "execution_count": null,
   "metadata": {
    "collapsed": true
   },
   "outputs": [],
   "source": [
    "class Data(object):\n",
    "    def __init__(self, *args, **kwargs):\n",
    "        if args:\n",
    "            raise Exception(\"Use Dictionary for now.\")\n",
    "        elif kwargs:\n",
    "            self._burst           = kwargs['burst']\n",
    "            self._det             = kwargs['det']\n",
    "            if 'model' in kwargs.keys():\n",
    "                self._model           = kwargs['model']\n",
    "            if 'pyx_version' in kwargs.keys():\n",
    "                self._pyx_version     = kwargs['pyx_version']\n",
    "            if 'bxa_version' in kwargs.keys():\n",
    "                self._bxa_version     = kwargs['bxa_version']\n",
    "            self._bxa_Aversion    = '-01-'\n",
    "            \n",
    "        # DEFINE A FEW DIRECTORIES \n",
    "        self._det_dir             = ('GBMwLAT' if 'L' in self._det else 'GBM')\n",
    "        self._base_dir            = \"/Users/KimiZ/Python/My_Modules/GRBAnalysis/\"\n",
    "        self._basedata_dir        = os.path.join(self._base_dir, 'data/')\n",
    "        self._burst_dir           = \"/Users/KimiZ/GRBs2/analysis/LAT/%s/\"%(self._burst)\n",
    "        \n",
    "    \n",
    "\n",
    "    \n",
    "    def get_data(self, column=None, burst=None):\n",
    "        # default is to return full data table. \n",
    "        datafile = os.path.join(self._base_dir, 'data/burst_data.txt')\n",
    "        data     = pandas.read_table(datafile, delimiter=\" \", header=0)\n",
    "        colnames = data.colnames.tolist()\n",
    "        \n",
    "        if column and burst:\n",
    "            # returns a pandas series. A single result, so will need to use\n",
    "            # str(v), float(v), etc. for the output. v is the output. \n",
    "            return data.loc[data.trigger == burst, column]#.values\n",
    "        elif column and not burst:\n",
    "            # returns a pandas series (a single column of the orig dataframe).\n",
    "            return data.loc[:, column]#.values\n",
    "        elif burst and not column:\n",
    "            # returns pandas dataframe with specific GRB data. One row of data. \n",
    "            return data.loc[data.trigger == burst, :]#.values\n",
    "        else:\n",
    "            # returns pandas dataframe with ALL GRB data. \n",
    "            return data \n",
    "\n",
    "    \n",
    "    # ACCESSES THE GRB SAMPLE'S DATA, SUCH AS REDSHIFT, START AND ENDING TIMES. \n",
    "    def _BurstSample(self, column=None, burst=None): \n",
    "        # default is to return full data table. \n",
    "        datafile = os.path.join(self._base_dir, 'data/burst_data.txt')\n",
    "        data     = pandas.read_table(datafile, delimiter=\" \", header=0)\n",
    "        colnames = data.colnames.tolist()\n",
    "        \n",
    "        if column and burst:\n",
    "            return data\n",
    "        #\n",
    "        trigger\t\t\t= str(data.trigger[data['trigger']== self._burst])\n",
    "        redshift\t\t= float(data.z[data['trigger']== self._burst])\n",
    "        burstname\t\t= str(data.name[data['trigger']== self._burst])\n",
    "        t90_start\t\t= float(data.t90_start[data['trigger']== self._burst])\n",
    "        t90_stop\t\t= float(data.t90_stop[data['trigger']== self._burst])\n",
    "        BATdet\t\t\t= data.BATdet[data['trigger']== self._burst]\n",
    "        LATdet\t\t\t= data.LATdet[data['trigger']== self._burst]\n",
    "        angT0\t\t\t= data.angT0[data['trigger']== self._burst]\n",
    "        angT30\t\t\t= data.angT30[data['trigger']== self._burst]\n",
    "        angT60\t\t\t= data.angT60[data['trigger']== self._burst]\n",
    "        return trigger, redshift, t90_start, t90_stop, data\n",
    "\n",
    "    \n",
    "    # PROPERTIES TO EASILY ACCESS THE BURST SAMPLE DATA ABOVE. \n",
    "    @property\n",
    "    def _burstdata(self):\n",
    "        return self._BurstSample()[-1]\n",
    "    \n",
    "    @property\n",
    "    def _burstdata(self):\n",
    "        return self._BurstSample()[-1]\n",
    "    \n",
    "    @property\n",
    "    def _trigger(self):\n",
    "        return self._BurstSample()[0]\n",
    "\n",
    "    @property\n",
    "    def _redshift(self):\n",
    "        return self._BurstSample()[1]\n",
    "\n",
    "    @property\n",
    "    def _t90start(self):\n",
    "        return self._BurstSample()[2]\n",
    "\n",
    "    @property\n",
    "    def _t90stop(self):\n",
    "        return self._BurstSample()[3]\n",
    "\n",
    "\n",
    "params_dict = {\n",
    "            'burst':        'bn080916009',\n",
    "            'det':          'L',\n",
    "            'model':        'grbm'}\n",
    "                    \n",
    "test        = Data(**params_dict)"
   ]
  },
  {
   "cell_type": "code",
   "execution_count": null,
   "metadata": {
    "collapsed": true
   },
   "outputs": [],
   "source": []
  },
  {
   "cell_type": "code",
   "execution_count": 241,
   "metadata": {
    "collapsed": true
   },
   "outputs": [],
   "source": [
    "class Data(object):\n",
    "    def __init__(self, *args, **kwargs):\n",
    "        if args:\n",
    "            raise Exception(\"Use Dictionary for now.\")\n",
    "        elif kwargs:\n",
    "            self._burst           = kwargs['burst']\n",
    "            self._det             = kwargs['det']\n",
    "            if 'model' in kwargs.keys():\n",
    "                self._model           = kwargs['model']\n",
    "            if 'pyx_version' in kwargs.keys():\n",
    "                self._pyx_version     = kwargs['pyx_version']\n",
    "            if 'bxa_version' in kwargs.keys():\n",
    "                self._bxa_version     = kwargs['bxa_version']\n",
    "            self._bxa_Aversion    = '-01-'\n",
    "            \n",
    "        # DEFINE A FEW DIRECTORIES \n",
    "        self._det_dir             = ('GBMwLAT' if 'L' in self._det else 'GBM')\n",
    "        self._base_dir            = \"/Users/KimiZ/Python/My_Modules/GRBAnalysis/\"\n",
    "        self._basedata_dir        = os.path.join(self._base_dir, 'data/')\n",
    "        self._burst_dir           = \"/Users/KimiZ/GRBs2/analysis/LAT/%s/\"%(self._burst)\n",
    "        # ALL BASIC GRB DATA FOR OUR GRB SAMPLE. \n",
    "        # redshift, t90start, t90stop, etc. \n",
    "        self.burst_data       = pandas.read_table(os.path.join(self._base_dir, 'data/burst_data.txt'), \n",
    "                                       delimiter=\" \", header=0)\n",
    "    \n",
    "    @property # using this means we don't need () after the call. \n",
    "    def get_BurstData_colnames(self):\n",
    "        return self.burst_data.columns.tolist()\n",
    "\n",
    "    \n",
    "    def get_BurstData(self, column=None, burst=None):\n",
    "        '''\n",
    "        get_BurstData(column=None, burst=None)\n",
    "        \n",
    "        '''\n",
    "        # default is to return full data table. \n",
    "        data = self.burst_data \n",
    "        if column and burst:\n",
    "            # returns a pandas series. A single result, so will need to use\n",
    "            # str(v), float(v), etc. for the output. v is the output. \n",
    "            return data.loc[data.trigger == burst, column]#.values\n",
    "        elif column and not burst:\n",
    "            # returns a pandas series (a single column of the orig dataframe).\n",
    "            return data.loc[:, column]#.values\n",
    "        elif burst and not column:\n",
    "            # returns pandas dataframe with specific GRB data. One row of data. \n",
    "            return data.loc[data.trigger == burst, :]#.values\n",
    "        else:\n",
    "            # returns pandas dataframe with ALL GRB data. \n",
    "            return data \n",
    "        \n",
    "    def output(self, format=\"clipboard\"):\n",
    "        '''\n",
    "        output(format=\"clipboard\")\n",
    "        \n",
    "        # format options:\n",
    "        ['pickle', 'csv', 'json', 'clipboard', 'dict', 'sql']\n",
    "        \n",
    "        '''\n",
    "        output_function = getattr(pandas.DataFrame, \"to_%s\" %format)\n",
    "        return output_function(self.burst_data)  \n",
    "\n",
    "    def output2(self, form=\"clipboard\"):\n",
    "        '''\n",
    "        output(format=\"clipboard\")\n",
    "        \n",
    "        # format options:\n",
    "        ['pickle', 'csv', 'json', 'clipboard', 'dict', 'sql']\n",
    "        \n",
    "        '''\n",
    "        output_function = getattr(pandas.DataFrame, \"to_%s\" %form)\n",
    "        return output_function(self.burst_data)  \n",
    "        \n",
    "#     def output(self, format=\"text\"):                              \n",
    "#         output_function = getattr(statsout, \"output_%s\" %format)\n",
    "#         return output_function(data)  "
   ]
  },
  {
   "cell_type": "code",
   "execution_count": 253,
   "metadata": {
    "collapsed": true
   },
   "outputs": [],
   "source": [
    "?format"
   ]
  },
  {
   "cell_type": "code",
   "execution_count": 242,
   "metadata": {
    "collapsed": false,
    "scrolled": true
   },
   "outputs": [
    {
     "data": {
      "text/html": [
       "<div>\n",
       "<table border=\"1\" class=\"dataframe\">\n",
       "  <thead>\n",
       "    <tr style=\"text-align: right;\">\n",
       "      <th></th>\n",
       "      <th>number</th>\n",
       "      <th>name</th>\n",
       "      <th>trigger</th>\n",
       "      <th>z</th>\n",
       "      <th>t90_start</th>\n",
       "      <th>t90_stop</th>\n",
       "      <th>BATdet</th>\n",
       "      <th>LATdet</th>\n",
       "      <th>angT0</th>\n",
       "      <th>angT30</th>\n",
       "      <th>angT60</th>\n",
       "    </tr>\n",
       "  </thead>\n",
       "  <tbody>\n",
       "    <tr>\n",
       "      <th>0</th>\n",
       "      <td>0</td>\n",
       "      <td>GRB080804</td>\n",
       "      <td>bn080804972</td>\n",
       "      <td>2.2045</td>\n",
       "      <td>0.256</td>\n",
       "      <td>24.960</td>\n",
       "      <td>yes</td>\n",
       "      <td>no</td>\n",
       "      <td>0.0000</td>\n",
       "      <td>0.0000</td>\n",
       "      <td>0.0000</td>\n",
       "    </tr>\n",
       "    <tr>\n",
       "      <th>1</th>\n",
       "      <td>1</td>\n",
       "      <td>GRB080810</td>\n",
       "      <td>bn080810549</td>\n",
       "      <td>3.3604</td>\n",
       "      <td>-20.096</td>\n",
       "      <td>87.361</td>\n",
       "      <td>yes</td>\n",
       "      <td>no</td>\n",
       "      <td>0.0000</td>\n",
       "      <td>0.0000</td>\n",
       "      <td>0.0000</td>\n",
       "    </tr>\n",
       "    <tr>\n",
       "      <th>2</th>\n",
       "      <td>2</td>\n",
       "      <td>GRB080905A</td>\n",
       "      <td>bn080905499</td>\n",
       "      <td>0.1218</td>\n",
       "      <td>-0.064</td>\n",
       "      <td>0.896</td>\n",
       "      <td>yes</td>\n",
       "      <td>no</td>\n",
       "      <td>27.8855</td>\n",
       "      <td>29.1496</td>\n",
       "      <td>30.4518</td>\n",
       "    </tr>\n",
       "    <tr>\n",
       "      <th>3</th>\n",
       "      <td>3</td>\n",
       "      <td>GRB080905B</td>\n",
       "      <td>bn080905705</td>\n",
       "      <td>2.3739</td>\n",
       "      <td>-5.120</td>\n",
       "      <td>100.864</td>\n",
       "      <td>yes</td>\n",
       "      <td>no</td>\n",
       "      <td>85.4289</td>\n",
       "      <td>85.8448</td>\n",
       "      <td>86.2924</td>\n",
       "    </tr>\n",
       "    <tr>\n",
       "      <th>4</th>\n",
       "      <td>4</td>\n",
       "      <td>GRB080916A</td>\n",
       "      <td>bn080916406</td>\n",
       "      <td>0.6887</td>\n",
       "      <td>0.512</td>\n",
       "      <td>46.849</td>\n",
       "      <td>yes</td>\n",
       "      <td>no</td>\n",
       "      <td>75.8313</td>\n",
       "      <td>77.1288</td>\n",
       "      <td>78.4168</td>\n",
       "    </tr>\n",
       "  </tbody>\n",
       "</table>\n",
       "</div>"
      ],
      "text/plain": [
       "   number        name      trigger       z  t90_start  t90_stop BATdet LATdet  \\\n",
       "0       0   GRB080804  bn080804972  2.2045      0.256    24.960    yes     no   \n",
       "1       1   GRB080810  bn080810549  3.3604    -20.096    87.361    yes     no   \n",
       "2       2  GRB080905A  bn080905499  0.1218     -0.064     0.896    yes     no   \n",
       "3       3  GRB080905B  bn080905705  2.3739     -5.120   100.864    yes     no   \n",
       "4       4  GRB080916A  bn080916406  0.6887      0.512    46.849    yes     no   \n",
       "\n",
       "     angT0   angT30   angT60  \n",
       "0   0.0000   0.0000   0.0000  \n",
       "1   0.0000   0.0000   0.0000  \n",
       "2  27.8855  29.1496  30.4518  \n",
       "3  85.4289  85.8448  86.2924  \n",
       "4  75.8313  77.1288  78.4168  "
      ]
     },
     "execution_count": 242,
     "metadata": {},
     "output_type": "execute_result"
    }
   ],
   "source": [
    "params_dict = {\n",
    "            'burst':        'bn080916009',\n",
    "            'det':          'L',\n",
    "            'model':        'grbm'}\n",
    "test = Data(**params_dict)\n",
    "# full data frame\n",
    "test.burst_data.head()"
   ]
  },
  {
   "cell_type": "code",
   "execution_count": 252,
   "metadata": {
    "collapsed": false
   },
   "outputs": [
    {
     "data": {
      "text/plain": [
       "'{\"number\":{\"0\":0,\"1\":1,\"2\":2,\"3\":3,\"4\":4,\"5\":5,\"6\":6,\"7\":7,\"8\":8,\"9\":9,\"10\":10,\"11\":11,\"12\":12,\"13\":13,\"14\":14,\"15\":15,\"16\":16,\"17\":17,\"18\":18,\"19\":19,\"20\":20,\"21\":21,\"22\":22,\"23\":23,\"24\":24,\"25\":25,\"26\":26,\"27\":27,\"28\":28,\"29\":29,\"30\":30,\"31\":31,\"32\":32,\"33\":33,\"34\":34,\"35\":35,\"36\":36,\"37\":37,\"38\":38,\"39\":39,\"40\":40,\"41\":41,\"42\":42,\"43\":43,\"44\":44,\"45\":45,\"46\":46,\"47\":47,\"48\":48,\"49\":49,\"50\":50,\"51\":51,\"52\":52,\"53\":53,\"54\":54,\"55\":55,\"56\":56,\"57\":57,\"58\":58,\"59\":59,\"60\":60,\"61\":61,\"62\":62,\"63\":63,\"64\":64,\"65\":65,\"66\":66,\"67\":67,\"68\":68,\"69\":69},\"name\":{\"0\":\"GRB080804\",\"1\":\"GRB080810\",\"2\":\"GRB080905A\",\"3\":\"GRB080905B\",\"4\":\"GRB080916A\",\"5\":\"GRB080916C\",\"6\":\"GRB080928\",\"7\":\"GRB081008\",\"8\":\"GRB081121\",\"9\":\"GRB081221\",\"10\":\"GRB081222\",\"11\":\"GRB090102\",\"12\":\"GRB090113\",\"13\":\"GRB090323\",\"14\":\"GRB090328A\",\"15\":\"GRB090423\",\"16\":\"GRB090424\",\"17\":\"GRB090510\",\"18\":\"GRB090519\",\"19\":\"GRB090618\",\"20\":\"GRB090902B\",\"21\":\"GRB090926A\",\"22\":\"GRB090926B\",\"23\":\"GRB090927\",\"24\":\"GRB091003\",\"25\":\"GRB091020\",\"26\":\"GRB091024\",\"27\":\"GRB091127\",\"28\":\"GRB091208B\",\"29\":\"GRB100117A\",\"30\":\"GRB100414A\",\"31\":\"GRB100615A\",\"32\":\"GRB100724A\",\"33\":\"GRB100728A\",\"34\":\"GRB100728B\",\"35\":\"GRB100814A\",\"36\":\"GRB100816A\",\"37\":\"GRB100906A\",\"38\":\"GRB101219B\",\"39\":\"GRB110106B\",\"40\":\"GRB110128A\",\"41\":\"GRB110213A\",\"42\":\"GRB110731A\",\"43\":\"GRB110818A\",\"44\":\"GRB111107A\",\"45\":\"GRB111228A\",\"46\":\"GRB120119A\",\"47\":\"GRB120326A\",\"48\":\"GRB120711A\",\"49\":\"GRB120712A\",\"50\":\"GRB120729A\",\"51\":\"GRB120811C\",\"52\":\"GRB120907A\",\"53\":\"GRB120922A\",\"54\":\"GRB121128A\",\"55\":\"GRB121211A\",\"56\":\"GRB130420A\",\"57\":\"GRB130427A\",\"58\":\"GRB130518A\",\"59\":\"GRB130610A\",\"60\":\"GRB130612A\",\"61\":\"GRB130702A\",\"62\":\"GRB130925A\",\"63\":\"GRB131004A\",\"64\":\"GRB131105A\",\"65\":\"GRB131108A\",\"66\":\"GRB131231A\",\"67\":\"GRB140206A\",\"68\":\"GRB140213A\",\"69\":\"GRB140304A\"},\"trigger\":{\"0\":\"bn080804972\",\"1\":\"bn080810549\",\"2\":\"bn080905499\",\"3\":\"bn080905705\",\"4\":\"bn080916406\",\"5\":\"bn080916009\",\"6\":\"bn080928628\",\"7\":\"bn081008832\",\"8\":\"bn081121858\",\"9\":\"bn081221681\",\"10\":\"bn081222204\",\"11\":\"bn090102122\",\"12\":\"bn090113778\",\"13\":\"bn090323002\",\"14\":\"bn090328401\",\"15\":\"bn090423330\",\"16\":\"bn090424592\",\"17\":\"bn090510016\",\"18\":\"bn090519881\",\"19\":\"bn090618353\",\"20\":\"bn090902462\",\"21\":\"bn090926181\",\"22\":\"bn090926914\",\"23\":\"bn090927422\",\"24\":\"bn091003191\",\"25\":\"bn091020900\",\"26\":\"bn091024372\",\"27\":\"bn091127976\",\"28\":\"bn091208410\",\"29\":\"bn100117879\",\"30\":\"bn100414097\",\"31\":\"bn100615083\",\"32\":\"bn100724029\",\"33\":\"bn100728095\",\"34\":\"bn100728439\",\"35\":\"bn100814160\",\"36\":\"bn100816026\",\"37\":\"bn100906576\",\"38\":\"bn101219686\",\"39\":\"bn110106893\",\"40\":\"bn110128073\",\"41\":\"bn110213220\",\"42\":\"bn110731465\",\"43\":\"bn110818860\",\"44\":\"bn111107035\",\"45\":\"bn111228657\",\"46\":\"bn120119170\",\"47\":\"bn120326056\",\"48\":\"bn120711115\",\"49\":\"bn120712571\",\"50\":\"bn120729456\",\"51\":\"bn120811649\",\"52\":\"bn120907017\",\"53\":\"bn120922939\",\"54\":\"bn121128212\",\"55\":\"bn121211574\",\"56\":\"bn130420313\",\"57\":\"bn130427324\",\"58\":\"bn130518580\",\"59\":\"bn130610133\",\"60\":\"bn130612141\",\"61\":\"bn130702004\",\"62\":\"bn130925173\",\"63\":\"bn131004904\",\"64\":\"bn131105087\",\"65\":\"bn131108862\",\"66\":\"bn131231198\",\"67\":\"bn140206304\",\"68\":\"bn140213807\",\"69\":\"bn140304557\"},\"z\":{\"0\":2.2045,\"1\":3.3604,\"2\":0.1218,\"3\":2.3739,\"4\":0.6887,\"5\":4.35,\"6\":1.6919,\"7\":1.967,\"8\":2.512,\"9\":2.26,\"10\":2.77,\"11\":1.547,\"12\":1.7493,\"13\":3.57,\"14\":0.736,\"15\":8.2,\"16\":0.544,\"17\":0.903,\"18\":3.85,\"19\":0.54,\"20\":1.822,\"21\":2.1062,\"22\":1.24,\"23\":1.37,\"24\":0.8969,\"25\":1.71,\"26\":1.092,\"27\":0.49,\"28\":1.0633,\"29\":0.92,\"30\":1.368,\"31\":1.398,\"32\":1.288,\"33\":1.567,\"34\":2.106,\"35\":1.44,\"36\":0.804,\"37\":1.727,\"38\":0.5519,\"39\":0.618,\"40\":2.339,\"41\":1.46,\"42\":2.83,\"43\":3.36,\"44\":2.893,\"45\":0.716,\"46\":1.728,\"47\":1.798,\"48\":1.405,\"49\":4.1745,\"50\":0.8,\"51\":2.671,\"52\":0.97,\"53\":3.1,\"54\":2.2,\"55\":1.023,\"56\":1.297,\"57\":0.34,\"58\":2.49,\"59\":2.092,\"60\":2.006,\"61\":0.145,\"62\":0.347,\"63\":0.717,\"64\":1.686,\"65\":2.4,\"66\":0.642,\"67\":2.74,\"68\":1.2076,\"69\":5.283},\"t90_start\":{\"0\":0.256,\"1\":-20.096,\"2\":-0.064,\"3\":-5.12,\"4\":0.512,\"5\":1.28,\"6\":-1.792,\"7\":0.004,\"8\":1.536,\"9\":3.328,\"10\":0.384,\"11\":1.536,\"12\":-2.048,\"13\":8.192,\"14\":4.352,\"15\":-5.888,\"16\":0.512,\"17\":-0.048,\"18\":-1.536,\"19\":7.936,\"20\":2.816,\"21\":2.176,\"22\":1.088,\"23\":-0.192,\"24\":0.832,\"25\":-3.584,\"26\":-3.072,\"27\":0.003,\"28\":-0.128,\"29\":-0.064,\"30\":1.856,\"31\":0.32,\"32\":8.192,\"33\":13.312,\"34\":-2.048,\"35\":0.576,\"36\":0.003,\"37\":0.768,\"38\":-4.352,\"39\":-16.896,\"40\":-5.824,\"41\":-0.768,\"42\":0.003,\"43\":-9.984,\"44\":-1.536,\"45\":-49.409,\"46\":3.072,\"47\":-1.28,\"48\":62.465,\"49\":-1.792,\"50\":-1.024,\"51\":-7.168,\"52\":-1.92,\"53\":-113.666,\"54\":-0.768,\"55\":-3.072,\"56\":-59.649,\"57\":4.096,\"58\":9.92,\"59\":-2.56,\"60\":-2.56,\"61\":0.768,\"62\":11.008,\"63\":-0.192,\"64\":2.496,\"65\":0.448,\"66\":13.312,\"67\":0.512,\"68\":0.768,\"69\":-5.376},\"t90_stop\":{\"0\":24.96,\"1\":87.361,\"2\":0.896,\"3\":100.864,\"4\":46.849,\"5\":64.257,\"6\":12.544,\"7\":150.019,\"8\":43.521,\"9\":33.025,\"10\":19.264,\"11\":28.16,\"12\":15.36,\"13\":143.362,\"14\":66.049,\"15\":1.28,\"16\":14.656,\"17\":0.912,\"18\":72.641,\"19\":120.322,\"20\":22.144,\"21\":15.936,\"22\":56.641,\"23\":0.32,\"24\":21.056,\"25\":20.672,\"26\":90.882,\"27\":8.704,\"28\":12.352,\"29\":0.192,\"30\":28.353,\"31\":37.697,\"32\":122.882,\"33\":178.69,\"34\":8.192,\"35\":151.106,\"36\":2.048,\"37\":111.362,\"38\":46.657,\"39\":18.625,\"40\":6.336,\"41\":33.537,\"42\":7.488,\"43\":57.089,\"44\":10.496,\"45\":50.433,\"46\":58.369,\"47\":10.496,\"48\":106.498,\"49\":20.736,\"50\":24.448,\"51\":7.168,\"52\":3.84,\"53\":68.609,\"54\":16.576,\"55\":2.56,\"56\":45.313,\"57\":142.338,\"58\":58.497,\"59\":19.2,\"60\":4.864,\"61\":59.649,\"62\":226.563,\"63\":0.96,\"64\":115.138,\"65\":18.944,\"66\":44.544,\"67\":27.776,\"68\":19.392,\"69\":26.368},\"BATdet\":{\"0\":\"yes\",\"1\":\"yes\",\"2\":\"yes\",\"3\":\"yes\",\"4\":\"yes\",\"5\":\"no\",\"6\":\"yes\",\"7\":\"yes\",\"8\":\"yes\",\"9\":\"yes\",\"10\":\"yes\",\"11\":\"yes\",\"12\":\"yes\",\"13\":\"no\",\"14\":\"no\",\"15\":\"yes\",\"16\":\"yes\",\"17\":\"yes\",\"18\":\"yes\",\"19\":\"yes\",\"20\":\"no\",\"21\":\"no\",\"22\":\"yes\",\"23\":\"yes\",\"24\":\"no\",\"25\":\"yes\",\"26\":\"yes\",\"27\":\"yes\",\"28\":\"yes\",\"29\":\"yes\",\"30\":\"no\",\"31\":\"yes\",\"32\":\"yes\",\"33\":\"yes\",\"34\":\"yes\",\"35\":\"yes\",\"36\":\"yes\",\"37\":\"yes\",\"38\":\"yes\",\"39\":\"yes\",\"40\":\"yes\",\"41\":\"yes\",\"42\":\"yes\",\"43\":\"yes\",\"44\":\"yes\",\"45\":\"yes\",\"46\":\"yes\",\"47\":\"yes\",\"48\":\"no\",\"49\":\"yes\",\"50\":\"yes\",\"51\":\"yes\",\"52\":\"yes\",\"53\":\"yes\",\"54\":\"yes\",\"55\":\"yes\",\"56\":\"yes\",\"57\":\"yes\",\"58\":\"no\",\"59\":\"yes\",\"60\":\"yes\",\"61\":\"no\",\"62\":\"yes\",\"63\":\"yes\",\"64\":\"yes\",\"65\":\"no\",\"66\":\"no\",\"67\":\"yes\",\"68\":\"yes\",\"69\":\"yes\"},\"LATdet\":{\"0\":\"no\",\"1\":\"no\",\"2\":\"no\",\"3\":\"no\",\"4\":\"no\",\"5\":\"yes\",\"6\":\"no\",\"7\":\"no\",\"8\":\"no\",\"9\":\"no\",\"10\":\"no\",\"11\":\"no\",\"12\":\"no\",\"13\":\"yes\",\"14\":\"yes\",\"15\":\"no\",\"16\":\"no\",\"17\":\"yes\",\"18\":\"no\",\"19\":\"no\",\"20\":\"yes\",\"21\":\"yes\",\"22\":\"no\",\"23\":\"no\",\"24\":\"yes\",\"25\":\"no\",\"26\":\"no\",\"27\":\"no\",\"28\":\"yes\",\"29\":\"no\",\"30\":\"yes\",\"31\":\"no\",\"32\":\"no\",\"33\":\"yes\",\"34\":\"no\",\"35\":\"no\",\"36\":\"no\",\"37\":\"no\",\"38\":\"no\",\"39\":\"no\",\"40\":\"no\",\"41\":\"no\",\"42\":\"yes\",\"43\":\"no\",\"44\":\"no\",\"45\":\"no\",\"46\":\"no\",\"47\":\"no\",\"48\":\"yes\",\"49\":\"no\",\"50\":\"no\",\"51\":\"no\",\"52\":\"no\",\"53\":\"no\",\"54\":\"no\",\"55\":\"no\",\"56\":\"no\",\"57\":\"yes\",\"58\":\"yes\",\"59\":\"no\",\"60\":\"no\",\"61\":\"yes\",\"62\":\"no\",\"63\":\"no\",\"64\":\"no\",\"65\":\"yes\",\"66\":\"yes\",\"67\":\"no\",\"68\":\"no\",\"69\":\"no\"},\"angT0\":{\"0\":0.0,\"1\":0.0,\"2\":27.8855,\"3\":85.4289,\"4\":75.8313,\"5\":48.8396,\"6\":45.2153,\"7\":64.2697,\"8\":134.739,\"9\":77.2159,\"10\":49.9007,\"11\":86.2288,\"12\":31.0801,\"13\":57.1465,\"14\":64.5127,\"15\":75.2672,\"16\":70.9731,\"17\":13.5792,\"18\":47.9068,\"19\":132.636,\"20\":50.7017,\"21\":48.0708,\"22\":99.4468,\"23\":84.1229,\"24\":12.2658,\"25\":118.33,\"26\":97.7694,\"27\":25.4008,\"28\":55.5516,\"29\":86.0178,\"30\":69.0572,\"31\":71.5139,\"32\":137.061,\"33\":58.6102,\"34\":56.9702,\"35\":86.953,\"36\":80.0757,\"37\":96.7463,\"38\":52.5058,\"39\":103.266,\"40\":45.5394,\"41\":98.0387,\"42\":3.32674,\"43\":95.7032,\"44\":116.093,\"45\":70.3749,\"46\":74.9228,\"47\":46.4064,\"48\":134.504,\"49\":38.3267,\"50\":82.6612,\"51\":134.399,\"52\":109.796,\"53\":87.8818,\"54\":98.3622,\"55\":62.2407,\"56\":131.427,\"57\":48.1736,\"58\":40.9828,\"59\":82.2672,\"60\":44.3786,\"61\":76.4101,\"62\":36.3258,\"63\":93.0052,\"64\":35.9647,\"65\":24.4113,\"66\":38.0867,\"67\":123.373,\"68\":48.495,\"69\":72.5804},\"angT30\":{\"0\":0.0,\"1\":0.0,\"2\":29.1496,\"3\":85.8448,\"4\":77.1288,\"5\":48.6589,\"6\":44.34,\"7\":64.9711,\"8\":133.969,\"9\":78.9389,\"10\":50.765,\"11\":87.7351,\"12\":31.972,\"13\":58.6772,\"14\":62.9722,\"15\":76.8089,\"16\":71.9664,\"17\":12.6465,\"18\":49.3076,\"19\":133.227,\"20\":50.0607,\"21\":49.138,\"22\":99.9201,\"23\":91.9206,\"24\":12.105,\"25\":117.878,\"26\":97.064,\"27\":23.8943,\"28\":55.6634,\"29\":84.8668,\"30\":67.8157,\"31\":70.6272,\"32\":138.213,\"33\":57.6927,\"34\":58.1771,\"35\":87.9447,\"36\":81.0889,\"37\":96.4919,\"38\":53.5082,\"39\":104.254,\"40\":46.6692,\"41\":97.6169,\"42\":3.94917,\"43\":96.3456,\"44\":115.343,\"45\":69.5145,\"46\":75.3478,\"47\":46.3922,\"48\":134.308,\"49\":37.8028,\"50\":82.7467,\"51\":135.588,\"52\":110.883,\"53\":87.137,\"54\":98.7307,\"55\":61.028,\"56\":132.205,\"57\":45.245,\"58\":41.8118,\"59\":76.8059,\"60\":44.6751,\"61\":75.2035,\"62\":35.8424,\"63\":93.9654,\"64\":36.0518,\"65\":28.4615,\"66\":39.1376,\"67\":123.373,\"68\":48.4047,\"69\":73.7782},\"angT60\":{\"0\":0.0,\"1\":0.0,\"2\":30.4518,\"3\":86.2924,\"4\":78.4168,\"5\":48.485,\"6\":43.4711,\"7\":65.6619,\"8\":133.195,\"9\":80.74,\"10\":51.6758,\"11\":89.2465,\"12\":32.9305,\"13\":59.3237,\"14\":61.315,\"15\":78.3522,\"16\":72.9923,\"17\":9.045,\"18\":50.7188,\"19\":133.436,\"20\":45.7215,\"21\":50.1932,\"22\":100.405,\"23\":97.8765,\"24\":10.0977,\"25\":117.441,\"26\":96.3805,\"27\":20.6476,\"28\":54.0422,\"29\":83.7074,\"30\":64.1595,\"31\":69.7246,\"32\":139.353,\"33\":55.513,\"34\":59.3822,\"35\":88.9534,\"36\":82.0857,\"37\":96.2644,\"38\":54.4997,\"39\":105.256,\"40\":47.7927,\"41\":97.2201,\"42\":4.69097,\"43\":97.0108,\"44\":114.594,\"45\":68.637,\"46\":75.807,\"47\":46.378,\"48\":134.118,\"49\":37.3342,\"50\":82.8655,\"51\":136.783,\"52\":111.98,\"53\":86.4174,\"54\":99.1259,\"55\":59.8179,\"56\":132.925,\"57\":39.1286,\"58\":42.6344,\"59\":71.3986,\"60\":45.0255,\"61\":73.9996,\"62\":30.2735,\"63\":94.9436,\"64\":36.1368,\"65\":28.6986,\"66\":39.7363,\"67\":123.373,\"68\":47.1975,\"69\":74.9692}}'"
      ]
     },
     "execution_count": 252,
     "metadata": {},
     "output_type": "execute_result"
    }
   ],
   "source": [
    "test.output('json')"
   ]
  },
  {
   "cell_type": "code",
   "execution_count": 251,
   "metadata": {
    "collapsed": false
   },
   "outputs": [
    {
     "name": "stdout",
     "output_type": "stream",
     "text": [
      "total 5328\r\n",
      "-rw-r--r--  1 KimiZ  staff   12510 Apr 11  2016 python_tutorial_1.ipynb\r\n",
      "-rw-r--r--  1 KimiZ  staff    3895 Apr 21  2016 Guess my number.ipynb\r\n",
      "-rw-r--r--  1 KimiZ  staff    6250 Apr 21  2016 from the love-python blog.ipynb\r\n",
      "-rw-r--r--  1 KimiZ  staff   81195 Apr 24  2016 python_basics_tutorial_1_Jupyter.ipynb\r\n",
      "-rw-r--r--  1 KimiZ  staff   15698 May  1  2016 python_basics_tutorial_2_Jupyter.ipynb\r\n",
      "-rw-r--r--  1 KimiZ  staff      91 May  2  2016 out.txt\r\n",
      "-rw-r--r--  1 KimiZ  staff    3414 May  7  2016 will help with pyxspec.ipynb\r\n",
      "-rw-r--r--  1 KimiZ  staff    7654 May  9  2016 Tkinter.ipynb\r\n",
      "-rw-r--r--  1 KimiZ  staff    5265 May  9  2016 python tutorial Data Structures.ipynb\r\n",
      "-rw-r--r--  1 KimiZ  staff   97057 May 11  2016 python_tutorial_ControlFlow_Jupyter.ipynb\r\n",
      "-rw-r--r--  1 KimiZ  staff    5134 May 11  2016 Object Oriented Programming.ipynb\r\n",
      "-rw-r--r--  1 KimiZ  staff      84 Jun 15  2016 workfile\r\n",
      "-rw-r--r--  1 KimiZ  staff      87 Jun 15  2016 workfile_2\r\n",
      "-rw-r--r--  1 KimiZ  staff    4246 Jul  3  2016 Untitled.ipynb\r\n",
      "-rw-r--r--  1 KimiZ  staff   30211 Aug  9  2016 problems_with_python.ipynb\r\n",
      "-rw-r--r--  1 KimiZ  staff   12836 Sep  9  2016 MetPy.ipynb\r\n",
      "-rw-r--r--  1 KimiZ  staff    7653 Sep 12  2016 grid_figure.pdf\r\n",
      "-rw-r--r--  1 KimiZ  staff   66989 Sep 12  2016 subplots_with_gridspecs.ipynb\r\n",
      "-rw-r--r--  1 KimiZ  staff    4745 Sep 12  2016 osm.html\r\n",
      "-rw-r--r--  1 KimiZ  staff  236280 Sep 12  2016 Jupyter_Notebook_1.ipynb\r\n",
      "-rw-r--r--  1 KimiZ  staff  295344 Sep 12  2016 Jupyter_Notebook_EarthquakeMap_ArkansasMaps.ipynb\r\n",
      "-rw-r--r--  1 KimiZ  staff    4745 Sep 12  2016 Fayetteville_AR.html\r\n",
      "-rw-r--r--  1 KimiZ  staff    8591 Sep 12  2016 ARtrails2.html\r\n",
      "-rw-r--r--  1 KimiZ  staff   10260 Sep 12  2016 ARtrails.html\r\n",
      "-rw-r--r--  1 KimiZ  staff    6418 Jan 11  2017 Loading Dictionaries from JSON files fix.ipynb\r\n",
      "-rw-r--r--  1 KimiZ  staff   28359 Jan 17  2017 Compare and Analysis for BXA - OLD 2.ipynb\r\n",
      "-rw-r--r--  1 KimiZ  staff   30070 Jan 17  2017 Compare and Analysis for BXA - OLD 1.ipynb\r\n",
      "-rw-r--r--  1 KimiZ  staff    3901 Jan 18  2017 Tutorial -- doc strings.ipynb\r\n",
      "-rw-r--r--  1 KimiZ  staff    9279 Jan 18  2017 Tutorial -- Getting and Setting Class Attributes.ipynb\r\n",
      "-rw-r--r--  1 KimiZ  staff   22090 Jan 18  2017 Tutorial--  Static Methods.ipynb\r\n",
      "-rw-r--r--  1 KimiZ  staff    7990 Jan 18  2017 Jess Hamrick's Intro to Class and Inheritance Example.ipynb\r\n",
      "-rw-r--r--  1 KimiZ  staff    9983 Jan 18  2017 Attribute Restrictor.ipynb\r\n",
      "-rw-r--r--  1 KimiZ  staff   11407 Jan 19  2017 Example with Metaclass and class documentation.ipynb\r\n",
      "-rw-r--r--  1 KimiZ  staff   13544 Jan 19  2017 Metaclass.ipynb\r\n",
      "-rw-r--r--  1 KimiZ  staff    5324 Jan 19  2017 Useful tools.ipynb\r\n",
      "-rw-r--r--  1 KimiZ  staff    5224 Jan 19  2017 Metaclass --  Rewrite Docstring.ipynb\r\n",
      "-rw-r--r--  1 KimiZ  staff   39204 Jan 19  2017 Untitled3.ipynb\r\n",
      "-rw-r--r--  1 KimiZ  staff    5050 Jan 19  2017 static and class method decorators -- Pizza Example.ipynb\r\n",
      "-rw-r--r--  1 KimiZ  staff   15998 Jan 19  2017 Vet.ipynb\r\n",
      "-rw-r--r--  1 KimiZ  staff   23990 Jan 23  2017 Properties in Python.ipynb\r\n",
      "-rw-r--r--  1 KimiZ  staff   23376 Jan 23  2017 Untitled4.ipynb\r\n",
      "-rw-r--r--  1 KimiZ  staff    3632 Jan 23  2017 make your own decorator -- show docstring.ipynb\r\n",
      "-rw-r--r--  1 KimiZ  staff   14535 Jan 23  2017 functools.ipynb\r\n",
      "-rw-r--r--  1 KimiZ  staff   18203 Jan 23  2017 decorator examples.ipynb\r\n",
      "-rw-r--r--  1 KimiZ  staff    5351 Jan 23  2017 Sending Emails from Python.ipynb\r\n",
      "-rw-r--r--  1 KimiZ  staff   10393 Jan 23  2017 out.log\r\n",
      "-rw-r--r--  1 KimiZ  staff   29723 Jan 24  2017 Compare and Analysis for BXA.ipynb\r\n",
      "-rw-r--r--  1 KimiZ  staff   75283 Jan 25  2017 Pandas -- merge data frames.ipynb\r\n",
      "-rw-r--r--@ 1 KimiZ  staff  778602 Feb 17  2017 Problems with Scipy Lognormal Scipy v 0.18.1.ipynb\r\n",
      "-rw-r--r--  1 KimiZ  staff   15320 Feb 22  2017 shortcuts_for_Functions_ForLoops_IfStatements.ipynb\r\n",
      "-rw-r--r--  1 KimiZ  staff   18150 Mar 11  2017 Propagate Errors from Github site.ipynb\r\n",
      "-rw-r--r--  1 KimiZ  staff  226515 Oct 27  2017 Slicing_Lightcurve_Data_Multiple_Ways_by_Times.ipynb\r\n",
      "-rw-r--r--  1 KimiZ  staff   46384 Dec 21 17:18 bank account.ipynb\r\n",
      "-rw-r--r--  1 KimiZ  staff   10739 Dec 21 17:18 Classes_simplest_example.ipynb\r\n",
      "-rw-r--r--  1 KimiZ  staff   49532 Dec 21 17:18 Classes_example_1.ipynb\r\n",
      "-rw-r--r--  1 KimiZ  staff   14267 Dec 21 18:42 Untitled1.ipynb\r\n",
      "-rw-r--r--  1 KimiZ  staff  102791 Dec 21 18:51 Classes_example_2.ipynb\r\n"
     ]
    }
   ],
   "source": [
    "ls -ltr "
   ]
  },
  {
   "cell_type": "code",
   "execution_count": 249,
   "metadata": {
    "collapsed": false
   },
   "outputs": [],
   "source": [
    "!open ./"
   ]
  },
  {
   "cell_type": "code",
   "execution_count": null,
   "metadata": {
    "collapsed": true
   },
   "outputs": [],
   "source": []
  },
  {
   "cell_type": "code",
   "execution_count": 223,
   "metadata": {
    "collapsed": false
   },
   "outputs": [
    {
     "data": {
      "text/plain": [
       "['number',\n",
       " 'name',\n",
       " 'trigger',\n",
       " 'z',\n",
       " 't90_start',\n",
       " 't90_stop',\n",
       " 'BATdet',\n",
       " 'LATdet',\n",
       " 'angT0',\n",
       " 'angT30',\n",
       " 'angT60']"
      ]
     },
     "execution_count": 223,
     "metadata": {},
     "output_type": "execute_result"
    }
   ],
   "source": [
    "test.get_BurstData_colnames"
   ]
  },
  {
   "cell_type": "code",
   "execution_count": 224,
   "metadata": {
    "collapsed": false
   },
   "outputs": [
    {
     "data": {
      "text/html": [
       "<div>\n",
       "<table border=\"1\" class=\"dataframe\">\n",
       "  <thead>\n",
       "    <tr style=\"text-align: right;\">\n",
       "      <th></th>\n",
       "      <th>number</th>\n",
       "      <th>name</th>\n",
       "      <th>trigger</th>\n",
       "      <th>z</th>\n",
       "      <th>t90_start</th>\n",
       "      <th>t90_stop</th>\n",
       "      <th>BATdet</th>\n",
       "      <th>LATdet</th>\n",
       "      <th>angT0</th>\n",
       "      <th>angT30</th>\n",
       "      <th>angT60</th>\n",
       "    </tr>\n",
       "  </thead>\n",
       "  <tbody>\n",
       "    <tr>\n",
       "      <th>0</th>\n",
       "      <td>0</td>\n",
       "      <td>GRB080804</td>\n",
       "      <td>bn080804972</td>\n",
       "      <td>2.2045</td>\n",
       "      <td>0.256</td>\n",
       "      <td>24.960</td>\n",
       "      <td>yes</td>\n",
       "      <td>no</td>\n",
       "      <td>0.0000</td>\n",
       "      <td>0.0000</td>\n",
       "      <td>0.0000</td>\n",
       "    </tr>\n",
       "    <tr>\n",
       "      <th>1</th>\n",
       "      <td>1</td>\n",
       "      <td>GRB080810</td>\n",
       "      <td>bn080810549</td>\n",
       "      <td>3.3604</td>\n",
       "      <td>-20.096</td>\n",
       "      <td>87.361</td>\n",
       "      <td>yes</td>\n",
       "      <td>no</td>\n",
       "      <td>0.0000</td>\n",
       "      <td>0.0000</td>\n",
       "      <td>0.0000</td>\n",
       "    </tr>\n",
       "    <tr>\n",
       "      <th>2</th>\n",
       "      <td>2</td>\n",
       "      <td>GRB080905A</td>\n",
       "      <td>bn080905499</td>\n",
       "      <td>0.1218</td>\n",
       "      <td>-0.064</td>\n",
       "      <td>0.896</td>\n",
       "      <td>yes</td>\n",
       "      <td>no</td>\n",
       "      <td>27.8855</td>\n",
       "      <td>29.1496</td>\n",
       "      <td>30.4518</td>\n",
       "    </tr>\n",
       "    <tr>\n",
       "      <th>3</th>\n",
       "      <td>3</td>\n",
       "      <td>GRB080905B</td>\n",
       "      <td>bn080905705</td>\n",
       "      <td>2.3739</td>\n",
       "      <td>-5.120</td>\n",
       "      <td>100.864</td>\n",
       "      <td>yes</td>\n",
       "      <td>no</td>\n",
       "      <td>85.4289</td>\n",
       "      <td>85.8448</td>\n",
       "      <td>86.2924</td>\n",
       "    </tr>\n",
       "    <tr>\n",
       "      <th>4</th>\n",
       "      <td>4</td>\n",
       "      <td>GRB080916A</td>\n",
       "      <td>bn080916406</td>\n",
       "      <td>0.6887</td>\n",
       "      <td>0.512</td>\n",
       "      <td>46.849</td>\n",
       "      <td>yes</td>\n",
       "      <td>no</td>\n",
       "      <td>75.8313</td>\n",
       "      <td>77.1288</td>\n",
       "      <td>78.4168</td>\n",
       "    </tr>\n",
       "    <tr>\n",
       "      <th>5</th>\n",
       "      <td>5</td>\n",
       "      <td>GRB080916C</td>\n",
       "      <td>bn080916009</td>\n",
       "      <td>4.3500</td>\n",
       "      <td>1.280</td>\n",
       "      <td>64.257</td>\n",
       "      <td>no</td>\n",
       "      <td>yes</td>\n",
       "      <td>48.8396</td>\n",
       "      <td>48.6589</td>\n",
       "      <td>48.4850</td>\n",
       "    </tr>\n",
       "    <tr>\n",
       "      <th>6</th>\n",
       "      <td>6</td>\n",
       "      <td>GRB080928</td>\n",
       "      <td>bn080928628</td>\n",
       "      <td>1.6919</td>\n",
       "      <td>-1.792</td>\n",
       "      <td>12.544</td>\n",
       "      <td>yes</td>\n",
       "      <td>no</td>\n",
       "      <td>45.2153</td>\n",
       "      <td>44.3400</td>\n",
       "      <td>43.4711</td>\n",
       "    </tr>\n",
       "    <tr>\n",
       "      <th>7</th>\n",
       "      <td>7</td>\n",
       "      <td>GRB081008</td>\n",
       "      <td>bn081008832</td>\n",
       "      <td>1.9670</td>\n",
       "      <td>0.004</td>\n",
       "      <td>150.019</td>\n",
       "      <td>yes</td>\n",
       "      <td>no</td>\n",
       "      <td>64.2697</td>\n",
       "      <td>64.9711</td>\n",
       "      <td>65.6619</td>\n",
       "    </tr>\n",
       "    <tr>\n",
       "      <th>8</th>\n",
       "      <td>8</td>\n",
       "      <td>GRB081121</td>\n",
       "      <td>bn081121858</td>\n",
       "      <td>2.5120</td>\n",
       "      <td>1.536</td>\n",
       "      <td>43.521</td>\n",
       "      <td>yes</td>\n",
       "      <td>no</td>\n",
       "      <td>134.7390</td>\n",
       "      <td>133.9690</td>\n",
       "      <td>133.1950</td>\n",
       "    </tr>\n",
       "    <tr>\n",
       "      <th>9</th>\n",
       "      <td>9</td>\n",
       "      <td>GRB081221</td>\n",
       "      <td>bn081221681</td>\n",
       "      <td>2.2600</td>\n",
       "      <td>3.328</td>\n",
       "      <td>33.025</td>\n",
       "      <td>yes</td>\n",
       "      <td>no</td>\n",
       "      <td>77.2159</td>\n",
       "      <td>78.9389</td>\n",
       "      <td>80.7400</td>\n",
       "    </tr>\n",
       "  </tbody>\n",
       "</table>\n",
       "</div>"
      ],
      "text/plain": [
       "   number        name      trigger       z  t90_start  t90_stop BATdet LATdet  \\\n",
       "0       0   GRB080804  bn080804972  2.2045      0.256    24.960    yes     no   \n",
       "1       1   GRB080810  bn080810549  3.3604    -20.096    87.361    yes     no   \n",
       "2       2  GRB080905A  bn080905499  0.1218     -0.064     0.896    yes     no   \n",
       "3       3  GRB080905B  bn080905705  2.3739     -5.120   100.864    yes     no   \n",
       "4       4  GRB080916A  bn080916406  0.6887      0.512    46.849    yes     no   \n",
       "5       5  GRB080916C  bn080916009  4.3500      1.280    64.257     no    yes   \n",
       "6       6   GRB080928  bn080928628  1.6919     -1.792    12.544    yes     no   \n",
       "7       7   GRB081008  bn081008832  1.9670      0.004   150.019    yes     no   \n",
       "8       8   GRB081121  bn081121858  2.5120      1.536    43.521    yes     no   \n",
       "9       9   GRB081221  bn081221681  2.2600      3.328    33.025    yes     no   \n",
       "\n",
       "      angT0    angT30    angT60  \n",
       "0    0.0000    0.0000    0.0000  \n",
       "1    0.0000    0.0000    0.0000  \n",
       "2   27.8855   29.1496   30.4518  \n",
       "3   85.4289   85.8448   86.2924  \n",
       "4   75.8313   77.1288   78.4168  \n",
       "5   48.8396   48.6589   48.4850  \n",
       "6   45.2153   44.3400   43.4711  \n",
       "7   64.2697   64.9711   65.6619  \n",
       "8  134.7390  133.9690  133.1950  \n",
       "9   77.2159   78.9389   80.7400  "
      ]
     },
     "execution_count": 224,
     "metadata": {},
     "output_type": "execute_result"
    }
   ],
   "source": [
    "test.burst_data.head(10)"
   ]
  },
  {
   "cell_type": "code",
   "execution_count": 225,
   "metadata": {
    "collapsed": false
   },
   "outputs": [
    {
     "data": {
      "text/plain": [
       "(70, 11)"
      ]
     },
     "execution_count": 225,
     "metadata": {},
     "output_type": "execute_result"
    }
   ],
   "source": [
    "test.burst_data.shape"
   ]
  },
  {
   "cell_type": "code",
   "execution_count": 226,
   "metadata": {
    "collapsed": false
   },
   "outputs": [
    {
     "data": {
      "text/html": [
       "<div>\n",
       "<table border=\"1\" class=\"dataframe\">\n",
       "  <thead>\n",
       "    <tr style=\"text-align: right;\">\n",
       "      <th></th>\n",
       "      <th>number</th>\n",
       "      <th>name</th>\n",
       "      <th>trigger</th>\n",
       "      <th>z</th>\n",
       "      <th>t90_start</th>\n",
       "      <th>t90_stop</th>\n",
       "      <th>BATdet</th>\n",
       "      <th>LATdet</th>\n",
       "      <th>angT0</th>\n",
       "      <th>angT30</th>\n",
       "      <th>angT60</th>\n",
       "    </tr>\n",
       "  </thead>\n",
       "  <tbody>\n",
       "    <tr>\n",
       "      <th>60</th>\n",
       "      <td>60</td>\n",
       "      <td>GRB130612A</td>\n",
       "      <td>bn130612141</td>\n",
       "      <td>2.0060</td>\n",
       "      <td>-2.560</td>\n",
       "      <td>4.864</td>\n",
       "      <td>yes</td>\n",
       "      <td>no</td>\n",
       "      <td>44.3786</td>\n",
       "      <td>44.6751</td>\n",
       "      <td>45.0255</td>\n",
       "    </tr>\n",
       "    <tr>\n",
       "      <th>61</th>\n",
       "      <td>61</td>\n",
       "      <td>GRB130702A</td>\n",
       "      <td>bn130702004</td>\n",
       "      <td>0.1450</td>\n",
       "      <td>0.768</td>\n",
       "      <td>59.649</td>\n",
       "      <td>no</td>\n",
       "      <td>yes</td>\n",
       "      <td>76.4101</td>\n",
       "      <td>75.2035</td>\n",
       "      <td>73.9996</td>\n",
       "    </tr>\n",
       "    <tr>\n",
       "      <th>62</th>\n",
       "      <td>62</td>\n",
       "      <td>GRB130925A</td>\n",
       "      <td>bn130925173</td>\n",
       "      <td>0.3470</td>\n",
       "      <td>11.008</td>\n",
       "      <td>226.563</td>\n",
       "      <td>yes</td>\n",
       "      <td>no</td>\n",
       "      <td>36.3258</td>\n",
       "      <td>35.8424</td>\n",
       "      <td>30.2735</td>\n",
       "    </tr>\n",
       "    <tr>\n",
       "      <th>63</th>\n",
       "      <td>63</td>\n",
       "      <td>GRB131004A</td>\n",
       "      <td>bn131004904</td>\n",
       "      <td>0.7170</td>\n",
       "      <td>-0.192</td>\n",
       "      <td>0.960</td>\n",
       "      <td>yes</td>\n",
       "      <td>no</td>\n",
       "      <td>93.0052</td>\n",
       "      <td>93.9654</td>\n",
       "      <td>94.9436</td>\n",
       "    </tr>\n",
       "    <tr>\n",
       "      <th>64</th>\n",
       "      <td>64</td>\n",
       "      <td>GRB131105A</td>\n",
       "      <td>bn131105087</td>\n",
       "      <td>1.6860</td>\n",
       "      <td>2.496</td>\n",
       "      <td>115.138</td>\n",
       "      <td>yes</td>\n",
       "      <td>no</td>\n",
       "      <td>35.9647</td>\n",
       "      <td>36.0518</td>\n",
       "      <td>36.1368</td>\n",
       "    </tr>\n",
       "    <tr>\n",
       "      <th>65</th>\n",
       "      <td>65</td>\n",
       "      <td>GRB131108A</td>\n",
       "      <td>bn131108862</td>\n",
       "      <td>2.4000</td>\n",
       "      <td>0.448</td>\n",
       "      <td>18.944</td>\n",
       "      <td>no</td>\n",
       "      <td>yes</td>\n",
       "      <td>24.4113</td>\n",
       "      <td>28.4615</td>\n",
       "      <td>28.6986</td>\n",
       "    </tr>\n",
       "    <tr>\n",
       "      <th>66</th>\n",
       "      <td>66</td>\n",
       "      <td>GRB131231A</td>\n",
       "      <td>bn131231198</td>\n",
       "      <td>0.6420</td>\n",
       "      <td>13.312</td>\n",
       "      <td>44.544</td>\n",
       "      <td>no</td>\n",
       "      <td>yes</td>\n",
       "      <td>38.0867</td>\n",
       "      <td>39.1376</td>\n",
       "      <td>39.7363</td>\n",
       "    </tr>\n",
       "    <tr>\n",
       "      <th>67</th>\n",
       "      <td>67</td>\n",
       "      <td>GRB140206A</td>\n",
       "      <td>bn140206304</td>\n",
       "      <td>2.7400</td>\n",
       "      <td>0.512</td>\n",
       "      <td>27.776</td>\n",
       "      <td>yes</td>\n",
       "      <td>no</td>\n",
       "      <td>123.3730</td>\n",
       "      <td>123.3730</td>\n",
       "      <td>123.3730</td>\n",
       "    </tr>\n",
       "    <tr>\n",
       "      <th>68</th>\n",
       "      <td>68</td>\n",
       "      <td>GRB140213A</td>\n",
       "      <td>bn140213807</td>\n",
       "      <td>1.2076</td>\n",
       "      <td>0.768</td>\n",
       "      <td>19.392</td>\n",
       "      <td>yes</td>\n",
       "      <td>no</td>\n",
       "      <td>48.4950</td>\n",
       "      <td>48.4047</td>\n",
       "      <td>47.1975</td>\n",
       "    </tr>\n",
       "    <tr>\n",
       "      <th>69</th>\n",
       "      <td>69</td>\n",
       "      <td>GRB140304A</td>\n",
       "      <td>bn140304557</td>\n",
       "      <td>5.2830</td>\n",
       "      <td>-5.376</td>\n",
       "      <td>26.368</td>\n",
       "      <td>yes</td>\n",
       "      <td>no</td>\n",
       "      <td>72.5804</td>\n",
       "      <td>73.7782</td>\n",
       "      <td>74.9692</td>\n",
       "    </tr>\n",
       "  </tbody>\n",
       "</table>\n",
       "</div>"
      ],
      "text/plain": [
       "    number        name      trigger       z  t90_start  t90_stop BATdet  \\\n",
       "60      60  GRB130612A  bn130612141  2.0060     -2.560     4.864    yes   \n",
       "61      61  GRB130702A  bn130702004  0.1450      0.768    59.649     no   \n",
       "62      62  GRB130925A  bn130925173  0.3470     11.008   226.563    yes   \n",
       "63      63  GRB131004A  bn131004904  0.7170     -0.192     0.960    yes   \n",
       "64      64  GRB131105A  bn131105087  1.6860      2.496   115.138    yes   \n",
       "65      65  GRB131108A  bn131108862  2.4000      0.448    18.944     no   \n",
       "66      66  GRB131231A  bn131231198  0.6420     13.312    44.544     no   \n",
       "67      67  GRB140206A  bn140206304  2.7400      0.512    27.776    yes   \n",
       "68      68  GRB140213A  bn140213807  1.2076      0.768    19.392    yes   \n",
       "69      69  GRB140304A  bn140304557  5.2830     -5.376    26.368    yes   \n",
       "\n",
       "   LATdet     angT0    angT30    angT60  \n",
       "60     no   44.3786   44.6751   45.0255  \n",
       "61    yes   76.4101   75.2035   73.9996  \n",
       "62     no   36.3258   35.8424   30.2735  \n",
       "63     no   93.0052   93.9654   94.9436  \n",
       "64     no   35.9647   36.0518   36.1368  \n",
       "65    yes   24.4113   28.4615   28.6986  \n",
       "66    yes   38.0867   39.1376   39.7363  \n",
       "67     no  123.3730  123.3730  123.3730  \n",
       "68     no   48.4950   48.4047   47.1975  \n",
       "69     no   72.5804   73.7782   74.9692  "
      ]
     },
     "execution_count": 226,
     "metadata": {},
     "output_type": "execute_result"
    }
   ],
   "source": [
    "test.burst_data.tail(10)"
   ]
  },
  {
   "cell_type": "markdown",
   "metadata": {},
   "source": [
    "To get specific data for other bursts, you can either use the test.burst_data dataframe and located the desired element using .loc, or you can use test.get_BurstData. \n",
    "\n",
    "test.get_BurstData takes a column name and/or burst trigger id. "
   ]
  },
  {
   "cell_type": "code",
   "execution_count": 192,
   "metadata": {
    "collapsed": false
   },
   "outputs": [
    {
     "data": {
      "text/plain": [
       "0    2.2045\n",
       "Name: z, dtype: float64"
      ]
     },
     "execution_count": 192,
     "metadata": {},
     "output_type": "execute_result"
    }
   ],
   "source": [
    "test.get_BurstData(column='z', burst='bn080804972')"
   ]
  },
  {
   "cell_type": "code",
   "execution_count": 193,
   "metadata": {
    "collapsed": false
   },
   "outputs": [
    {
     "data": {
      "text/plain": [
       "0    2.2045\n",
       "Name: z, dtype: float64"
      ]
     },
     "execution_count": 193,
     "metadata": {},
     "output_type": "execute_result"
    }
   ],
   "source": [
    "test.get_BurstData(column='z', burst='bn080804972')"
   ]
  },
  {
   "cell_type": "code",
   "execution_count": 194,
   "metadata": {
    "collapsed": false
   },
   "outputs": [
    {
     "data": {
      "text/plain": [
       "0    2.2045\n",
       "1    3.3604\n",
       "2    0.1218\n",
       "3    2.3739\n",
       "4    0.6887\n",
       "5    4.3500\n",
       "6    1.6919\n",
       "7    1.9670\n",
       "8    2.5120\n",
       "9    2.2600\n",
       "Name: z, dtype: float64"
      ]
     },
     "execution_count": 194,
     "metadata": {},
     "output_type": "execute_result"
    }
   ],
   "source": [
    "test.get_BurstData(column='z').head(10) "
   ]
  },
  {
   "cell_type": "code",
   "execution_count": 195,
   "metadata": {
    "collapsed": false
   },
   "outputs": [
    {
     "data": {
      "text/html": [
       "<div>\n",
       "<table border=\"1\" class=\"dataframe\">\n",
       "  <thead>\n",
       "    <tr style=\"text-align: right;\">\n",
       "      <th></th>\n",
       "      <th>number</th>\n",
       "      <th>name</th>\n",
       "      <th>trigger</th>\n",
       "      <th>z</th>\n",
       "      <th>t90_start</th>\n",
       "      <th>t90_stop</th>\n",
       "      <th>BATdet</th>\n",
       "      <th>LATdet</th>\n",
       "      <th>angT0</th>\n",
       "      <th>angT30</th>\n",
       "      <th>angT60</th>\n",
       "    </tr>\n",
       "  </thead>\n",
       "  <tbody>\n",
       "    <tr>\n",
       "      <th>0</th>\n",
       "      <td>0</td>\n",
       "      <td>GRB080804</td>\n",
       "      <td>bn080804972</td>\n",
       "      <td>2.2045</td>\n",
       "      <td>0.256</td>\n",
       "      <td>24.96</td>\n",
       "      <td>yes</td>\n",
       "      <td>no</td>\n",
       "      <td>0.0</td>\n",
       "      <td>0.0</td>\n",
       "      <td>0.0</td>\n",
       "    </tr>\n",
       "  </tbody>\n",
       "</table>\n",
       "</div>"
      ],
      "text/plain": [
       "   number       name      trigger       z  t90_start  t90_stop BATdet LATdet  \\\n",
       "0       0  GRB080804  bn080804972  2.2045      0.256     24.96    yes     no   \n",
       "\n",
       "   angT0  angT30  angT60  \n",
       "0    0.0     0.0     0.0  "
      ]
     },
     "execution_count": 195,
     "metadata": {},
     "output_type": "execute_result"
    }
   ],
   "source": [
    "test.get_BurstData(burst='bn080804972')"
   ]
  },
  {
   "cell_type": "code",
   "execution_count": 196,
   "metadata": {
    "collapsed": false
   },
   "outputs": [
    {
     "data": {
      "text/html": [
       "<div>\n",
       "<table border=\"1\" class=\"dataframe\">\n",
       "  <thead>\n",
       "    <tr style=\"text-align: right;\">\n",
       "      <th></th>\n",
       "      <th>number</th>\n",
       "      <th>name</th>\n",
       "      <th>trigger</th>\n",
       "      <th>z</th>\n",
       "      <th>t90_start</th>\n",
       "      <th>t90_stop</th>\n",
       "      <th>BATdet</th>\n",
       "      <th>LATdet</th>\n",
       "      <th>angT0</th>\n",
       "      <th>angT30</th>\n",
       "      <th>angT60</th>\n",
       "    </tr>\n",
       "  </thead>\n",
       "  <tbody>\n",
       "    <tr>\n",
       "      <th>0</th>\n",
       "      <td>0</td>\n",
       "      <td>GRB080804</td>\n",
       "      <td>bn080804972</td>\n",
       "      <td>2.2045</td>\n",
       "      <td>0.256</td>\n",
       "      <td>24.960</td>\n",
       "      <td>yes</td>\n",
       "      <td>no</td>\n",
       "      <td>0.0000</td>\n",
       "      <td>0.0000</td>\n",
       "      <td>0.0000</td>\n",
       "    </tr>\n",
       "    <tr>\n",
       "      <th>1</th>\n",
       "      <td>1</td>\n",
       "      <td>GRB080810</td>\n",
       "      <td>bn080810549</td>\n",
       "      <td>3.3604</td>\n",
       "      <td>-20.096</td>\n",
       "      <td>87.361</td>\n",
       "      <td>yes</td>\n",
       "      <td>no</td>\n",
       "      <td>0.0000</td>\n",
       "      <td>0.0000</td>\n",
       "      <td>0.0000</td>\n",
       "    </tr>\n",
       "    <tr>\n",
       "      <th>2</th>\n",
       "      <td>2</td>\n",
       "      <td>GRB080905A</td>\n",
       "      <td>bn080905499</td>\n",
       "      <td>0.1218</td>\n",
       "      <td>-0.064</td>\n",
       "      <td>0.896</td>\n",
       "      <td>yes</td>\n",
       "      <td>no</td>\n",
       "      <td>27.8855</td>\n",
       "      <td>29.1496</td>\n",
       "      <td>30.4518</td>\n",
       "    </tr>\n",
       "    <tr>\n",
       "      <th>3</th>\n",
       "      <td>3</td>\n",
       "      <td>GRB080905B</td>\n",
       "      <td>bn080905705</td>\n",
       "      <td>2.3739</td>\n",
       "      <td>-5.120</td>\n",
       "      <td>100.864</td>\n",
       "      <td>yes</td>\n",
       "      <td>no</td>\n",
       "      <td>85.4289</td>\n",
       "      <td>85.8448</td>\n",
       "      <td>86.2924</td>\n",
       "    </tr>\n",
       "    <tr>\n",
       "      <th>4</th>\n",
       "      <td>4</td>\n",
       "      <td>GRB080916A</td>\n",
       "      <td>bn080916406</td>\n",
       "      <td>0.6887</td>\n",
       "      <td>0.512</td>\n",
       "      <td>46.849</td>\n",
       "      <td>yes</td>\n",
       "      <td>no</td>\n",
       "      <td>75.8313</td>\n",
       "      <td>77.1288</td>\n",
       "      <td>78.4168</td>\n",
       "    </tr>\n",
       "    <tr>\n",
       "      <th>5</th>\n",
       "      <td>5</td>\n",
       "      <td>GRB080916C</td>\n",
       "      <td>bn080916009</td>\n",
       "      <td>4.3500</td>\n",
       "      <td>1.280</td>\n",
       "      <td>64.257</td>\n",
       "      <td>no</td>\n",
       "      <td>yes</td>\n",
       "      <td>48.8396</td>\n",
       "      <td>48.6589</td>\n",
       "      <td>48.4850</td>\n",
       "    </tr>\n",
       "    <tr>\n",
       "      <th>6</th>\n",
       "      <td>6</td>\n",
       "      <td>GRB080928</td>\n",
       "      <td>bn080928628</td>\n",
       "      <td>1.6919</td>\n",
       "      <td>-1.792</td>\n",
       "      <td>12.544</td>\n",
       "      <td>yes</td>\n",
       "      <td>no</td>\n",
       "      <td>45.2153</td>\n",
       "      <td>44.3400</td>\n",
       "      <td>43.4711</td>\n",
       "    </tr>\n",
       "    <tr>\n",
       "      <th>7</th>\n",
       "      <td>7</td>\n",
       "      <td>GRB081008</td>\n",
       "      <td>bn081008832</td>\n",
       "      <td>1.9670</td>\n",
       "      <td>0.004</td>\n",
       "      <td>150.019</td>\n",
       "      <td>yes</td>\n",
       "      <td>no</td>\n",
       "      <td>64.2697</td>\n",
       "      <td>64.9711</td>\n",
       "      <td>65.6619</td>\n",
       "    </tr>\n",
       "    <tr>\n",
       "      <th>8</th>\n",
       "      <td>8</td>\n",
       "      <td>GRB081121</td>\n",
       "      <td>bn081121858</td>\n",
       "      <td>2.5120</td>\n",
       "      <td>1.536</td>\n",
       "      <td>43.521</td>\n",
       "      <td>yes</td>\n",
       "      <td>no</td>\n",
       "      <td>134.7390</td>\n",
       "      <td>133.9690</td>\n",
       "      <td>133.1950</td>\n",
       "    </tr>\n",
       "    <tr>\n",
       "      <th>9</th>\n",
       "      <td>9</td>\n",
       "      <td>GRB081221</td>\n",
       "      <td>bn081221681</td>\n",
       "      <td>2.2600</td>\n",
       "      <td>3.328</td>\n",
       "      <td>33.025</td>\n",
       "      <td>yes</td>\n",
       "      <td>no</td>\n",
       "      <td>77.2159</td>\n",
       "      <td>78.9389</td>\n",
       "      <td>80.7400</td>\n",
       "    </tr>\n",
       "  </tbody>\n",
       "</table>\n",
       "</div>"
      ],
      "text/plain": [
       "   number        name      trigger       z  t90_start  t90_stop BATdet LATdet  \\\n",
       "0       0   GRB080804  bn080804972  2.2045      0.256    24.960    yes     no   \n",
       "1       1   GRB080810  bn080810549  3.3604    -20.096    87.361    yes     no   \n",
       "2       2  GRB080905A  bn080905499  0.1218     -0.064     0.896    yes     no   \n",
       "3       3  GRB080905B  bn080905705  2.3739     -5.120   100.864    yes     no   \n",
       "4       4  GRB080916A  bn080916406  0.6887      0.512    46.849    yes     no   \n",
       "5       5  GRB080916C  bn080916009  4.3500      1.280    64.257     no    yes   \n",
       "6       6   GRB080928  bn080928628  1.6919     -1.792    12.544    yes     no   \n",
       "7       7   GRB081008  bn081008832  1.9670      0.004   150.019    yes     no   \n",
       "8       8   GRB081121  bn081121858  2.5120      1.536    43.521    yes     no   \n",
       "9       9   GRB081221  bn081221681  2.2600      3.328    33.025    yes     no   \n",
       "\n",
       "      angT0    angT30    angT60  \n",
       "0    0.0000    0.0000    0.0000  \n",
       "1    0.0000    0.0000    0.0000  \n",
       "2   27.8855   29.1496   30.4518  \n",
       "3   85.4289   85.8448   86.2924  \n",
       "4   75.8313   77.1288   78.4168  \n",
       "5   48.8396   48.6589   48.4850  \n",
       "6   45.2153   44.3400   43.4711  \n",
       "7   64.2697   64.9711   65.6619  \n",
       "8  134.7390  133.9690  133.1950  \n",
       "9   77.2159   78.9389   80.7400  "
      ]
     },
     "execution_count": 196,
     "metadata": {},
     "output_type": "execute_result"
    }
   ],
   "source": [
    "test.burst_data.head(10)"
   ]
  },
  {
   "cell_type": "code",
   "execution_count": 197,
   "metadata": {
    "collapsed": false
   },
   "outputs": [
    {
     "data": {
      "text/html": [
       "<div>\n",
       "<table border=\"1\" class=\"dataframe\">\n",
       "  <thead>\n",
       "    <tr style=\"text-align: right;\">\n",
       "      <th></th>\n",
       "      <th>number</th>\n",
       "      <th>name</th>\n",
       "      <th>trigger</th>\n",
       "      <th>z</th>\n",
       "      <th>t90_start</th>\n",
       "      <th>t90_stop</th>\n",
       "      <th>BATdet</th>\n",
       "      <th>LATdet</th>\n",
       "      <th>angT0</th>\n",
       "      <th>angT30</th>\n",
       "      <th>angT60</th>\n",
       "    </tr>\n",
       "  </thead>\n",
       "  <tbody>\n",
       "    <tr>\n",
       "      <th>60</th>\n",
       "      <td>60</td>\n",
       "      <td>GRB130612A</td>\n",
       "      <td>bn130612141</td>\n",
       "      <td>2.0060</td>\n",
       "      <td>-2.560</td>\n",
       "      <td>4.864</td>\n",
       "      <td>yes</td>\n",
       "      <td>no</td>\n",
       "      <td>44.3786</td>\n",
       "      <td>44.6751</td>\n",
       "      <td>45.0255</td>\n",
       "    </tr>\n",
       "    <tr>\n",
       "      <th>61</th>\n",
       "      <td>61</td>\n",
       "      <td>GRB130702A</td>\n",
       "      <td>bn130702004</td>\n",
       "      <td>0.1450</td>\n",
       "      <td>0.768</td>\n",
       "      <td>59.649</td>\n",
       "      <td>no</td>\n",
       "      <td>yes</td>\n",
       "      <td>76.4101</td>\n",
       "      <td>75.2035</td>\n",
       "      <td>73.9996</td>\n",
       "    </tr>\n",
       "    <tr>\n",
       "      <th>62</th>\n",
       "      <td>62</td>\n",
       "      <td>GRB130925A</td>\n",
       "      <td>bn130925173</td>\n",
       "      <td>0.3470</td>\n",
       "      <td>11.008</td>\n",
       "      <td>226.563</td>\n",
       "      <td>yes</td>\n",
       "      <td>no</td>\n",
       "      <td>36.3258</td>\n",
       "      <td>35.8424</td>\n",
       "      <td>30.2735</td>\n",
       "    </tr>\n",
       "    <tr>\n",
       "      <th>63</th>\n",
       "      <td>63</td>\n",
       "      <td>GRB131004A</td>\n",
       "      <td>bn131004904</td>\n",
       "      <td>0.7170</td>\n",
       "      <td>-0.192</td>\n",
       "      <td>0.960</td>\n",
       "      <td>yes</td>\n",
       "      <td>no</td>\n",
       "      <td>93.0052</td>\n",
       "      <td>93.9654</td>\n",
       "      <td>94.9436</td>\n",
       "    </tr>\n",
       "    <tr>\n",
       "      <th>64</th>\n",
       "      <td>64</td>\n",
       "      <td>GRB131105A</td>\n",
       "      <td>bn131105087</td>\n",
       "      <td>1.6860</td>\n",
       "      <td>2.496</td>\n",
       "      <td>115.138</td>\n",
       "      <td>yes</td>\n",
       "      <td>no</td>\n",
       "      <td>35.9647</td>\n",
       "      <td>36.0518</td>\n",
       "      <td>36.1368</td>\n",
       "    </tr>\n",
       "    <tr>\n",
       "      <th>65</th>\n",
       "      <td>65</td>\n",
       "      <td>GRB131108A</td>\n",
       "      <td>bn131108862</td>\n",
       "      <td>2.4000</td>\n",
       "      <td>0.448</td>\n",
       "      <td>18.944</td>\n",
       "      <td>no</td>\n",
       "      <td>yes</td>\n",
       "      <td>24.4113</td>\n",
       "      <td>28.4615</td>\n",
       "      <td>28.6986</td>\n",
       "    </tr>\n",
       "    <tr>\n",
       "      <th>66</th>\n",
       "      <td>66</td>\n",
       "      <td>GRB131231A</td>\n",
       "      <td>bn131231198</td>\n",
       "      <td>0.6420</td>\n",
       "      <td>13.312</td>\n",
       "      <td>44.544</td>\n",
       "      <td>no</td>\n",
       "      <td>yes</td>\n",
       "      <td>38.0867</td>\n",
       "      <td>39.1376</td>\n",
       "      <td>39.7363</td>\n",
       "    </tr>\n",
       "    <tr>\n",
       "      <th>67</th>\n",
       "      <td>67</td>\n",
       "      <td>GRB140206A</td>\n",
       "      <td>bn140206304</td>\n",
       "      <td>2.7400</td>\n",
       "      <td>0.512</td>\n",
       "      <td>27.776</td>\n",
       "      <td>yes</td>\n",
       "      <td>no</td>\n",
       "      <td>123.3730</td>\n",
       "      <td>123.3730</td>\n",
       "      <td>123.3730</td>\n",
       "    </tr>\n",
       "    <tr>\n",
       "      <th>68</th>\n",
       "      <td>68</td>\n",
       "      <td>GRB140213A</td>\n",
       "      <td>bn140213807</td>\n",
       "      <td>1.2076</td>\n",
       "      <td>0.768</td>\n",
       "      <td>19.392</td>\n",
       "      <td>yes</td>\n",
       "      <td>no</td>\n",
       "      <td>48.4950</td>\n",
       "      <td>48.4047</td>\n",
       "      <td>47.1975</td>\n",
       "    </tr>\n",
       "    <tr>\n",
       "      <th>69</th>\n",
       "      <td>69</td>\n",
       "      <td>GRB140304A</td>\n",
       "      <td>bn140304557</td>\n",
       "      <td>5.2830</td>\n",
       "      <td>-5.376</td>\n",
       "      <td>26.368</td>\n",
       "      <td>yes</td>\n",
       "      <td>no</td>\n",
       "      <td>72.5804</td>\n",
       "      <td>73.7782</td>\n",
       "      <td>74.9692</td>\n",
       "    </tr>\n",
       "  </tbody>\n",
       "</table>\n",
       "</div>"
      ],
      "text/plain": [
       "    number        name      trigger       z  t90_start  t90_stop BATdet  \\\n",
       "60      60  GRB130612A  bn130612141  2.0060     -2.560     4.864    yes   \n",
       "61      61  GRB130702A  bn130702004  0.1450      0.768    59.649     no   \n",
       "62      62  GRB130925A  bn130925173  0.3470     11.008   226.563    yes   \n",
       "63      63  GRB131004A  bn131004904  0.7170     -0.192     0.960    yes   \n",
       "64      64  GRB131105A  bn131105087  1.6860      2.496   115.138    yes   \n",
       "65      65  GRB131108A  bn131108862  2.4000      0.448    18.944     no   \n",
       "66      66  GRB131231A  bn131231198  0.6420     13.312    44.544     no   \n",
       "67      67  GRB140206A  bn140206304  2.7400      0.512    27.776    yes   \n",
       "68      68  GRB140213A  bn140213807  1.2076      0.768    19.392    yes   \n",
       "69      69  GRB140304A  bn140304557  5.2830     -5.376    26.368    yes   \n",
       "\n",
       "   LATdet     angT0    angT30    angT60  \n",
       "60     no   44.3786   44.6751   45.0255  \n",
       "61    yes   76.4101   75.2035   73.9996  \n",
       "62     no   36.3258   35.8424   30.2735  \n",
       "63     no   93.0052   93.9654   94.9436  \n",
       "64     no   35.9647   36.0518   36.1368  \n",
       "65    yes   24.4113   28.4615   28.6986  \n",
       "66    yes   38.0867   39.1376   39.7363  \n",
       "67     no  123.3730  123.3730  123.3730  \n",
       "68     no   48.4950   48.4047   47.1975  \n",
       "69     no   72.5804   73.7782   74.9692  "
      ]
     },
     "execution_count": 197,
     "metadata": {},
     "output_type": "execute_result"
    }
   ],
   "source": [
    "test.burst_data.tail(10)"
   ]
  },
  {
   "cell_type": "code",
   "execution_count": null,
   "metadata": {
    "collapsed": true
   },
   "outputs": [],
   "source": []
  },
  {
   "cell_type": "code",
   "execution_count": null,
   "metadata": {
    "collapsed": true
   },
   "outputs": [],
   "source": []
  },
  {
   "cell_type": "code",
   "execution_count": null,
   "metadata": {
    "collapsed": true
   },
   "outputs": [],
   "source": []
  },
  {
   "cell_type": "code",
   "execution_count": 38,
   "metadata": {
    "collapsed": true
   },
   "outputs": [],
   "source": [
    "params_dict = {\n",
    "            'burst':        'bn080916009',\n",
    "            'det':          'L',\n",
    "            'model':        'grbm',\n",
    "            'pyx_version':  '-01-',\n",
    "            #'bxa_version':  '-01-',\n",
    "            #'bxa_Aversion': '-01-'\n",
    "            }\n",
    "                    \n",
    "test        = Data(**params_dict)"
   ]
  },
  {
   "cell_type": "code",
   "execution_count": null,
   "metadata": {
    "collapsed": true
   },
   "outputs": [],
   "source": []
  },
  {
   "cell_type": "code",
   "execution_count": null,
   "metadata": {
    "collapsed": true
   },
   "outputs": [],
   "source": []
  },
  {
   "cell_type": "code",
   "execution_count": null,
   "metadata": {
    "collapsed": true
   },
   "outputs": [],
   "source": []
  },
  {
   "cell_type": "code",
   "execution_count": null,
   "metadata": {
    "collapsed": true
   },
   "outputs": [],
   "source": []
  },
  {
   "cell_type": "code",
   "execution_count": null,
   "metadata": {
    "collapsed": true
   },
   "outputs": [],
   "source": []
  },
  {
   "cell_type": "code",
   "execution_count": 5,
   "metadata": {
    "collapsed": false
   },
   "outputs": [
    {
     "ename": "NameError",
     "evalue": "name 'modname' is not defined",
     "output_type": "error",
     "traceback": [
      "\u001b[0;31m---------------------------------------------------------------------------\u001b[0m",
      "\u001b[0;31mNameError\u001b[0m                                 Traceback (most recent call last)",
      "\u001b[0;32m<ipython-input-5-f06d4d6aea07>\u001b[0m in \u001b[0;36m<module>\u001b[0;34m()\u001b[0m\n\u001b[0;32m----> 1\u001b[0;31m \u001b[0;32mclass\u001b[0m \u001b[0mModels\u001b[0m\u001b[0;34m:\u001b[0m\u001b[0;34m\u001b[0m\u001b[0m\n\u001b[0m\u001b[1;32m      2\u001b[0m     \u001b[0;31m# class variables shared by all instances are defined here.\u001b[0m\u001b[0;34m\u001b[0m\u001b[0;34m\u001b[0m\u001b[0m\n\u001b[1;32m      3\u001b[0m     \u001b[0mname\u001b[0m \u001b[0;34m=\u001b[0m \u001b[0mmodname\u001b[0m\u001b[0;34m\u001b[0m\u001b[0m\n\u001b[1;32m      4\u001b[0m \u001b[0;31m#     parvalues = values  # class variables shared by all instances\u001b[0m\u001b[0;34m\u001b[0m\u001b[0;34m\u001b[0m\u001b[0m\n\u001b[1;32m      5\u001b[0m \u001b[0;31m#     parnames = parnames\u001b[0m\u001b[0;34m\u001b[0m\u001b[0;34m\u001b[0m\u001b[0m\n",
      "\u001b[0;32m<ipython-input-5-f06d4d6aea07>\u001b[0m in \u001b[0;36mModels\u001b[0;34m()\u001b[0m\n\u001b[1;32m      1\u001b[0m \u001b[0;32mclass\u001b[0m \u001b[0mModels\u001b[0m\u001b[0;34m:\u001b[0m\u001b[0;34m\u001b[0m\u001b[0m\n\u001b[1;32m      2\u001b[0m     \u001b[0;31m# class variables shared by all instances are defined here.\u001b[0m\u001b[0;34m\u001b[0m\u001b[0;34m\u001b[0m\u001b[0m\n\u001b[0;32m----> 3\u001b[0;31m     \u001b[0mname\u001b[0m \u001b[0;34m=\u001b[0m \u001b[0mmodname\u001b[0m\u001b[0;34m\u001b[0m\u001b[0m\n\u001b[0m\u001b[1;32m      4\u001b[0m \u001b[0;31m#     parvalues = values  # class variables shared by all instances\u001b[0m\u001b[0;34m\u001b[0m\u001b[0;34m\u001b[0m\u001b[0m\n\u001b[1;32m      5\u001b[0m \u001b[0;31m#     parnames = parnames\u001b[0m\u001b[0;34m\u001b[0m\u001b[0;34m\u001b[0m\u001b[0m\n",
      "\u001b[0;31mNameError\u001b[0m: name 'modname' is not defined"
     ]
    }
   ],
   "source": [
    "class Models:\n",
    "    # class variables shared by all instances are defined here. \n",
    "    name = modname\n",
    "#     parvalues = values  # class variables shared by all instances\n",
    "#     parnames = parnames\n",
    "    def band(self, alpha, beta, epeak, norm):\n",
    "        self.alpha = -1.0\n",
    "        self.beta = -2.0\n",
    "        self.epeak = 300.0\n",
    "        self.norm = 0.01\n",
    "        def pars(self, x):\n",
    "            vals = x*4\n",
    "            return vals\n",
    "    \n",
    "#     def parameters(self, alpha, beta, epeak, norm):\n",
    "#         self.alpha = 0.0\n",
    "#         self.beta = 0.0\n",
    "#         self.epeak = 0.0\n",
    "#         self.norm = 0.0\n",
    "        \n",
    "#     def __init__(self, name):\n",
    "#         self.name = 'zoldak'  # instance variable unique to each instance"
   ]
  },
  {
   "cell_type": "code",
   "execution_count": null,
   "metadata": {
    "collapsed": true
   },
   "outputs": [],
   "source": []
  },
  {
   "cell_type": "code",
   "execution_count": null,
   "metadata": {
    "collapsed": true
   },
   "outputs": [],
   "source": [
    "#values = [-1.0, -2.0, 300.0, 0.01]\n",
    "#pars = ['alpha','beta','epeak','norm']"
   ]
  },
  {
   "cell_type": "code",
   "execution_count": null,
   "metadata": {
    "collapsed": true
   },
   "outputs": [],
   "source": [
    "modname = 'band'"
   ]
  },
  {
   "cell_type": "code",
   "execution_count": null,
   "metadata": {
    "collapsed": false
   },
   "outputs": [],
   "source": [
    "Models.name"
   ]
  },
  {
   "cell_type": "code",
   "execution_count": null,
   "metadata": {
    "collapsed": false
   },
   "outputs": [],
   "source": [
    "Models.parnames"
   ]
  },
  {
   "cell_type": "code",
   "execution_count": null,
   "metadata": {
    "collapsed": false
   },
   "outputs": [],
   "source": [
    "Models.parvalues"
   ]
  },
  {
   "cell_type": "code",
   "execution_count": null,
   "metadata": {
    "collapsed": false
   },
   "outputs": [],
   "source": [
    "kz = Models()"
   ]
  },
  {
   "cell_type": "code",
   "execution_count": null,
   "metadata": {
    "collapsed": false
   },
   "outputs": [],
   "source": [
    "kz.band('1')"
   ]
  },
  {
   "cell_type": "code",
   "execution_count": null,
   "metadata": {
    "collapsed": true
   },
   "outputs": [],
   "source": []
  },
  {
   "cell_type": "code",
   "execution_count": null,
   "metadata": {
    "collapsed": true
   },
   "outputs": [],
   "source": []
  },
  {
   "cell_type": "code",
   "execution_count": null,
   "metadata": {
    "collapsed": true
   },
   "outputs": [],
   "source": []
  },
  {
   "cell_type": "code",
   "execution_count": null,
   "metadata": {
    "collapsed": true
   },
   "outputs": [],
   "source": [
    "class MyClass(object):\n",
    "    def grades(self, x):\n",
    "        \n",
    "        return x"
   ]
  },
  {
   "cell_type": "code",
   "execution_count": null,
   "metadata": {
    "collapsed": false
   },
   "outputs": [],
   "source": [
    "D.f  # just an unbound method"
   ]
  },
  {
   "cell_type": "code",
   "execution_count": null,
   "metadata": {
    "collapsed": false
   },
   "outputs": [],
   "source": [
    "D.__dict__['f']  # stores internally as a function"
   ]
  },
  {
   "cell_type": "code",
   "execution_count": null,
   "metadata": {
    "collapsed": false
   },
   "outputs": [],
   "source": [
    "d= D()"
   ]
  },
  {
   "cell_type": "code",
   "execution_count": null,
   "metadata": {
    "collapsed": false
   },
   "outputs": [],
   "source": [
    "print type(d) # <class '__main__.D'>\n",
    "print type(D) # <type 'type'>\n",
    "print type(d.f) # <type 'instancemethod'>\n",
    "print type(D.f) # <type 'instancemethod'>"
   ]
  },
  {
   "cell_type": "code",
   "execution_count": null,
   "metadata": {
    "collapsed": false
   },
   "outputs": [],
   "source": [
    "print d.f  # <bound method D.f of <__main__.D object at 0x104b2e450>>\n",
    "print D.f  # <unbound method D.f>"
   ]
  },
  {
   "cell_type": "raw",
   "metadata": {},
   "source": [
    "D.f  # Get from a class becomes an unbound method.\n",
    "d.f  # Get from an instance becomes a bound method."
   ]
  },
  {
   "cell_type": "markdown",
   "metadata": {},
   "source": [
    "D -- object, class or module name.\n",
    "f -- attribute of the object, class or module.\n",
    "\n",
    "attributes can be read only, or read and write.\n",
    "D.number = 42 will make a new attribute (called number) and write it to the class (called D)."
   ]
  },
  {
   "cell_type": "code",
   "execution_count": null,
   "metadata": {
    "collapsed": false
   },
   "outputs": [],
   "source": [
    "D.number = 42"
   ]
  },
  {
   "cell_type": "code",
   "execution_count": null,
   "metadata": {
    "collapsed": false
   },
   "outputs": [],
   "source": [
    "D.number"
   ]
  },
  {
   "cell_type": "markdown",
   "metadata": {},
   "source": [
    "#### This will also carry over to the bound method. But won't work the opposite way around."
   ]
  },
  {
   "cell_type": "code",
   "execution_count": null,
   "metadata": {
    "collapsed": false
   },
   "outputs": [],
   "source": [
    "d.number"
   ]
  },
  {
   "cell_type": "code",
   "execution_count": null,
   "metadata": {
    "collapsed": true
   },
   "outputs": [],
   "source": [
    "d.letter = 'A'"
   ]
  },
  {
   "cell_type": "code",
   "execution_count": null,
   "metadata": {
    "collapsed": false
   },
   "outputs": [],
   "source": [
    "# D.letter  # not recognized."
   ]
  },
  {
   "cell_type": "markdown",
   "metadata": {},
   "source": [
    "d is bound to D and any changes made to D will be carried through to d.  But any changes made to d will not carry through to D.  d is bound to D.  "
   ]
  },
  {
   "cell_type": "code",
   "execution_count": null,
   "metadata": {
    "collapsed": true
   },
   "outputs": [],
   "source": []
  },
  {
   "cell_type": "code",
   "execution_count": null,
   "metadata": {
    "collapsed": false
   },
   "outputs": [],
   "source": []
  },
  {
   "cell_type": "code",
   "execution_count": null,
   "metadata": {
    "collapsed": true
   },
   "outputs": [],
   "source": [
    "class Mapping:\n",
    "    def __init__(self, iterable):\n",
    "        self.items_list = []\n",
    "        self.__update(iterable)\n",
    "\n",
    "    def update(self, iterable):\n",
    "        for item in iterable:\n",
    "            self.items_list.append(item)\n",
    "\n",
    "    __update = update   # private copy of original update() method\n",
    "\n",
    "class MappingSubclass(Mapping):\n",
    "\n",
    "    def update(self, keys, values):\n",
    "        # provides new signature for update()\n",
    "        # but does not break __init__()\n",
    "        for item in zip(keys, values):\n",
    "            self.items_list.append(item)"
   ]
  },
  {
   "cell_type": "code",
   "execution_count": null,
   "metadata": {
    "collapsed": false
   },
   "outputs": [],
   "source": [
    "list = [1,2,3,4,5]\n",
    "range(len(list))"
   ]
  },
  {
   "cell_type": "code",
   "execution_count": null,
   "metadata": {
    "collapsed": false
   },
   "outputs": [],
   "source": [
    "Mapping.update([1,2,3])"
   ]
  },
  {
   "cell_type": "code",
   "execution_count": null,
   "metadata": {
    "collapsed": true
   },
   "outputs": [],
   "source": [
    "class Reverse:\n",
    "    \"\"\"Iterator for looping over a sequence backwards.\"\"\"\n",
    "    def __init__(self, data):\n",
    "        self.data = data\n",
    "        self.index = len(data)\n",
    "\n",
    "    def __iter__(self):\n",
    "        return self\n",
    "\n",
    "    def next(self):\n",
    "        if self.index == 0:\n",
    "            raise StopIteration\n",
    "        self.index = self.index - 1\n",
    "        return self.data[self.index]"
   ]
  },
  {
   "cell_type": "code",
   "execution_count": null,
   "metadata": {
    "collapsed": false
   },
   "outputs": [],
   "source": [
    "rev = Reverse('spam')"
   ]
  },
  {
   "cell_type": "code",
   "execution_count": null,
   "metadata": {
    "collapsed": false
   },
   "outputs": [],
   "source": [
    "iter(rev)"
   ]
  },
  {
   "cell_type": "code",
   "execution_count": null,
   "metadata": {
    "collapsed": false
   },
   "outputs": [],
   "source": [
    "for char in rev:\n",
    "    print char"
   ]
  },
  {
   "cell_type": "code",
   "execution_count": null,
   "metadata": {
    "collapsed": false
   },
   "outputs": [],
   "source": [
    "lname = Reverse('Zoldak')\n",
    "\n",
    "for letter in lname:\n",
    "    print letter"
   ]
  },
  {
   "cell_type": "code",
   "execution_count": null,
   "metadata": {
    "collapsed": true
   },
   "outputs": [],
   "source": [
    "a = [1,2,3,4,5,6,7,8,9,10]"
   ]
  },
  {
   "cell_type": "code",
   "execution_count": null,
   "metadata": {
    "collapsed": false
   },
   "outputs": [],
   "source": [
    "numbers = Reverse(a)\n",
    "\n",
    "for n in numbers:\n",
    "    print n"
   ]
  },
  {
   "cell_type": "code",
   "execution_count": null,
   "metadata": {
    "collapsed": false
   },
   "outputs": [],
   "source": [
    "for n in iter(a):\n",
    "    print n"
   ]
  },
  {
   "cell_type": "markdown",
   "metadata": {},
   "source": [
    "## Nested functions and nested scopes"
   ]
  },
  {
   "cell_type": "code",
   "execution_count": null,
   "metadata": {
    "collapsed": true
   },
   "outputs": [],
   "source": []
  },
  {
   "cell_type": "code",
   "execution_count": null,
   "metadata": {
    "collapsed": true
   },
   "outputs": [],
   "source": []
  },
  {
   "cell_type": "code",
   "execution_count": null,
   "metadata": {
    "collapsed": true
   },
   "outputs": [],
   "source": []
  },
  {
   "cell_type": "code",
   "execution_count": null,
   "metadata": {
    "collapsed": true
   },
   "outputs": [],
   "source": []
  },
  {
   "cell_type": "code",
   "execution_count": null,
   "metadata": {
    "collapsed": true
   },
   "outputs": [],
   "source": []
  },
  {
   "cell_type": "code",
   "execution_count": null,
   "metadata": {
    "collapsed": true
   },
   "outputs": [],
   "source": []
  },
  {
   "cell_type": "code",
   "execution_count": null,
   "metadata": {
    "collapsed": true
   },
   "outputs": [],
   "source": []
  },
  {
   "cell_type": "code",
   "execution_count": null,
   "metadata": {
    "collapsed": true
   },
   "outputs": [],
   "source": []
  },
  {
   "cell_type": "code",
   "execution_count": null,
   "metadata": {
    "collapsed": true
   },
   "outputs": [],
   "source": []
  },
  {
   "cell_type": "markdown",
   "metadata": {},
   "source": [
    "# Kim's Play"
   ]
  },
  {
   "cell_type": "code",
   "execution_count": null,
   "metadata": {
    "collapsed": false
   },
   "outputs": [],
   "source": [
    "class Model(object):\n",
    "    # statements\n",
    "    #name = 'grbm'\n",
    "    #pars = ['alpha','beta','tem','norm']\n",
    "    \n",
    "    \n",
    "    def grbm(self, name='name', parNames = [], default=[]):\n",
    "        name = 'grbm'\n",
    "        parNames = ['alpha', 'beta', 'tem', 'norm']\n",
    "        default = [-1.0, -2.5, 300, 1]\n",
    "        \n",
    "        \n",
    "        #self.name = 'grbm'\n",
    "        #self.parNames = ['alpha', 'beta', 'tem', 'norm']\n",
    "        #self.default = [-1.0, -2.5, 300, 1]\n",
    "        #params = {\"alpha\":-1.235, \"beta\":-2.534, \"tem\": 555.2, \"norm\": 0.01}\n",
    "\n",
    "        \n",
    "    \n",
    "    def alpha(self, value):\n",
    "        self.value = -1.25\n",
    "        return self.value\n",
    "    \n",
    "    \n",
    "    \n",
    "    \n",
    "    # functions\n",
    "    def __get__(self, value):\n",
    "        self.value = -1.2\n",
    "        return value\n",
    "    \n",
    "m1 = Model()"
   ]
  },
  {
   "cell_type": "code",
   "execution_count": null,
   "metadata": {
    "collapsed": true
   },
   "outputs": [],
   "source": []
  },
  {
   "cell_type": "code",
   "execution_count": null,
   "metadata": {
    "collapsed": true
   },
   "outputs": [],
   "source": []
  },
  {
   "cell_type": "code",
   "execution_count": null,
   "metadata": {
    "collapsed": true
   },
   "outputs": [],
   "source": []
  },
  {
   "cell_type": "code",
   "execution_count": null,
   "metadata": {
    "collapsed": true
   },
   "outputs": [],
   "source": []
  },
  {
   "cell_type": "code",
   "execution_count": null,
   "metadata": {
    "collapsed": false
   },
   "outputs": [],
   "source": [
    "class Model(object):\n",
    "    # statements\n",
    "    name = 'grbm'\n",
    "    pars = ['alpha','beta','tem','norm']\n",
    "    \n",
    "    def alpha(self, value):\n",
    "        self.value = -1.25\n",
    "        return self.value\n",
    "    \n",
    "    \n",
    "    \n",
    "    \n",
    "    # functions\n",
    "    def __get__(self, value):\n",
    "        self.value = -1.2\n",
    "        return value\n",
    "    \n",
    "#fget = Model.__get__()"
   ]
  },
  {
   "cell_type": "code",
   "execution_count": null,
   "metadata": {
    "collapsed": false
   },
   "outputs": [],
   "source": []
  },
  {
   "cell_type": "code",
   "execution_count": null,
   "metadata": {
    "collapsed": false
   },
   "outputs": [],
   "source": [
    "m1.alpha('value')"
   ]
  },
  {
   "cell_type": "code",
   "execution_count": null,
   "metadata": {
    "collapsed": false
   },
   "outputs": [],
   "source": [
    "Model.pars"
   ]
  },
  {
   "cell_type": "code",
   "execution_count": null,
   "metadata": {
    "collapsed": false
   },
   "outputs": [],
   "source": [
    "Model.__get__()"
   ]
  },
  {
   "cell_type": "code",
   "execution_count": null,
   "metadata": {
    "collapsed": true
   },
   "outputs": [],
   "source": []
  },
  {
   "cell_type": "code",
   "execution_count": null,
   "metadata": {
    "collapsed": true
   },
   "outputs": [],
   "source": []
  },
  {
   "cell_type": "code",
   "execution_count": null,
   "metadata": {
    "collapsed": true
   },
   "outputs": [],
   "source": [
    "class MyClass(object):\n",
    "    class_var = 1\n",
    "    one = 1\n",
    "    two = 2\n",
    "    three = 3\n",
    "    four = 4\n",
    "    \n",
    "    def alpha(self, alpha_var):\n",
    "        self.alpha_var = alpha_var\n",
    "\n",
    "    def __init__(self, i_var):\n",
    "        self.i_var = i_var\n"
   ]
  },
  {
   "cell_type": "code",
   "execution_count": null,
   "metadata": {
    "collapsed": false
   },
   "outputs": [],
   "source": [
    "MyClass.__get__(object)"
   ]
  },
  {
   "cell_type": "code",
   "execution_count": null,
   "metadata": {
    "collapsed": false
   },
   "outputs": [],
   "source": [
    "MyClass.__init__"
   ]
  },
  {
   "cell_type": "code",
   "execution_count": null,
   "metadata": {
    "collapsed": false
   },
   "outputs": [],
   "source": [
    "MyClass.class_var"
   ]
  },
  {
   "cell_type": "code",
   "execution_count": null,
   "metadata": {
    "collapsed": false
   },
   "outputs": [],
   "source": [
    "MyClass.four"
   ]
  },
  {
   "cell_type": "code",
   "execution_count": null,
   "metadata": {
    "collapsed": true
   },
   "outputs": [],
   "source": []
  },
  {
   "cell_type": "code",
   "execution_count": null,
   "metadata": {
    "collapsed": true
   },
   "outputs": [],
   "source": []
  },
  {
   "cell_type": "code",
   "execution_count": null,
   "metadata": {
    "collapsed": true
   },
   "outputs": [],
   "source": []
  },
  {
   "cell_type": "code",
   "execution_count": null,
   "metadata": {
    "collapsed": true
   },
   "outputs": [],
   "source": []
  },
  {
   "cell_type": "code",
   "execution_count": null,
   "metadata": {
    "collapsed": true
   },
   "outputs": [],
   "source": []
  },
  {
   "cell_type": "code",
   "execution_count": null,
   "metadata": {
    "collapsed": true
   },
   "outputs": [],
   "source": []
  },
  {
   "cell_type": "code",
   "execution_count": null,
   "metadata": {
    "collapsed": true
   },
   "outputs": [],
   "source": []
  },
  {
   "cell_type": "code",
   "execution_count": null,
   "metadata": {
    "collapsed": true
   },
   "outputs": [],
   "source": []
  },
  {
   "cell_type": "code",
   "execution_count": null,
   "metadata": {
    "collapsed": false
   },
   "outputs": [],
   "source": [
    "class Model(object):\n",
    "#     alpha = -1.2\n",
    "#     beta = -2.5\n",
    "#     tem = 322.5\n",
    "#     norm = 1.0E-2\n",
    "\n",
    "    def alpha(self, alpha_v):\n",
    "        def name(self):\n",
    "            return 'alpha'\n",
    "        return\n",
    "        \n",
    "        \n",
    "    \n",
    "    def __get__(self, alpha, beta, tem, norm):\n",
    "        self.alpha = alpha\n",
    "        self.beta = beta\n",
    "        self.tem = tem\n",
    "        self.norm = norm\n",
    "\n",
    "Model.__dict__['alpha']\n",
    "    \n",
    "    #grbm.alpha.values = [-1.02976, -0.0102976, -10.0, -3.0, 2.0, 5.0]\n",
    "    #grbm.beta.values = [-2.20137, -0.022013699999999997, -10.0, -5.0, 2.0, 10.0]\n",
    "    #grbm = {1:'alpha', 2:'beta', 3:'tem', 4:'norm'}\n",
    "    "
   ]
  },
  {
   "cell_type": "code",
   "execution_count": null,
   "metadata": {
    "collapsed": false
   },
   "outputs": [],
   "source": [
    "Model.alpha('name')"
   ]
  },
  {
   "cell_type": "code",
   "execution_count": null,
   "metadata": {
    "collapsed": false
   },
   "outputs": [],
   "source": [
    "class Model(object):\n",
    "    def showList(self):\n",
    "        '''\n",
    "         Additive Models: \n",
    "      agauss        apec       bapec       bbody    bbodyrad      bexrav\n",
    "      bexriv     bkn2pow    bknpower         bmc      bremss      bvapec\n",
    "     bvvapec      c6mekl     c6pmekl     c6pvmkl     c6vmekl      cemekl\n",
    "      cevmkl       cflow      compLS      compPS      compST      compTT\n",
    "      compbb     compmag      comptb      compth    cplinear    cutoffpl\n",
    "        disk      diskbb      diskir    diskline       diskm       disko\n",
    "     diskpbb      diskpn    eplogpar      eqpair     eqtherm       equil\n",
    "      expdec    ezdiskbb       gadem    gaussian        gnei        grad\n",
    "        grbm      kerrbb       kerrd    kerrdisk        laor       laor2\n",
    "      logpar     lorentz        meka       mekal     mkcflow         nei\n",
    "      nlapec     npshock         nsa     nsagrav     nsatmos       nsmax\n",
    "      nsmaxg         nsx       nteea     nthComp     optxagn    optxagnf\n",
    "    pegpwrlw      pexmon      pexrav      pexriv      plcabs        posm\n",
    "    powerlaw      pshock     raymond       redge      refsch        rnei\n",
    "       sedov        sirf       smaug       srcut       sresc        step\n",
    "       vapec     vbremss      vequil      vgadem       vgnei     vmcflow\n",
    "       vmeka      vmekal        vnei    vnpshock     vpshock    vraymond\n",
    "       vrnei      vsedov      vvapec      vvgnei       vvnei   vvnpshock\n",
    "    vvpshock      vvrnei     vvsedov     zagauss      zbbody     zbremss\n",
    "      zgauss    zpowerlw\n",
    "\n",
    " Multiplicative Models: \n",
    "     SSS_ice       TBabs     TBgrain    TBvarabs      absori     acisabs\n",
    "        cabs    constant     cyclabs        dust        edge      expabs\n",
    "      expfac        gabs      heilin    highecut       hrefl       lyman\n",
    "       notch      pcfabs       phabs       plabs        pwab      recorn\n",
    "      redden      smedge    spexpcut      spline      swind1       uvred\n",
    "      varabs      vphabs        wabs      wndabs        xion      zTBabs\n",
    "       zbabs       zdust       zedge    zhighect        zigm     zpcfabs\n",
    "      zphabs     zredden     zsmdust     zvarabs     zvfeabs     zvphabs\n",
    "       zwabs     zwndabs      zxipcf\n",
    "\n",
    " Convolution Models: \n",
    "       cflux      cpflux     gsmooth    ireflect      kdblur     kdblur2\n",
    "    kerrconv     lsmooth     partcov      rdblur     reflect     rgsxsrc\n",
    "       simpl     zashift     zmshift\n",
    "\n",
    " Mixing Models: \n",
    "       ascac      projct      suzpsf      xmmpsf\n",
    "\n",
    " Pile-up Models: \n",
    "      pileup\n",
    "\n",
    " Additional models are available at :\n",
    "\t legacy.gsfc.nasa.gov/docs/xanadu/xspec/newmodels.html\n",
    "        '''\n",
    "    def __get__(self, value):\n",
    "        self.value = -1.25\n",
    "        return self.value\n",
    "    def __set__(self, value):\n",
    "        self.value = value\n",
    "        return\n",
    "    def __delete__(self, value):\n",
    "        del self.value\n",
    "        return\n",
    "    \n",
    "\n",
    "#Model.__dict__['showList']\n",
    "#Model.__setattr__['showList']\n",
    "Model.__init__['showList']"
   ]
  },
  {
   "cell_type": "code",
   "execution_count": null,
   "metadata": {
    "collapsed": false
   },
   "outputs": [],
   "source": [
    "Model.__init__['showList']"
   ]
  },
  {
   "cell_type": "markdown",
   "metadata": {},
   "source": [
    "Define any of these methods and an object is considered a descriptor and can override default behavior upon being looked up as an attribute."
   ]
  },
  {
   "cell_type": "raw",
   "metadata": {},
   "source": [
    "descr.__get__(self, obj, type=None) --> value\n",
    "descr.__set(self, obj) --> None\n",
    "descr.__delete__(self, obj) --> None"
   ]
  },
  {
   "cell_type": "code",
   "execution_count": null,
   "metadata": {
    "collapsed": false
   },
   "outputs": [],
   "source": [
    "Model.__get__(self, alpha, type=None) "
   ]
  },
  {
   "cell_type": "code",
   "execution_count": null,
   "metadata": {
    "collapsed": true
   },
   "outputs": [],
   "source": []
  },
  {
   "cell_type": "code",
   "execution_count": null,
   "metadata": {
    "collapsed": true
   },
   "outputs": [],
   "source": []
  },
  {
   "cell_type": "code",
   "execution_count": null,
   "metadata": {
    "collapsed": true
   },
   "outputs": [],
   "source": []
  },
  {
   "cell_type": "code",
   "execution_count": null,
   "metadata": {
    "collapsed": true
   },
   "outputs": [],
   "source": []
  },
  {
   "cell_type": "code",
   "execution_count": null,
   "metadata": {
    "collapsed": true
   },
   "outputs": [],
   "source": []
  },
  {
   "cell_type": "code",
   "execution_count": null,
   "metadata": {
    "collapsed": true
   },
   "outputs": [],
   "source": [
    "class Model(object):\n",
    "\n",
    "    def __get__(self, alpha):\n",
    "        alpha = -1.25\n",
    "        return alpha\n",
    "\n",
    "    def alpha(self, alpha_v):\n",
    "        def name(self):\n",
    "            return 'alpha'\n",
    "        return\n",
    "        \n",
    "        \n",
    "    \n",
    "    def __get__(self, alpha, beta, tem, norm):\n",
    "        self.alpha = alpha\n",
    "        self.beta = beta\n",
    "        self.tem = tem\n",
    "        self.norm = norm\n",
    "\n",
    "Model.__dict__['alpha']"
   ]
  }
 ],
 "metadata": {
  "kernelspec": {
   "display_name": "Python 2",
   "language": "python",
   "name": "python2"
  },
  "language_info": {
   "codemirror_mode": {
    "name": "ipython",
    "version": 2
   },
   "file_extension": ".py",
   "mimetype": "text/x-python",
   "name": "python",
   "nbconvert_exporter": "python",
   "pygments_lexer": "ipython2",
   "version": "2.7.11"
  }
 },
 "nbformat": 4,
 "nbformat_minor": 0
}
