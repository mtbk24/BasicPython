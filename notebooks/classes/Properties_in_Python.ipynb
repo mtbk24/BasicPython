{
 "cells": [
  {
   "cell_type": "markdown",
   "metadata": {},
   "source": [
    "# Properties in Python"
   ]
  },
  {
   "cell_type": "markdown",
   "metadata": {},
   "source": [
    "---"
   ]
  },
  {
   "cell_type": "markdown",
   "metadata": {},
   "source": [
    "# Example 1"
   ]
  },
  {
   "cell_type": "markdown",
   "metadata": {},
   "source": [
    "This is the most common and most basic example of properties.  The properties of a variable x.\n",
    "\n",
    "Properties are most commonly used to represent getters, setters, and deleters.  Anytime a set of functions are listed with\n",
    "\n",
    "        get_x, set_x, and delete_x, \n",
    "        \n",
    "properties can be used to simplify the code. "
   ]
  },
  {
   "cell_type": "code",
   "execution_count": 1,
   "metadata": {
    "collapsed": true
   },
   "outputs": [],
   "source": [
    "class PropsOfX(object):\n",
    "\n",
    "    def __init__(self, x=None): # default for x is None.\n",
    "        self._x = x \n",
    "    \n",
    "    def get_x(self):\n",
    "        return self._x  \n",
    "    \n",
    "    def set_x(self, x):\n",
    "        self._x = x\n",
    "    \n",
    "    def del_x(self):\n",
    "        del self._x\n",
    "        \n",
    "    x = property(get_x, set_x, del_x, doc=\"Properties of 'x'.\")\n",
    "   "
   ]
  },
  {
   "cell_type": "markdown",
   "metadata": {},
   "source": [
    "We set x equal to all three properties of x."
   ]
  },
  {
   "cell_type": "markdown",
   "metadata": {},
   "source": [
    "The problem with this example is that the PropsOfX class has too may attributes with different names and it can be overwhelming trying to keep them straight.\n",
    "\n",
    "Possible getters are:\n",
    "\n",
    "        test.x\n",
    "        test.get_x()\n",
    "        PropsOfX.x.fget(test)\n",
    "        PropsOfX.get_x(test)\n",
    "\n",
    "Possible setters are:\n",
    "\n",
    "        test.x = 3\n",
    "        test.set_x(3)\n",
    "        PropsOfX.x.fset(test, 3)\n",
    "        PropsOfX.set_x(test, 300)\n",
    "        \n",
    "Possible deleters are:\n",
    "\n",
    "        test.del_x()\n",
    "        PropsOfX.del_x(test)\n",
    "        PropsOfX.x.fdel(test)       # will delete the test.x not test\n",
    "         *** or the traditional: del test.x\n",
    "        \n",
    "\n",
    "Try them all out for yourself.\n",
    "Set the instance **test** to the class **PropsOfX** and try each one of these out."
   ]
  },
  {
   "cell_type": "code",
   "execution_count": 2,
   "metadata": {
    "collapsed": true
   },
   "outputs": [],
   "source": [
    "test = PropsOfX(2)"
   ]
  },
  {
   "cell_type": "code",
   "execution_count": 3,
   "metadata": {
    "collapsed": false
   },
   "outputs": [
    {
     "data": {
      "text/plain": [
       "(2, 2, 2, 2)"
      ]
     },
     "execution_count": 3,
     "metadata": {},
     "output_type": "execute_result"
    }
   ],
   "source": [
    "test.x, \\\n",
    "test.get_x(), \\\n",
    "PropsOfX.x.fget(test), \\\n",
    "PropsOfX.get_x(test)"
   ]
  },
  {
   "cell_type": "code",
   "execution_count": 4,
   "metadata": {
    "collapsed": false
   },
   "outputs": [
    {
     "data": {
      "text/plain": [
       "3"
      ]
     },
     "execution_count": 4,
     "metadata": {},
     "output_type": "execute_result"
    }
   ],
   "source": [
    "test.x = 3\n",
    "test.x "
   ]
  },
  {
   "cell_type": "code",
   "execution_count": 5,
   "metadata": {
    "collapsed": false
   },
   "outputs": [
    {
     "data": {
      "text/plain": [
       "22"
      ]
     },
     "execution_count": 5,
     "metadata": {},
     "output_type": "execute_result"
    }
   ],
   "source": [
    "test.set_x(22)\n",
    "test.x "
   ]
  },
  {
   "cell_type": "code",
   "execution_count": 6,
   "metadata": {
    "collapsed": false
   },
   "outputs": [
    {
     "data": {
      "text/plain": [
       "24"
      ]
     },
     "execution_count": 6,
     "metadata": {},
     "output_type": "execute_result"
    }
   ],
   "source": [
    "PropsOfX.x.fset(test, 24)\n",
    "test.x "
   ]
  },
  {
   "cell_type": "code",
   "execution_count": 7,
   "metadata": {
    "collapsed": false
   },
   "outputs": [
    {
     "data": {
      "text/plain": [
       "300"
      ]
     },
     "execution_count": 7,
     "metadata": {},
     "output_type": "execute_result"
    }
   ],
   "source": [
    "PropsOfX.set_x(test, 300)\n",
    "test.x"
   ]
  },
  {
   "cell_type": "markdown",
   "metadata": {},
   "source": [
    "#### *** NOTE:  *** I'd like to point out that PropsOfX would not be a callable without using the property feature.  "
   ]
  },
  {
   "cell_type": "markdown",
   "metadata": {},
   "source": [
    "class C(object):\n",
    "    \n",
    "    def __init__(self, x=11):\n",
    "        self.x = x\n",
    "        \n",
    "    def get_x(self):\n",
    "        return self.x"
   ]
  },
  {
   "cell_type": "markdown",
   "metadata": {},
   "source": [
    "##### Try both of the following, they won't work!  You'll get an error!  Using properties makes them accessable without having to set them to an instance."
   ]
  },
  {
   "cell_type": "markdown",
   "metadata": {},
   "source": [
    "C.x"
   ]
  },
  {
   "cell_type": "markdown",
   "metadata": {},
   "source": [
    "C.get_x()"
   ]
  },
  {
   "cell_type": "markdown",
   "metadata": {},
   "source": [
    "#### Back to the example ..."
   ]
  },
  {
   "cell_type": "markdown",
   "metadata": {},
   "source": [
    "### We don't need so many getters, setters, and deleters!\n",
    "Let's make it simpler, which will be easier to remember."
   ]
  },
  {
   "cell_type": "markdown",
   "metadata": {},
   "source": [
    "Let's FIRST try hiding the getters, setters, and deleters by using an underscore before their names.  This makes them \"hidden\" attributs.  So when you use test. and then hit the tab button, the get_x, set_x, and del_x will no longer be options."
   ]
  },
  {
   "cell_type": "markdown",
   "metadata": {},
   "source": [
    "Althought, I'd like to point out that nothing in Python can be truly *hidden*.  Try test.\\_ then hit tab.  You'll see that all 3 options are still technically available."
   ]
  },
  {
   "cell_type": "code",
   "execution_count": 8,
   "metadata": {
    "collapsed": true
   },
   "outputs": [],
   "source": [
    "class PropsOfX(object):\n",
    "\n",
    "    def __init__(self, x=None): # default for x is None.\n",
    "        self._x = x \n",
    "    \n",
    "    def _get_x(self):\n",
    "        return self._x  \n",
    "    \n",
    "    def _set_x(self, x):\n",
    "        self._x = x\n",
    "    \n",
    "    def _del_x(self):\n",
    "        del self._x\n",
    "        \n",
    "    x = property(_get_x, _set_x, _del_x, doc=\"Properties of 'x'.\")"
   ]
  },
  {
   "cell_type": "code",
   "execution_count": 9,
   "metadata": {
    "collapsed": true
   },
   "outputs": [],
   "source": [
    "test = PropsOfX(6)"
   ]
  },
  {
   "cell_type": "markdown",
   "metadata": {},
   "source": [
    "\n",
    "Now the possible getters **that are visible** are:\n",
    "\n",
    "        test.x\n",
    "        PropsOfX.x.fget(test)\n",
    "\n",
    "Possible setters **that are visible** are:\n",
    "\n",
    "        test.x = 3\n",
    "        PropsOfX.x.fset(test, 3)\n",
    "        \n",
    "Possible deleters **that are visible** are:\n",
    "\n",
    "        PropsOfX.x.fdel(test)    # will delete the test.x not test\n",
    "         *** or the traditional: del test.x"
   ]
  },
  {
   "cell_type": "code",
   "execution_count": 10,
   "metadata": {
    "collapsed": false
   },
   "outputs": [
    {
     "data": {
      "text/plain": [
       "(6, 6)"
      ]
     },
     "execution_count": 10,
     "metadata": {},
     "output_type": "execute_result"
    }
   ],
   "source": [
    "test.x, \\\n",
    "PropsOfX.x.fget(test)"
   ]
  },
  {
   "cell_type": "code",
   "execution_count": 11,
   "metadata": {
    "collapsed": false
   },
   "outputs": [],
   "source": [
    "PropsOfX.x.fset(test, 222)"
   ]
  },
  {
   "cell_type": "code",
   "execution_count": 12,
   "metadata": {
    "collapsed": false
   },
   "outputs": [
    {
     "data": {
      "text/plain": [
       "222"
      ]
     },
     "execution_count": 12,
     "metadata": {},
     "output_type": "execute_result"
    }
   ],
   "source": [
    "test.x"
   ]
  },
  {
   "cell_type": "code",
   "execution_count": 13,
   "metadata": {
    "collapsed": false
   },
   "outputs": [],
   "source": [
    "PropsOfX.x.fdel(test)"
   ]
  },
  {
   "cell_type": "code",
   "execution_count": 14,
   "metadata": {
    "collapsed": false
   },
   "outputs": [],
   "source": [
    "PropsOfX.x.fset(test, 111)"
   ]
  },
  {
   "cell_type": "code",
   "execution_count": 15,
   "metadata": {
    "collapsed": false
   },
   "outputs": [
    {
     "data": {
      "text/plain": [
       "111"
      ]
     },
     "execution_count": 15,
     "metadata": {},
     "output_type": "execute_result"
    }
   ],
   "source": [
    "test.x"
   ]
  },
  {
   "cell_type": "markdown",
   "metadata": {},
   "source": [
    "### Remember:  \n",
    "#### test._get_x and test._set_x are still there and usable, but you don't need them!!!!"
   ]
  },
  {
   "cell_type": "markdown",
   "metadata": {},
   "source": [
    "### Now, let's take the next step and remove the _get_x, _set_x, and _del_x and reduce them all to just x itself.\n",
    "    \n",
    "#### We do this by using the property decorator:\n",
    "### @property\n",
    "\n",
    "In the above examples, we HAD to name each of the get, set, and delete functions differently before compiling them all into one property we called x.  \n",
    "Recall,\n",
    "\n",
    "    x = property(_get_x, _set_x, _del_x, doc=\"Properties of 'x'.\")\n",
    "\n",
    "at the end of the three functions.\n",
    "\n",
    "\n",
    "Now that we are moving on and using the decorators:  @property, @x.setter, and @x.deleter, we can name all three functions the same.  This is because their decorators identify them and make them distinguisable from eachother.\n",
    "\n",
    "    @property should always be above the getter function.  This identifies the variable.\n",
    "\n",
    "    @x.setter is always above the setter.  If your variable is y, you would use @y.setter.  If the variable was name, you'd use @name.setter\n",
    "\n",
    "    @x.deleter is always above the deleter.  Same as the setter.  @y.deleter or @name.deleter.  Whatever the variable is.\n",
    "\n"
   ]
  },
  {
   "cell_type": "code",
   "execution_count": 16,
   "metadata": {
    "collapsed": true
   },
   "outputs": [],
   "source": [
    "class PropsOfX(object):\n",
    "\n",
    "    def __init__(self, x=None): # default for x is None.\n",
    "        self._x = x \n",
    "    \n",
    "    @property\n",
    "    def x(self):     # get_x\n",
    "        return self._x \n",
    "    \n",
    "    @x.setter\n",
    "    def x(self, x):  # set_x\n",
    "        self._x = x\n",
    "    \n",
    "    @x.deleter\n",
    "    def x(self):\n",
    "        del self._x\n",
    "   "
   ]
  },
  {
   "cell_type": "code",
   "execution_count": 17,
   "metadata": {
    "collapsed": true
   },
   "outputs": [],
   "source": [
    "test = PropsOfX(72)"
   ]
  },
  {
   "cell_type": "code",
   "execution_count": 18,
   "metadata": {
    "collapsed": false
   },
   "outputs": [
    {
     "data": {
      "text/plain": [
       "72"
      ]
     },
     "execution_count": 18,
     "metadata": {},
     "output_type": "execute_result"
    }
   ],
   "source": [
    "test.x"
   ]
  },
  {
   "cell_type": "code",
   "execution_count": 19,
   "metadata": {
    "collapsed": true
   },
   "outputs": [],
   "source": [
    "test.x = 66"
   ]
  },
  {
   "cell_type": "code",
   "execution_count": 20,
   "metadata": {
    "collapsed": false
   },
   "outputs": [
    {
     "data": {
      "text/plain": [
       "66"
      ]
     },
     "execution_count": 20,
     "metadata": {},
     "output_type": "execute_result"
    }
   ],
   "source": [
    "test.x"
   ]
  },
  {
   "cell_type": "code",
   "execution_count": 21,
   "metadata": {
    "collapsed": false
   },
   "outputs": [
    {
     "data": {
      "text/plain": [
       "66"
      ]
     },
     "execution_count": 21,
     "metadata": {},
     "output_type": "execute_result"
    }
   ],
   "source": [
    "PropsOfX.x.fget(test)"
   ]
  },
  {
   "cell_type": "code",
   "execution_count": 22,
   "metadata": {
    "collapsed": true
   },
   "outputs": [],
   "source": [
    "PropsOfX.x.fset(test, 0)"
   ]
  },
  {
   "cell_type": "code",
   "execution_count": 23,
   "metadata": {
    "collapsed": false
   },
   "outputs": [
    {
     "data": {
      "text/plain": [
       "0"
      ]
     },
     "execution_count": 23,
     "metadata": {},
     "output_type": "execute_result"
    }
   ],
   "source": [
    "test.x"
   ]
  },
  {
   "cell_type": "code",
   "execution_count": 24,
   "metadata": {
    "collapsed": true
   },
   "outputs": [],
   "source": [
    "PropsOfX.x.fdel(test)"
   ]
  },
  {
   "cell_type": "raw",
   "metadata": {},
   "source": [
    "test.x # no longer exists, but test does.  It can be reset using test.x = 0"
   ]
  },
  {
   "cell_type": "markdown",
   "metadata": {},
   "source": [
    "### This method significantly simplifies the usage of the class as well as its construction."
   ]
  },
  {
   "cell_type": "markdown",
   "metadata": {},
   "source": [
    "  ---"
   ]
  },
  {
   "cell_type": "markdown",
   "metadata": {},
   "source": [
    "  "
   ]
  },
  {
   "cell_type": "markdown",
   "metadata": {},
   "source": [
    "# Example 2"
   ]
  },
  {
   "cell_type": "markdown",
   "metadata": {},
   "source": [
    "Following an example I found online and thought it didn't work. But it was also the example that led me to finally understand how the property decorators worked.  This example an be found at the following website:\n",
    "###  http://stackabuse.com/python-properties/"
   ]
  },
  {
   "cell_type": "code",
   "execution_count": 25,
   "metadata": {
    "collapsed": true
   },
   "outputs": [],
   "source": [
    "class Person(object):  \n",
    "    def __init__(self, first_name, last_name):\n",
    "        self.first_name = first_name\n",
    "        self.last_name = last_name\n",
    "        \n",
    "    # this one is the getter, so we don't need to define a getter.\n",
    "    @property\n",
    "    def full_name(self):\n",
    "        return self.first_name + ' ' + self.last_name\n",
    "\n",
    "    @full_name.setter\n",
    "    def full_name(self, value):\n",
    "        first_name, last_name = value.split(' ')\n",
    "        self.first_name = first_name\n",
    "        self.last_name = last_name\n",
    "\n",
    "    @full_name.deleter\n",
    "    def full_name(self):\n",
    "        del self.first_name\n",
    "        del self.last_name\n",
    "\n",
    "# client is the instance of Person.\n",
    "client = Person('Kim', 'Zoldak')\n"
   ]
  },
  {
   "cell_type": "code",
   "execution_count": 26,
   "metadata": {
    "collapsed": false
   },
   "outputs": [
    {
     "data": {
      "text/plain": [
       "'Kim Zoldak'"
      ]
     },
     "execution_count": 26,
     "metadata": {},
     "output_type": "execute_result"
    }
   ],
   "source": [
    "client.full_name"
   ]
  },
  {
   "cell_type": "code",
   "execution_count": 27,
   "metadata": {
    "collapsed": false
   },
   "outputs": [
    {
     "data": {
      "text/plain": [
       "'Kim'"
      ]
     },
     "execution_count": 27,
     "metadata": {},
     "output_type": "execute_result"
    }
   ],
   "source": [
    "client.first_name"
   ]
  },
  {
   "cell_type": "code",
   "execution_count": 28,
   "metadata": {
    "collapsed": false
   },
   "outputs": [
    {
     "data": {
      "text/plain": [
       "'Zoldak'"
      ]
     },
     "execution_count": 28,
     "metadata": {},
     "output_type": "execute_result"
    }
   ],
   "source": [
    "client.last_name"
   ]
  },
  {
   "cell_type": "code",
   "execution_count": 29,
   "metadata": {
    "collapsed": false
   },
   "outputs": [
    {
     "data": {
      "text/plain": [
       "'Kim Zoldak'"
      ]
     },
     "execution_count": 29,
     "metadata": {},
     "output_type": "execute_result"
    }
   ],
   "source": [
    "Person.full_name.fget(client)"
   ]
  },
  {
   "cell_type": "code",
   "execution_count": 30,
   "metadata": {
    "collapsed": true
   },
   "outputs": [],
   "source": [
    "Person.full_name.fset(client, 'Jane Doe')"
   ]
  },
  {
   "cell_type": "code",
   "execution_count": 31,
   "metadata": {
    "collapsed": false
   },
   "outputs": [
    {
     "data": {
      "text/plain": [
       "'Jane Doe'"
      ]
     },
     "execution_count": 31,
     "metadata": {},
     "output_type": "execute_result"
    }
   ],
   "source": [
    "Person.full_name.fget(client)"
   ]
  },
  {
   "cell_type": "code",
   "execution_count": 32,
   "metadata": {
    "collapsed": false
   },
   "outputs": [
    {
     "data": {
      "text/plain": [
       "'Jane Doe'"
      ]
     },
     "execution_count": 32,
     "metadata": {},
     "output_type": "execute_result"
    }
   ],
   "source": [
    "client.full_name"
   ]
  },
  {
   "cell_type": "code",
   "execution_count": 33,
   "metadata": {
    "collapsed": false
   },
   "outputs": [
    {
     "data": {
      "text/plain": [
       "'Jane'"
      ]
     },
     "execution_count": 33,
     "metadata": {},
     "output_type": "execute_result"
    }
   ],
   "source": [
    "client.first_name"
   ]
  },
  {
   "cell_type": "code",
   "execution_count": 34,
   "metadata": {
    "collapsed": false
   },
   "outputs": [
    {
     "data": {
      "text/plain": [
       "'Doe'"
      ]
     },
     "execution_count": 34,
     "metadata": {},
     "output_type": "execute_result"
    }
   ],
   "source": [
    "client.last_name"
   ]
  },
  {
   "cell_type": "markdown",
   "metadata": {},
   "source": [
    "---"
   ]
  },
  {
   "cell_type": "markdown",
   "metadata": {},
   "source": [
    "  "
   ]
  },
  {
   "cell_type": "markdown",
   "metadata": {},
   "source": [
    "# Example 3:"
   ]
  },
  {
   "cell_type": "markdown",
   "metadata": {},
   "source": [
    "### Temperature is updated after each calculation.  You can just comment those out if you don't want the temperature to change."
   ]
  },
  {
   "cell_type": "code",
   "execution_count": 35,
   "metadata": {
    "collapsed": false
   },
   "outputs": [],
   "source": [
    "class TemperatureConversion(object):\n",
    "    '''\n",
    "    If you want to go from celsius to fahrenheit, \n",
    "    enter the celsius number for temperature.\n",
    "    \n",
    "    If you want to go from fahrenheit to celsius, \n",
    "    enter the fahrenheit number for temperature.\n",
    "    \n",
    "    temperature: float, temperature in celsius or fahrenheit.\n",
    "    '''\n",
    "    def __init__(self, temperature = None):\n",
    "        self._temperature = temperature\n",
    "\n",
    "    @property\n",
    "    def Temp(self):   # get_temperature\n",
    "        return self._temperature\n",
    "    \n",
    "    @Temp.setter     # set_temperature\n",
    "    def Temp(self, value):\n",
    "        '''\n",
    "        Temperatures below -273 C are not realistic temperatures.\n",
    "        '''\n",
    "        self._temperature = value\n",
    "        return self._temperature\n",
    "\n",
    "    def celsius_to_fahrenheit(self):\n",
    "        # 9./5. is 1.8\n",
    "        value = (self._temperature * 1.8) + 32.\n",
    "        print(\"%f in C = %f in F\"%(self._temperature, value))\n",
    "        print(\"Updating your temperature to F ...\")\n",
    "        self._temperature = value    # update temperature\n",
    "        return self._temperature\n",
    "    \n",
    "    def fahrenheit_to_celsius(self):\n",
    "        # 5./9. is 0.5555555555555556\n",
    "        value = ((self._temperature - 32.) * (5./9.)) \n",
    "        print(\"%f in F = %f in C\"%(self._temperature, value))\n",
    "        print(\"Updating your temperature to C ...\")\n",
    "        self._temperature = value    # update temperature\n",
    "        return self._temperature\n"
   ]
  },
  {
   "cell_type": "code",
   "execution_count": 36,
   "metadata": {
    "collapsed": false
   },
   "outputs": [],
   "source": [
    "temp = TemperatureConversion(32)"
   ]
  },
  {
   "cell_type": "code",
   "execution_count": 37,
   "metadata": {
    "collapsed": false
   },
   "outputs": [
    {
     "data": {
      "text/plain": [
       "32"
      ]
     },
     "execution_count": 37,
     "metadata": {},
     "output_type": "execute_result"
    }
   ],
   "source": [
    "temp.Temp"
   ]
  },
  {
   "cell_type": "code",
   "execution_count": 38,
   "metadata": {
    "collapsed": false
   },
   "outputs": [
    {
     "name": "stdout",
     "output_type": "stream",
     "text": [
      "32.000000 in F = 0.000000 in C\n",
      "Updating your temperature to C ...\n"
     ]
    },
    {
     "data": {
      "text/plain": [
       "0.0"
      ]
     },
     "execution_count": 38,
     "metadata": {},
     "output_type": "execute_result"
    }
   ],
   "source": [
    "temp.fahrenheit_to_celsius()"
   ]
  },
  {
   "cell_type": "code",
   "execution_count": 39,
   "metadata": {
    "collapsed": false
   },
   "outputs": [
    {
     "name": "stdout",
     "output_type": "stream",
     "text": [
      "0.000000 in C = 32.000000 in F\n",
      "Updating your temperature to F ...\n"
     ]
    },
    {
     "data": {
      "text/plain": [
       "32.0"
      ]
     },
     "execution_count": 39,
     "metadata": {},
     "output_type": "execute_result"
    }
   ],
   "source": [
    "temp.celsius_to_fahrenheit()"
   ]
  },
  {
   "cell_type": "code",
   "execution_count": 40,
   "metadata": {
    "collapsed": false
   },
   "outputs": [
    {
     "data": {
      "text/plain": [
       "32.0"
      ]
     },
     "execution_count": 40,
     "metadata": {},
     "output_type": "execute_result"
    }
   ],
   "source": [
    "temp.Temp"
   ]
  },
  {
   "cell_type": "code",
   "execution_count": 41,
   "metadata": {
    "collapsed": false
   },
   "outputs": [
    {
     "name": "stdout",
     "output_type": "stream",
     "text": [
      "32.000000 in C = 89.600000 in F\n",
      "Updating your temperature to F ...\n"
     ]
    },
    {
     "data": {
      "text/plain": [
       "89.6"
      ]
     },
     "execution_count": 41,
     "metadata": {},
     "output_type": "execute_result"
    }
   ],
   "source": [
    "temp.celsius_to_fahrenheit()"
   ]
  },
  {
   "cell_type": "code",
   "execution_count": 42,
   "metadata": {
    "collapsed": false,
    "scrolled": true
   },
   "outputs": [
    {
     "name": "stdout",
     "output_type": "stream",
     "text": [
      "89.600000 in F = 32.000000 in C\n",
      "Updating your temperature to C ...\n"
     ]
    },
    {
     "data": {
      "text/plain": [
       "32.0"
      ]
     },
     "execution_count": 42,
     "metadata": {},
     "output_type": "execute_result"
    }
   ],
   "source": [
    "temp.fahrenheit_to_celsius()"
   ]
  },
  {
   "cell_type": "code",
   "execution_count": null,
   "metadata": {
    "collapsed": true
   },
   "outputs": [],
   "source": []
  }
 ],
 "metadata": {
  "kernelspec": {
   "display_name": "Python 2",
   "language": "python",
   "name": "python2"
  },
  "language_info": {
   "codemirror_mode": {
    "name": "ipython",
    "version": 2
   },
   "file_extension": ".py",
   "mimetype": "text/x-python",
   "name": "python",
   "nbconvert_exporter": "python",
   "pygments_lexer": "ipython2",
   "version": "2.7.12"
  }
 },
 "nbformat": 4,
 "nbformat_minor": 0
}
