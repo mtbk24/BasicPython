{
 "cells": [
  {
   "cell_type": "raw",
   "metadata": {
    "collapsed": true
   },
   "source": [
    "class Component(object):\n",
    "    \"\"\"Model component class.\n",
    "    \n",
    "    Public instance attributes:\n",
    "    \n",
    "       name            -- The full name of the Component (get only).\n",
    "       \n",
    "       <parameters>    -- Component contains an attribute of type Parameter for\n",
    "                            every parameter in the component.  The attribute\n",
    "                            name is the same as the parameter name in xspec.\n",
    "                            \n",
    "       parameterNames  -- List of Component's parameter names (get only).\n",
    "    \n",
    "    \"\"\"             \n",
    "    def __init__(self, compName, parNames): #def __init__(self, compName, parNames):\n",
    "        \"\"\"Component constructor.\n",
    "        \n",
    "        Intended for creation by Model objects only.\n",
    "        \n",
    "        compName   -- The full xspec component name.  This will also\n",
    "                        be the name of the attribute in the model object\n",
    "        parNames   -- List containing component's parameter names.\n",
    "                                          \n",
    "        \"\"\"\n",
    "        self.name = compName\n",
    "        self.parNames = parNames\n",
    "\n",
    "    def __setattr__(self, attrName, value):\n",
    "        super(Component,self).__setattr__(attrName, value)\n",
    "\n",
    "\n",
    "comp = Component('grbm+lpow', ['alpha','beta','epeak','norm', 'plIdx', 'norm'])\n",
    "\n",
    "comp.name\n",
    "\n",
    "comp.__setattr__('grbm', grbm.__setattr__('values', [-1.,-2.,300.0,0.001]))\n",
    "\n",
    "\n",
    "\n",
    "\n",
    "\n",
    "comp.parNames\n",
    "\n",
    "comp.__setattr__('name', [-1.,-2.,300.0,0.001])\n",
    "\n",
    "comp.name\n",
    "\n",
    "comp.__setattr__('grbm', \"\")\n",
    "\n",
    "grbm.__setattr__('values', \"\")\n",
    "\n",
    "comp.grbm.__setattr__('values', [-1.,-2.,300.0,0.001])\n",
    "\n",
    "\n",
    "\n",
    "Component.__setattr__('grbm', ['grbm', [-1.,-2.,300.0,0.001]])\n",
    "\n",
    "class C(object):\n",
    "    def __init__(self, parName, parValues):\n",
    "        self.name = parName\n",
    "        self.values = parValues\n",
    "    \n",
    "    "
   ]
  },
  {
   "cell_type": "code",
   "execution_count": 61,
   "metadata": {
    "collapsed": false
   },
   "outputs": [],
   "source": [
    "os.chdir('Analysis/')"
   ]
  },
  {
   "cell_type": "code",
   "execution_count": 234,
   "metadata": {
    "collapsed": false
   },
   "outputs": [],
   "source": [
    "from __future__ import division, print_function\n",
    "import os, glob, re\n",
    "import numpy\n",
    "from math import log #, log10\n",
    "import json\n",
    "import pyfits\n",
    "from collections import OrderedDict\n",
    "\n",
    "from analysis import Analyzer"
   ]
  },
  {
   "cell_type": "raw",
   "metadata": {},
   "source": [
    "def defaultVals(self):\n",
    "    return [-1,-2,300.0,0.001]\n",
    "\n",
    "def modelVals(self):\n",
    "    return [-1.435, -2.455, 602.88, 0.002482]"
   ]
  },
  {
   "cell_type": "raw",
   "metadata": {},
   "source": [
    "def kim(x=None,y=None):\n",
    "    if (x and not y):\n",
    "        print(\"x and not y\")\n",
    "    elif ([x,y] and not z):\n",
    "        print(\"x, y not z\")\n",
    "    else:\n",
    "        print('x, y AND z')\n",
    "    "
   ]
  },
  {
   "cell_type": "raw",
   "metadata": {},
   "source": [
    "def my_decorator(funcA):\n",
    "    '''\n",
    "    This will take any of my functions and turn them into iterators.\n",
    "    '''\n",
    "    def wrapper(*args):\n",
    "        \n",
    "        for i,arg in enumerate(*args):\n",
    "            funcA(arg)\n",
    "            \n",
    "    return wrapper\n",
    "    "
   ]
  },
  {
   "cell_type": "raw",
   "metadata": {},
   "source": [
    "def my_decorator(funcA=None, funcB=None):\n",
    "    '''\n",
    "    This will take any of my functions and turn them into iterators.\n",
    "    '''\n",
    "    if (funcA and not funcB):\n",
    "        def wrapper(*args):\n",
    "            for i,arg in enumerate(*args):\n",
    "                funcA(arg)\n",
    "        return wrapper\n",
    "    \n",
    "    else:\n",
    "        def wrapper(*args, *bargs):\n",
    "            for i,arg in enumerate(*args):\n",
    "                pars = funcA(arg)\n",
    "                \n",
    "                \n",
    "            \n",
    "\n",
    "        \n",
    "\n",
    "    def wrapper(*args):\n",
    "\n",
    "        for i,arg in enumerate(*args):\n",
    "            answer = funcA(arg) # list of parameter names\n",
    "            funcB(*args, answer)\n",
    "            #print(answer)\n",
    "            #funcB(*args)\n",
    "            \n",
    "\n",
    "    return wrapper"
   ]
  },
  {
   "cell_type": "raw",
   "metadata": {},
   "source": [
    "def parNames(modName):\n",
    "    '''\n",
    "    Given a model name, it will return the parameter names of the model.\n",
    "    See file 'ParameterNames.json in the $PYX/Analysis/ directory.\n",
    "    '\n",
    "    '''\n",
    "    filename = \"/Users/KimiZ/GRBs2/analysis/pyxspec_programs/Analysis/ParameterNames.json\"\n",
    "    f                = open(filename, \"r\")\n",
    "    ParamDict        = json.load(open(filename, 'r'), encoding='utf-8')\n",
    "    parNames   = ParamDict[modName]\n",
    "    parNames   = [str(i) for i in parNames]\n",
    "    print(parNames)\n",
    "    return parNames\n"
   ]
  },
  {
   "cell_type": "raw",
   "metadata": {},
   "source": [
    "def getValues(burst, det, modName, version, method, paramNames):\n",
    "    print(paramNames)\n",
    "    if 'BXA' in method:\n",
    "        mType = 'bxa'\n",
    "        datIdX = 1        # location of data in fits file\n",
    "    elif 'PYX' in method:\n",
    "        mType = 'xspec'\n",
    "        datIdX = 2\n",
    "\n",
    "    analyze  = Analyzer(burst, det, modName, method=method)\n",
    "    direc    = analyze.ModelDir()\n",
    "    filename = os.path.join(direc, \"%s_fitresults_%s_%s_%s_.fit\"\n",
    "                            %(mType, modName, version, det))\n",
    "    print(filename)\n",
    "    _data = pyfits.open(filename)\n",
    "    \n",
    "    new_data = OrderedDict()\n",
    "    for n,par in enumerate(paramNames):\n",
    "        n=n+1\n",
    "        name       = \"PARAM%i\"%n\n",
    "        if ('norm' in par and 'BXA' in method):\n",
    "            Val   = 10**(_data[datIdX].data[name][0][0])  # param values\n",
    "            errL  = 10**(_data[datIdX].data[name][0][1])  # 1sigma errors Lower\n",
    "            errU  = 10**(_data[datIdX].data[name][0][2])  # 1sigma errors Upper\n",
    "        else:  \n",
    "            Val        = _data[datIdX].data[name][0][0]  # param values\n",
    "            errL       = _data[datIdX].data[name][0][1]  # 1sigma errors Lower\n",
    "            errU       = _data[datIdX].data[name][0][2]  # 1sigma errors Upper\n",
    "        new_data[par+\"__%i\"%n] = [Val, errL, errU]\n",
    "    print(new_data)\n",
    "    return new_data\n"
   ]
  },
  {
   "cell_type": "code",
   "execution_count": 292,
   "metadata": {
    "collapsed": false
   },
   "outputs": [],
   "source": [
    "pNames = my_decorator(parNames)"
   ]
  },
  {
   "cell_type": "code",
   "execution_count": 293,
   "metadata": {
    "collapsed": false
   },
   "outputs": [
    {
     "name": "stdout",
     "output_type": "stream",
     "text": [
      "['alpha', 'beta', 'tem', 'norm']\n",
      "['alpha', 'beta', 'tem', 'norm']\n"
     ]
    }
   ],
   "source": [
    "pNames(['grbm'])"
   ]
  },
  {
   "cell_type": "code",
   "execution_count": null,
   "metadata": {
    "collapsed": true
   },
   "outputs": [],
   "source": []
  },
  {
   "cell_type": "code",
   "execution_count": 275,
   "metadata": {
    "collapsed": false
   },
   "outputs": [],
   "source": [
    "mods = ['sbpl', 'grbm']\n",
    "verz = ['-01-','-01-']\n",
    "methods = ['BXA','BXA']\n",
    "burst = 'bn080916009'\n",
    "det = 'G'\n",
    "model = mods\n",
    "version = verz\n",
    "method = methods\n",
    "params =  my_decorator(parNames)"
   ]
  },
  {
   "cell_type": "code",
   "execution_count": 276,
   "metadata": {
    "collapsed": false
   },
   "outputs": [
    {
     "name": "stdout",
     "output_type": "stream",
     "text": [
      "<function wrapper at 0x105907320>\n",
      "Setting bxa_dir to: \n",
      " /Users/KimiZ/GRBs2/analysis/LAT/bn080916009/BXA/GBM/\n"
     ]
    },
    {
     "ename": "AttributeError",
     "evalue": "'list' object has no attribute 'startswith'",
     "output_type": "error",
     "traceback": [
      "\u001b[0;31m---------------------------------------------------------------------------\u001b[0m",
      "\u001b[0;31mAttributeError\u001b[0m                            Traceback (most recent call last)",
      "\u001b[0;32m<ipython-input-276-0f9ce3366834>\u001b[0m in \u001b[0;36m<module>\u001b[0;34m()\u001b[0m\n\u001b[0;32m----> 1\u001b[0;31m \u001b[0mmy_decorator\u001b[0m\u001b[0;34m(\u001b[0m\u001b[0mparNames\u001b[0m\u001b[0;34m,\u001b[0m \u001b[0mgetValues\u001b[0m\u001b[0;34m(\u001b[0m\u001b[0mburst\u001b[0m\u001b[0;34m,\u001b[0m \u001b[0mdet\u001b[0m\u001b[0;34m,\u001b[0m \u001b[0mmodel\u001b[0m\u001b[0;34m,\u001b[0m \u001b[0mversion\u001b[0m\u001b[0;34m,\u001b[0m \u001b[0mmethod\u001b[0m\u001b[0;34m,\u001b[0m \u001b[0mparams\u001b[0m\u001b[0;34m)\u001b[0m\u001b[0;34m)\u001b[0m\u001b[0;34m\u001b[0m\u001b[0m\n\u001b[0m",
      "\u001b[0;32m<ipython-input-273-c5dd589d084a>\u001b[0m in \u001b[0;36mgetValues\u001b[0;34m(burst, det, modName, version, method, paramNames)\u001b[0m\n\u001b[1;32m      9\u001b[0m \u001b[0;34m\u001b[0m\u001b[0m\n\u001b[1;32m     10\u001b[0m     \u001b[0manalyze\u001b[0m  \u001b[0;34m=\u001b[0m \u001b[0mAnalyzer\u001b[0m\u001b[0;34m(\u001b[0m\u001b[0mburst\u001b[0m\u001b[0;34m,\u001b[0m \u001b[0mdet\u001b[0m\u001b[0;34m,\u001b[0m \u001b[0mmodName\u001b[0m\u001b[0;34m,\u001b[0m \u001b[0mmethod\u001b[0m\u001b[0;34m=\u001b[0m\u001b[0mmethod\u001b[0m\u001b[0;34m)\u001b[0m\u001b[0;34m\u001b[0m\u001b[0m\n\u001b[0;32m---> 11\u001b[0;31m     \u001b[0mdirec\u001b[0m    \u001b[0;34m=\u001b[0m \u001b[0manalyze\u001b[0m\u001b[0;34m.\u001b[0m\u001b[0mModelDir\u001b[0m\u001b[0;34m(\u001b[0m\u001b[0;34m)\u001b[0m\u001b[0;34m\u001b[0m\u001b[0m\n\u001b[0m\u001b[1;32m     12\u001b[0m     filename = os.path.join(direc, \"%s_fitresults_%s_%s_%s_.fit\"\n\u001b[1;32m     13\u001b[0m                             %(mType, modName, version, det))\n",
      "\u001b[0;32m/Users/KimiZ/GRBs2/analysis/pyxspec_programs/Analysis/analysis.pyc\u001b[0m in \u001b[0;36mModelDir\u001b[0;34m(self)\u001b[0m\n\u001b[1;32m    110\u001b[0m                 \u001b[0;32melse\u001b[0m\u001b[0;34m:\u001b[0m\u001b[0;34m\u001b[0m\u001b[0m\n\u001b[1;32m    111\u001b[0m                         \u001b[0;32mif\u001b[0m \u001b[0;34m'BXA'\u001b[0m \u001b[0;32min\u001b[0m \u001b[0mself\u001b[0m\u001b[0;34m.\u001b[0m\u001b[0m_method\u001b[0m\u001b[0;34m:\u001b[0m\u001b[0;34m\u001b[0m\u001b[0m\n\u001b[0;32m--> 112\u001b[0;31m                                 \u001b[0;32mreturn\u001b[0m \u001b[0mos\u001b[0m\u001b[0;34m.\u001b[0m\u001b[0mpath\u001b[0m\u001b[0;34m.\u001b[0m\u001b[0mjoin\u001b[0m\u001b[0;34m(\u001b[0m\u001b[0mself\u001b[0m\u001b[0;34m.\u001b[0m\u001b[0mBxaDir\u001b[0m\u001b[0;34m(\u001b[0m\u001b[0;34m)\u001b[0m\u001b[0;34m,\u001b[0m \u001b[0mself\u001b[0m\u001b[0;34m.\u001b[0m\u001b[0m_model\u001b[0m\u001b[0;34m)\u001b[0m\u001b[0;34m\u001b[0m\u001b[0m\n\u001b[0m\u001b[1;32m    113\u001b[0m                         \u001b[0;32melif\u001b[0m \u001b[0;34m'PYX'\u001b[0m \u001b[0;32min\u001b[0m \u001b[0mself\u001b[0m\u001b[0;34m.\u001b[0m\u001b[0m_method\u001b[0m\u001b[0;34m:\u001b[0m\u001b[0;34m\u001b[0m\u001b[0m\n\u001b[1;32m    114\u001b[0m                                 \u001b[0;32mreturn\u001b[0m \u001b[0mos\u001b[0m\u001b[0;34m.\u001b[0m\u001b[0mpath\u001b[0m\u001b[0;34m.\u001b[0m\u001b[0mjoin\u001b[0m\u001b[0;34m(\u001b[0m\u001b[0mself\u001b[0m\u001b[0;34m.\u001b[0m\u001b[0mPyxDir\u001b[0m\u001b[0;34m(\u001b[0m\u001b[0;34m)\u001b[0m\u001b[0;34m,\u001b[0m \u001b[0mself\u001b[0m\u001b[0;34m.\u001b[0m\u001b[0m_model\u001b[0m\u001b[0;34m)\u001b[0m\u001b[0;34m\u001b[0m\u001b[0m\n",
      "\u001b[0;32m/Users/KimiZ/anaconda/lib/python2.7/posixpath.pyc\u001b[0m in \u001b[0;36mjoin\u001b[0;34m(a, *p)\u001b[0m\n\u001b[1;32m     66\u001b[0m     \u001b[0mpath\u001b[0m \u001b[0;34m=\u001b[0m \u001b[0ma\u001b[0m\u001b[0;34m\u001b[0m\u001b[0m\n\u001b[1;32m     67\u001b[0m     \u001b[0;32mfor\u001b[0m \u001b[0mb\u001b[0m \u001b[0;32min\u001b[0m \u001b[0mp\u001b[0m\u001b[0;34m:\u001b[0m\u001b[0;34m\u001b[0m\u001b[0m\n\u001b[0;32m---> 68\u001b[0;31m         \u001b[0;32mif\u001b[0m \u001b[0mb\u001b[0m\u001b[0;34m.\u001b[0m\u001b[0mstartswith\u001b[0m\u001b[0;34m(\u001b[0m\u001b[0;34m'/'\u001b[0m\u001b[0;34m)\u001b[0m\u001b[0;34m:\u001b[0m\u001b[0;34m\u001b[0m\u001b[0m\n\u001b[0m\u001b[1;32m     69\u001b[0m             \u001b[0mpath\u001b[0m \u001b[0;34m=\u001b[0m \u001b[0mb\u001b[0m\u001b[0;34m\u001b[0m\u001b[0m\n\u001b[1;32m     70\u001b[0m         \u001b[0;32melif\u001b[0m \u001b[0mpath\u001b[0m \u001b[0;34m==\u001b[0m \u001b[0;34m''\u001b[0m \u001b[0;32mor\u001b[0m \u001b[0mpath\u001b[0m\u001b[0;34m.\u001b[0m\u001b[0mendswith\u001b[0m\u001b[0;34m(\u001b[0m\u001b[0;34m'/'\u001b[0m\u001b[0;34m)\u001b[0m\u001b[0;34m:\u001b[0m\u001b[0;34m\u001b[0m\u001b[0m\n",
      "\u001b[0;31mAttributeError\u001b[0m: 'list' object has no attribute 'startswith'"
     ]
    }
   ],
   "source": [
    "my_decorator(parNames, getValues(burst, det, model, version, method, params))"
   ]
  },
  {
   "cell_type": "code",
   "execution_count": null,
   "metadata": {
    "collapsed": true
   },
   "outputs": [],
   "source": []
  },
  {
   "cell_type": "code",
   "execution_count": null,
   "metadata": {
    "collapsed": true
   },
   "outputs": [],
   "source": []
  },
  {
   "cell_type": "code",
   "execution_count": 257,
   "metadata": {
    "collapsed": false
   },
   "outputs": [
    {
     "name": "stdout",
     "output_type": "stream",
     "text": [
      "['alpha', 'beta', 'ebreak', 'norm']\n",
      "['alpha', 'beta', 'tem', 'norm']\n"
     ]
    }
   ],
   "source": [
    "pNames(['sbpl', 'grbm'])"
   ]
  },
  {
   "cell_type": "code",
   "execution_count": null,
   "metadata": {
    "collapsed": true
   },
   "outputs": [],
   "source": []
  },
  {
   "cell_type": "code",
   "execution_count": 157,
   "metadata": {
    "collapsed": true
   },
   "outputs": [],
   "source": [
    "Zoldak = my_decorator(getValues)"
   ]
  },
  {
   "cell_type": "code",
   "execution_count": null,
   "metadata": {
    "collapsed": true
   },
   "outputs": [],
   "source": [
    "modZ = my_decorator(getValues)"
   ]
  },
  {
   "cell_type": "code",
   "execution_count": 158,
   "metadata": {
    "collapsed": false
   },
   "outputs": [
    {
     "name": "stdout",
     "output_type": "stream",
     "text": [
      "['alpha', 'beta', 'tem', 'norm']\n",
      "['alpha', 'beta', 'ebreak', 'norm']\n"
     ]
    },
    {
     "ename": "TypeError",
     "evalue": "wrapper() got an unexpected keyword argument 'burst'",
     "output_type": "error",
     "traceback": [
      "\u001b[0;31m---------------------------------------------------------------------------\u001b[0m",
      "\u001b[0;31mTypeError\u001b[0m                                 Traceback (most recent call last)",
      "\u001b[0;32m<ipython-input-158-ec4a11f4956c>\u001b[0m in \u001b[0;36m<module>\u001b[0;34m()\u001b[0m\n\u001b[1;32m      3\u001b[0m     \u001b[0mversion\u001b[0m\u001b[0;34m=\u001b[0m\u001b[0;34m[\u001b[0m\u001b[0;34m'-01-'\u001b[0m\u001b[0;34m,\u001b[0m\u001b[0;34m'-01-'\u001b[0m\u001b[0;34m]\u001b[0m\u001b[0;34m,\u001b[0m\u001b[0;34m\u001b[0m\u001b[0m\n\u001b[1;32m      4\u001b[0m     \u001b[0mmethod\u001b[0m\u001b[0;34m=\u001b[0m\u001b[0;34m[\u001b[0m\u001b[0;34m'BXA'\u001b[0m\u001b[0;34m,\u001b[0m\u001b[0;34m'BXA'\u001b[0m\u001b[0;34m]\u001b[0m\u001b[0;34m,\u001b[0m\u001b[0;34m\u001b[0m\u001b[0m\n\u001b[0;32m----> 5\u001b[0;31m     paramNames= kz(['grbm', 'sbpl']))\n\u001b[0m",
      "\u001b[0;31mTypeError\u001b[0m: wrapper() got an unexpected keyword argument 'burst'"
     ]
    }
   ],
   "source": [
    "kz2(burst='bn080916009', det='G', \n",
    "    modName=['grbm','sbpl'], \n",
    "    version=['-01-','-01-'], \n",
    "    method=['BXA','BXA'], \n",
    "    paramNames= kz(['grbm', 'sbpl']))"
   ]
  },
  {
   "cell_type": "code",
   "execution_count": 486,
   "metadata": {
    "collapsed": false
   },
   "outputs": [
    {
     "name": "stdout",
     "output_type": "stream",
     "text": [
      "['alpha', 'beta', 'tem', 'norm']\n",
      "Setting bxa_dir to: \n",
      " /Users/KimiZ/GRBs2/analysis/LAT/bn080916009/BXA/GBMwLAT/\n",
      "/Users/KimiZ/GRBs2/analysis/LAT/bn080916009/BXA/GBMwLAT/grbm/bxa_fitresults_grbm_-01-_L_.fit\n",
      "OrderedDict([('alpha__1', [-1.0261301941989505, -1.0504917692117177, -1.0108496177344828]), ('beta__2', [-2.1961747832013394, -2.2118715235305162, -2.187204678512312]), ('tem__3', [519.22663537909375, 486.94436728067308, 579.5837754287212]), ('norm__4', [0.017587351222993219, 0.017034773315515072, 0.017956890814037643])])\n"
     ]
    }
   ],
   "source": [
    "p = getValues(burst='bn080916009', det='L', \n",
    "    modName='grbm', \n",
    "    version='-01-',\n",
    "    method='BXA', \n",
    "    paramNames= mm)"
   ]
  },
  {
   "cell_type": "code",
   "execution_count": 487,
   "metadata": {
    "collapsed": false
   },
   "outputs": [
    {
     "name": "stdout",
     "output_type": "stream",
     "text": [
      "['alpha', 'beta', 'tem', 'norm']\n",
      "Setting bxa_dir to: \n",
      " /Users/KimiZ/GRBs2/analysis/LAT/bn080916009/BXA/GBMwLAT/\n",
      "/Users/KimiZ/GRBs2/analysis/LAT/bn080916009/BXA/GBMwLAT/sbpl/bxa_fitresults_sbpl_-01-_L_.fit\n",
      "OrderedDict([('alpha__1', [-1.1093541084556167, -1.1231789991061667, -1.0925475070288904]), ('beta__2', [-2.1913561811028215, -2.2026726344413343, -2.1815726604756018]), ('tem__3', [270.86186477877789, 253.90687283818764, 287.10019070829043]), ('norm__4', [0.014589863969694064, 0.014404443141418422, 0.014766127627113575])])\n"
     ]
    }
   ],
   "source": [
    "b = getValues(burst='bn080916009', det='L', \n",
    "    modName='sbpl', \n",
    "    version='-01-',\n",
    "    method='BXA', \n",
    "    paramNames= mm)"
   ]
  },
  {
   "cell_type": "code",
   "execution_count": null,
   "metadata": {
    "collapsed": true
   },
   "outputs": [],
   "source": []
  },
  {
   "cell_type": "code",
   "execution_count": null,
   "metadata": {
    "collapsed": true
   },
   "outputs": [],
   "source": []
  },
  {
   "cell_type": "code",
   "execution_count": null,
   "metadata": {
    "collapsed": true
   },
   "outputs": [],
   "source": []
  },
  {
   "cell_type": "code",
   "execution_count": null,
   "metadata": {
    "collapsed": true
   },
   "outputs": [],
   "source": []
  },
  {
   "cell_type": "code",
   "execution_count": 481,
   "metadata": {
    "collapsed": true
   },
   "outputs": [],
   "source": [
    "class Parameter(object):\n",
    "    def __init__(self, burst=None, det=None, model=None, version=None, method=None):\n",
    "        # burst and det are the only two I want to send over to Analyzer, \n",
    "        # so the rest need to be None.  If I want to send them over, remove =None.\n",
    "        #Analyzer.__init__(self, burst=None, det=None, model=None, version=None, method=None)\n",
    "        self._burst     = burst\n",
    "        self._det       = det\n",
    "        self._modName   = model\n",
    "        self._version   = version\n",
    "        self._method    = method\n",
    "        #self.comparesults = self.CompareResults()\n",
    "\n",
    "    @property\n",
    "    def parNames(self):\n",
    "        '''\n",
    "        Given a model name, it will return the parameter names of the model.\n",
    "        See file 'ParameterNames.json in the $PYX/Analysis/ directory.\n",
    "        '\n",
    "        '''\n",
    "        filename = \"/Users/KimiZ/GRBs2/analysis/pyxspec_programs/Analysis/ParameterNames.json\"\n",
    "        f                = open(filename, \"r\")\n",
    "        ParamDict        = json.load(open(filename, 'r'), encoding='utf-8')\n",
    "        self._parNames   = ParamDict[self._modName]\n",
    "        self._parNames   = [str(i) for i in self._parNames]\n",
    "        return self._parNames\n",
    "\n",
    "        \n",
    "    def getValues(self, method=None):\n",
    "        if self._method:\n",
    "            self._method = self._method\n",
    "        else:\n",
    "            self._method = method\n",
    "        #self._method = method\n",
    "        if 'BXA' in self._method:\n",
    "            self._mType = 'bxa'\n",
    "            idx = 1   # bxa and pyxspec have different number of tables in their files.\n",
    "        elif 'PYX' in self._method:\n",
    "            self._mType = 'xspec'\n",
    "            idx = 2\n",
    "\n",
    "        analyze  = Analyzer(self._burst, self._det, self._modName, method=self._method)\n",
    "        direc    = analyze.ModelDir()\n",
    "        filename = os.path.join(direc, \"%s_fitresults_%s_%s_%s_.fit\"\n",
    "                                %(self._mType, self._modName, self._version, self._det))\n",
    "        _data = pyfits.open(filename)\n",
    "        \n",
    "        new_data = OrderedDict()\n",
    "        for n,par in enumerate(self._parNames):\n",
    "            n=n+1\n",
    "            name       = \"PARAM%i\"%n\n",
    "            if ('norm' in par and 'BXA' in self._method):\n",
    "                Val   = 10**(_data[idx].data[name][0][0])  # param values\n",
    "                errL  = 10**(_data[idx].data[name][0][1])  # 1sigma errors Lower\n",
    "                errU  = 10**(_data[idx].data[name][0][2])  # 1sigma errors Upper\n",
    "            else:  \n",
    "                Val        = _data[idx].data[name][0][0]  # param values\n",
    "                errL       = _data[idx].data[name][0][1]  # 1sigma errors Lower\n",
    "                errU       = _data[idx].data[name][0][2]  # 1sigma errors Upper\n",
    "            new_data[par+\"__%i\"%n] = [Val, errL, errU]\n",
    "        return new_data"
   ]
  },
  {
   "cell_type": "code",
   "execution_count": 477,
   "metadata": {
    "collapsed": false
   },
   "outputs": [],
   "source": [
    "class CompareResults(object):\n",
    "    def __init__(self):\n",
    "        self.name = \"X\"\n",
    "        \n",
    "    def ErrorSpread(self, *args):\n",
    "        kim = Parameter(*args)\n",
    "        return kim._getValues()\n",
    "    \n",
    "    def ParamSpread(self):\n",
    "        pass\n",
    "\n",
    "\n",
    "    def ZZZ(self):\n",
    "        #super(CompareResults, self).__setattr__()\n",
    "        print(self._burst)\n",
    "\n",
    "        "
   ]
  },
  {
   "cell_type": "code",
   "execution_count": 478,
   "metadata": {
    "collapsed": true
   },
   "outputs": [],
   "source": [
    "me = CompareResults()"
   ]
  },
  {
   "cell_type": "code",
   "execution_count": 480,
   "metadata": {
    "collapsed": false
   },
   "outputs": [
    {
     "ename": "TypeError",
     "evalue": "ErrorSpread() got an unexpected keyword argument 'burst'",
     "output_type": "error",
     "traceback": [
      "\u001b[0;31m---------------------------------------------------------------------------\u001b[0m",
      "\u001b[0;31mTypeError\u001b[0m                                 Traceback (most recent call last)",
      "\u001b[0;32m<ipython-input-480-c5c2647e03f5>\u001b[0m in \u001b[0;36m<module>\u001b[0;34m()\u001b[0m\n\u001b[1;32m      1\u001b[0m me.ErrorSpread(burst='bn080916009', det='L', \n\u001b[1;32m      2\u001b[0m                \u001b[0mmodel\u001b[0m\u001b[0;34m=\u001b[0m\u001b[0;34m'grbm'\u001b[0m\u001b[0;34m,\u001b[0m \u001b[0mversion\u001b[0m\u001b[0;34m=\u001b[0m\u001b[0;34m'-01-'\u001b[0m\u001b[0;34m,\u001b[0m\u001b[0;34m\u001b[0m\u001b[0m\n\u001b[0;32m----> 3\u001b[0;31m                method='BXA')\n\u001b[0m",
      "\u001b[0;31mTypeError\u001b[0m: ErrorSpread() got an unexpected keyword argument 'burst'"
     ]
    }
   ],
   "source": [
    "me.ErrorSpread(burst='bn080916009', det='L', \n",
    "               model='grbm', version='-01-', \n",
    "               method='BXA')"
   ]
  },
  {
   "cell_type": "code",
   "execution_count": null,
   "metadata": {
    "collapsed": true
   },
   "outputs": [],
   "source": []
  },
  {
   "cell_type": "code",
   "execution_count": 464,
   "metadata": {
    "collapsed": false
   },
   "outputs": [],
   "source": [
    "kz = Parameter(burst='bn080916009', det='L', \n",
    "               model='grbm', version='-01-', \n",
    "               method='BXA')"
   ]
  },
  {
   "cell_type": "code",
   "execution_count": 465,
   "metadata": {
    "collapsed": false
   },
   "outputs": [
    {
     "data": {
      "text/plain": [
       "['alpha', 'beta', 'tem', 'norm']"
      ]
     },
     "execution_count": 465,
     "metadata": {},
     "output_type": "execute_result"
    }
   ],
   "source": [
    "kz.parNames"
   ]
  },
  {
   "cell_type": "code",
   "execution_count": 466,
   "metadata": {
    "collapsed": false
   },
   "outputs": [
    {
     "name": "stdout",
     "output_type": "stream",
     "text": [
      "Setting bxa_dir to: \n",
      " /Users/KimiZ/GRBs2/analysis/LAT/bn080916009/BXA/GBMwLAT/\n"
     ]
    },
    {
     "data": {
      "text/plain": [
       "OrderedDict([('alpha__1',\n",
       "              [-1.0261301941989505, -1.0504917692117177, -1.0108496177344828]),\n",
       "             ('beta__2',\n",
       "              [-2.1961747832013394, -2.2118715235305162, -2.187204678512312]),\n",
       "             ('tem__3',\n",
       "              [519.22663537909375, 486.94436728067308, 579.5837754287212]),\n",
       "             ('norm__4',\n",
       "              [0.017587351222993219,\n",
       "               0.017034773315515072,\n",
       "               0.017956890814037643])])"
      ]
     },
     "execution_count": 466,
     "metadata": {},
     "output_type": "execute_result"
    }
   ],
   "source": [
    "kz._getValues()"
   ]
  },
  {
   "cell_type": "code",
   "execution_count": null,
   "metadata": {
    "collapsed": true
   },
   "outputs": [],
   "source": []
  },
  {
   "cell_type": "code",
   "execution_count": 439,
   "metadata": {
    "collapsed": false
   },
   "outputs": [],
   "source": [
    "kz = Parameter(burst='bn080916009', det='L', \n",
    "               model='grbm', version='-01-', \n",
    "               method='BXA')"
   ]
  },
  {
   "cell_type": "code",
   "execution_count": 440,
   "metadata": {
    "collapsed": false
   },
   "outputs": [
    {
     "data": {
      "text/plain": [
       "['alpha', 'beta', 'tem', 'norm']"
      ]
     },
     "execution_count": 440,
     "metadata": {},
     "output_type": "execute_result"
    }
   ],
   "source": [
    "kz.parNames"
   ]
  },
  {
   "cell_type": "code",
   "execution_count": 442,
   "metadata": {
    "collapsed": false
   },
   "outputs": [
    {
     "ename": "TypeError",
     "evalue": "__init__() got an unexpected keyword argument 'det'",
     "output_type": "error",
     "traceback": [
      "\u001b[0;31m---------------------------------------------------------------------------\u001b[0m",
      "\u001b[0;31mTypeError\u001b[0m                                 Traceback (most recent call last)",
      "\u001b[0;32m<ipython-input-442-bb2fecf7b9f8>\u001b[0m in \u001b[0;36m<module>\u001b[0;34m()\u001b[0m\n\u001b[0;32m----> 1\u001b[0;31m \u001b[0mkz\u001b[0m \u001b[0;34m=\u001b[0m \u001b[0mCompareResults\u001b[0m\u001b[0;34m(\u001b[0m\u001b[0mburst\u001b[0m\u001b[0;34m=\u001b[0m\u001b[0;34m'bn080916009'\u001b[0m\u001b[0;34m,\u001b[0m \u001b[0mdet\u001b[0m\u001b[0;34m=\u001b[0m\u001b[0;34m'L'\u001b[0m\u001b[0;34m)\u001b[0m\u001b[0;31m#,\u001b[0m\u001b[0;34m\u001b[0m\u001b[0m\n\u001b[0m\u001b[1;32m      2\u001b[0m                     \u001b[0;31m#model='grbm', version='-01-',\u001b[0m\u001b[0;34m\u001b[0m\u001b[0;34m\u001b[0m\u001b[0m\n\u001b[1;32m      3\u001b[0m                     \u001b[0;31m#method='BXA')\u001b[0m\u001b[0;34m\u001b[0m\u001b[0;34m\u001b[0m\u001b[0m\n",
      "\u001b[0;31mTypeError\u001b[0m: __init__() got an unexpected keyword argument 'det'"
     ]
    }
   ],
   "source": [
    "kz = CompareResults(burst='bn080916009', det='L')#, \n",
    "                    #model='grbm', version='-01-', \n",
    "                    #method='BXA')"
   ]
  },
  {
   "cell_type": "code",
   "execution_count": null,
   "metadata": {
    "collapsed": true
   },
   "outputs": [],
   "source": []
  },
  {
   "cell_type": "code",
   "execution_count": null,
   "metadata": {
    "collapsed": true
   },
   "outputs": [],
   "source": []
  },
  {
   "cell_type": "code",
   "execution_count": null,
   "metadata": {
    "collapsed": true
   },
   "outputs": [],
   "source": []
  },
  {
   "cell_type": "code",
   "execution_count": null,
   "metadata": {
    "collapsed": true
   },
   "outputs": [],
   "source": []
  },
  {
   "cell_type": "code",
   "execution_count": 342,
   "metadata": {
    "collapsed": false
   },
   "outputs": [],
   "source": [
    "kz = Parameter(burst='bn080916009', det='L', \n",
    "               model=['grbm', 'sbpl'], \n",
    "               version=['-01-', '-01-'], \n",
    "               method=['BXA','BXA'])"
   ]
  },
  {
   "cell_type": "code",
   "execution_count": 343,
   "metadata": {
    "collapsed": false
   },
   "outputs": [
    {
     "ename": "TypeError",
     "evalue": "unhashable type: 'list'",
     "output_type": "error",
     "traceback": [
      "\u001b[0;31m---------------------------------------------------------------------------\u001b[0m",
      "\u001b[0;31mTypeError\u001b[0m                                 Traceback (most recent call last)",
      "\u001b[0;32m<ipython-input-343-d602ef4ea8a7>\u001b[0m in \u001b[0;36m<module>\u001b[0;34m()\u001b[0m\n\u001b[0;32m----> 1\u001b[0;31m \u001b[0mkz\u001b[0m\u001b[0;34m.\u001b[0m\u001b[0mparNames\u001b[0m\u001b[0;34m\u001b[0m\u001b[0m\n\u001b[0m",
      "\u001b[0;32m<ipython-input-339-32513aa0c04b>\u001b[0m in \u001b[0;36mparNames\u001b[0;34m(self)\u001b[0m\n\u001b[1;32m     28\u001b[0m         \u001b[0mf\u001b[0m                \u001b[0;34m=\u001b[0m \u001b[0mopen\u001b[0m\u001b[0;34m(\u001b[0m\u001b[0mfilename\u001b[0m\u001b[0;34m,\u001b[0m \u001b[0;34m\"r\"\u001b[0m\u001b[0;34m)\u001b[0m\u001b[0;34m\u001b[0m\u001b[0m\n\u001b[1;32m     29\u001b[0m         \u001b[0mParamDict\u001b[0m        \u001b[0;34m=\u001b[0m \u001b[0mjson\u001b[0m\u001b[0;34m.\u001b[0m\u001b[0mload\u001b[0m\u001b[0;34m(\u001b[0m\u001b[0mopen\u001b[0m\u001b[0;34m(\u001b[0m\u001b[0mfilename\u001b[0m\u001b[0;34m,\u001b[0m \u001b[0;34m'r'\u001b[0m\u001b[0;34m)\u001b[0m\u001b[0;34m,\u001b[0m \u001b[0mencoding\u001b[0m\u001b[0;34m=\u001b[0m\u001b[0;34m'utf-8'\u001b[0m\u001b[0;34m)\u001b[0m\u001b[0;34m\u001b[0m\u001b[0m\n\u001b[0;32m---> 30\u001b[0;31m         \u001b[0mself\u001b[0m\u001b[0;34m.\u001b[0m\u001b[0m_parNames\u001b[0m   \u001b[0;34m=\u001b[0m \u001b[0mParamDict\u001b[0m\u001b[0;34m[\u001b[0m\u001b[0mself\u001b[0m\u001b[0;34m.\u001b[0m\u001b[0m_modName\u001b[0m\u001b[0;34m]\u001b[0m\u001b[0;34m\u001b[0m\u001b[0m\n\u001b[0m\u001b[1;32m     31\u001b[0m         \u001b[0mself\u001b[0m\u001b[0;34m.\u001b[0m\u001b[0m_parNames\u001b[0m   \u001b[0;34m=\u001b[0m \u001b[0;34m[\u001b[0m\u001b[0mstr\u001b[0m\u001b[0;34m(\u001b[0m\u001b[0mi\u001b[0m\u001b[0;34m)\u001b[0m \u001b[0;32mfor\u001b[0m \u001b[0mi\u001b[0m \u001b[0;32min\u001b[0m \u001b[0mself\u001b[0m\u001b[0;34m.\u001b[0m\u001b[0m_parNames\u001b[0m\u001b[0;34m]\u001b[0m\u001b[0;34m\u001b[0m\u001b[0m\n\u001b[1;32m     32\u001b[0m         \u001b[0;32mreturn\u001b[0m \u001b[0mself\u001b[0m\u001b[0;34m.\u001b[0m\u001b[0m_parNames\u001b[0m\u001b[0;34m\u001b[0m\u001b[0m\n",
      "\u001b[0;31mTypeError\u001b[0m: unhashable type: 'list'"
     ]
    }
   ],
   "source": [
    "kz.parNames"
   ]
  },
  {
   "cell_type": "code",
   "execution_count": 67,
   "metadata": {
    "collapsed": false
   },
   "outputs": [
    {
     "name": "stdout",
     "output_type": "stream",
     "text": [
      "If you'd like to know the parameters for another model,\n",
      "use parNames('modelname')\n",
      "Using model name from initilization. \n"
     ]
    },
    {
     "data": {
      "text/plain": [
       "['alpha', 'beta', 'tem', 'norm']"
      ]
     },
     "execution_count": 67,
     "metadata": {},
     "output_type": "execute_result"
    }
   ],
   "source": [
    "kz.parNames"
   ]
  },
  {
   "cell_type": "code",
   "execution_count": null,
   "metadata": {
    "collapsed": true
   },
   "outputs": [],
   "source": []
  },
  {
   "cell_type": "code",
   "execution_count": 52,
   "metadata": {
    "collapsed": true
   },
   "outputs": [],
   "source": [
    "kz = Parameter('grbm', 1)"
   ]
  },
  {
   "cell_type": "code",
   "execution_count": 53,
   "metadata": {
    "collapsed": false
   },
   "outputs": [
    {
     "ename": "Exception",
     "evalue": "Need to enter a model name.",
     "output_type": "error",
     "traceback": [
      "\u001b[0;31m---------------------------------------------------------------------------\u001b[0m",
      "\u001b[0;31mException\u001b[0m                                 Traceback (most recent call last)",
      "\u001b[0;32m<ipython-input-53-d602ef4ea8a7>\u001b[0m in \u001b[0;36m<module>\u001b[0;34m()\u001b[0m\n\u001b[0;32m----> 1\u001b[0;31m \u001b[0mkz\u001b[0m\u001b[0;34m.\u001b[0m\u001b[0mparNames\u001b[0m\u001b[0;34m\u001b[0m\u001b[0m\n\u001b[0m",
      "\u001b[0;32m<ipython-input-51-6fe2fe30239b>\u001b[0m in \u001b[0;36mparNames\u001b[0;34m(self, model)\u001b[0m\n\u001b[1;32m     18\u001b[0m             \u001b[0mself\u001b[0m\u001b[0;34m.\u001b[0m\u001b[0m_modName\u001b[0m \u001b[0;34m=\u001b[0m \u001b[0mmodel\u001b[0m\u001b[0;34m\u001b[0m\u001b[0m\n\u001b[1;32m     19\u001b[0m         \u001b[0;32melse\u001b[0m\u001b[0;34m:\u001b[0m\u001b[0;34m\u001b[0m\u001b[0m\n\u001b[0;32m---> 20\u001b[0;31m             \u001b[0;32mraise\u001b[0m \u001b[0mException\u001b[0m\u001b[0;34m,\u001b[0m \u001b[0;34m\"Need to enter a model name.\"\u001b[0m\u001b[0;34m\u001b[0m\u001b[0m\n\u001b[0m\u001b[1;32m     21\u001b[0m \u001b[0;34m\u001b[0m\u001b[0m\n\u001b[1;32m     22\u001b[0m         \u001b[0mfilename\u001b[0m \u001b[0;34m=\u001b[0m \u001b[0;34m\"/Users/KimiZ/GRBs2/analysis/pyxspec_programs/Analysis/ParameterNames.json\"\u001b[0m\u001b[0;34m\u001b[0m\u001b[0m\n",
      "\u001b[0;31mException\u001b[0m: Need to enter a model name."
     ]
    }
   ],
   "source": [
    "kz.parNames"
   ]
  },
  {
   "cell_type": "code",
   "execution_count": null,
   "metadata": {
    "collapsed": true
   },
   "outputs": [],
   "source": []
  },
  {
   "cell_type": "code",
   "execution_count": null,
   "metadata": {
    "collapsed": true
   },
   "outputs": [],
   "source": []
  },
  {
   "cell_type": "code",
   "execution_count": null,
   "metadata": {
    "collapsed": true
   },
   "outputs": [],
   "source": []
  },
  {
   "cell_type": "code",
   "execution_count": 25,
   "metadata": {
    "collapsed": true
   },
   "outputs": [],
   "source": [
    "method = 'BXA'"
   ]
  },
  {
   "cell_type": "code",
   "execution_count": 26,
   "metadata": {
    "collapsed": true
   },
   "outputs": [],
   "source": [
    "parNames = ['a', 'b', 'ep', 'norm']"
   ]
  },
  {
   "cell_type": "code",
   "execution_count": 27,
   "metadata": {
    "collapsed": false
   },
   "outputs": [
    {
     "name": "stdout",
     "output_type": "stream",
     "text": [
      "('a', 4.24, 0.123, 0.924)\n",
      "('b', 4.24, 0.123, 0.924)\n",
      "('ep', 4.24, 0.123, 0.924)\n",
      "('norm', 16982.43652461746, 1.3273944577297394, 8.394599865193975)\n"
     ]
    }
   ],
   "source": [
    "for n,par in enumerate(parNames):\n",
    "    if ('norm' in par and 'BXA' in method):\n",
    "        Val   = 10**(4.23)  # param values\n",
    "        errL  = 10**(0.123)  # 1sigma errors Lower\n",
    "        errU  = 10**(0.924)  # 1sigma errors Upper\n",
    "    else:  \n",
    "        Val        = 4.24  # param values\n",
    "        errL       = 0.123  # 1sigma errors Lower\n",
    "        errU       = 0.924  # 1sigma errors Upper\n",
    "    print(par, Val, errL, errU)"
   ]
  },
  {
   "cell_type": "code",
   "execution_count": 43,
   "metadata": {
    "collapsed": true
   },
   "outputs": [],
   "source": [
    "class C(object):\n",
    "    def __init__(self, modelName, parNames):\n",
    "        self.modelName = modelName\n",
    "        self.parNames = parNames\n",
    "    def getX(self, x):\n",
    "        '''\n",
    "        If this is called before getY is, the self.x is adopted \n",
    "        by the getY and getY will return the x we give getX.\n",
    "        getX(2) will then set self.x = 2 for the ENTIRE class.\n",
    "        If we don't call this before getY, then getY will throw an error.\n",
    "        '''\n",
    "        return x\n",
    "    def getY(self, y):\n",
    "        self.y = y\n",
    "        print(\"x and y:\", self.x, self.y)"
   ]
  },
  {
   "cell_type": "code",
   "execution_count": null,
   "metadata": {
    "collapsed": true
   },
   "outputs": [],
   "source": []
  },
  {
   "cell_type": "code",
   "execution_count": null,
   "metadata": {
    "collapsed": true
   },
   "outputs": [],
   "source": []
  },
  {
   "cell_type": "code",
   "execution_count": 2,
   "metadata": {
    "collapsed": true
   },
   "outputs": [],
   "source": [
    "class GetVals(object):\n",
    "    def __init__(self, parName, parStrategy):\n",
    "        self.name = parName\n",
    "        if isinstance(parStrategy, defaultVals):\n",
    "            self.__iType = 0\n",
    "        else:\n",
    "            self.__iType = 1 \n",
    "\n"
   ]
  },
  {
   "cell_type": "code",
   "execution_count": 6,
   "metadata": {
    "collapsed": true
   },
   "outputs": [],
   "source": [
    "class Component(object):\n",
    "    def __init__(self, compName, parNames):\n",
    "        self.name = compName\n",
    "        \n",
    "\n",
    "        \n",
    "        for parName in parNames:\n",
    "            setattr(self, parName, GetVals(parName, defaultVals))\n",
    "    "
   ]
  },
  {
   "cell_type": "code",
   "execution_count": 7,
   "metadata": {
    "collapsed": true
   },
   "outputs": [],
   "source": [
    "modelName = 'grbm'\n",
    "parameterNames = ['alpha','beta','epeak','norm']"
   ]
  },
  {
   "cell_type": "code",
   "execution_count": 8,
   "metadata": {
    "collapsed": false
   },
   "outputs": [],
   "source": [
    "kz = Component(modelName, parameterNames)"
   ]
  },
  {
   "cell_type": "code",
   "execution_count": 11,
   "metadata": {
    "collapsed": false
   },
   "outputs": [
    {
     "data": {
      "text/plain": [
       "[-1, -2, 300.0, 0.001]"
      ]
     },
     "execution_count": 11,
     "metadata": {},
     "output_type": "execute_result"
    }
   ],
   "source": [
    "kz.defaultVals()"
   ]
  },
  {
   "cell_type": "code",
   "execution_count": 13,
   "metadata": {
    "collapsed": false
   },
   "outputs": [
    {
     "data": {
      "text/plain": [
       "[-1.435, -2.455, 602.88, 0.002482]"
      ]
     },
     "execution_count": 13,
     "metadata": {},
     "output_type": "execute_result"
    }
   ],
   "source": [
    "kz.modelVals()"
   ]
  },
  {
   "cell_type": "code",
   "execution_count": null,
   "metadata": {
    "collapsed": true
   },
   "outputs": [],
   "source": []
  },
  {
   "cell_type": "code",
   "execution_count": null,
   "metadata": {
    "collapsed": true
   },
   "outputs": [],
   "source": []
  },
  {
   "cell_type": "code",
   "execution_count": null,
   "metadata": {
    "collapsed": true
   },
   "outputs": [],
   "source": []
  },
  {
   "cell_type": "code",
   "execution_count": null,
   "metadata": {
    "collapsed": true
   },
   "outputs": [],
   "source": []
  },
  {
   "cell_type": "code",
   "execution_count": null,
   "metadata": {
    "collapsed": true
   },
   "outputs": [],
   "source": []
  },
  {
   "cell_type": "code",
   "execution_count": null,
   "metadata": {
    "collapsed": true
   },
   "outputs": [],
   "source": []
  },
  {
   "cell_type": "code",
   "execution_count": null,
   "metadata": {
    "collapsed": true
   },
   "outputs": [],
   "source": []
  },
  {
   "cell_type": "code",
   "execution_count": null,
   "metadata": {
    "collapsed": true
   },
   "outputs": [],
   "source": []
  },
  {
   "cell_type": "raw",
   "metadata": {
    "collapsed": true
   },
   "source": [
    "class account:\n",
    "    def __init__(self):\n",
    "        pass\n",
    "\n",
    "    class bank:\n",
    "        def __init__(self):\n",
    "            self.balance = 100000\n",
    "\n",
    "        def balance(self):\n",
    "            self.balance\n",
    "\n",
    "        def whitdraw(self, amount):\n",
    "            self.balance -= amount\n",
    "\n",
    "        def deposit(self, amount):\n",
    "            self.balance += amount"
   ]
  },
  {
   "cell_type": "code",
   "execution_count": null,
   "metadata": {
    "collapsed": true
   },
   "outputs": [],
   "source": []
  },
  {
   "cell_type": "code",
   "execution_count": null,
   "metadata": {
    "collapsed": true
   },
   "outputs": [],
   "source": []
  },
  {
   "cell_type": "code",
   "execution_count": null,
   "metadata": {
    "collapsed": true
   },
   "outputs": [],
   "source": []
  },
  {
   "cell_type": "code",
   "execution_count": null,
   "metadata": {
    "collapsed": false
   },
   "outputs": [],
   "source": [
    "class Account:\n",
    "    def __init__(self):\n",
    "        # 2. to refer to the inner class, you must use self.Bank\n",
    "        # 3. no need to use an inner class here\n",
    "        self.bank = self.Bank()\n",
    "\n",
    "    class Bank:\n",
    "        def __init__(self):\n",
    "            self.balance = 100000\n",
    "\n",
    "        # 4. in your original code, you had a method with the same name as \n",
    "        #    the attribute you set in the constructor. That meant that the \n",
    "        #    method was replaced with a value every time the constructor was \n",
    "        #    called. No need for a method to do a simple attribute lookup. This\n",
    "        #    is Python, not Java.\n",
    "\n",
    "        def withdraw(self, amount):\n",
    "            self.balance -= amount\n",
    "\n",
    "        def deposit(self, amount):\n",
    "            self.balance += amount"
   ]
  },
  {
   "cell_type": "code",
   "execution_count": null,
   "metadata": {
    "collapsed": false
   },
   "outputs": [],
   "source": [
    "a = Account()"
   ]
  },
  {
   "cell_type": "code",
   "execution_count": null,
   "metadata": {
    "collapsed": false
   },
   "outputs": [],
   "source": [
    "print(a.bank.balance)"
   ]
  },
  {
   "cell_type": "code",
   "execution_count": null,
   "metadata": {
    "collapsed": true
   },
   "outputs": [],
   "source": []
  },
  {
   "cell_type": "code",
   "execution_count": null,
   "metadata": {
    "collapsed": true
   },
   "outputs": [],
   "source": []
  },
  {
   "cell_type": "code",
   "execution_count": null,
   "metadata": {
    "collapsed": true
   },
   "outputs": [],
   "source": [
    "class Account(object):\n",
    "    def __init__(self):\n",
    "        self.bank = self.Bank()\n",
    "\n",
    "    class Bank(Account):\n",
    "        def __init__(self):\n",
    "            self.balance = 100000\n",
    "\n",
    "        def withdraw(self, amount):\n",
    "            self.balance -= amount\n",
    "\n",
    "        def deposit(self, amount):\n",
    "            self.balance += amount"
   ]
  },
  {
   "cell_type": "code",
   "execution_count": null,
   "metadata": {
    "collapsed": true
   },
   "outputs": [],
   "source": []
  },
  {
   "cell_type": "code",
   "execution_count": null,
   "metadata": {
    "collapsed": true
   },
   "outputs": [],
   "source": [
    "class Account:\n",
    "    def __init__(self):\n",
    "        self.bank = account.Bank()\n",
    "\n",
    "    class Bank:\n",
    "        def __init__(self):\n",
    "            self.balance = 100000\n",
    "\n",
    "        def whitdraw(self, amount):\n",
    "            self.balance -= amount\n",
    "\n",
    "        def deposit(self, amount):\n",
    "            self.balance += amount\n",
    "\n",
    "a = account()\n",
    "print a.bank.balance"
   ]
  },
  {
   "cell_type": "code",
   "execution_count": null,
   "metadata": {
    "collapsed": false
   },
   "outputs": [],
   "source": [
    "a = Account()\n",
    "print(a.bank.balance)"
   ]
  },
  {
   "cell_type": "code",
   "execution_count": null,
   "metadata": {
    "collapsed": false
   },
   "outputs": [],
   "source": [
    "a.bank.balance"
   ]
  },
  {
   "cell_type": "code",
   "execution_count": null,
   "metadata": {
    "collapsed": true
   },
   "outputs": [],
   "source": [
    "a.bank.withdraw(100)"
   ]
  },
  {
   "cell_type": "code",
   "execution_count": null,
   "metadata": {
    "collapsed": false
   },
   "outputs": [],
   "source": [
    "a.bank.balance"
   ]
  },
  {
   "cell_type": "code",
   "execution_count": null,
   "metadata": {
    "collapsed": true
   },
   "outputs": [],
   "source": []
  }
 ],
 "metadata": {
  "kernelspec": {
   "display_name": "Python 2",
   "language": "python",
   "name": "python2"
  },
  "language_info": {
   "codemirror_mode": {
    "name": "ipython",
    "version": 2
   },
   "file_extension": ".py",
   "mimetype": "text/x-python",
   "name": "python",
   "nbconvert_exporter": "python",
   "pygments_lexer": "ipython2",
   "version": "2.7.11"
  }
 },
 "nbformat": 4,
 "nbformat_minor": 0
}
