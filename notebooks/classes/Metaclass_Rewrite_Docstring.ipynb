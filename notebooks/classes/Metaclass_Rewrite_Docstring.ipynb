{
 "cells": [
  {
   "cell_type": "code",
   "execution_count": 4,
   "metadata": {
    "collapsed": true
   },
   "outputs": [],
   "source": [
    "def update_docstring(name, olddoc):\n",
    "    # make sure it has a docstring\n",
    "    if olddoc is None:\n",
    "        return None\n",
    "\n",
    "    # new docstring\n",
    "    prefix = \"%s: \" % name\n",
    "    if len(olddoc.split(\": \")) > 1:\n",
    "        newdoc = prefix + olddoc.split(\": \")[1]\n",
    "    else:\n",
    "        newdoc = prefix + olddoc\n",
    "\n",
    "    return newdoc"
   ]
  },
  {
   "cell_type": "code",
   "execution_count": 5,
   "metadata": {
    "collapsed": true
   },
   "outputs": [],
   "source": [
    "class RewriteDocstringMeta(type):\n",
    "    \"\"\"Modify docstrings to be prefixed with 'classname: '.\n",
    "    To do this, we intercede before the class is created and modify the\n",
    "    docstrings of its attributes.\n",
    "    This will not affect inherited methods, however, so we also need to\n",
    "    loop through the parent classes. We cannot simply modify the\n",
    "    docstrings, because then the parent classes' methods will have the\n",
    "    wrong docstring. Instead, we must actually copy the functions, and\n",
    "    then modify the docstring.\n",
    "    \"\"\"\n",
    "\n",
    "    def __new__(cls, name, parents, attrs):\n",
    "        \n",
    "        # loop through each attribute in attrs.\n",
    "        for attr_name in attrs:\n",
    "            # skip special methods\n",
    "            if attr_name.startswith(\"__\"): # special methods start with __\n",
    "                continue\n",
    "\n",
    "            # skip non-functions. \n",
    "            #__call__ is a feature of function attributes (bc they are callable)\n",
    "            attr = attrs[attr_name]\n",
    "            if not hasattr(attr, '__call__'): # if doesn't have __call__, not a function.\n",
    "                continue\n",
    "\n",
    "            # update docstring\n",
    "            attr.__doc__ = update_docstring(name, attr.__doc__)\n",
    "\n",
    "        for parent in parents:\n",
    "            for attr_name in dir(parent):\n",
    "\n",
    "                # we already have this method\n",
    "                if attr_name in attrs:\n",
    "                    continue\n",
    "\n",
    "                # skip special methods\n",
    "                if attr_name.startswith(\"__\"):\n",
    "                    continue\n",
    "\n",
    "                # get the original function and copy it\n",
    "                a = getattr(parent, attr_name)\n",
    "\n",
    "                # skip non-functions\n",
    "                if not hasattr(a, '__call__'):\n",
    "                    continue\n",
    "\n",
    "                # copy function\n",
    "                f = a.__func__\n",
    "                attr = type(f)(\n",
    "                    f.func_code, f.func_globals, f.func_name,\n",
    "                    f.func_defaults, f.func_closure)\n",
    "                doc = f.__doc__\n",
    "\n",
    "                # update docstring and add attr\n",
    "                attr.__doc__ = update_docstring(name, doc)\n",
    "                attrs[attr_name] = attr\n",
    "\n",
    "        # create the class\n",
    "        # super(classname, self).attributeName()\n",
    "        obj = super(RewriteDocstringMeta, cls).__new__(\n",
    "            cls, name, parents, attrs)\n",
    "        return obj"
   ]
  },
  {
   "cell_type": "code",
   "execution_count": 6,
   "metadata": {
    "collapsed": false
   },
   "outputs": [],
   "source": [
    "class A(object):\n",
    "    __metaclass__ = RewriteDocstringMeta\n",
    "\n",
    "    def foo(self):\n",
    "        \"\"\"Do some stuff.\"\"\"\n",
    "        pass\n",
    "\n",
    "class B(A):\n",
    "    __metaclass__ = RewriteDocstringMeta\n",
    "\n",
    "class C(B):\n",
    "    __metaclass__ = RewriteDocstringMeta"
   ]
  },
  {
   "cell_type": "code",
   "execution_count": 7,
   "metadata": {
    "collapsed": false
   },
   "outputs": [
    {
     "name": "stdout",
     "output_type": "stream",
     "text": [
      "A: Do some stuff.\n",
      "B: Do some stuff.\n",
      "C: Do some stuff.\n"
     ]
    }
   ],
   "source": [
    "print A.foo.__doc__ # prints 'A: Do some stuff.'\n",
    "print B.foo.__doc__ # prints 'B: Do some stuff.'\n",
    "print C.foo.__doc__ # prints 'C: Do some stuff.'"
   ]
  },
  {
   "cell_type": "code",
   "execution_count": null,
   "metadata": {
    "collapsed": true
   },
   "outputs": [],
   "source": []
  },
  {
   "cell_type": "code",
   "execution_count": null,
   "metadata": {
    "collapsed": true
   },
   "outputs": [],
   "source": []
  }
 ],
 "metadata": {
  "kernelspec": {
   "display_name": "Python 2",
   "language": "python",
   "name": "python2"
  },
  "language_info": {
   "codemirror_mode": {
    "name": "ipython",
    "version": 2
   },
   "file_extension": ".py",
   "mimetype": "text/x-python",
   "name": "python",
   "nbconvert_exporter": "python",
   "pygments_lexer": "ipython2",
   "version": "2.7.12"
  }
 },
 "nbformat": 4,
 "nbformat_minor": 0
}
