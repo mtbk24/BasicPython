{
 "cells": [
  {
   "cell_type": "markdown",
   "metadata": {},
   "source": [
    "## I will show you two ways to use class inheritance in Python"
   ]
  },
  {
   "cell_type": "markdown",
   "metadata": {},
   "source": [
    "\n",
    "\n",
    "    1)  The subclass named 'ChildA' inherits from the base class 'BaseA' \n",
    "        using:        BaseA.__init__(self, name)\n",
    "\n",
    "    2)  The subclass named 'ChildB' inherits from the base class 'BaseB' \n",
    "        using:        super(ChildB, self).__init__()"
   ]
  },
  {
   "cell_type": "markdown",
   "metadata": {},
   "source": [
    "   "
   ]
  },
  {
   "cell_type": "markdown",
   "metadata": {},
   "source": [
    "---"
   ]
  },
  {
   "cell_type": "markdown",
   "metadata": {},
   "source": [
    "## First we will start with a few Examples using the \n",
    "## BaseA.__init__(self, name) method"
   ]
  },
  {
   "cell_type": "markdown",
   "metadata": {},
   "source": [
    "You can think of  \n",
    "\n",
    "    BaseA.__init__(self, firstName, lastName) \n",
    "    \n",
    "as the equivalent of a function that passes two variables which are: \n",
    "    \n",
    "    firstName, and lastName\n",
    "and the 'self' variable is a placeholder.\n",
    "\n",
    "    \n",
    "\n",
    "\n",
    "#### Functions located inside of classes need 'self'.  Outside of classes, 'self' is never to used as a variable."
   ]
  },
  {
   "cell_type": "markdown",
   "metadata": {},
   "source": [
    "### The Base Class\n",
    "\n",
    "    BaseA's __init__ has to have all the same variables listed that will be \n",
    "    inherited FROM this base class by any subclasses in the future.\n",
    "\n",
    "### The Subclass \n",
    "    ChildA's __init__ has to have the same variables as the __init__ in the \n",
    "    BaseA class that it plans to inherit from.  It also holds any other variables \n",
    "    used within its own class.\n",
    "    \n",
    "    The BaseA.__init__ within ChildA must have all the same variables as the \n",
    "    Base's __init__, the base class it inherits from.  \n",
    "    This command allows the ChildA subclass to inherit all the functions within \n",
    "    the base class as well.\n"
   ]
  },
  {
   "cell_type": "markdown",
   "metadata": {},
   "source": [
    "# Example 1:"
   ]
  },
  {
   "cell_type": "code",
   "execution_count": 1,
   "metadata": {
    "collapsed": true
   },
   "outputs": [],
   "source": [
    "class BaseA(object):\n",
    "    \n",
    "    def __init__(self, firstName, lastName):\n",
    "        print(\"Base created for %s %s\"%(firstName, lastName))\n",
    "        \n",
    "    def get_directory(self):\n",
    "        return \"/Users/%s/BaseA/\"%self.firstName\n",
    "\n",
    "\n",
    "    \n",
    "class ChildA(BaseA):\n",
    "   \n",
    "    def __init__(self, firstName, lastName, age):\n",
    "        \n",
    "        BaseA.__init__(self, firstName, lastName)  \n",
    "        self.firstName   = firstName\n",
    "        self.lastName    = lastName\n",
    "        self.age         = age\n",
    "        print(\"%s is age %i\"%(self.firstName, self.age))\n",
    "        \n",
    "    def get_directory(self):\n",
    "        return \"/Users/%s/ChildA/\"%self.firstName\n",
    "\n",
    "        "
   ]
  },
  {
   "cell_type": "code",
   "execution_count": 2,
   "metadata": {
    "collapsed": false
   },
   "outputs": [
    {
     "name": "stdout",
     "output_type": "stream",
     "text": [
      "Base created for Kim Zoldak\n",
      "Kim is age 12\n"
     ]
    }
   ],
   "source": [
    "testA = ChildA('Kim', 'Zoldak', 12)"
   ]
  },
  {
   "cell_type": "code",
   "execution_count": 3,
   "metadata": {
    "collapsed": false
   },
   "outputs": [
    {
     "data": {
      "text/plain": [
       "('Kim', 12, '/Users/Kim/ChildA/')"
      ]
     },
     "execution_count": 3,
     "metadata": {},
     "output_type": "execute_result"
    }
   ],
   "source": [
    "testA.firstName, testA.age, testA.get_directory()"
   ]
  },
  {
   "cell_type": "code",
   "execution_count": 4,
   "metadata": {
    "collapsed": false
   },
   "outputs": [
    {
     "data": {
      "text/plain": [
       "'/Users/Kim/ChildA/'"
      ]
     },
     "execution_count": 4,
     "metadata": {},
     "output_type": "execute_result"
    }
   ],
   "source": [
    "testA.get_directory()"
   ]
  },
  {
   "cell_type": "markdown",
   "metadata": {},
   "source": [
    "#### If we didn't have the get_directory under the ChildA class, the one under the BaseA class would be returned."
   ]
  },
  {
   "cell_type": "markdown",
   "metadata": {},
   "source": [
    "   "
   ]
  },
  {
   "cell_type": "markdown",
   "metadata": {},
   "source": [
    "   "
   ]
  },
  {
   "cell_type": "markdown",
   "metadata": {},
   "source": [
    "---"
   ]
  },
  {
   "cell_type": "markdown",
   "metadata": {},
   "source": [
    "# Example 3:"
   ]
  },
  {
   "cell_type": "markdown",
   "metadata": {},
   "source": [
    "### Here we show Example 1, but with a list of arguments, *args"
   ]
  },
  {
   "cell_type": "code",
   "execution_count": 5,
   "metadata": {
    "collapsed": true
   },
   "outputs": [],
   "source": [
    "class BaseA(object):\n",
    "    \n",
    "    def __init__(self, *args):\n",
    "        self.firstName, self.lastName = list(args)\n",
    "        print(\"Base created for %s %s\"%(self.firstName, self.lastName))\n",
    "        \n",
    "    def get_directory(self):\n",
    "        return \"/Users/%s/\"%self.firstName\n",
    "\n",
    "\n",
    "    \n",
    "class ChildA(BaseA):\n",
    "   \n",
    "    def __init__(self, firstName, lastName, age):\n",
    "        \n",
    "        BaseA.__init__(self, firstName, lastName)  \n",
    "        self.firstName   = firstName\n",
    "        self.lastName    = lastName\n",
    "        self.age         = age\n",
    "        print(\"%s is age %i\"%(self.firstName, self.age))"
   ]
  },
  {
   "cell_type": "code",
   "execution_count": 6,
   "metadata": {
    "collapsed": false
   },
   "outputs": [
    {
     "name": "stdout",
     "output_type": "stream",
     "text": [
      "Base created for Derek Meyers\n",
      "Derek is age 11\n"
     ]
    }
   ],
   "source": [
    "testA2 = ChildA('Derek', 'Meyers', 11)"
   ]
  },
  {
   "cell_type": "markdown",
   "metadata": {},
   "source": [
    "# Example 4:"
   ]
  },
  {
   "cell_type": "markdown",
   "metadata": {},
   "source": [
    "### If you don't know the order of the arguments being passed, you can set them up in a dictionary, where order doesn't matter."
   ]
  },
  {
   "cell_type": "code",
   "execution_count": 7,
   "metadata": {
    "collapsed": true
   },
   "outputs": [],
   "source": [
    "class BaseA(object):\n",
    "    \n",
    "    def __init__(self, **kwargs):\n",
    "        self.firstName    = kwargs['firstName']\n",
    "        self.lastName     = kwargs['lastName']\n",
    "        print(\"Base created for %s %s\"%(self.firstName, self.lastName))\n",
    "        \n",
    "    def get_directory(self):\n",
    "        return \"/Users/%s/\"%self.firstName\n",
    "\n",
    "\n",
    "    \n",
    "class ChildA(BaseA):\n",
    "   \n",
    "    def __init__(self, firstName, lastName, age):\n",
    "        self.firstName   = firstName\n",
    "        self.lastName    = lastName\n",
    "        self.age         = age\n",
    "        pars = {'firstName':self.firstName, 'lastName':self.lastName, 'age':self.age}\n",
    "        \n",
    "        BaseA.__init__(self, **pars)  \n",
    "\n",
    "        print(\"%s is age %i\"%(self.firstName, self.age))"
   ]
  },
  {
   "cell_type": "code",
   "execution_count": 8,
   "metadata": {
    "collapsed": false
   },
   "outputs": [
    {
     "name": "stdout",
     "output_type": "stream",
     "text": [
      "Base created for Derek Meyers\n",
      "Derek is age 11\n"
     ]
    }
   ],
   "source": [
    "testA2 = ChildA('Derek', 'Meyers', 11)"
   ]
  },
  {
   "cell_type": "code",
   "execution_count": 9,
   "metadata": {
    "collapsed": false
   },
   "outputs": [
    {
     "data": {
      "text/plain": [
       "'/Users/Derek/'"
      ]
     },
     "execution_count": 9,
     "metadata": {},
     "output_type": "execute_result"
    }
   ],
   "source": [
    "testA2.get_directory()"
   ]
  },
  {
   "cell_type": "markdown",
   "metadata": {},
   "source": [
    "   "
   ]
  },
  {
   "cell_type": "markdown",
   "metadata": {},
   "source": [
    "---"
   ]
  },
  {
   "cell_type": "markdown",
   "metadata": {},
   "source": [
    "# Second Method: \n",
    "# Using  super(ChildB, self).__init__()"
   ]
  },
  {
   "cell_type": "markdown",
   "metadata": {},
   "source": [
    "# Example 1:"
   ]
  },
  {
   "cell_type": "markdown",
   "metadata": {},
   "source": [
    "### This method inherits everything attached to self, just as if 'BaseB' was within the 'ChildB' class."
   ]
  },
  {
   "cell_type": "code",
   "execution_count": 10,
   "metadata": {
    "collapsed": true
   },
   "outputs": [],
   "source": [
    "class BaseB(object):\n",
    "    \n",
    "    def __init__(self):\n",
    "        # don't need self.name or self.age here.\n",
    "        print(\"Base created for %s who is age %i\"%(self.firstName, self.age))\n",
    "        \n",
    "    def get_directory(self):\n",
    "        return \"/Users/%s/BaseB/\"%self.firstName\n",
    "    \n",
    "    \n",
    "class ChildB(BaseB):\n",
    "    def __init__(self, firstName, lastName, age):\n",
    "        self.firstName   = firstName\n",
    "        self.lastName    = lastName\n",
    "        self.age         = age\n",
    "        super(ChildB, self).__init__()\n",
    "        \n",
    "    def get_directory(self):\n",
    "        return \"/Users/%s/ChildB/\"%self.firstName"
   ]
  },
  {
   "cell_type": "code",
   "execution_count": 11,
   "metadata": {
    "collapsed": false
   },
   "outputs": [
    {
     "name": "stdout",
     "output_type": "stream",
     "text": [
      "Base created for Kim who is age 12\n"
     ]
    }
   ],
   "source": [
    "testB = ChildB('Kim', 'Zoldak', 12)"
   ]
  },
  {
   "cell_type": "code",
   "execution_count": 12,
   "metadata": {
    "collapsed": false
   },
   "outputs": [
    {
     "data": {
      "text/plain": [
       "('Kim', 'Zoldak', 12, '/Users/Kim/ChildB/')"
      ]
     },
     "execution_count": 12,
     "metadata": {},
     "output_type": "execute_result"
    }
   ],
   "source": [
    "testB.firstName, testB.lastName, testB.age, testB.get_directory()"
   ]
  },
  {
   "cell_type": "markdown",
   "metadata": {},
   "source": [
    "#### If get_directory didn't exist under the ChildB class, this call would use the one under BaseB."
   ]
  },
  {
   "cell_type": "markdown",
   "metadata": {},
   "source": [
    "It should be clear to see that this version, using the 'super' command forces the 'BaseB' class to inherit all variables read in from 'ChildB'.\n",
    "\n",
    "You do not need to place any variables in the BaseB's \\__init\\__.  As a matter of fact, if you do, you'll get an error."
   ]
  },
  {
   "cell_type": "code",
   "execution_count": null,
   "metadata": {
    "collapsed": true
   },
   "outputs": [],
   "source": []
  },
  {
   "cell_type": "markdown",
   "metadata": {},
   "source": [
    "## If you want to use 2 Subclasses and 1 Base class, here are a few examples of how to do that."
   ]
  },
  {
   "cell_type": "markdown",
   "metadata": {},
   "source": [
    "# Example 2:"
   ]
  },
  {
   "cell_type": "markdown",
   "metadata": {},
   "source": [
    "#### ChildC inherits from ChildB and ChildB inherits from BaseB.\n",
    "#### A list of arguments is passed so that each class can be used separetly."
   ]
  },
  {
   "cell_type": "code",
   "execution_count": 13,
   "metadata": {
    "collapsed": true
   },
   "outputs": [],
   "source": [
    "class BaseB(object):\n",
    "    def __init__(self):\n",
    "        print(\"Base created for %s who is age %i\"%(self.firstName, self.age))\n",
    "        \n",
    "    def get_directory(self):\n",
    "        return \"/Users/%s/BaseB/\"%self.firstName\n",
    "    \n",
    "    \n",
    "    \n",
    "class ChildB(BaseB):\n",
    "    def __init__(self, *args): \n",
    "        if args: \n",
    "            self.firstName   = args[0]\n",
    "            self.lastName    = args[1]\n",
    "            self.age         = args[2]\n",
    "            super(ChildB, self).__init__()\n",
    "        \n",
    "    def get_directory(self):\n",
    "        return \"/Users/%s/ChildB/\"%self.firstName\n",
    "    \n",
    "    \n",
    "class ChildC(ChildB):\n",
    "    def __init__(self, firstName, lastName, age):\n",
    "        self.firstName   = firstName\n",
    "        self.lastName    = lastName\n",
    "        self.age         = age\n",
    "        self.pet         = 'dog'\n",
    "        \n",
    "        super(ChildC, self).__init__()"
   ]
  },
  {
   "cell_type": "code",
   "execution_count": 14,
   "metadata": {
    "collapsed": false
   },
   "outputs": [
    {
     "name": "stdout",
     "output_type": "stream",
     "text": [
      "Base created for Kim who is age 23\n"
     ]
    }
   ],
   "source": [
    "testB2 = ChildB('Kim', 'Zoldak', 23)"
   ]
  },
  {
   "cell_type": "code",
   "execution_count": 15,
   "metadata": {
    "collapsed": false
   },
   "outputs": [
    {
     "data": {
      "text/plain": [
       "(23, 'Kim', 'Zoldak', '/Users/Kim/ChildB/')"
      ]
     },
     "execution_count": 15,
     "metadata": {},
     "output_type": "execute_result"
    }
   ],
   "source": [
    "testB2.age, testB2.firstName, testB2.lastName, testB2.get_directory()"
   ]
  },
  {
   "cell_type": "code",
   "execution_count": 16,
   "metadata": {
    "collapsed": true
   },
   "outputs": [],
   "source": [
    "testB3 = ChildC('Kim', 'Zoldak', 23)"
   ]
  },
  {
   "cell_type": "code",
   "execution_count": 17,
   "metadata": {
    "collapsed": false
   },
   "outputs": [
    {
     "data": {
      "text/plain": [
       "(23, 'Kim', 'Zoldak', '/Users/Kim/ChildB/', 'dog')"
      ]
     },
     "execution_count": 17,
     "metadata": {},
     "output_type": "execute_result"
    }
   ],
   "source": [
    "testB3.age, testB3.firstName, testB3.lastName, testB3.get_directory(), testB3.pet"
   ]
  },
  {
   "cell_type": "markdown",
   "metadata": {},
   "source": [
    "   "
   ]
  },
  {
   "cell_type": "markdown",
   "metadata": {},
   "source": [
    "# Example 3:"
   ]
  },
  {
   "cell_type": "markdown",
   "metadata": {},
   "source": [
    "### What if we don't know the order of the arguments?\n",
    "#### Set them up in a dictionary where order doesn't matter!!"
   ]
  },
  {
   "cell_type": "code",
   "execution_count": 18,
   "metadata": {
    "collapsed": false
   },
   "outputs": [],
   "source": [
    "class BaseB(object):\n",
    "    \n",
    "    def __init__(self):\n",
    "        print(\"Base created for %s who is age %i\"%(self.firstName, self.age))\n",
    "        \n",
    "    def get_directory(self):\n",
    "        return \"/Users/%s/\"%self.firstName\n",
    "    \n",
    "\n",
    "\n",
    "\n",
    "\n",
    "class ChildB(BaseB):\n",
    "    '''\n",
    "    ChildB(firstName, lastName, age)\n",
    "    \n",
    "    firstName:  str, first name.\n",
    "    lastName:   str, last name.\n",
    "    age:        int, age.\n",
    "    \n",
    "    \n",
    "    A list of arguments can be passed So that this class can be used as a standalone.\n",
    "    If it is being used as a Base Class to another class, then either args or kwargs can be used.\n",
    "    \n",
    "    *args:      [firstName, lastName, age]  only\n",
    "    **kwargs:   {'firstName':self.firstName, 'lastName':self.lastName, \n",
    "                'age':self.age, 'pet':self.pet}\n",
    "    \n",
    "    kwargs has as many dictionary entries as you want to pass.  \n",
    "    This function only uses the firstName, lastname and age though.\n",
    "    '''\n",
    "    def __init__(self, *args, **kwargs):\n",
    "        if kwargs:\n",
    "            print('\\n ** Dictionary of Args used. \\n')\n",
    "            print(kwargs)\n",
    "            self.firstName   = kwargs['firstName']\n",
    "            self.lastName    = kwargs['lastName']\n",
    "            self.age         = kwargs['age']\n",
    "        else:\n",
    "            print('\\n ** Parameters read into class ChildB via list of arguments. \\n')\n",
    "            self.firstName, self.lastName, self.age = args\n",
    "            print(args)\n",
    "       \n",
    "        super(ChildB, self).__init__()\n",
    "        \n",
    "    def get_directory(self):\n",
    "        return \"/Users/%s/ChildB/\"%self.firstName\n",
    "\n",
    "\n",
    "\n",
    "\n",
    "class ChildC(ChildB):\n",
    "    '''\n",
    "    ChildC(firstName, lastName, age, petspecies, petname):\n",
    "    \n",
    "    firstName:  str, first name.\n",
    "    lastName:   str, last name.\n",
    "    age:        int, age.\n",
    "    petspecies: str, species of pet.  'dog' or 'cat'.\n",
    "    petname:    str, pet's name.  'Sirius'\n",
    "    \n",
    "    \n",
    "    A list of arguments can be passed So that this class can be used as a standalone.\n",
    "    If it is being used as a Base Class to another class, then either args or kwargs can be used.\n",
    "    \n",
    "    *args:      [firstName, lastName, age]  only\n",
    "    **kwargs:   {'firstName':self.firstName, 'lastName':self.lastName, \n",
    "                'age':self.age, 'pet':self.pet}\n",
    "    \n",
    "    kwargs has as many dictionary entries as you want to pass.  \n",
    "    This function only uses the firstName, lastname and age though.\n",
    "    '''\n",
    "    def __init__(self, firstName, lastName, age, petspecies, petname):\n",
    "        self.firstName   = firstName\n",
    "        self.lastName    = lastName\n",
    "        self.age         = age\n",
    "        self.petspecies  = petspecies\n",
    "        self.petname     = petname\n",
    "        \n",
    "        pars = {'firstName':self.firstName, 'lastName':self.lastName, 'age':self.age, \n",
    "                'pet':self.petspecies, 'petname': self.petname}\n",
    "        super(ChildC, self).__init__(None,**pars)\n",
    "    \n",
    "    def get_petname(self):\n",
    "        print(\"%s's pet %s is named %s\"%(self.firstName, self.petspecies, self.petname))\n",
    "    \n"
   ]
  },
  {
   "cell_type": "code",
   "execution_count": 19,
   "metadata": {
    "collapsed": false,
    "scrolled": true
   },
   "outputs": [
    {
     "name": "stdout",
     "output_type": "stream",
     "text": [
      "\n",
      " ** Parameters read into class ChildB via list of arguments. \n",
      "\n",
      "('Kim', 'Zoldak', 12)\n",
      "Base created for Kim who is age 12\n"
     ]
    }
   ],
   "source": [
    "testB4 = ChildB('Kim', 'Zoldak', 12)"
   ]
  },
  {
   "cell_type": "code",
   "execution_count": 20,
   "metadata": {
    "collapsed": false
   },
   "outputs": [
    {
     "name": "stdout",
     "output_type": "stream",
     "text": [
      "\n",
      " ** Dictionary of Args used. \n",
      "\n",
      "{'pet': 'dog', 'lastName': 'Zoldak', 'age': 12, 'firstName': 'Kim', 'petname': 'Sirius'}\n",
      "Base created for Kim who is age 12\n"
     ]
    }
   ],
   "source": [
    "testB5 = ChildC('Kim', 'Zoldak', 12, 'dog', 'Sirius')"
   ]
  },
  {
   "cell_type": "code",
   "execution_count": 21,
   "metadata": {
    "collapsed": false
   },
   "outputs": [
    {
     "name": "stdout",
     "output_type": "stream",
     "text": [
      "Kim's pet dog is named Sirius\n"
     ]
    }
   ],
   "source": [
    "testB5.get_petname()"
   ]
  },
  {
   "cell_type": "code",
   "execution_count": null,
   "metadata": {
    "collapsed": true
   },
   "outputs": [],
   "source": []
  },
  {
   "cell_type": "code",
   "execution_count": null,
   "metadata": {
    "collapsed": true
   },
   "outputs": [],
   "source": []
  },
  {
   "cell_type": "code",
   "execution_count": null,
   "metadata": {
    "collapsed": true
   },
   "outputs": [],
   "source": []
  }
 ],
 "metadata": {
  "kernelspec": {
   "display_name": "Python 2",
   "language": "python",
   "name": "python2"
  },
  "language_info": {
   "codemirror_mode": {
    "name": "ipython",
    "version": 2
   },
   "file_extension": ".py",
   "mimetype": "text/x-python",
   "name": "python",
   "nbconvert_exporter": "python",
   "pygments_lexer": "ipython2",
   "version": "2.7.12"
  }
 },
 "nbformat": 4,
 "nbformat_minor": 0
}
