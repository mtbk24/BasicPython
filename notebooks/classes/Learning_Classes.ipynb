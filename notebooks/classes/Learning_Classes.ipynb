{
 "cells": [
  {
   "cell_type": "markdown",
   "metadata": {},
   "source": [
    "https://docs.python.org/2/tutorial/classes.html"
   ]
  },
  {
   "cell_type": "markdown",
   "metadata": {},
   "source": [
    "## Classes"
   ]
  },
  {
   "cell_type": "markdown",
   "metadata": {},
   "source": [
    "Class objects support two kinds of operations: attribute references and instantiation.\n",
    "\n",
    "Attribute references use the standard syntax used for all attribute references in Python: obj.name. Valid attribute names are all the names that were in the class’s namespace when the class object was created. So, if the class definition looked like this:"
   ]
  },
  {
   "cell_type": "raw",
   "metadata": {
    "collapsed": true
   },
   "source": [
    "class C(object):\n",
    "    @staticmethod\n",
    "    def f(arg1, arg2, ...):"
   ]
  },
  {
   "cell_type": "code",
   "execution_count": 1,
   "metadata": {
    "collapsed": true
   },
   "outputs": [],
   "source": [
    "class MyClass:\n",
    "    \"\"\"A simple example class\"\"\"\n",
    "    i = 12345 # an attribute\n",
    "    def f(self): # also an attribute\n",
    "        return 'hello world'"
   ]
  },
  {
   "cell_type": "code",
   "execution_count": 2,
   "metadata": {
    "collapsed": false
   },
   "outputs": [
    {
     "data": {
      "text/plain": [
       "12345"
      ]
     },
     "execution_count": 2,
     "metadata": {},
     "output_type": "execute_result"
    }
   ],
   "source": [
    "MyClass.i"
   ]
  },
  {
   "cell_type": "code",
   "execution_count": 3,
   "metadata": {
    "collapsed": false
   },
   "outputs": [
    {
     "data": {
      "text/plain": [
       "<unbound method MyClass.f>"
      ]
     },
     "execution_count": 3,
     "metadata": {},
     "output_type": "execute_result"
    }
   ],
   "source": [
    "MyClass.f"
   ]
  },
  {
   "cell_type": "markdown",
   "metadata": {},
   "source": [
    "MyClass.i and MyClass.f are valid attribute references, returning an integer and a function object, respectively. "
   ]
  },
  {
   "cell_type": "code",
   "execution_count": 4,
   "metadata": {
    "collapsed": true
   },
   "outputs": [],
   "source": [
    "def decorator(fn):\n",
    "    def inner(n):\n",
    "        return fn(n) + 1\n",
    "    return inner"
   ]
  },
  {
   "cell_type": "code",
   "execution_count": 5,
   "metadata": {
    "collapsed": false
   },
   "outputs": [],
   "source": [
    "@decorator\n",
    "def f(n):\n",
    "    return n + 1"
   ]
  },
  {
   "cell_type": "code",
   "execution_count": 6,
   "metadata": {
    "collapsed": true
   },
   "outputs": [],
   "source": [
    "class C7: \n",
    "    pass"
   ]
  },
  {
   "cell_type": "code",
   "execution_count": 7,
   "metadata": {
    "collapsed": true
   },
   "outputs": [],
   "source": [
    "z = C7() "
   ]
  },
  {
   "cell_type": "code",
   "execution_count": 8,
   "metadata": {
    "collapsed": true
   },
   "outputs": [],
   "source": [
    "z.x = 23"
   ]
  },
  {
   "cell_type": "code",
   "execution_count": 9,
   "metadata": {
    "collapsed": false
   },
   "outputs": [
    {
     "data": {
      "text/plain": [
       "23"
      ]
     },
     "execution_count": 9,
     "metadata": {},
     "output_type": "execute_result"
    }
   ],
   "source": [
    "z.x # returns 23"
   ]
  },
  {
   "cell_type": "code",
   "execution_count": 10,
   "metadata": {
    "collapsed": false
   },
   "outputs": [
    {
     "name": "stdout",
     "output_type": "stream",
     "text": [
      "23\n"
     ]
    }
   ],
   "source": [
    "print z.x  #returns 23"
   ]
  },
  {
   "cell_type": "code",
   "execution_count": 11,
   "metadata": {
    "collapsed": false
   },
   "outputs": [
    {
     "data": {
      "text/plain": [
       "<class __main__.C7 at 0x104b240b8>"
      ]
     },
     "execution_count": 11,
     "metadata": {},
     "output_type": "execute_result"
    }
   ],
   "source": [
    "z.__class__"
   ]
  },
  {
   "cell_type": "code",
   "execution_count": 12,
   "metadata": {
    "collapsed": false
   },
   "outputs": [
    {
     "data": {
      "text/plain": [
       "'C7'"
      ]
     },
     "execution_count": 12,
     "metadata": {},
     "output_type": "execute_result"
    }
   ],
   "source": [
    "z.__class__.__name__ # C7"
   ]
  },
  {
   "cell_type": "code",
   "execution_count": 13,
   "metadata": {
    "collapsed": false
   },
   "outputs": [
    {
     "data": {
      "text/plain": [
       "{'x': 23}"
      ]
     },
     "execution_count": 13,
     "metadata": {},
     "output_type": "execute_result"
    }
   ],
   "source": [
    "z.__dict__ # {'x': 23}"
   ]
  },
  {
   "cell_type": "code",
   "execution_count": 14,
   "metadata": {
    "collapsed": false
   },
   "outputs": [
    {
     "data": {
      "text/plain": [
       "{'__doc__': None, '__module__': '__main__'}"
      ]
     },
     "execution_count": 14,
     "metadata": {},
     "output_type": "execute_result"
    }
   ],
   "source": [
    "C7.__dict__  # does not have x.  "
   ]
  },
  {
   "cell_type": "code",
   "execution_count": 15,
   "metadata": {
    "collapsed": true
   },
   "outputs": [],
   "source": [
    "z.y = 45"
   ]
  },
  {
   "cell_type": "code",
   "execution_count": 16,
   "metadata": {
    "collapsed": true
   },
   "outputs": [],
   "source": [
    "z.__dict__['z'] = 67"
   ]
  },
  {
   "cell_type": "code",
   "execution_count": 17,
   "metadata": {
    "collapsed": false
   },
   "outputs": [
    {
     "name": "stdout",
     "output_type": "stream",
     "text": [
      "23 45 67\n"
     ]
    }
   ],
   "source": [
    "print z.x, z.y, z.z"
   ]
  },
  {
   "cell_type": "code",
   "execution_count": 18,
   "metadata": {
    "collapsed": true
   },
   "outputs": [],
   "source": [
    "class SpecialCase(object):\n",
    "    def amethod(self):\n",
    "        print \"special\"\n",
    "\n",
    "class NormalCase(object):\n",
    "    def amethod(self):\n",
    "        print \"normal\"\n",
    "\n",
    "def appropriateCase(isnormal=True):\n",
    "    if isnormal:\n",
    "        return NormalCase()\n",
    "    else:\n",
    "        return SpecialCase()"
   ]
  },
  {
   "cell_type": "code",
   "execution_count": 19,
   "metadata": {
    "collapsed": true
   },
   "outputs": [],
   "source": [
    "anInstance = appropriateCase(isnormal=True)"
   ]
  },
  {
   "cell_type": "code",
   "execution_count": 20,
   "metadata": {
    "collapsed": false
   },
   "outputs": [
    {
     "name": "stdout",
     "output_type": "stream",
     "text": [
      "normal\n"
     ]
    }
   ],
   "source": [
    "anInstance.amethod() # prints normal"
   ]
  },
  {
   "cell_type": "code",
   "execution_count": 21,
   "metadata": {
    "collapsed": true
   },
   "outputs": [],
   "source": [
    "anInstance2 = appropriateCase(isnormal=False)"
   ]
  },
  {
   "cell_type": "code",
   "execution_count": 22,
   "metadata": {
    "collapsed": false
   },
   "outputs": [
    {
     "name": "stdout",
     "output_type": "stream",
     "text": [
      "special\n"
     ]
    }
   ],
   "source": [
    "anInstance2.amethod() # prints special"
   ]
  },
  {
   "cell_type": "code",
   "execution_count": 23,
   "metadata": {
    "collapsed": true
   },
   "outputs": [],
   "source": [
    "class ModForXspec(object):\n",
    "    def amethod(self):\n",
    "        print \"Models for importing to XSPEC\"\n",
    "        \n",
    "class ModForPlotting(object):\n",
    "    def amethod(self):\n",
    "        print \"Plotting Models\"\n",
    "        \n",
    "class ModForFluxCalc(object):\n",
    "    '''\n",
    "    This case is for Flux Calculations.\n",
    "    '''\n",
    "    def amethod(self):\n",
    "        print \"Flux Calculation Models\"\n",
    "\n",
    "def appropriateCase(CASE):\n",
    "    if CASE == 'xspec':\n",
    "        return ModForXspec()\n",
    "    elif CASE == 'plot':\n",
    "        return ModForPlotting()\n",
    "    elif CASE == 'flux':\n",
    "        return ModForFluxCalc()"
   ]
  },
  {
   "cell_type": "code",
   "execution_count": 24,
   "metadata": {
    "collapsed": true
   },
   "outputs": [],
   "source": [
    "isInstance = appropriateCase('xspec')"
   ]
  },
  {
   "cell_type": "code",
   "execution_count": 25,
   "metadata": {
    "collapsed": false
   },
   "outputs": [
    {
     "name": "stdout",
     "output_type": "stream",
     "text": [
      "Models for importing to XSPEC\n"
     ]
    }
   ],
   "source": [
    "isInstance.amethod()"
   ]
  },
  {
   "cell_type": "code",
   "execution_count": 26,
   "metadata": {
    "collapsed": false
   },
   "outputs": [
    {
     "data": {
      "text/plain": [
       "'ModForFluxCalc'"
      ]
     },
     "execution_count": 26,
     "metadata": {},
     "output_type": "execute_result"
    }
   ],
   "source": [
    "ModForFluxCalc.__name__"
   ]
  },
  {
   "cell_type": "code",
   "execution_count": 27,
   "metadata": {
    "collapsed": false
   },
   "outputs": [
    {
     "data": {
      "text/plain": [
       "<dictproxy {'__dict__': <attribute '__dict__' of 'ModForFluxCalc' objects>,\n",
       " '__doc__': '\\n    This case is for Flux Calculations.\\n    ',\n",
       " '__module__': '__main__',\n",
       " '__weakref__': <attribute '__weakref__' of 'ModForFluxCalc' objects>,\n",
       " 'amethod': <function __main__.amethod>}>"
      ]
     },
     "execution_count": 27,
     "metadata": {},
     "output_type": "execute_result"
    }
   ],
   "source": [
    "ModForFluxCalc.__dict__"
   ]
  },
  {
   "cell_type": "code",
   "execution_count": 28,
   "metadata": {
    "collapsed": false
   },
   "outputs": [
    {
     "data": {
      "text/plain": [
       "'\\n    This case is for Flux Calculations.\\n    '"
      ]
     },
     "execution_count": 28,
     "metadata": {},
     "output_type": "execute_result"
    }
   ],
   "source": [
    "'''Returns the documentation.'''\n",
    "ModForFluxCalc.__doc__ # returns: This case is for Flux Calculations."
   ]
  },
  {
   "cell_type": "code",
   "execution_count": 29,
   "metadata": {
    "collapsed": true
   },
   "outputs": [],
   "source": [
    "#### __new__ won't work if the class doesn't have an __init__\n",
    "\n",
    "# setattr(object, name, value) is the same as object.name = value\n",
    "# x.foo = 123"
   ]
  },
  {
   "cell_type": "code",
   "execution_count": 30,
   "metadata": {
    "collapsed": true
   },
   "outputs": [],
   "source": [
    "compName = 'band'\n",
    "parNames = ['alpha', 'beta', 'ebreak', 'norm_b']\n",
    "parValues = [-1.2, -2.2, 226.3, 0.0117]"
   ]
  },
  {
   "cell_type": "code",
   "execution_count": 31,
   "metadata": {
    "collapsed": true
   },
   "outputs": [],
   "source": [
    "class ReadModel(object):\n",
    "        \n",
    "    def __init__(self, modelName, parNames, parValues):\n",
    "        self.name = modelName # good\n",
    "        for parName, parVal in zip(parNames, parValues):\n",
    "            setattr(self, parName, parVal)\n",
    "        modNames = modelName.split('+')\n",
    "        for name in modNames:\n",
    "            setattr(self, name, None)\n",
    "\n",
    "        self.parNames = parNames  # good\n",
    "        self.parIndex = parNames.index"
   ]
  },
  {
   "cell_type": "code",
   "execution_count": 32,
   "metadata": {
    "collapsed": true
   },
   "outputs": [],
   "source": [
    "#m1 = Component(compName, parNames, parValues)        \n",
    "x = ReadModel.__new__(ReadModel, 23) "
   ]
  },
  {
   "cell_type": "code",
   "execution_count": 33,
   "metadata": {
    "collapsed": true
   },
   "outputs": [],
   "source": [
    "class Singleton(object):\n",
    "    _singletons={}\n",
    "    def __new__(cls, *args, **kwargs):\n",
    "        if cls not in cls._singletons:\n",
    "            cls._singletons[cls] = super(Singleton, cls).__new__(cls)\n",
    "        return cls._singletons[cls]\n",
    "        "
   ]
  },
  {
   "cell_type": "code",
   "execution_count": 34,
   "metadata": {
    "collapsed": true
   },
   "outputs": [],
   "source": [
    "single = Singleton()"
   ]
  },
  {
   "cell_type": "code",
   "execution_count": 35,
   "metadata": {
    "collapsed": false
   },
   "outputs": [
    {
     "data": {
      "text/plain": [
       "<function __main__.__new__>"
      ]
     },
     "execution_count": 35,
     "metadata": {},
     "output_type": "execute_result"
    }
   ],
   "source": [
    "single.__new__"
   ]
  },
  {
   "cell_type": "code",
   "execution_count": 36,
   "metadata": {
    "collapsed": true
   },
   "outputs": [],
   "source": [
    "'''\n",
    "x is an instance of class C, which inherits from base class B.  \n",
    "Both classes and the instance have several attributes (data and methods).\n",
    "'''\n",
    "\n",
    "class B(object): # Base Class.\n",
    "    a = 23\n",
    "    b = 45\n",
    "    def f(self): print \"method f in class B\"\n",
    "    def g(self): print \"method g in class B\"\n",
    "    \n",
    "class C(B):  # B is the base class. class C inherits from it.\n",
    "    b = 67\n",
    "    c = 89\n",
    "    def g(self): print \"method g in class C\"\n",
    "    def h(self): print \"method h in class C\""
   ]
  },
  {
   "cell_type": "code",
   "execution_count": 37,
   "metadata": {
    "collapsed": true
   },
   "outputs": [],
   "source": [
    "x = C()"
   ]
  },
  {
   "cell_type": "code",
   "execution_count": 38,
   "metadata": {
    "collapsed": true
   },
   "outputs": [],
   "source": [
    "x.d = 77"
   ]
  },
  {
   "cell_type": "code",
   "execution_count": 39,
   "metadata": {
    "collapsed": true
   },
   "outputs": [],
   "source": [
    "x.e = 88"
   ]
  },
  {
   "cell_type": "code",
   "execution_count": 40,
   "metadata": {
    "collapsed": false
   },
   "outputs": [
    {
     "data": {
      "text/plain": [
       "'C'"
      ]
     },
     "execution_count": 40,
     "metadata": {},
     "output_type": "execute_result"
    }
   ],
   "source": [
    "C.__name__"
   ]
  },
  {
   "cell_type": "code",
   "execution_count": 41,
   "metadata": {
    "collapsed": false
   },
   "outputs": [
    {
     "data": {
      "text/plain": [
       "(__main__.B,)"
      ]
     },
     "execution_count": 41,
     "metadata": {},
     "output_type": "execute_result"
    }
   ],
   "source": [
    "C.__bases__ # returns (__main__.B,)"
   ]
  },
  {
   "cell_type": "code",
   "execution_count": 42,
   "metadata": {
    "collapsed": false
   },
   "outputs": [
    {
     "data": {
      "text/plain": [
       "23"
      ]
     },
     "execution_count": 42,
     "metadata": {},
     "output_type": "execute_result"
    }
   ],
   "source": [
    "x.a # returns 23 bc this is adopted from class B"
   ]
  },
  {
   "cell_type": "code",
   "execution_count": 43,
   "metadata": {
    "collapsed": false
   },
   "outputs": [
    {
     "data": {
      "text/plain": [
       "67"
      ]
     },
     "execution_count": 43,
     "metadata": {},
     "output_type": "execute_result"
    }
   ],
   "source": [
    "x.b # returns 67, since the 45 is overridden in class C"
   ]
  },
  {
   "cell_type": "code",
   "execution_count": 44,
   "metadata": {
    "collapsed": false
   },
   "outputs": [
    {
     "data": {
      "text/plain": [
       "89"
      ]
     },
     "execution_count": 44,
     "metadata": {},
     "output_type": "execute_result"
    }
   ],
   "source": [
    "x.c # returns 89"
   ]
  },
  {
   "cell_type": "code",
   "execution_count": 45,
   "metadata": {
    "collapsed": false
   },
   "outputs": [
    {
     "name": "stdout",
     "output_type": "stream",
     "text": [
      "<bound method C.h of <__main__.C object at 0x104b0ddd0>>\n",
      "<bound method C.g of <__main__.C object at 0x104b0ddd0>>\n",
      "<bound method C.f of <__main__.C object at 0x104b0ddd0>>\n",
      "<unbound method C.h>\n",
      "<unbound method C.g>\n",
      "<unbound method C.f>\n"
     ]
    }
   ],
   "source": [
    "# bound vs unbound\n",
    "print x.h # bound\n",
    "print x.g # bound\n",
    "print x.f # bound\n",
    "print C.h # unbound\n",
    "print C.g # unbound\n",
    "print C.f # unbound "
   ]
  },
  {
   "cell_type": "code",
   "execution_count": 46,
   "metadata": {
    "collapsed": false
   },
   "outputs": [
    {
     "name": "stdout",
     "output_type": "stream",
     "text": [
      "method g in class C\n",
      "method h in class C\n",
      "method f in class B\n"
     ]
    },
    {
     "data": {
      "text/plain": [
       "<bound method C.f of <__main__.C object at 0x104b0ddd0>>"
      ]
     },
     "execution_count": 46,
     "metadata": {},
     "output_type": "execute_result"
    }
   ],
   "source": [
    "x.g() # prints method g in class C\n",
    "x.h() # prints method h in class C\n",
    "x.f() # prints method f in class B\n",
    "B.f # unbound method\n",
    "C.f # unbound method\n",
    "x.f # bound method\n",
    "# The act of using x = C() bounds all the methods and attributes of classes B and C to x."
   ]
  },
  {
   "cell_type": "code",
   "execution_count": 47,
   "metadata": {
    "collapsed": false
   },
   "outputs": [
    {
     "name": "stdout",
     "output_type": "stream",
     "text": [
      "method g in class C\n",
      "method g in class B\n"
     ]
    }
   ],
   "source": [
    "C.g(x) # method g in class C\n",
    "B.g(x) # method g in class B\n",
    "# remember, both classes C and B are stored in x because B is a baseclass of C."
   ]
  },
  {
   "cell_type": "code",
   "execution_count": 48,
   "metadata": {
    "collapsed": false
   },
   "outputs": [
    {
     "data": {
      "text/plain": [
       "(__main__.B,)"
      ]
     },
     "execution_count": 48,
     "metadata": {},
     "output_type": "execute_result"
    }
   ],
   "source": [
    "C.__bases__ # (__main__.B,)"
   ]
  },
  {
   "cell_type": "code",
   "execution_count": 49,
   "metadata": {
    "collapsed": false
   },
   "outputs": [
    {
     "data": {
      "text/plain": [
       "__main__.C"
      ]
     },
     "execution_count": 49,
     "metadata": {},
     "output_type": "execute_result"
    }
   ],
   "source": [
    "x.__class__ # __main__.C"
   ]
  },
  {
   "cell_type": "code",
   "execution_count": 50,
   "metadata": {
    "collapsed": false
   },
   "outputs": [
    {
     "data": {
      "text/plain": [
       "type"
      ]
     },
     "execution_count": 50,
     "metadata": {},
     "output_type": "execute_result"
    }
   ],
   "source": [
    "C.__class__ # type"
   ]
  },
  {
   "cell_type": "code",
   "execution_count": 51,
   "metadata": {
    "collapsed": false
   },
   "outputs": [
    {
     "data": {
      "text/plain": [
       "type"
      ]
     },
     "execution_count": 51,
     "metadata": {},
     "output_type": "execute_result"
    }
   ],
   "source": [
    "B.__class__ # type"
   ]
  },
  {
   "cell_type": "code",
   "execution_count": 52,
   "metadata": {
    "collapsed": false
   },
   "outputs": [
    {
     "data": {
      "text/plain": [
       "['__class__',\n",
       " '__delattr__',\n",
       " '__dict__',\n",
       " '__doc__',\n",
       " '__format__',\n",
       " '__getattribute__',\n",
       " '__hash__',\n",
       " '__init__',\n",
       " '__module__',\n",
       " '__new__',\n",
       " '__reduce__',\n",
       " '__reduce_ex__',\n",
       " '__repr__',\n",
       " '__setattr__',\n",
       " '__sizeof__',\n",
       " '__str__',\n",
       " '__subclasshook__',\n",
       " '__weakref__',\n",
       " 'a',\n",
       " 'b',\n",
       " 'c',\n",
       " 'f',\n",
       " 'g',\n",
       " 'h']"
      ]
     },
     "execution_count": 52,
     "metadata": {},
     "output_type": "execute_result"
    }
   ],
   "source": [
    "dir(C)"
   ]
  },
  {
   "cell_type": "markdown",
   "metadata": {},
   "source": [
    "### 3 ways to set a new attribute."
   ]
  },
  {
   "cell_type": "markdown",
   "metadata": {},
   "source": [
    "#### 1."
   ]
  },
  {
   "cell_type": "code",
   "execution_count": 53,
   "metadata": {
    "collapsed": false
   },
   "outputs": [
    {
     "data": {
      "text/plain": [
       "'kim'"
      ]
     },
     "execution_count": 53,
     "metadata": {},
     "output_type": "execute_result"
    }
   ],
   "source": [
    "x.__dict__['name']='kim' # same as x.name = 'kim'\n",
    "x.name # returns 'kim'"
   ]
  },
  {
   "cell_type": "markdown",
   "metadata": {},
   "source": [
    "#### 2."
   ]
  },
  {
   "cell_type": "code",
   "execution_count": 54,
   "metadata": {
    "collapsed": false
   },
   "outputs": [
    {
     "data": {
      "text/plain": [
       "'zoldak'"
      ]
     },
     "execution_count": 54,
     "metadata": {},
     "output_type": "execute_result"
    }
   ],
   "source": [
    "x.name2 = 'zoldak'\n",
    "x.name2 # returns 'zoldak'"
   ]
  },
  {
   "cell_type": "markdown",
   "metadata": {},
   "source": [
    "#### 3."
   ]
  },
  {
   "cell_type": "code",
   "execution_count": 55,
   "metadata": {
    "collapsed": false
   },
   "outputs": [
    {
     "data": {
      "text/plain": [
       "'Zoldak'"
      ]
     },
     "execution_count": 55,
     "metadata": {},
     "output_type": "execute_result"
    }
   ],
   "source": [
    "x.__setattr__('lastname','Zoldak')\n",
    "x.lastname # returns 'Zoldak'"
   ]
  },
  {
   "cell_type": "markdown",
   "metadata": {},
   "source": [
    " -------"
   ]
  },
  {
   "cell_type": "markdown",
   "metadata": {},
   "source": [
    "### 2 ways to get an attribute."
   ]
  },
  {
   "cell_type": "markdown",
   "metadata": {},
   "source": [
    "#### 1."
   ]
  },
  {
   "cell_type": "code",
   "execution_count": 56,
   "metadata": {
    "collapsed": false
   },
   "outputs": [
    {
     "data": {
      "text/plain": [
       "'kim'"
      ]
     },
     "execution_count": 56,
     "metadata": {},
     "output_type": "execute_result"
    }
   ],
   "source": [
    "x.__getattribute__('name') # returns 'kim'"
   ]
  },
  {
   "cell_type": "markdown",
   "metadata": {},
   "source": [
    "#### 2. "
   ]
  },
  {
   "cell_type": "code",
   "execution_count": 57,
   "metadata": {
    "collapsed": false
   },
   "outputs": [
    {
     "data": {
      "text/plain": [
       "'kim'"
      ]
     },
     "execution_count": 57,
     "metadata": {},
     "output_type": "execute_result"
    }
   ],
   "source": [
    "C.__getattribute__(x, 'name') # returns 'kim'"
   ]
  },
  {
   "cell_type": "markdown",
   "metadata": {},
   "source": [
    "-------"
   ]
  },
  {
   "cell_type": "code",
   "execution_count": 58,
   "metadata": {
    "collapsed": false
   },
   "outputs": [
    {
     "name": "stdout",
     "output_type": "stream",
     "text": [
      "(88, 77, 89, 67, 23)\n"
     ]
    }
   ],
   "source": [
    "print(x.e, x.d, x.c, x.b, x.a)"
   ]
  },
  {
   "cell_type": "code",
   "execution_count": 59,
   "metadata": {
    "collapsed": true
   },
   "outputs": [],
   "source": [
    "def f(a,b):\n",
    "    class C(object):\n",
    "        name = f"
   ]
  },
  {
   "cell_type": "markdown",
   "metadata": {},
   "source": [
    "-------"
   ]
  },
  {
   "cell_type": "markdown",
   "metadata": {},
   "source": [
    "## The following are all the same.  \n",
    "### The first one is the simplest and most often used."
   ]
  },
  {
   "cell_type": "markdown",
   "metadata": {},
   "source": [
    "#### 1."
   ]
  },
  {
   "cell_type": "code",
   "execution_count": 60,
   "metadata": {
    "collapsed": true
   },
   "outputs": [],
   "source": [
    "def make_adder_as_closure(augend):\n",
    "    def add(addend, _augend=augend):\n",
    "        return addend+_augend\n",
    "    return add"
   ]
  },
  {
   "cell_type": "code",
   "execution_count": 61,
   "metadata": {
    "collapsed": false
   },
   "outputs": [
    {
     "data": {
      "text/plain": [
       "5"
      ]
     },
     "execution_count": 61,
     "metadata": {},
     "output_type": "execute_result"
    }
   ],
   "source": [
    "ex1 = make_adder_as_closure(3) # kim is a new function\n",
    "ex1(2) # 3 + 2"
   ]
  },
  {
   "cell_type": "code",
   "execution_count": 62,
   "metadata": {
    "collapsed": false
   },
   "outputs": [
    {
     "data": {
      "text/plain": [
       "8"
      ]
     },
     "execution_count": 62,
     "metadata": {},
     "output_type": "execute_result"
    }
   ],
   "source": [
    "ex1(5) # 3 + 5"
   ]
  },
  {
   "cell_type": "code",
   "execution_count": 63,
   "metadata": {
    "collapsed": true
   },
   "outputs": [],
   "source": [
    "def make_adder_as_bound_method(augend):\n",
    "    class Adder(object):\n",
    "        def __init__(self, augend):\n",
    "            self.augend = augend\n",
    "        def add(self, addend):\n",
    "            return addend+self.augend\n",
    "    return Adder(augend).add"
   ]
  },
  {
   "cell_type": "code",
   "execution_count": 64,
   "metadata": {
    "collapsed": false
   },
   "outputs": [
    {
     "data": {
      "text/plain": [
       "5"
      ]
     },
     "execution_count": 64,
     "metadata": {},
     "output_type": "execute_result"
    }
   ],
   "source": [
    "ex2 = make_adder_as_bound_method(3) \n",
    "ex2(2)  # 3 + 2"
   ]
  },
  {
   "cell_type": "code",
   "execution_count": 65,
   "metadata": {
    "collapsed": false
   },
   "outputs": [
    {
     "data": {
      "text/plain": [
       "8"
      ]
     },
     "execution_count": 65,
     "metadata": {},
     "output_type": "execute_result"
    }
   ],
   "source": [
    "ex2(5) # 3 + 5"
   ]
  },
  {
   "cell_type": "code",
   "execution_count": 66,
   "metadata": {
    "collapsed": true
   },
   "outputs": [],
   "source": [
    "def make_adder_as_callable_instance(augend):\n",
    "    class Adder(object):\n",
    "        def __init__(self, augend):\n",
    "            self.augend = augend\n",
    "        def __call__(self, addend):\n",
    "            return addend+self.augend\n",
    "    return Adder(augend)"
   ]
  },
  {
   "cell_type": "code",
   "execution_count": 67,
   "metadata": {
    "collapsed": false
   },
   "outputs": [
    {
     "data": {
      "text/plain": [
       "5"
      ]
     },
     "execution_count": 67,
     "metadata": {},
     "output_type": "execute_result"
    }
   ],
   "source": [
    "ex3 = make_adder_as_callable_instance(3)\n",
    "ex3(2) # 3+2"
   ]
  },
  {
   "cell_type": "code",
   "execution_count": 68,
   "metadata": {
    "collapsed": false
   },
   "outputs": [
    {
     "data": {
      "text/plain": [
       "8"
      ]
     },
     "execution_count": 68,
     "metadata": {},
     "output_type": "execute_result"
    }
   ],
   "source": [
    "ex3(5) # 3+5"
   ]
  },
  {
   "cell_type": "code",
   "execution_count": 69,
   "metadata": {
    "collapsed": true
   },
   "outputs": [],
   "source": [
    "def add(addend, augend):\n",
    "    return addend+augend\n",
    "add(2,4) # returns 6\n",
    "\n",
    "class Adder(object):\n",
    "    def __init__(self, augend):\n",
    "        self.augend = augend\n",
    "    def add(self, addend):\n",
    "        return addend+self.augend"
   ]
  },
  {
   "cell_type": "code",
   "execution_count": 70,
   "metadata": {
    "collapsed": false
   },
   "outputs": [
    {
     "data": {
      "text/plain": [
       "6"
      ]
     },
     "execution_count": 70,
     "metadata": {},
     "output_type": "execute_result"
    }
   ],
   "source": [
    "Adder(2).add(4) # returns 6"
   ]
  },
  {
   "cell_type": "code",
   "execution_count": 71,
   "metadata": {
    "collapsed": true
   },
   "outputs": [],
   "source": [
    "class Adder(object):\n",
    "    def __init__(self, augend):\n",
    "        self.augend = augend\n",
    "    def __call__(self, addend):\n",
    "        return addend+self.augend\n",
    "    #return Adder(augend)"
   ]
  },
  {
   "cell_type": "code",
   "execution_count": 72,
   "metadata": {
    "collapsed": false
   },
   "outputs": [
    {
     "data": {
      "text/plain": [
       "6"
      ]
     },
     "execution_count": 72,
     "metadata": {},
     "output_type": "execute_result"
    }
   ],
   "source": [
    "Adder(2).__call__(4) # returns 6"
   ]
  },
  {
   "cell_type": "code",
   "execution_count": 73,
   "metadata": {
    "collapsed": true
   },
   "outputs": [],
   "source": [
    "class Base1:\n",
    "    def amethod(self):\n",
    "        print \"Base1\"\n",
    "class Base2(Base1):\n",
    "    pass\n",
    "class Base3:\n",
    "    def amethod(self):\n",
    "        print \"Base3\"\n",
    "class Derived(Base2, Base3):\n",
    "    pass"
   ]
  },
  {
   "cell_type": "code",
   "execution_count": 74,
   "metadata": {
    "collapsed": false
   },
   "outputs": [],
   "source": [
    "aninstance = Derived()"
   ]
  },
  {
   "cell_type": "code",
   "execution_count": 75,
   "metadata": {
    "collapsed": false
   },
   "outputs": [
    {
     "name": "stdout",
     "output_type": "stream",
     "text": [
      "Base1\n"
     ]
    }
   ],
   "source": [
    "'''returns Base1 because the lookup for amethod starts with the \n",
    "first call in Derived and then proceeds to the second if it isn't \n",
    "found in the first.\n",
    "'''\n",
    "aninstance.amethod() "
   ]
  },
  {
   "cell_type": "code",
   "execution_count": 76,
   "metadata": {
    "collapsed": true
   },
   "outputs": [],
   "source": [
    "class Base1:\n",
    "    pass\n",
    "class Base2(Base1):\n",
    "    pass\n",
    "class Base3:\n",
    "    def amethod(self):\n",
    "        print \"Base3\"\n",
    "class Derived(Base2, Base3):\n",
    "    pass"
   ]
  },
  {
   "cell_type": "code",
   "execution_count": 77,
   "metadata": {
    "collapsed": true
   },
   "outputs": [],
   "source": [
    "aninstance = Derived()"
   ]
  },
  {
   "cell_type": "code",
   "execution_count": 78,
   "metadata": {
    "collapsed": false
   },
   "outputs": [
    {
     "name": "stdout",
     "output_type": "stream",
     "text": [
      "Base3\n"
     ]
    }
   ],
   "source": [
    "'''returns Base3 since it's the only one that has amethod \n",
    "function within its class.'''\n",
    "aninstance.amethod() "
   ]
  },
  {
   "cell_type": "code",
   "execution_count": 79,
   "metadata": {
    "collapsed": true
   },
   "outputs": [],
   "source": [
    "class Base1:\n",
    "    def amethod(self):\n",
    "        self.anattribute = 23\n",
    "class Base2(Base1):\n",
    "    pass\n",
    "class Base3:\n",
    "    def amethod(self):\n",
    "        self.anattribute = 25\n",
    "        \n",
    "class Derived(Base2, Base3):\n",
    "    pass"
   ]
  },
  {
   "cell_type": "code",
   "execution_count": 80,
   "metadata": {
    "collapsed": true
   },
   "outputs": [],
   "source": [
    "x = Derived()"
   ]
  },
  {
   "cell_type": "code",
   "execution_count": 81,
   "metadata": {
    "collapsed": true
   },
   "outputs": [],
   "source": [
    "''' \n",
    "once this runs, x.anattribute becomes available to use. \n",
    "Before it is ran, x.anattribute does not exist.\n",
    "'''\n",
    "x.amethod()  "
   ]
  },
  {
   "cell_type": "code",
   "execution_count": 82,
   "metadata": {
    "collapsed": true
   },
   "outputs": [],
   "source": [
    "#import numpy as np\n",
    "#myArray = np.random.random_sample(size=100)\n",
    "#myValue = 0.552"
   ]
  },
  {
   "cell_type": "code",
   "execution_count": 83,
   "metadata": {
    "collapsed": true
   },
   "outputs": [],
   "source": [
    "class Base(object):\n",
    "    def greet(self, name):\n",
    "        print \"Welcome \", name\n",
    "        \n",
    "class Sub(Base):\n",
    "    def greet(self, name):\n",
    "        print \"Well Met and\",\n",
    "        Base.greet(self, name)"
   ]
  },
  {
   "cell_type": "code",
   "execution_count": 84,
   "metadata": {
    "collapsed": false
   },
   "outputs": [
    {
     "name": "stdout",
     "output_type": "stream",
     "text": [
      "Well Met and Welcome  Kim\n"
     ]
    }
   ],
   "source": [
    "x = Sub()\n",
    "x.greet('Kim')"
   ]
  },
  {
   "cell_type": "code",
   "execution_count": 85,
   "metadata": {
    "collapsed": true
   },
   "outputs": [],
   "source": [
    "'''\n",
    "When Python creates an instance, the __init__ methods of base classes are not automatically invoked as they are in other object-oriented languages.  Thus, it is up to a subclass to perform th eproer initialization by using delegation if necessary.  \n",
    "\n",
    "For example:\n",
    "'''\n",
    "class Base(object):\n",
    "    def __init__(self):\n",
    "        self.anattribute = 23\n",
    "class Derived(Base):\n",
    "    def __init__(self):\n",
    "        Base.__init__(self)\n",
    "        self.anotherattribute = 45"
   ]
  },
  {
   "cell_type": "code",
   "execution_count": 86,
   "metadata": {
    "collapsed": true
   },
   "outputs": [],
   "source": [
    "x = Derived()"
   ]
  },
  {
   "cell_type": "code",
   "execution_count": 87,
   "metadata": {
    "collapsed": false
   },
   "outputs": [
    {
     "data": {
      "text/plain": [
       "23"
      ]
     },
     "execution_count": 87,
     "metadata": {},
     "output_type": "execute_result"
    }
   ],
   "source": [
    "x.anattribute # without Base.__init__(self), this doesn't exist because the Derived class attributes are bound to x, not the base classes."
   ]
  },
  {
   "cell_type": "code",
   "execution_count": 88,
   "metadata": {
    "collapsed": false
   },
   "outputs": [
    {
     "data": {
      "text/plain": [
       "45"
      ]
     },
     "execution_count": 88,
     "metadata": {},
     "output_type": "execute_result"
    }
   ],
   "source": [
    "x.anotherattribute # exists no matter what."
   ]
  },
  {
   "cell_type": "code",
   "execution_count": 89,
   "metadata": {
    "collapsed": true
   },
   "outputs": [],
   "source": [
    "'''\n",
    "This turns out to be exactly the same as when both are def greet().\n",
    "The only time the names being different becomes a proble\n",
    "'''\n",
    "class Base(object):\n",
    "    def greeting(self, name):\n",
    "        print \"Welcome\", name\n",
    "class Sub(Base):\n",
    "    def greet(self, name):\n",
    "        print \"Well Met and\",\n",
    "        Base.greeting(self, name)"
   ]
  },
  {
   "cell_type": "code",
   "execution_count": 90,
   "metadata": {
    "collapsed": true
   },
   "outputs": [],
   "source": [
    "x = Sub()"
   ]
  },
  {
   "cell_type": "code",
   "execution_count": 91,
   "metadata": {
    "collapsed": false
   },
   "outputs": [
    {
     "name": "stdout",
     "output_type": "stream",
     "text": [
      "Well Met and Welcome kim\n"
     ]
    }
   ],
   "source": [
    "x.greet('kim') # Well Met and Welcome  kim"
   ]
  },
  {
   "cell_type": "code",
   "execution_count": 92,
   "metadata": {
    "collapsed": false
   },
   "outputs": [
    {
     "name": "stdout",
     "output_type": "stream",
     "text": [
      "Welcome kim\n"
     ]
    }
   ],
   "source": [
    "x.greeting('kim') # Welcome  kim"
   ]
  },
  {
   "cell_type": "code",
   "execution_count": 93,
   "metadata": {
    "collapsed": true
   },
   "outputs": [],
   "source": [
    "class Base(object):\n",
    "    def greet(self, name):\n",
    "        print \"Welcome\", name\n",
    "class Sub(Base):\n",
    "    def greet(self, name):\n",
    "        print \"Well Met and\",\n",
    "        Base.greet(self, name)"
   ]
  },
  {
   "cell_type": "code",
   "execution_count": 94,
   "metadata": {
    "collapsed": false
   },
   "outputs": [
    {
     "name": "stdout",
     "output_type": "stream",
     "text": [
      "Well Met and Welcome Kim\n"
     ]
    }
   ],
   "source": [
    "x = Sub()\n",
    "x.greet('Kim') # only x.greet exists because both functions in Base and Sub are named the same. If they were different, both could be used."
   ]
  },
  {
   "cell_type": "code",
   "execution_count": 95,
   "metadata": {
    "collapsed": true
   },
   "outputs": [],
   "source": [
    "class Parameter(object):\n",
    "    def __init__(self, ParNames, ParValues):\n",
    "        for ParName, ParVal in zip(ParNames, ParValues):\n",
    "            if ParName == 'alpha':\n",
    "                values = [ParVal, 0.1, -1.9, -1.9, 1.0, 5.0]\n",
    "                setattr(self, ParName, values)\n",
    "            elif ParName == 'beta':\n",
    "                values = [ParVal, 0.1, -8.0, -7.0, -2.0, -2.0]\n",
    "                setattr(self, ParName, values)\n",
    "            elif ParName == 'ebreak':\n",
    "                values = [ParVal, 1.0, 10.0, 10.0, 3000.0, 5000.0]\n",
    "                setattr(self, ParName, values)\n",
    "            elif ParName == 'norm_b':\n",
    "                values = [ParVal, 0.1, 1.0e-15, 1.0e-10, 1.0e+10, 1.0e+15]\n",
    "                setattr(self, ParName, values)\n",
    "            elif ParName == 'norm_k':\n",
    "                values = [ParVal, 0.1, 1.0e-15, 1.0e-10, 1.0e+10, 1.0e+15]\n",
    "                setattr(self, ParName, values)\n",
    "            elif ParName == 'norm_s':\n",
    "                values = [ParVal, 0.1, 1.0e-15, 1.0e-10, 1.0e+10, 1.0e+15]\n",
    "                setattr(self, ParName, values)\n",
    "            elif ParName == 'norm_c':\n",
    "                values = [ParVal, 0.1, 1.0e-15, 1.0e-10, 1.0e+10, 1.0e+15]\n",
    "                setattr(self, ParName, values)\n",
    "                \n",
    "            \n",
    "class Model(Parameter):\n",
    "    def __init__(self, ModName, ParNames, ParValues):\n",
    "        self.name = ModName\n",
    "        Parameter.__init__(self, ParNames, ParValues)\n",
    "        #Parameter_Ranges.__init__(self, ParNames, ParValues)"
   ]
  },
  {
   "cell_type": "code",
   "execution_count": 96,
   "metadata": {
    "collapsed": true
   },
   "outputs": [],
   "source": [
    "modname = 'grbm'\n",
    "#param_names = ['alpha', 'beta', 'ebreak', 'norm_b']\n",
    "param_names = 'alpha beta ebreak norm_b'.split()\n",
    "param_vals = '-1.2 -2.2 226.3 0.0117'.split()\n",
    "param_values = [float(i) for i in param_vals]\n",
    "#param_values = [float(i) for i in '-1.2 -2.2 226.3 0.0117'.split()]\n",
    "#param_values = [-1.2, -2.2, 226.3, 0.0117]"
   ]
  },
  {
   "cell_type": "code",
   "execution_count": 97,
   "metadata": {
    "collapsed": true
   },
   "outputs": [],
   "source": [
    "m1 = Model(modname, param_names, param_values)"
   ]
  },
  {
   "cell_type": "code",
   "execution_count": 98,
   "metadata": {
    "collapsed": false
   },
   "outputs": [
    {
     "data": {
      "text/plain": [
       "[-1.2, 0.1, -1.9, -1.9, 1.0, 5.0]"
      ]
     },
     "execution_count": 98,
     "metadata": {},
     "output_type": "execute_result"
    }
   ],
   "source": [
    "m1.alpha"
   ]
  },
  {
   "cell_type": "code",
   "execution_count": 99,
   "metadata": {
    "collapsed": false
   },
   "outputs": [
    {
     "data": {
      "text/plain": [
       "[-2.2, 0.1, -8.0, -7.0, -2.0, -2.0]"
      ]
     },
     "execution_count": 99,
     "metadata": {},
     "output_type": "execute_result"
    }
   ],
   "source": [
    "m1.beta"
   ]
  },
  {
   "cell_type": "code",
   "execution_count": 100,
   "metadata": {
    "collapsed": false
   },
   "outputs": [
    {
     "data": {
      "text/plain": [
       "'grbm'"
      ]
     },
     "execution_count": 100,
     "metadata": {},
     "output_type": "execute_result"
    }
   ],
   "source": [
    "m1.name"
   ]
  },
  {
   "cell_type": "markdown",
   "metadata": {},
   "source": [
    "-----"
   ]
  },
  {
   "cell_type": "code",
   "execution_count": 101,
   "metadata": {
    "collapsed": true
   },
   "outputs": [],
   "source": [
    "'''\n",
    "Cooperative superclass method calling\n",
    "'''\n",
    "\n",
    "class A(object):\n",
    "    def met(self):\n",
    "        print 'A.met'\n",
    "class B(A):\n",
    "    def met(self):\n",
    "        print 'B.met'\n",
    "        A.met(self)\n",
    "class C(A):\n",
    "    def met(self):\n",
    "        print 'C.met'\n",
    "        A.met(self)\n",
    "class D(B,C):\n",
    "    def met(self):\n",
    "        print 'D.met'\n",
    "        B.met(self)\n",
    "        C.met(self)\n",
    "          "
   ]
  },
  {
   "cell_type": "code",
   "execution_count": 102,
   "metadata": {
    "collapsed": true
   },
   "outputs": [],
   "source": [
    "x = D()"
   ]
  },
  {
   "cell_type": "code",
   "execution_count": 103,
   "metadata": {
    "collapsed": false
   },
   "outputs": [
    {
     "name": "stdout",
     "output_type": "stream",
     "text": [
      "D.met\n",
      "B.met\n",
      "A.met\n",
      "C.met\n",
      "A.met\n"
     ]
    }
   ],
   "source": [
    "x.met() # D.met B.met A.met C.met A.met"
   ]
  },
  {
   "cell_type": "raw",
   "metadata": {},
   "source": [
    "import string\n",
    "alphabet = string.ascii_lowercase\n",
    "\n",
    "#data = {}\n",
    "#for letter in alphabet:\n",
    "#    data[letter] = alphabet.index(letter)+1"
   ]
  },
  {
   "cell_type": "code",
   "execution_count": 104,
   "metadata": {
    "collapsed": true
   },
   "outputs": [],
   "source": [
    "'''\n",
    "STATIC METHODS\n",
    "\n",
    "To build a static method, call built-in type staticmehtod and \n",
    "bind its result to a class attribute.\n",
    "'''\n",
    "class AClass(object):\n",
    "    def astatic():\n",
    "        print 'a static method'\n",
    "    astatic = staticmethod(astatic)"
   ]
  },
  {
   "cell_type": "code",
   "execution_count": 105,
   "metadata": {
    "collapsed": true
   },
   "outputs": [],
   "source": [
    "anInstance = AClass()"
   ]
  },
  {
   "cell_type": "code",
   "execution_count": 106,
   "metadata": {
    "collapsed": false
   },
   "outputs": [
    {
     "name": "stdout",
     "output_type": "stream",
     "text": [
      "a static method\n"
     ]
    }
   ],
   "source": [
    "AClass.astatic() # prints a static method"
   ]
  },
  {
   "cell_type": "code",
   "execution_count": 107,
   "metadata": {
    "collapsed": false
   },
   "outputs": [
    {
     "name": "stdout",
     "output_type": "stream",
     "text": [
      "a static method\n"
     ]
    }
   ],
   "source": [
    "anInstance.astatic() # prints a static method"
   ]
  },
  {
   "cell_type": "code",
   "execution_count": 108,
   "metadata": {
    "collapsed": true
   },
   "outputs": [],
   "source": [
    "class AClass(object):\n",
    "    def astatic(self):\n",
    "        print 'a static method'\n",
    "    #astatic = staticmethod(astatic)"
   ]
  },
  {
   "cell_type": "code",
   "execution_count": 109,
   "metadata": {
    "collapsed": true
   },
   "outputs": [],
   "source": [
    "anInstance = AClass()"
   ]
  },
  {
   "cell_type": "code",
   "execution_count": 110,
   "metadata": {
    "collapsed": false
   },
   "outputs": [
    {
     "name": "stdout",
     "output_type": "stream",
     "text": [
      "a static method\n"
     ]
    }
   ],
   "source": [
    "anInstance.astatic() # prints a static method"
   ]
  },
  {
   "cell_type": "code",
   "execution_count": 111,
   "metadata": {
    "collapsed": true
   },
   "outputs": [],
   "source": [
    "'''\n",
    "CLASS METHODS\n",
    "\n",
    "cls -- the first parameter of a class method is named cls.\n",
    "'''\n",
    "class ABase(object):\n",
    "    def aclassmet(cls):\n",
    "        print \"a class method for\", cls.__name__\n",
    "    aclassmet = classmethod(aclassmet)\n",
    "    def anotherclassmet(cls):\n",
    "        print \"another class method for\", cls.__name__\n",
    "    anotherclassmet = classmethod(anotherclassmet)\n",
    "    \n",
    "class ADeriv(ABase):\n",
    "    pass"
   ]
  },
  {
   "cell_type": "code",
   "execution_count": 112,
   "metadata": {
    "collapsed": true
   },
   "outputs": [],
   "source": [
    "bInstance = ABase()"
   ]
  },
  {
   "cell_type": "code",
   "execution_count": 113,
   "metadata": {
    "collapsed": true
   },
   "outputs": [],
   "source": [
    "dInstance = ADeriv()"
   ]
  },
  {
   "cell_type": "code",
   "execution_count": 114,
   "metadata": {
    "collapsed": false
   },
   "outputs": [
    {
     "name": "stdout",
     "output_type": "stream",
     "text": [
      "a class method for ABase\n"
     ]
    }
   ],
   "source": [
    "bInstance.aclassmet() # prints: a class method for ABase"
   ]
  },
  {
   "cell_type": "code",
   "execution_count": 115,
   "metadata": {
    "collapsed": false
   },
   "outputs": [
    {
     "name": "stdout",
     "output_type": "stream",
     "text": [
      "a class method for ADeriv\n"
     ]
    }
   ],
   "source": [
    "dInstance.aclassmet() # prints: a class method for ADeriv"
   ]
  },
  {
   "cell_type": "code",
   "execution_count": 116,
   "metadata": {
    "collapsed": false
   },
   "outputs": [
    {
     "name": "stdout",
     "output_type": "stream",
     "text": [
      "another class method for ABase\n"
     ]
    }
   ],
   "source": [
    "bInstance.anotherclassmet() # prints: a class method for ABase"
   ]
  },
  {
   "cell_type": "code",
   "execution_count": 117,
   "metadata": {
    "collapsed": false
   },
   "outputs": [
    {
     "name": "stdout",
     "output_type": "stream",
     "text": [
      "another class method for ADeriv\n"
     ]
    }
   ],
   "source": [
    "dInstance.anotherclassmet() # prints: a class method for ADeriv"
   ]
  },
  {
   "cell_type": "markdown",
   "metadata": {},
   "source": [
    "## INHERITANCE"
   ]
  },
  {
   "cell_type": "markdown",
   "metadata": {},
   "source": [
    "\n",
    "INHERITANCE\n",
    "\n",
    "http://learnpythonthehardway.org/book/ex44.html\n",
    "\n",
    "Inheritance is used to indicate that one class will get most or all of its features from a parent class. This happens implicitly whenever you write class Foo(Bar), which says \"Make a class Foo that inherits from Bar.\" When you do this, the language makes any action that you do on instances of Foo also work as if they were done to an instance of Bar. Doing this lets you put common functionality in the Bar class, then specialize that functionality in the Foo class as needed.\n",
    "\n",
    "1.  Actions on the child imply an action on the parent.\n",
    "\n",
    "2.  Actions on the child override the action on the parent.\n",
    "\n",
    "3.  Actions on the child alter the action on the parent.\n"
   ]
  },
  {
   "cell_type": "code",
   "execution_count": 118,
   "metadata": {
    "collapsed": true
   },
   "outputs": [],
   "source": [
    "class Parent(object): # base class.\n",
    "\n",
    "    def implicit(self):\n",
    "        print \"PARENT implicit()\"\n",
    "\n",
    "class Child(Parent): # subclass. it will inherit all of its behavior from Parent. \n",
    "    pass"
   ]
  },
  {
   "cell_type": "code",
   "execution_count": 119,
   "metadata": {
    "collapsed": true
   },
   "outputs": [],
   "source": [
    "dad = Parent()"
   ]
  },
  {
   "cell_type": "code",
   "execution_count": 120,
   "metadata": {
    "collapsed": true
   },
   "outputs": [],
   "source": [
    "son = Child()"
   ]
  },
  {
   "cell_type": "code",
   "execution_count": 121,
   "metadata": {
    "collapsed": false
   },
   "outputs": [
    {
     "name": "stdout",
     "output_type": "stream",
     "text": [
      "PARENT implicit()\n"
     ]
    }
   ],
   "source": [
    "dad.implicit()"
   ]
  },
  {
   "cell_type": "code",
   "execution_count": 122,
   "metadata": {
    "collapsed": false
   },
   "outputs": [
    {
     "name": "stdout",
     "output_type": "stream",
     "text": [
      "PARENT implicit()\n"
     ]
    }
   ],
   "source": [
    "son.implicit()"
   ]
  },
  {
   "cell_type": "code",
   "execution_count": 123,
   "metadata": {
    "collapsed": true
   },
   "outputs": [],
   "source": [
    "'''\n",
    "we want the Child to behave differently, \n",
    "so we need to override by placing the same \n",
    "function that is in Parent within Child.\n",
    "We are overriding a function in the base class.\n",
    "'''\n",
    "\n",
    "class Parent(object):\n",
    "    def override(self):\n",
    "        print \"PARENT override()\"\n",
    "\n",
    "class Child(Parent):\n",
    "    def override(self):\n",
    "        print \"CHILD override()\""
   ]
  },
  {
   "cell_type": "code",
   "execution_count": 124,
   "metadata": {
    "collapsed": true
   },
   "outputs": [],
   "source": [
    "dad = Parent()"
   ]
  },
  {
   "cell_type": "code",
   "execution_count": 125,
   "metadata": {
    "collapsed": true
   },
   "outputs": [],
   "source": [
    "son = Child()"
   ]
  },
  {
   "cell_type": "code",
   "execution_count": 126,
   "metadata": {
    "collapsed": false
   },
   "outputs": [
    {
     "name": "stdout",
     "output_type": "stream",
     "text": [
      "PARENT override()\n"
     ]
    }
   ],
   "source": [
    "dad.override()"
   ]
  },
  {
   "cell_type": "code",
   "execution_count": 127,
   "metadata": {
    "collapsed": false
   },
   "outputs": [
    {
     "name": "stdout",
     "output_type": "stream",
     "text": [
      "CHILD override()\n"
     ]
    }
   ],
   "source": [
    "son.override()"
   ]
  },
  {
   "cell_type": "code",
   "execution_count": 128,
   "metadata": {
    "collapsed": true
   },
   "outputs": [],
   "source": [
    "'''\n",
    "The third way to use inheritance is a special case of overriding \n",
    "where you want to alter the behavior before or after the Parent \n",
    "class's version runs. You first override the function just like \n",
    "in the last example, but then you use a Python built-in function \n",
    "named super to get the Parent version to call. Here's the example \n",
    "of doing that so you can make sense of this description:\n",
    "'''\n",
    "\n",
    "class Parent(object):\n",
    "    def altered(self,x):\n",
    "        self.x = x**2\n",
    "        print \"PARENT altered() \", self.x\n",
    "        return self.x\n",
    "\n",
    "class Child(Parent):\n",
    "    def altered(self,x):\n",
    "        self.x = x\n",
    "        print \"CHILD, BEFORE PARENT altered() \", self.x\n",
    "        super(Child, self).altered(self.x)\n",
    "        print \"CHILD, AFTER PARENT altered() \", self.x"
   ]
  },
  {
   "cell_type": "code",
   "execution_count": 129,
   "metadata": {
    "collapsed": true
   },
   "outputs": [],
   "source": [
    "dad = Parent()"
   ]
  },
  {
   "cell_type": "code",
   "execution_count": 130,
   "metadata": {
    "collapsed": true
   },
   "outputs": [],
   "source": [
    "son = Child()"
   ]
  },
  {
   "cell_type": "code",
   "execution_count": 131,
   "metadata": {
    "collapsed": false
   },
   "outputs": [
    {
     "name": "stdout",
     "output_type": "stream",
     "text": [
      "PARENT altered()  16\n"
     ]
    },
    {
     "data": {
      "text/plain": [
       "16"
      ]
     },
     "execution_count": 131,
     "metadata": {},
     "output_type": "execute_result"
    }
   ],
   "source": [
    "dad.altered(4)"
   ]
  },
  {
   "cell_type": "code",
   "execution_count": 132,
   "metadata": {
    "collapsed": false
   },
   "outputs": [
    {
     "name": "stdout",
     "output_type": "stream",
     "text": [
      "CHILD, BEFORE PARENT altered()  9\n",
      "PARENT altered()  81\n",
      "CHILD, AFTER PARENT altered()  81\n"
     ]
    }
   ],
   "source": [
    "son.altered(9)"
   ]
  },
  {
   "cell_type": "code",
   "execution_count": 133,
   "metadata": {
    "collapsed": true
   },
   "outputs": [],
   "source": [
    "class Parent(object):\n",
    "\n",
    "    def override(self):\n",
    "        print \"PARENT override()\"\n",
    "\n",
    "    def implicit(self):\n",
    "        print \"PARENT implicit()\"\n",
    "\n",
    "    def altered(self):\n",
    "        print \"PARENT altered()\"\n",
    "\n",
    "class Child(Parent):\n",
    "\n",
    "    def override(self):\n",
    "        print \"CHILD override()\"\n",
    "\n",
    "    def altered(self):\n",
    "        print \"CHILD, BEFORE PARENT altered()\"\n",
    "        super(Child, self).altered()\n",
    "        print \"CHILD, AFTER PARENT altered()\""
   ]
  },
  {
   "cell_type": "code",
   "execution_count": 134,
   "metadata": {
    "collapsed": true
   },
   "outputs": [],
   "source": [
    "dad = Parent()"
   ]
  },
  {
   "cell_type": "code",
   "execution_count": 135,
   "metadata": {
    "collapsed": true
   },
   "outputs": [],
   "source": [
    "son = Child()"
   ]
  },
  {
   "cell_type": "code",
   "execution_count": 136,
   "metadata": {
    "collapsed": false
   },
   "outputs": [
    {
     "name": "stdout",
     "output_type": "stream",
     "text": [
      "PARENT implicit()\n"
     ]
    }
   ],
   "source": [
    "dad.implicit()"
   ]
  },
  {
   "cell_type": "code",
   "execution_count": 137,
   "metadata": {
    "collapsed": false
   },
   "outputs": [
    {
     "name": "stdout",
     "output_type": "stream",
     "text": [
      "PARENT implicit()\n"
     ]
    }
   ],
   "source": [
    "son.implicit()"
   ]
  },
  {
   "cell_type": "code",
   "execution_count": 138,
   "metadata": {
    "collapsed": false
   },
   "outputs": [
    {
     "name": "stdout",
     "output_type": "stream",
     "text": [
      "PARENT override()\n"
     ]
    }
   ],
   "source": [
    "dad.override()"
   ]
  },
  {
   "cell_type": "code",
   "execution_count": 139,
   "metadata": {
    "collapsed": false
   },
   "outputs": [
    {
     "name": "stdout",
     "output_type": "stream",
     "text": [
      "CHILD override()\n"
     ]
    }
   ],
   "source": [
    "son.override()"
   ]
  },
  {
   "cell_type": "code",
   "execution_count": 140,
   "metadata": {
    "collapsed": false
   },
   "outputs": [
    {
     "name": "stdout",
     "output_type": "stream",
     "text": [
      "PARENT altered()\n"
     ]
    }
   ],
   "source": [
    "dad.altered()"
   ]
  },
  {
   "cell_type": "code",
   "execution_count": 141,
   "metadata": {
    "collapsed": false
   },
   "outputs": [
    {
     "name": "stdout",
     "output_type": "stream",
     "text": [
      "CHILD, BEFORE PARENT altered()\n",
      "PARENT altered()\n",
      "CHILD, AFTER PARENT altered()\n"
     ]
    }
   ],
   "source": [
    "son.altered()"
   ]
  },
  {
   "cell_type": "code",
   "execution_count": 142,
   "metadata": {
    "collapsed": true
   },
   "outputs": [],
   "source": [
    "class Child(Parent):\n",
    "    def __init__(self, stuff):\n",
    "        self.stuff = stuff\n",
    "        super(Child, self).__init__()\n",
    "        "
   ]
  },
  {
   "cell_type": "markdown",
   "metadata": {},
   "source": [
    "        \n",
    "\n",
    "Inheritance is useful, but another way to do the exact same thing is \n",
    "just to use other classes and modules, rather than rely on implicit \n",
    "inheritance. If you look at the three ways to exploit inheritance, \n",
    "two of the three involve writing new code to replace or alter functionality. \n",
    "\n",
    "This can easily be replicated by just calling functions in a module. \n",
    "\n",
    "\n",
    "Here's an example of doing this:\n"
   ]
  },
  {
   "cell_type": "code",
   "execution_count": 143,
   "metadata": {
    "collapsed": false
   },
   "outputs": [],
   "source": [
    "class Other(object):\n",
    "\n",
    "    def override(self):\n",
    "        print \"OTHER override()\"\n",
    "\n",
    "    def implicit(self):\n",
    "        print \"OTHER implicit()\"\n",
    "\n",
    "    def altered(self):\n",
    "        print \"OTHER altered()\"\n",
    "        \n",
    "\n",
    "class Child(object):\n",
    "\n",
    "    def __init__(self):\n",
    "        self.other = Other()\n",
    "\n",
    "    def implicit(self):\n",
    "        self.other.implicit()\n",
    "\n",
    "    def override(self):\n",
    "        print \"CHILD override()\"\n",
    "\n",
    "    def altered(self):\n",
    "        print \"CHILD, BEFORE OTHER altered()\"\n",
    "        self.other.altered()\n",
    "        print \"CHILD, AFTER OTHER altered()\""
   ]
  },
  {
   "cell_type": "code",
   "execution_count": 144,
   "metadata": {
    "collapsed": true
   },
   "outputs": [],
   "source": [
    "son = Child()"
   ]
  },
  {
   "cell_type": "code",
   "execution_count": 145,
   "metadata": {
    "collapsed": false
   },
   "outputs": [
    {
     "name": "stdout",
     "output_type": "stream",
     "text": [
      "OTHER implicit()\n"
     ]
    }
   ],
   "source": [
    "son.implicit()"
   ]
  },
  {
   "cell_type": "code",
   "execution_count": 146,
   "metadata": {
    "collapsed": false
   },
   "outputs": [
    {
     "name": "stdout",
     "output_type": "stream",
     "text": [
      "CHILD override()\n"
     ]
    }
   ],
   "source": [
    "son.override()"
   ]
  },
  {
   "cell_type": "code",
   "execution_count": 147,
   "metadata": {
    "collapsed": false
   },
   "outputs": [
    {
     "name": "stdout",
     "output_type": "stream",
     "text": [
      "CHILD, BEFORE OTHER altered()\n",
      "OTHER altered()\n",
      "CHILD, AFTER OTHER altered()\n"
     ]
    }
   ],
   "source": [
    "son.altered()"
   ]
  },
  {
   "cell_type": "code",
   "execution_count": 148,
   "metadata": {
    "collapsed": true
   },
   "outputs": [],
   "source": [
    "class Mapping(object):\n",
    "    def __init__(self, iterable):\n",
    "        self.items_list = []\n",
    "        self.__update(iterable)\n",
    "\n",
    "    def update(self, iterable):\n",
    "        for item in iterable:\n",
    "            self.items_list.append(item)\n",
    "\n",
    "    __update = update   # private copy of original update() method\n",
    "\n",
    "\n",
    "class MappingSubclass(Mapping):\n",
    "\n",
    "    def update(self, keys, values):\n",
    "        # provides new signature for update()\n",
    "        # but does not break __init__()\n",
    "        for item in zip(keys, values):\n",
    "            self.items_list.append(item)\n",
    "            "
   ]
  },
  {
   "cell_type": "code",
   "execution_count": 149,
   "metadata": {
    "collapsed": true
   },
   "outputs": [],
   "source": [
    "a = 'alpha beta tem norm'.split()     \n",
    "b = '-1.2 -2.2 300.1 0.012'.split()   \n",
    "b = [float(i) for i in b] \n",
    "\n",
    "kz = MappingSubclass([a[1],b[1]])\n",
    "kz = Mapping([a,b])"
   ]
  },
  {
   "cell_type": "code",
   "execution_count": 150,
   "metadata": {
    "collapsed": false
   },
   "outputs": [
    {
     "data": {
      "text/plain": [
       "[['alpha', 'beta', 'tem', 'norm'], [-1.2, -2.2, 300.1, 0.012]]"
      ]
     },
     "execution_count": 150,
     "metadata": {},
     "output_type": "execute_result"
    }
   ],
   "source": [
    "kz.items_list"
   ]
  }
 ],
 "metadata": {
  "kernelspec": {
   "display_name": "Python 2",
   "language": "python",
   "name": "python2"
  },
  "language_info": {
   "codemirror_mode": {
    "name": "ipython",
    "version": 2
   },
   "file_extension": ".py",
   "mimetype": "text/x-python",
   "name": "python",
   "nbconvert_exporter": "python",
   "pygments_lexer": "ipython2",
   "version": "2.7.11"
  }
 },
 "nbformat": 4,
 "nbformat_minor": 0
}
