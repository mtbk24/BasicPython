{
 "cells": [
  {
   "cell_type": "markdown",
   "metadata": {},
   "source": [
    "# Merging data tables in Pandas"
   ]
  },
  {
   "cell_type": "markdown",
   "metadata": {},
   "source": [
    "We would like to take two data files with similar data and merge them into one data table.  I have two Gamma-ray burst files here with some data.  Some of the columns in both of the files match, which is what we'd expect.\n",
    "\n",
    "One file has two additional Gamma-ray bursts (GRBs) that the other does not.  We only want to keep the matching GRBs, but I'll show you how to keep all."
   ]
  },
  {
   "cell_type": "markdown",
   "metadata": {},
   "source": [
    "---"
   ]
  },
  {
   "cell_type": "markdown",
   "metadata": {},
   "source": [
    "#### Read in data that is separated into columns within the file by 1 space.\n",
    "#### Data has a row of headers."
   ]
  },
  {
   "cell_type": "code",
   "execution_count": 39,
   "metadata": {
    "collapsed": false
   },
   "outputs": [],
   "source": [
    "import pandas"
   ]
  },
  {
   "cell_type": "code",
   "execution_count": 40,
   "metadata": {
    "collapsed": false
   },
   "outputs": [],
   "source": [
    "f1 = \"/Users/KimiZ/GRBs2/analysis/Sample/bursts.txt\"\n",
    "f2 = \"/Users/KimiZ/GRBs2/analysis/Sample/bursts_LATboresight_angles.txt\"\n",
    "\n",
    "data1 = pandas.read_table(f1, delimiter=\" \", header=0)\n",
    "data2 = pandas.read_table(f2, delimiter=\" \", header=0)"
   ]
  },
  {
   "cell_type": "code",
   "execution_count": 41,
   "metadata": {
    "collapsed": false
   },
   "outputs": [
    {
     "data": {
      "text/html": [
       "<div>\n",
       "<table border=\"1\" class=\"dataframe\">\n",
       "  <thead>\n",
       "    <tr style=\"text-align: right;\">\n",
       "      <th></th>\n",
       "      <th>number</th>\n",
       "      <th>name</th>\n",
       "      <th>trigger</th>\n",
       "      <th>z</th>\n",
       "      <th>t90_start</th>\n",
       "      <th>t90_stop</th>\n",
       "    </tr>\n",
       "  </thead>\n",
       "  <tbody>\n",
       "    <tr>\n",
       "      <th>0</th>\n",
       "      <td>1</td>\n",
       "      <td>GRB080804</td>\n",
       "      <td>bn080804972</td>\n",
       "      <td>2.2045</td>\n",
       "      <td>0.256</td>\n",
       "      <td>24.960</td>\n",
       "    </tr>\n",
       "    <tr>\n",
       "      <th>1</th>\n",
       "      <td>2</td>\n",
       "      <td>GRB080810</td>\n",
       "      <td>bn080810549</td>\n",
       "      <td>3.3604</td>\n",
       "      <td>-20.096</td>\n",
       "      <td>87.361</td>\n",
       "    </tr>\n",
       "    <tr>\n",
       "      <th>2</th>\n",
       "      <td>3</td>\n",
       "      <td>GRB080905A</td>\n",
       "      <td>bn080905499</td>\n",
       "      <td>0.1218</td>\n",
       "      <td>-0.064</td>\n",
       "      <td>0.896</td>\n",
       "    </tr>\n",
       "    <tr>\n",
       "      <th>3</th>\n",
       "      <td>4</td>\n",
       "      <td>GRB080905B</td>\n",
       "      <td>bn080905705</td>\n",
       "      <td>2.3739</td>\n",
       "      <td>-5.120</td>\n",
       "      <td>100.864</td>\n",
       "    </tr>\n",
       "    <tr>\n",
       "      <th>4</th>\n",
       "      <td>5</td>\n",
       "      <td>GRB080916A</td>\n",
       "      <td>bn080916406</td>\n",
       "      <td>0.6887</td>\n",
       "      <td>0.512</td>\n",
       "      <td>46.849</td>\n",
       "    </tr>\n",
       "  </tbody>\n",
       "</table>\n",
       "</div>"
      ],
      "text/plain": [
       "   number        name      trigger       z  t90_start  t90_stop\n",
       "0       1   GRB080804  bn080804972  2.2045      0.256    24.960\n",
       "1       2   GRB080810  bn080810549  3.3604    -20.096    87.361\n",
       "2       3  GRB080905A  bn080905499  0.1218     -0.064     0.896\n",
       "3       4  GRB080905B  bn080905705  2.3739     -5.120   100.864\n",
       "4       5  GRB080916A  bn080916406  0.6887      0.512    46.849"
      ]
     },
     "execution_count": 41,
     "metadata": {},
     "output_type": "execute_result"
    }
   ],
   "source": [
    "data1[0:5]"
   ]
  },
  {
   "cell_type": "code",
   "execution_count": 42,
   "metadata": {
    "collapsed": false
   },
   "outputs": [
    {
     "data": {
      "text/html": [
       "<div>\n",
       "<table border=\"1\" class=\"dataframe\">\n",
       "  <thead>\n",
       "    <tr style=\"text-align: right;\">\n",
       "      <th></th>\n",
       "      <th>name</th>\n",
       "      <th>trigger</th>\n",
       "      <th>z</th>\n",
       "      <th>BATdet</th>\n",
       "      <th>LATdet</th>\n",
       "      <th>angT0</th>\n",
       "      <th>angT30</th>\n",
       "      <th>angT60</th>\n",
       "    </tr>\n",
       "  </thead>\n",
       "  <tbody>\n",
       "    <tr>\n",
       "      <th>0</th>\n",
       "      <td>GRB080804</td>\n",
       "      <td>bn080804972</td>\n",
       "      <td>2.2045</td>\n",
       "      <td>yes</td>\n",
       "      <td>no</td>\n",
       "      <td>0.0000</td>\n",
       "      <td>0.0000</td>\n",
       "      <td>0.0000</td>\n",
       "    </tr>\n",
       "    <tr>\n",
       "      <th>1</th>\n",
       "      <td>GRB080810</td>\n",
       "      <td>bn080810549</td>\n",
       "      <td>3.3604</td>\n",
       "      <td>yes</td>\n",
       "      <td>no</td>\n",
       "      <td>0.0000</td>\n",
       "      <td>0.0000</td>\n",
       "      <td>0.0000</td>\n",
       "    </tr>\n",
       "    <tr>\n",
       "      <th>2</th>\n",
       "      <td>GRB080905A</td>\n",
       "      <td>bn080905499</td>\n",
       "      <td>0.1218</td>\n",
       "      <td>yes</td>\n",
       "      <td>no</td>\n",
       "      <td>27.8855</td>\n",
       "      <td>29.1496</td>\n",
       "      <td>30.4518</td>\n",
       "    </tr>\n",
       "    <tr>\n",
       "      <th>3</th>\n",
       "      <td>GRB080905B</td>\n",
       "      <td>bn080905705</td>\n",
       "      <td>2.3739</td>\n",
       "      <td>yes</td>\n",
       "      <td>no</td>\n",
       "      <td>85.4289</td>\n",
       "      <td>85.8448</td>\n",
       "      <td>86.2924</td>\n",
       "    </tr>\n",
       "    <tr>\n",
       "      <th>4</th>\n",
       "      <td>GRB080916A</td>\n",
       "      <td>bn080916406</td>\n",
       "      <td>0.6887</td>\n",
       "      <td>yes</td>\n",
       "      <td>no</td>\n",
       "      <td>75.8313</td>\n",
       "      <td>77.1288</td>\n",
       "      <td>78.4168</td>\n",
       "    </tr>\n",
       "  </tbody>\n",
       "</table>\n",
       "</div>"
      ],
      "text/plain": [
       "         name      trigger       z BATdet LATdet    angT0   angT30   angT60\n",
       "0   GRB080804  bn080804972  2.2045    yes     no   0.0000   0.0000   0.0000\n",
       "1   GRB080810  bn080810549  3.3604    yes     no   0.0000   0.0000   0.0000\n",
       "2  GRB080905A  bn080905499  0.1218    yes     no  27.8855  29.1496  30.4518\n",
       "3  GRB080905B  bn080905705  2.3739    yes     no  85.4289  85.8448  86.2924\n",
       "4  GRB080916A  bn080916406  0.6887    yes     no  75.8313  77.1288  78.4168"
      ]
     },
     "execution_count": 42,
     "metadata": {},
     "output_type": "execute_result"
    }
   ],
   "source": [
    "data2[0:5]"
   ]
  },
  {
   "cell_type": "markdown",
   "metadata": {},
   "source": [
    " "
   ]
  },
  {
   "cell_type": "markdown",
   "metadata": {},
   "source": [
    "  "
   ]
  },
  {
   "cell_type": "markdown",
   "metadata": {},
   "source": [
    "### Lets get rid of a few columns we don't care about.\n",
    "Anything matching (except 1 matching column) and any columns in either data frame that we don't care about.\n",
    "\n",
    "#### ** We want to keep one column in the data frames that match so that we have a way to tell Pandas how to merge the two data frames.  'trigger' will be that column.\n",
    "\n",
    "If the column names do not match in the data files, you could change them by hand in the files, or do them now:\n",
    "\n",
    "\n"
   ]
  },
  {
   "cell_type": "code",
   "execution_count": 43,
   "metadata": {
    "collapsed": true
   },
   "outputs": [],
   "source": [
    "cols = data1.columns"
   ]
  },
  {
   "cell_type": "code",
   "execution_count": 44,
   "metadata": {
    "collapsed": false
   },
   "outputs": [
    {
     "data": {
      "text/plain": [
       "Index([u'number', u'name', u'trigger', u'z', u't90_start', u't90_stop'], dtype='object')"
      ]
     },
     "execution_count": 44,
     "metadata": {},
     "output_type": "execute_result"
    }
   ],
   "source": [
    "cols"
   ]
  },
  {
   "cell_type": "code",
   "execution_count": 45,
   "metadata": {
    "collapsed": true
   },
   "outputs": [],
   "source": [
    "# data1.columns = \"a,b,c,d,e,f\".split(',')\n",
    "# or \n",
    "data1.columns = [\"a\",\"b\",\"c\",\"d\",\"e\",\"f\"]"
   ]
  },
  {
   "cell_type": "code",
   "execution_count": 46,
   "metadata": {
    "collapsed": false
   },
   "outputs": [
    {
     "data": {
      "text/html": [
       "<div>\n",
       "<table border=\"1\" class=\"dataframe\">\n",
       "  <thead>\n",
       "    <tr style=\"text-align: right;\">\n",
       "      <th></th>\n",
       "      <th>a</th>\n",
       "      <th>b</th>\n",
       "      <th>c</th>\n",
       "      <th>d</th>\n",
       "      <th>e</th>\n",
       "      <th>f</th>\n",
       "    </tr>\n",
       "  </thead>\n",
       "  <tbody>\n",
       "    <tr>\n",
       "      <th>0</th>\n",
       "      <td>1</td>\n",
       "      <td>GRB080804</td>\n",
       "      <td>bn080804972</td>\n",
       "      <td>2.2045</td>\n",
       "      <td>0.256</td>\n",
       "      <td>24.960</td>\n",
       "    </tr>\n",
       "    <tr>\n",
       "      <th>1</th>\n",
       "      <td>2</td>\n",
       "      <td>GRB080810</td>\n",
       "      <td>bn080810549</td>\n",
       "      <td>3.3604</td>\n",
       "      <td>-20.096</td>\n",
       "      <td>87.361</td>\n",
       "    </tr>\n",
       "  </tbody>\n",
       "</table>\n",
       "</div>"
      ],
      "text/plain": [
       "   a          b            c       d       e       f\n",
       "0  1  GRB080804  bn080804972  2.2045   0.256  24.960\n",
       "1  2  GRB080810  bn080810549  3.3604 -20.096  87.361"
      ]
     },
     "execution_count": 46,
     "metadata": {},
     "output_type": "execute_result"
    }
   ],
   "source": [
    "data1[0:2]"
   ]
  },
  {
   "cell_type": "markdown",
   "metadata": {},
   "source": [
    "#### Change them back:"
   ]
  },
  {
   "cell_type": "code",
   "execution_count": 47,
   "metadata": {
    "collapsed": true
   },
   "outputs": [],
   "source": [
    "data1.columns = cols"
   ]
  },
  {
   "cell_type": "code",
   "execution_count": 48,
   "metadata": {
    "collapsed": false
   },
   "outputs": [
    {
     "data": {
      "text/html": [
       "<div>\n",
       "<table border=\"1\" class=\"dataframe\">\n",
       "  <thead>\n",
       "    <tr style=\"text-align: right;\">\n",
       "      <th></th>\n",
       "      <th>number</th>\n",
       "      <th>name</th>\n",
       "      <th>trigger</th>\n",
       "      <th>z</th>\n",
       "      <th>t90_start</th>\n",
       "      <th>t90_stop</th>\n",
       "    </tr>\n",
       "  </thead>\n",
       "  <tbody>\n",
       "    <tr>\n",
       "      <th>0</th>\n",
       "      <td>1</td>\n",
       "      <td>GRB080804</td>\n",
       "      <td>bn080804972</td>\n",
       "      <td>2.2045</td>\n",
       "      <td>0.256</td>\n",
       "      <td>24.960</td>\n",
       "    </tr>\n",
       "    <tr>\n",
       "      <th>1</th>\n",
       "      <td>2</td>\n",
       "      <td>GRB080810</td>\n",
       "      <td>bn080810549</td>\n",
       "      <td>3.3604</td>\n",
       "      <td>-20.096</td>\n",
       "      <td>87.361</td>\n",
       "    </tr>\n",
       "  </tbody>\n",
       "</table>\n",
       "</div>"
      ],
      "text/plain": [
       "   number       name      trigger       z  t90_start  t90_stop\n",
       "0       1  GRB080804  bn080804972  2.2045      0.256    24.960\n",
       "1       2  GRB080810  bn080810549  3.3604    -20.096    87.361"
      ]
     },
     "execution_count": 48,
     "metadata": {},
     "output_type": "execute_result"
    }
   ],
   "source": [
    "data1[0:2]"
   ]
  },
  {
   "cell_type": "markdown",
   "metadata": {},
   "source": [
    "  "
   ]
  },
  {
   "cell_type": "markdown",
   "metadata": {},
   "source": [
    "### Okay, back to dropping columns:\n",
    "\n",
    "    axis = 1         # 0-rows, 1-columns\n",
    "    inplace = True   # replace the data frame with an adjusted data frame.\n",
    "                     # inplace=False is the default\n",
    "                     \n",
    "inplace=False is the default, which means that in order to use the adjusted data frame with the dropped columns, you'd have to assign it to a new data frame:\n",
    "\n",
    "    data1_new = data1.drop(labels=['number'], axis=1)\n",
    "    \n",
    "If we use inplace=True, data1 is automatically replaced."
   ]
  },
  {
   "cell_type": "code",
   "execution_count": 49,
   "metadata": {
    "collapsed": true
   },
   "outputs": [],
   "source": [
    "data1.drop(labels=['number'], axis=1, inplace=True)"
   ]
  },
  {
   "cell_type": "code",
   "execution_count": 50,
   "metadata": {
    "collapsed": true
   },
   "outputs": [],
   "source": [
    "data2.drop(labels=['name', 'z'], axis=1, inplace=True)"
   ]
  },
  {
   "cell_type": "code",
   "execution_count": 51,
   "metadata": {
    "collapsed": false
   },
   "outputs": [
    {
     "data": {
      "text/html": [
       "<div>\n",
       "<table border=\"1\" class=\"dataframe\">\n",
       "  <thead>\n",
       "    <tr style=\"text-align: right;\">\n",
       "      <th></th>\n",
       "      <th>name</th>\n",
       "      <th>trigger</th>\n",
       "      <th>z</th>\n",
       "      <th>t90_start</th>\n",
       "      <th>t90_stop</th>\n",
       "    </tr>\n",
       "  </thead>\n",
       "  <tbody>\n",
       "    <tr>\n",
       "      <th>0</th>\n",
       "      <td>GRB080804</td>\n",
       "      <td>bn080804972</td>\n",
       "      <td>2.2045</td>\n",
       "      <td>0.256</td>\n",
       "      <td>24.960</td>\n",
       "    </tr>\n",
       "    <tr>\n",
       "      <th>1</th>\n",
       "      <td>GRB080810</td>\n",
       "      <td>bn080810549</td>\n",
       "      <td>3.3604</td>\n",
       "      <td>-20.096</td>\n",
       "      <td>87.361</td>\n",
       "    </tr>\n",
       "    <tr>\n",
       "      <th>2</th>\n",
       "      <td>GRB080905A</td>\n",
       "      <td>bn080905499</td>\n",
       "      <td>0.1218</td>\n",
       "      <td>-0.064</td>\n",
       "      <td>0.896</td>\n",
       "    </tr>\n",
       "    <tr>\n",
       "      <th>3</th>\n",
       "      <td>GRB080905B</td>\n",
       "      <td>bn080905705</td>\n",
       "      <td>2.3739</td>\n",
       "      <td>-5.120</td>\n",
       "      <td>100.864</td>\n",
       "    </tr>\n",
       "    <tr>\n",
       "      <th>4</th>\n",
       "      <td>GRB080916A</td>\n",
       "      <td>bn080916406</td>\n",
       "      <td>0.6887</td>\n",
       "      <td>0.512</td>\n",
       "      <td>46.849</td>\n",
       "    </tr>\n",
       "  </tbody>\n",
       "</table>\n",
       "</div>"
      ],
      "text/plain": [
       "         name      trigger       z  t90_start  t90_stop\n",
       "0   GRB080804  bn080804972  2.2045      0.256    24.960\n",
       "1   GRB080810  bn080810549  3.3604    -20.096    87.361\n",
       "2  GRB080905A  bn080905499  0.1218     -0.064     0.896\n",
       "3  GRB080905B  bn080905705  2.3739     -5.120   100.864\n",
       "4  GRB080916A  bn080916406  0.6887      0.512    46.849"
      ]
     },
     "execution_count": 51,
     "metadata": {},
     "output_type": "execute_result"
    }
   ],
   "source": [
    "data1[0:5]"
   ]
  },
  {
   "cell_type": "code",
   "execution_count": 52,
   "metadata": {
    "collapsed": false
   },
   "outputs": [
    {
     "data": {
      "text/html": [
       "<div>\n",
       "<table border=\"1\" class=\"dataframe\">\n",
       "  <thead>\n",
       "    <tr style=\"text-align: right;\">\n",
       "      <th></th>\n",
       "      <th>trigger</th>\n",
       "      <th>BATdet</th>\n",
       "      <th>LATdet</th>\n",
       "      <th>angT0</th>\n",
       "      <th>angT30</th>\n",
       "      <th>angT60</th>\n",
       "    </tr>\n",
       "  </thead>\n",
       "  <tbody>\n",
       "    <tr>\n",
       "      <th>0</th>\n",
       "      <td>bn080804972</td>\n",
       "      <td>yes</td>\n",
       "      <td>no</td>\n",
       "      <td>0.0000</td>\n",
       "      <td>0.0000</td>\n",
       "      <td>0.0000</td>\n",
       "    </tr>\n",
       "    <tr>\n",
       "      <th>1</th>\n",
       "      <td>bn080810549</td>\n",
       "      <td>yes</td>\n",
       "      <td>no</td>\n",
       "      <td>0.0000</td>\n",
       "      <td>0.0000</td>\n",
       "      <td>0.0000</td>\n",
       "    </tr>\n",
       "    <tr>\n",
       "      <th>2</th>\n",
       "      <td>bn080905499</td>\n",
       "      <td>yes</td>\n",
       "      <td>no</td>\n",
       "      <td>27.8855</td>\n",
       "      <td>29.1496</td>\n",
       "      <td>30.4518</td>\n",
       "    </tr>\n",
       "    <tr>\n",
       "      <th>3</th>\n",
       "      <td>bn080905705</td>\n",
       "      <td>yes</td>\n",
       "      <td>no</td>\n",
       "      <td>85.4289</td>\n",
       "      <td>85.8448</td>\n",
       "      <td>86.2924</td>\n",
       "    </tr>\n",
       "    <tr>\n",
       "      <th>4</th>\n",
       "      <td>bn080916406</td>\n",
       "      <td>yes</td>\n",
       "      <td>no</td>\n",
       "      <td>75.8313</td>\n",
       "      <td>77.1288</td>\n",
       "      <td>78.4168</td>\n",
       "    </tr>\n",
       "  </tbody>\n",
       "</table>\n",
       "</div>"
      ],
      "text/plain": [
       "       trigger BATdet LATdet    angT0   angT30   angT60\n",
       "0  bn080804972    yes     no   0.0000   0.0000   0.0000\n",
       "1  bn080810549    yes     no   0.0000   0.0000   0.0000\n",
       "2  bn080905499    yes     no  27.8855  29.1496  30.4518\n",
       "3  bn080905705    yes     no  85.4289  85.8448  86.2924\n",
       "4  bn080916406    yes     no  75.8313  77.1288  78.4168"
      ]
     },
     "execution_count": 52,
     "metadata": {},
     "output_type": "execute_result"
    }
   ],
   "source": [
    "data2[0:5]"
   ]
  },
  {
   "cell_type": "markdown",
   "metadata": {},
   "source": [
    "  "
   ]
  },
  {
   "cell_type": "markdown",
   "metadata": {},
   "source": [
    "## Now we merge"
   ]
  },
  {
   "cell_type": "markdown",
   "metadata": {},
   "source": [
    "#### We want to merge the two data frames by the column named 'trigger'"
   ]
  },
  {
   "cell_type": "code",
   "execution_count": 53,
   "metadata": {
    "collapsed": true
   },
   "outputs": [],
   "source": [
    "data = pandas.merge(left=data1, right=data2, on='trigger')"
   ]
  },
  {
   "cell_type": "code",
   "execution_count": 54,
   "metadata": {
    "collapsed": false
   },
   "outputs": [
    {
     "data": {
      "text/html": [
       "<div>\n",
       "<table border=\"1\" class=\"dataframe\">\n",
       "  <thead>\n",
       "    <tr style=\"text-align: right;\">\n",
       "      <th></th>\n",
       "      <th>name</th>\n",
       "      <th>trigger</th>\n",
       "      <th>z</th>\n",
       "      <th>t90_start</th>\n",
       "      <th>t90_stop</th>\n",
       "      <th>BATdet</th>\n",
       "      <th>LATdet</th>\n",
       "      <th>angT0</th>\n",
       "      <th>angT30</th>\n",
       "      <th>angT60</th>\n",
       "    </tr>\n",
       "  </thead>\n",
       "  <tbody>\n",
       "    <tr>\n",
       "      <th>0</th>\n",
       "      <td>GRB080804</td>\n",
       "      <td>bn080804972</td>\n",
       "      <td>2.2045</td>\n",
       "      <td>0.256</td>\n",
       "      <td>24.960</td>\n",
       "      <td>yes</td>\n",
       "      <td>no</td>\n",
       "      <td>0.0000</td>\n",
       "      <td>0.0000</td>\n",
       "      <td>0.0000</td>\n",
       "    </tr>\n",
       "    <tr>\n",
       "      <th>1</th>\n",
       "      <td>GRB080810</td>\n",
       "      <td>bn080810549</td>\n",
       "      <td>3.3604</td>\n",
       "      <td>-20.096</td>\n",
       "      <td>87.361</td>\n",
       "      <td>yes</td>\n",
       "      <td>no</td>\n",
       "      <td>0.0000</td>\n",
       "      <td>0.0000</td>\n",
       "      <td>0.0000</td>\n",
       "    </tr>\n",
       "    <tr>\n",
       "      <th>2</th>\n",
       "      <td>GRB080905A</td>\n",
       "      <td>bn080905499</td>\n",
       "      <td>0.1218</td>\n",
       "      <td>-0.064</td>\n",
       "      <td>0.896</td>\n",
       "      <td>yes</td>\n",
       "      <td>no</td>\n",
       "      <td>27.8855</td>\n",
       "      <td>29.1496</td>\n",
       "      <td>30.4518</td>\n",
       "    </tr>\n",
       "    <tr>\n",
       "      <th>3</th>\n",
       "      <td>GRB080905B</td>\n",
       "      <td>bn080905705</td>\n",
       "      <td>2.3739</td>\n",
       "      <td>-5.120</td>\n",
       "      <td>100.864</td>\n",
       "      <td>yes</td>\n",
       "      <td>no</td>\n",
       "      <td>85.4289</td>\n",
       "      <td>85.8448</td>\n",
       "      <td>86.2924</td>\n",
       "    </tr>\n",
       "    <tr>\n",
       "      <th>4</th>\n",
       "      <td>GRB080916A</td>\n",
       "      <td>bn080916406</td>\n",
       "      <td>0.6887</td>\n",
       "      <td>0.512</td>\n",
       "      <td>46.849</td>\n",
       "      <td>yes</td>\n",
       "      <td>no</td>\n",
       "      <td>75.8313</td>\n",
       "      <td>77.1288</td>\n",
       "      <td>78.4168</td>\n",
       "    </tr>\n",
       "  </tbody>\n",
       "</table>\n",
       "</div>"
      ],
      "text/plain": [
       "         name      trigger       z  t90_start  t90_stop BATdet LATdet  \\\n",
       "0   GRB080804  bn080804972  2.2045      0.256    24.960    yes     no   \n",
       "1   GRB080810  bn080810549  3.3604    -20.096    87.361    yes     no   \n",
       "2  GRB080905A  bn080905499  0.1218     -0.064     0.896    yes     no   \n",
       "3  GRB080905B  bn080905705  2.3739     -5.120   100.864    yes     no   \n",
       "4  GRB080916A  bn080916406  0.6887      0.512    46.849    yes     no   \n",
       "\n",
       "     angT0   angT30   angT60  \n",
       "0   0.0000   0.0000   0.0000  \n",
       "1   0.0000   0.0000   0.0000  \n",
       "2  27.8855  29.1496  30.4518  \n",
       "3  85.4289  85.8448  86.2924  \n",
       "4  75.8313  77.1288  78.4168  "
      ]
     },
     "execution_count": 54,
     "metadata": {},
     "output_type": "execute_result"
    }
   ],
   "source": [
    "data[0:5]"
   ]
  },
  {
   "cell_type": "code",
   "execution_count": 59,
   "metadata": {
    "collapsed": false
   },
   "outputs": [],
   "source": [
    "data.to_csv('burst_data.txt', sep = ' ', header=True, index_label='number')"
   ]
  },
  {
   "cell_type": "markdown",
   "metadata": {},
   "source": [
    "### \\*** IMPORTANT NOTE:"
   ]
  },
  {
   "cell_type": "markdown",
   "metadata": {},
   "source": [
    "You should notice that the sizes of data1 and data2 were different.  data2 had two extra Gamma-ray bursts (GRBs) than data1.  \n",
    "\n",
    "After we merge the two data frames, the final data frame, data, has the same length as data1.\n",
    "\n",
    "Pandas.merge only merges the *matching* data, and omits the data that doesn't match.  This is exactly what we wanted here."
   ]
  },
  {
   "cell_type": "code",
   "execution_count": 17,
   "metadata": {
    "collapsed": false
   },
   "outputs": [
    {
     "data": {
      "text/plain": [
       "(70, 72, 70)"
      ]
     },
     "execution_count": 17,
     "metadata": {},
     "output_type": "execute_result"
    }
   ],
   "source": [
    "len(data1), len(data2), len(data)"
   ]
  },
  {
   "cell_type": "markdown",
   "metadata": {},
   "source": [
    "   "
   ]
  },
  {
   "cell_type": "markdown",
   "metadata": {},
   "source": [
    "### What if we wanted those keep the 2 additional GRBs?\n",
    "\n",
    "Using the how='outer' does the job.\n",
    "outer: use union of keys from both frames (SQL: full outer join)\n",
    "see:\n",
    "    \n",
    "    help(pandas.merge)\n"
   ]
  },
  {
   "cell_type": "code",
   "execution_count": 18,
   "metadata": {
    "collapsed": true
   },
   "outputs": [],
   "source": [
    "data_alt = pandas.merge(left=data1, right=data2, on='trigger', how='outer')"
   ]
  },
  {
   "cell_type": "code",
   "execution_count": 19,
   "metadata": {
    "collapsed": false
   },
   "outputs": [
    {
     "data": {
      "text/plain": [
       "72"
      ]
     },
     "execution_count": 19,
     "metadata": {},
     "output_type": "execute_result"
    }
   ],
   "source": [
    "len(data_alt)"
   ]
  },
  {
   "cell_type": "markdown",
   "metadata": {},
   "source": [
    "### The two extra GRBs will be at the end of the data frame."
   ]
  },
  {
   "cell_type": "code",
   "execution_count": 20,
   "metadata": {
    "collapsed": false,
    "scrolled": true
   },
   "outputs": [
    {
     "data": {
      "text/html": [
       "<div>\n",
       "<table border=\"1\" class=\"dataframe\">\n",
       "  <thead>\n",
       "    <tr style=\"text-align: right;\">\n",
       "      <th></th>\n",
       "      <th>name</th>\n",
       "      <th>trigger</th>\n",
       "      <th>z</th>\n",
       "      <th>t90_start</th>\n",
       "      <th>t90_stop</th>\n",
       "      <th>BATdet</th>\n",
       "      <th>LATdet</th>\n",
       "      <th>angT0</th>\n",
       "      <th>angT30</th>\n",
       "      <th>angT60</th>\n",
       "    </tr>\n",
       "  </thead>\n",
       "  <tbody>\n",
       "    <tr>\n",
       "      <th>0</th>\n",
       "      <td>GRB080804</td>\n",
       "      <td>bn080804972</td>\n",
       "      <td>2.2045</td>\n",
       "      <td>0.256</td>\n",
       "      <td>24.960</td>\n",
       "      <td>yes</td>\n",
       "      <td>no</td>\n",
       "      <td>0.00000</td>\n",
       "      <td>0.00000</td>\n",
       "      <td>0.00000</td>\n",
       "    </tr>\n",
       "    <tr>\n",
       "      <th>1</th>\n",
       "      <td>GRB080810</td>\n",
       "      <td>bn080810549</td>\n",
       "      <td>3.3604</td>\n",
       "      <td>-20.096</td>\n",
       "      <td>87.361</td>\n",
       "      <td>yes</td>\n",
       "      <td>no</td>\n",
       "      <td>0.00000</td>\n",
       "      <td>0.00000</td>\n",
       "      <td>0.00000</td>\n",
       "    </tr>\n",
       "    <tr>\n",
       "      <th>2</th>\n",
       "      <td>GRB080905A</td>\n",
       "      <td>bn080905499</td>\n",
       "      <td>0.1218</td>\n",
       "      <td>-0.064</td>\n",
       "      <td>0.896</td>\n",
       "      <td>yes</td>\n",
       "      <td>no</td>\n",
       "      <td>27.88550</td>\n",
       "      <td>29.14960</td>\n",
       "      <td>30.45180</td>\n",
       "    </tr>\n",
       "    <tr>\n",
       "      <th>3</th>\n",
       "      <td>GRB080905B</td>\n",
       "      <td>bn080905705</td>\n",
       "      <td>2.3739</td>\n",
       "      <td>-5.120</td>\n",
       "      <td>100.864</td>\n",
       "      <td>yes</td>\n",
       "      <td>no</td>\n",
       "      <td>85.42890</td>\n",
       "      <td>85.84480</td>\n",
       "      <td>86.29240</td>\n",
       "    </tr>\n",
       "    <tr>\n",
       "      <th>4</th>\n",
       "      <td>GRB080916A</td>\n",
       "      <td>bn080916406</td>\n",
       "      <td>0.6887</td>\n",
       "      <td>0.512</td>\n",
       "      <td>46.849</td>\n",
       "      <td>yes</td>\n",
       "      <td>no</td>\n",
       "      <td>75.83130</td>\n",
       "      <td>77.12880</td>\n",
       "      <td>78.41680</td>\n",
       "    </tr>\n",
       "    <tr>\n",
       "      <th>5</th>\n",
       "      <td>GRB080916C</td>\n",
       "      <td>bn080916009</td>\n",
       "      <td>4.3500</td>\n",
       "      <td>1.280</td>\n",
       "      <td>64.257</td>\n",
       "      <td>no</td>\n",
       "      <td>yes</td>\n",
       "      <td>48.83960</td>\n",
       "      <td>48.65890</td>\n",
       "      <td>48.48500</td>\n",
       "    </tr>\n",
       "    <tr>\n",
       "      <th>6</th>\n",
       "      <td>GRB080928</td>\n",
       "      <td>bn080928628</td>\n",
       "      <td>1.6919</td>\n",
       "      <td>-1.792</td>\n",
       "      <td>12.544</td>\n",
       "      <td>yes</td>\n",
       "      <td>no</td>\n",
       "      <td>45.21530</td>\n",
       "      <td>44.34000</td>\n",
       "      <td>43.47110</td>\n",
       "    </tr>\n",
       "    <tr>\n",
       "      <th>7</th>\n",
       "      <td>GRB081008</td>\n",
       "      <td>bn081008832</td>\n",
       "      <td>1.9670</td>\n",
       "      <td>0.004</td>\n",
       "      <td>150.019</td>\n",
       "      <td>yes</td>\n",
       "      <td>no</td>\n",
       "      <td>64.26970</td>\n",
       "      <td>64.97110</td>\n",
       "      <td>65.66190</td>\n",
       "    </tr>\n",
       "    <tr>\n",
       "      <th>8</th>\n",
       "      <td>GRB081121</td>\n",
       "      <td>bn081121858</td>\n",
       "      <td>2.5120</td>\n",
       "      <td>1.536</td>\n",
       "      <td>43.521</td>\n",
       "      <td>yes</td>\n",
       "      <td>no</td>\n",
       "      <td>134.73900</td>\n",
       "      <td>133.96900</td>\n",
       "      <td>133.19500</td>\n",
       "    </tr>\n",
       "    <tr>\n",
       "      <th>9</th>\n",
       "      <td>GRB081221</td>\n",
       "      <td>bn081221681</td>\n",
       "      <td>2.2600</td>\n",
       "      <td>3.328</td>\n",
       "      <td>33.025</td>\n",
       "      <td>yes</td>\n",
       "      <td>no</td>\n",
       "      <td>77.21590</td>\n",
       "      <td>78.93890</td>\n",
       "      <td>80.74000</td>\n",
       "    </tr>\n",
       "    <tr>\n",
       "      <th>10</th>\n",
       "      <td>GRB081222</td>\n",
       "      <td>bn081222204</td>\n",
       "      <td>2.7700</td>\n",
       "      <td>0.384</td>\n",
       "      <td>19.264</td>\n",
       "      <td>yes</td>\n",
       "      <td>no</td>\n",
       "      <td>49.90070</td>\n",
       "      <td>50.76500</td>\n",
       "      <td>51.67580</td>\n",
       "    </tr>\n",
       "    <tr>\n",
       "      <th>11</th>\n",
       "      <td>GRB090102</td>\n",
       "      <td>bn090102122</td>\n",
       "      <td>1.5470</td>\n",
       "      <td>1.536</td>\n",
       "      <td>28.160</td>\n",
       "      <td>yes</td>\n",
       "      <td>no</td>\n",
       "      <td>86.22880</td>\n",
       "      <td>87.73510</td>\n",
       "      <td>89.24650</td>\n",
       "    </tr>\n",
       "    <tr>\n",
       "      <th>12</th>\n",
       "      <td>GRB090113</td>\n",
       "      <td>bn090113778</td>\n",
       "      <td>1.7493</td>\n",
       "      <td>-2.048</td>\n",
       "      <td>15.360</td>\n",
       "      <td>yes</td>\n",
       "      <td>no</td>\n",
       "      <td>31.08010</td>\n",
       "      <td>31.97200</td>\n",
       "      <td>32.93050</td>\n",
       "    </tr>\n",
       "    <tr>\n",
       "      <th>13</th>\n",
       "      <td>GRB090323</td>\n",
       "      <td>bn090323002</td>\n",
       "      <td>3.5700</td>\n",
       "      <td>8.192</td>\n",
       "      <td>143.362</td>\n",
       "      <td>no</td>\n",
       "      <td>yes</td>\n",
       "      <td>57.14650</td>\n",
       "      <td>58.67720</td>\n",
       "      <td>59.32370</td>\n",
       "    </tr>\n",
       "    <tr>\n",
       "      <th>14</th>\n",
       "      <td>GRB090328A</td>\n",
       "      <td>bn090328401</td>\n",
       "      <td>0.7360</td>\n",
       "      <td>4.352</td>\n",
       "      <td>66.049</td>\n",
       "      <td>no</td>\n",
       "      <td>yes</td>\n",
       "      <td>64.51270</td>\n",
       "      <td>62.97220</td>\n",
       "      <td>61.31500</td>\n",
       "    </tr>\n",
       "    <tr>\n",
       "      <th>15</th>\n",
       "      <td>GRB090423</td>\n",
       "      <td>bn090423330</td>\n",
       "      <td>8.2000</td>\n",
       "      <td>-5.888</td>\n",
       "      <td>1.280</td>\n",
       "      <td>yes</td>\n",
       "      <td>no</td>\n",
       "      <td>75.26720</td>\n",
       "      <td>76.80890</td>\n",
       "      <td>78.35220</td>\n",
       "    </tr>\n",
       "    <tr>\n",
       "      <th>16</th>\n",
       "      <td>GRB090424</td>\n",
       "      <td>bn090424592</td>\n",
       "      <td>0.5440</td>\n",
       "      <td>0.512</td>\n",
       "      <td>14.656</td>\n",
       "      <td>yes</td>\n",
       "      <td>no</td>\n",
       "      <td>70.97310</td>\n",
       "      <td>71.96640</td>\n",
       "      <td>72.99230</td>\n",
       "    </tr>\n",
       "    <tr>\n",
       "      <th>17</th>\n",
       "      <td>GRB090510</td>\n",
       "      <td>bn090510016</td>\n",
       "      <td>0.9030</td>\n",
       "      <td>-0.048</td>\n",
       "      <td>0.912</td>\n",
       "      <td>yes</td>\n",
       "      <td>yes</td>\n",
       "      <td>13.57920</td>\n",
       "      <td>12.64650</td>\n",
       "      <td>9.04500</td>\n",
       "    </tr>\n",
       "    <tr>\n",
       "      <th>18</th>\n",
       "      <td>GRB090519</td>\n",
       "      <td>bn090519881</td>\n",
       "      <td>3.8500</td>\n",
       "      <td>-1.536</td>\n",
       "      <td>72.641</td>\n",
       "      <td>yes</td>\n",
       "      <td>no</td>\n",
       "      <td>47.90680</td>\n",
       "      <td>49.30760</td>\n",
       "      <td>50.71880</td>\n",
       "    </tr>\n",
       "    <tr>\n",
       "      <th>19</th>\n",
       "      <td>GRB090618</td>\n",
       "      <td>bn090618353</td>\n",
       "      <td>0.5400</td>\n",
       "      <td>7.936</td>\n",
       "      <td>120.322</td>\n",
       "      <td>yes</td>\n",
       "      <td>no</td>\n",
       "      <td>132.63600</td>\n",
       "      <td>133.22700</td>\n",
       "      <td>133.43600</td>\n",
       "    </tr>\n",
       "    <tr>\n",
       "      <th>20</th>\n",
       "      <td>GRB090902B</td>\n",
       "      <td>bn090902462</td>\n",
       "      <td>1.8220</td>\n",
       "      <td>2.816</td>\n",
       "      <td>22.144</td>\n",
       "      <td>no</td>\n",
       "      <td>yes</td>\n",
       "      <td>50.70170</td>\n",
       "      <td>50.06070</td>\n",
       "      <td>45.72150</td>\n",
       "    </tr>\n",
       "    <tr>\n",
       "      <th>21</th>\n",
       "      <td>GRB090926A</td>\n",
       "      <td>bn090926181</td>\n",
       "      <td>2.1062</td>\n",
       "      <td>2.176</td>\n",
       "      <td>15.936</td>\n",
       "      <td>no</td>\n",
       "      <td>yes</td>\n",
       "      <td>48.07080</td>\n",
       "      <td>49.13800</td>\n",
       "      <td>50.19320</td>\n",
       "    </tr>\n",
       "    <tr>\n",
       "      <th>22</th>\n",
       "      <td>GRB090926B</td>\n",
       "      <td>bn090926914</td>\n",
       "      <td>1.2400</td>\n",
       "      <td>1.088</td>\n",
       "      <td>56.641</td>\n",
       "      <td>yes</td>\n",
       "      <td>no</td>\n",
       "      <td>99.44680</td>\n",
       "      <td>99.92010</td>\n",
       "      <td>100.40500</td>\n",
       "    </tr>\n",
       "    <tr>\n",
       "      <th>23</th>\n",
       "      <td>GRB090927</td>\n",
       "      <td>bn090927422</td>\n",
       "      <td>1.3700</td>\n",
       "      <td>-0.192</td>\n",
       "      <td>0.320</td>\n",
       "      <td>yes</td>\n",
       "      <td>no</td>\n",
       "      <td>84.12290</td>\n",
       "      <td>91.92060</td>\n",
       "      <td>97.87650</td>\n",
       "    </tr>\n",
       "    <tr>\n",
       "      <th>24</th>\n",
       "      <td>GRB091003</td>\n",
       "      <td>bn091003191</td>\n",
       "      <td>0.8969</td>\n",
       "      <td>0.832</td>\n",
       "      <td>21.056</td>\n",
       "      <td>no</td>\n",
       "      <td>yes</td>\n",
       "      <td>12.26580</td>\n",
       "      <td>12.10500</td>\n",
       "      <td>10.09770</td>\n",
       "    </tr>\n",
       "    <tr>\n",
       "      <th>25</th>\n",
       "      <td>GRB091020</td>\n",
       "      <td>bn091020900</td>\n",
       "      <td>1.7100</td>\n",
       "      <td>-3.584</td>\n",
       "      <td>20.672</td>\n",
       "      <td>yes</td>\n",
       "      <td>no</td>\n",
       "      <td>118.33000</td>\n",
       "      <td>117.87800</td>\n",
       "      <td>117.44100</td>\n",
       "    </tr>\n",
       "    <tr>\n",
       "      <th>26</th>\n",
       "      <td>GRB091024</td>\n",
       "      <td>bn091024372</td>\n",
       "      <td>1.0920</td>\n",
       "      <td>-3.072</td>\n",
       "      <td>90.882</td>\n",
       "      <td>yes</td>\n",
       "      <td>no</td>\n",
       "      <td>97.76940</td>\n",
       "      <td>97.06400</td>\n",
       "      <td>96.38050</td>\n",
       "    </tr>\n",
       "    <tr>\n",
       "      <th>27</th>\n",
       "      <td>GRB091127</td>\n",
       "      <td>bn091127976</td>\n",
       "      <td>0.4900</td>\n",
       "      <td>0.003</td>\n",
       "      <td>8.704</td>\n",
       "      <td>yes</td>\n",
       "      <td>no</td>\n",
       "      <td>25.40080</td>\n",
       "      <td>23.89430</td>\n",
       "      <td>20.64760</td>\n",
       "    </tr>\n",
       "    <tr>\n",
       "      <th>28</th>\n",
       "      <td>GRB091208B</td>\n",
       "      <td>bn091208410</td>\n",
       "      <td>1.0633</td>\n",
       "      <td>-0.128</td>\n",
       "      <td>12.352</td>\n",
       "      <td>yes</td>\n",
       "      <td>yes</td>\n",
       "      <td>55.55160</td>\n",
       "      <td>55.66340</td>\n",
       "      <td>54.04220</td>\n",
       "    </tr>\n",
       "    <tr>\n",
       "      <th>29</th>\n",
       "      <td>GRB100117A</td>\n",
       "      <td>bn100117879</td>\n",
       "      <td>0.9200</td>\n",
       "      <td>-0.064</td>\n",
       "      <td>0.192</td>\n",
       "      <td>yes</td>\n",
       "      <td>no</td>\n",
       "      <td>86.01780</td>\n",
       "      <td>84.86680</td>\n",
       "      <td>83.70740</td>\n",
       "    </tr>\n",
       "    <tr>\n",
       "      <th>...</th>\n",
       "      <td>...</td>\n",
       "      <td>...</td>\n",
       "      <td>...</td>\n",
       "      <td>...</td>\n",
       "      <td>...</td>\n",
       "      <td>...</td>\n",
       "      <td>...</td>\n",
       "      <td>...</td>\n",
       "      <td>...</td>\n",
       "      <td>...</td>\n",
       "    </tr>\n",
       "    <tr>\n",
       "      <th>42</th>\n",
       "      <td>GRB110731A</td>\n",
       "      <td>bn110731465</td>\n",
       "      <td>2.8300</td>\n",
       "      <td>0.003</td>\n",
       "      <td>7.488</td>\n",
       "      <td>yes</td>\n",
       "      <td>yes</td>\n",
       "      <td>3.32674</td>\n",
       "      <td>3.94917</td>\n",
       "      <td>4.69097</td>\n",
       "    </tr>\n",
       "    <tr>\n",
       "      <th>43</th>\n",
       "      <td>GRB110818A</td>\n",
       "      <td>bn110818860</td>\n",
       "      <td>3.3600</td>\n",
       "      <td>-9.984</td>\n",
       "      <td>57.089</td>\n",
       "      <td>yes</td>\n",
       "      <td>no</td>\n",
       "      <td>95.70320</td>\n",
       "      <td>96.34560</td>\n",
       "      <td>97.01080</td>\n",
       "    </tr>\n",
       "    <tr>\n",
       "      <th>44</th>\n",
       "      <td>GRB111107A</td>\n",
       "      <td>bn111107035</td>\n",
       "      <td>2.8930</td>\n",
       "      <td>-1.536</td>\n",
       "      <td>10.496</td>\n",
       "      <td>yes</td>\n",
       "      <td>no</td>\n",
       "      <td>116.09300</td>\n",
       "      <td>115.34300</td>\n",
       "      <td>114.59400</td>\n",
       "    </tr>\n",
       "    <tr>\n",
       "      <th>45</th>\n",
       "      <td>GRB111228A</td>\n",
       "      <td>bn111228657</td>\n",
       "      <td>0.7160</td>\n",
       "      <td>-49.409</td>\n",
       "      <td>50.433</td>\n",
       "      <td>yes</td>\n",
       "      <td>no</td>\n",
       "      <td>70.37490</td>\n",
       "      <td>69.51450</td>\n",
       "      <td>68.63700</td>\n",
       "    </tr>\n",
       "    <tr>\n",
       "      <th>46</th>\n",
       "      <td>GRB120119A</td>\n",
       "      <td>bn120119170</td>\n",
       "      <td>1.7280</td>\n",
       "      <td>3.072</td>\n",
       "      <td>58.369</td>\n",
       "      <td>yes</td>\n",
       "      <td>no</td>\n",
       "      <td>74.92280</td>\n",
       "      <td>75.34780</td>\n",
       "      <td>75.80700</td>\n",
       "    </tr>\n",
       "    <tr>\n",
       "      <th>47</th>\n",
       "      <td>GRB120326A</td>\n",
       "      <td>bn120326056</td>\n",
       "      <td>1.7980</td>\n",
       "      <td>-1.280</td>\n",
       "      <td>10.496</td>\n",
       "      <td>yes</td>\n",
       "      <td>no</td>\n",
       "      <td>46.40640</td>\n",
       "      <td>46.39220</td>\n",
       "      <td>46.37800</td>\n",
       "    </tr>\n",
       "    <tr>\n",
       "      <th>48</th>\n",
       "      <td>GRB120711A</td>\n",
       "      <td>bn120711115</td>\n",
       "      <td>1.4050</td>\n",
       "      <td>62.465</td>\n",
       "      <td>106.498</td>\n",
       "      <td>no</td>\n",
       "      <td>yes</td>\n",
       "      <td>134.50400</td>\n",
       "      <td>134.30800</td>\n",
       "      <td>134.11800</td>\n",
       "    </tr>\n",
       "    <tr>\n",
       "      <th>49</th>\n",
       "      <td>GRB120712A</td>\n",
       "      <td>bn120712571</td>\n",
       "      <td>4.1745</td>\n",
       "      <td>-1.792</td>\n",
       "      <td>20.736</td>\n",
       "      <td>yes</td>\n",
       "      <td>no</td>\n",
       "      <td>38.32670</td>\n",
       "      <td>37.80280</td>\n",
       "      <td>37.33420</td>\n",
       "    </tr>\n",
       "    <tr>\n",
       "      <th>50</th>\n",
       "      <td>GRB120729A</td>\n",
       "      <td>bn120729456</td>\n",
       "      <td>0.8000</td>\n",
       "      <td>-1.024</td>\n",
       "      <td>24.448</td>\n",
       "      <td>yes</td>\n",
       "      <td>no</td>\n",
       "      <td>82.66120</td>\n",
       "      <td>82.74670</td>\n",
       "      <td>82.86550</td>\n",
       "    </tr>\n",
       "    <tr>\n",
       "      <th>51</th>\n",
       "      <td>GRB120811C</td>\n",
       "      <td>bn120811649</td>\n",
       "      <td>2.6710</td>\n",
       "      <td>-7.168</td>\n",
       "      <td>7.168</td>\n",
       "      <td>yes</td>\n",
       "      <td>no</td>\n",
       "      <td>134.39900</td>\n",
       "      <td>135.58800</td>\n",
       "      <td>136.78300</td>\n",
       "    </tr>\n",
       "    <tr>\n",
       "      <th>52</th>\n",
       "      <td>GRB120907A</td>\n",
       "      <td>bn120907017</td>\n",
       "      <td>0.9700</td>\n",
       "      <td>-1.920</td>\n",
       "      <td>3.840</td>\n",
       "      <td>yes</td>\n",
       "      <td>no</td>\n",
       "      <td>109.79600</td>\n",
       "      <td>110.88300</td>\n",
       "      <td>111.98000</td>\n",
       "    </tr>\n",
       "    <tr>\n",
       "      <th>53</th>\n",
       "      <td>GRB120922A</td>\n",
       "      <td>bn120922939</td>\n",
       "      <td>3.1000</td>\n",
       "      <td>-113.666</td>\n",
       "      <td>68.609</td>\n",
       "      <td>yes</td>\n",
       "      <td>no</td>\n",
       "      <td>87.88180</td>\n",
       "      <td>87.13700</td>\n",
       "      <td>86.41740</td>\n",
       "    </tr>\n",
       "    <tr>\n",
       "      <th>54</th>\n",
       "      <td>GRB121128A</td>\n",
       "      <td>bn121128212</td>\n",
       "      <td>2.2000</td>\n",
       "      <td>-0.768</td>\n",
       "      <td>16.576</td>\n",
       "      <td>yes</td>\n",
       "      <td>no</td>\n",
       "      <td>98.36220</td>\n",
       "      <td>98.73070</td>\n",
       "      <td>99.12590</td>\n",
       "    </tr>\n",
       "    <tr>\n",
       "      <th>55</th>\n",
       "      <td>GRB121211A</td>\n",
       "      <td>bn121211574</td>\n",
       "      <td>1.0230</td>\n",
       "      <td>-3.072</td>\n",
       "      <td>2.560</td>\n",
       "      <td>yes</td>\n",
       "      <td>no</td>\n",
       "      <td>62.24070</td>\n",
       "      <td>61.02800</td>\n",
       "      <td>59.81790</td>\n",
       "    </tr>\n",
       "    <tr>\n",
       "      <th>56</th>\n",
       "      <td>GRB130420A</td>\n",
       "      <td>bn130420313</td>\n",
       "      <td>1.2970</td>\n",
       "      <td>-59.649</td>\n",
       "      <td>45.313</td>\n",
       "      <td>yes</td>\n",
       "      <td>no</td>\n",
       "      <td>131.42700</td>\n",
       "      <td>132.20500</td>\n",
       "      <td>132.92500</td>\n",
       "    </tr>\n",
       "    <tr>\n",
       "      <th>57</th>\n",
       "      <td>GRB130427A</td>\n",
       "      <td>bn130427324</td>\n",
       "      <td>0.3400</td>\n",
       "      <td>4.096</td>\n",
       "      <td>142.338</td>\n",
       "      <td>yes</td>\n",
       "      <td>yes</td>\n",
       "      <td>48.17360</td>\n",
       "      <td>45.24500</td>\n",
       "      <td>39.12860</td>\n",
       "    </tr>\n",
       "    <tr>\n",
       "      <th>58</th>\n",
       "      <td>GRB130518A</td>\n",
       "      <td>bn130518580</td>\n",
       "      <td>2.4900</td>\n",
       "      <td>9.920</td>\n",
       "      <td>58.497</td>\n",
       "      <td>no</td>\n",
       "      <td>yes</td>\n",
       "      <td>40.98280</td>\n",
       "      <td>41.81180</td>\n",
       "      <td>42.63440</td>\n",
       "    </tr>\n",
       "    <tr>\n",
       "      <th>59</th>\n",
       "      <td>GRB130610A</td>\n",
       "      <td>bn130610133</td>\n",
       "      <td>2.0920</td>\n",
       "      <td>-2.560</td>\n",
       "      <td>19.200</td>\n",
       "      <td>yes</td>\n",
       "      <td>no</td>\n",
       "      <td>82.26720</td>\n",
       "      <td>76.80590</td>\n",
       "      <td>71.39860</td>\n",
       "    </tr>\n",
       "    <tr>\n",
       "      <th>60</th>\n",
       "      <td>GRB130612A</td>\n",
       "      <td>bn130612141</td>\n",
       "      <td>2.0060</td>\n",
       "      <td>-2.560</td>\n",
       "      <td>4.864</td>\n",
       "      <td>yes</td>\n",
       "      <td>no</td>\n",
       "      <td>44.37860</td>\n",
       "      <td>44.67510</td>\n",
       "      <td>45.02550</td>\n",
       "    </tr>\n",
       "    <tr>\n",
       "      <th>61</th>\n",
       "      <td>GRB130702A</td>\n",
       "      <td>bn130702004</td>\n",
       "      <td>0.1450</td>\n",
       "      <td>0.768</td>\n",
       "      <td>59.649</td>\n",
       "      <td>no</td>\n",
       "      <td>yes</td>\n",
       "      <td>76.41010</td>\n",
       "      <td>75.20350</td>\n",
       "      <td>73.99960</td>\n",
       "    </tr>\n",
       "    <tr>\n",
       "      <th>62</th>\n",
       "      <td>GRB130925A</td>\n",
       "      <td>bn130925173</td>\n",
       "      <td>0.3470</td>\n",
       "      <td>11.008</td>\n",
       "      <td>226.563</td>\n",
       "      <td>yes</td>\n",
       "      <td>no</td>\n",
       "      <td>36.32580</td>\n",
       "      <td>35.84240</td>\n",
       "      <td>30.27350</td>\n",
       "    </tr>\n",
       "    <tr>\n",
       "      <th>63</th>\n",
       "      <td>GRB131004A</td>\n",
       "      <td>bn131004904</td>\n",
       "      <td>0.7170</td>\n",
       "      <td>-0.192</td>\n",
       "      <td>0.960</td>\n",
       "      <td>yes</td>\n",
       "      <td>no</td>\n",
       "      <td>93.00520</td>\n",
       "      <td>93.96540</td>\n",
       "      <td>94.94360</td>\n",
       "    </tr>\n",
       "    <tr>\n",
       "      <th>64</th>\n",
       "      <td>GRB131105A</td>\n",
       "      <td>bn131105087</td>\n",
       "      <td>1.6860</td>\n",
       "      <td>2.496</td>\n",
       "      <td>115.138</td>\n",
       "      <td>yes</td>\n",
       "      <td>no</td>\n",
       "      <td>35.96470</td>\n",
       "      <td>36.05180</td>\n",
       "      <td>36.13680</td>\n",
       "    </tr>\n",
       "    <tr>\n",
       "      <th>65</th>\n",
       "      <td>GRB131108A</td>\n",
       "      <td>bn131108862</td>\n",
       "      <td>2.4000</td>\n",
       "      <td>0.448</td>\n",
       "      <td>18.944</td>\n",
       "      <td>no</td>\n",
       "      <td>yes</td>\n",
       "      <td>24.41130</td>\n",
       "      <td>28.46150</td>\n",
       "      <td>28.69860</td>\n",
       "    </tr>\n",
       "    <tr>\n",
       "      <th>66</th>\n",
       "      <td>GRB131231A</td>\n",
       "      <td>bn131231198</td>\n",
       "      <td>0.6420</td>\n",
       "      <td>13.312</td>\n",
       "      <td>44.544</td>\n",
       "      <td>no</td>\n",
       "      <td>yes</td>\n",
       "      <td>38.08670</td>\n",
       "      <td>39.13760</td>\n",
       "      <td>39.73630</td>\n",
       "    </tr>\n",
       "    <tr>\n",
       "      <th>67</th>\n",
       "      <td>GRB140206A</td>\n",
       "      <td>bn140206304</td>\n",
       "      <td>2.7400</td>\n",
       "      <td>0.512</td>\n",
       "      <td>27.776</td>\n",
       "      <td>yes</td>\n",
       "      <td>no</td>\n",
       "      <td>123.37300</td>\n",
       "      <td>123.37300</td>\n",
       "      <td>123.37300</td>\n",
       "    </tr>\n",
       "    <tr>\n",
       "      <th>68</th>\n",
       "      <td>GRB140213A</td>\n",
       "      <td>bn140213807</td>\n",
       "      <td>1.2076</td>\n",
       "      <td>0.768</td>\n",
       "      <td>19.392</td>\n",
       "      <td>yes</td>\n",
       "      <td>no</td>\n",
       "      <td>48.49500</td>\n",
       "      <td>48.40470</td>\n",
       "      <td>47.19750</td>\n",
       "    </tr>\n",
       "    <tr>\n",
       "      <th>69</th>\n",
       "      <td>GRB140304A</td>\n",
       "      <td>bn140304557</td>\n",
       "      <td>5.2830</td>\n",
       "      <td>-5.376</td>\n",
       "      <td>26.368</td>\n",
       "      <td>yes</td>\n",
       "      <td>no</td>\n",
       "      <td>72.58040</td>\n",
       "      <td>73.77820</td>\n",
       "      <td>74.96920</td>\n",
       "    </tr>\n",
       "    <tr>\n",
       "      <th>70</th>\n",
       "      <td>NaN</td>\n",
       "      <td>bn120118709</td>\n",
       "      <td>NaN</td>\n",
       "      <td>NaN</td>\n",
       "      <td>NaN</td>\n",
       "      <td>yes</td>\n",
       "      <td>no</td>\n",
       "      <td>38.17200</td>\n",
       "      <td>39.16120</td>\n",
       "      <td>40.17790</td>\n",
       "    </tr>\n",
       "    <tr>\n",
       "      <th>71</th>\n",
       "      <td>NaN</td>\n",
       "      <td>bn130907904</td>\n",
       "      <td>NaN</td>\n",
       "      <td>NaN</td>\n",
       "      <td>NaN</td>\n",
       "      <td>yes</td>\n",
       "      <td>yes</td>\n",
       "      <td>105.14400</td>\n",
       "      <td>106.26400</td>\n",
       "      <td>107.38400</td>\n",
       "    </tr>\n",
       "  </tbody>\n",
       "</table>\n",
       "<p>72 rows × 10 columns</p>\n",
       "</div>"
      ],
      "text/plain": [
       "          name      trigger       z  t90_start  t90_stop BATdet LATdet  \\\n",
       "0    GRB080804  bn080804972  2.2045      0.256    24.960    yes     no   \n",
       "1    GRB080810  bn080810549  3.3604    -20.096    87.361    yes     no   \n",
       "2   GRB080905A  bn080905499  0.1218     -0.064     0.896    yes     no   \n",
       "3   GRB080905B  bn080905705  2.3739     -5.120   100.864    yes     no   \n",
       "4   GRB080916A  bn080916406  0.6887      0.512    46.849    yes     no   \n",
       "5   GRB080916C  bn080916009  4.3500      1.280    64.257     no    yes   \n",
       "6    GRB080928  bn080928628  1.6919     -1.792    12.544    yes     no   \n",
       "7    GRB081008  bn081008832  1.9670      0.004   150.019    yes     no   \n",
       "8    GRB081121  bn081121858  2.5120      1.536    43.521    yes     no   \n",
       "9    GRB081221  bn081221681  2.2600      3.328    33.025    yes     no   \n",
       "10   GRB081222  bn081222204  2.7700      0.384    19.264    yes     no   \n",
       "11   GRB090102  bn090102122  1.5470      1.536    28.160    yes     no   \n",
       "12   GRB090113  bn090113778  1.7493     -2.048    15.360    yes     no   \n",
       "13   GRB090323  bn090323002  3.5700      8.192   143.362     no    yes   \n",
       "14  GRB090328A  bn090328401  0.7360      4.352    66.049     no    yes   \n",
       "15   GRB090423  bn090423330  8.2000     -5.888     1.280    yes     no   \n",
       "16   GRB090424  bn090424592  0.5440      0.512    14.656    yes     no   \n",
       "17   GRB090510  bn090510016  0.9030     -0.048     0.912    yes    yes   \n",
       "18   GRB090519  bn090519881  3.8500     -1.536    72.641    yes     no   \n",
       "19   GRB090618  bn090618353  0.5400      7.936   120.322    yes     no   \n",
       "20  GRB090902B  bn090902462  1.8220      2.816    22.144     no    yes   \n",
       "21  GRB090926A  bn090926181  2.1062      2.176    15.936     no    yes   \n",
       "22  GRB090926B  bn090926914  1.2400      1.088    56.641    yes     no   \n",
       "23   GRB090927  bn090927422  1.3700     -0.192     0.320    yes     no   \n",
       "24   GRB091003  bn091003191  0.8969      0.832    21.056     no    yes   \n",
       "25   GRB091020  bn091020900  1.7100     -3.584    20.672    yes     no   \n",
       "26   GRB091024  bn091024372  1.0920     -3.072    90.882    yes     no   \n",
       "27   GRB091127  bn091127976  0.4900      0.003     8.704    yes     no   \n",
       "28  GRB091208B  bn091208410  1.0633     -0.128    12.352    yes    yes   \n",
       "29  GRB100117A  bn100117879  0.9200     -0.064     0.192    yes     no   \n",
       "..         ...          ...     ...        ...       ...    ...    ...   \n",
       "42  GRB110731A  bn110731465  2.8300      0.003     7.488    yes    yes   \n",
       "43  GRB110818A  bn110818860  3.3600     -9.984    57.089    yes     no   \n",
       "44  GRB111107A  bn111107035  2.8930     -1.536    10.496    yes     no   \n",
       "45  GRB111228A  bn111228657  0.7160    -49.409    50.433    yes     no   \n",
       "46  GRB120119A  bn120119170  1.7280      3.072    58.369    yes     no   \n",
       "47  GRB120326A  bn120326056  1.7980     -1.280    10.496    yes     no   \n",
       "48  GRB120711A  bn120711115  1.4050     62.465   106.498     no    yes   \n",
       "49  GRB120712A  bn120712571  4.1745     -1.792    20.736    yes     no   \n",
       "50  GRB120729A  bn120729456  0.8000     -1.024    24.448    yes     no   \n",
       "51  GRB120811C  bn120811649  2.6710     -7.168     7.168    yes     no   \n",
       "52  GRB120907A  bn120907017  0.9700     -1.920     3.840    yes     no   \n",
       "53  GRB120922A  bn120922939  3.1000   -113.666    68.609    yes     no   \n",
       "54  GRB121128A  bn121128212  2.2000     -0.768    16.576    yes     no   \n",
       "55  GRB121211A  bn121211574  1.0230     -3.072     2.560    yes     no   \n",
       "56  GRB130420A  bn130420313  1.2970    -59.649    45.313    yes     no   \n",
       "57  GRB130427A  bn130427324  0.3400      4.096   142.338    yes    yes   \n",
       "58  GRB130518A  bn130518580  2.4900      9.920    58.497     no    yes   \n",
       "59  GRB130610A  bn130610133  2.0920     -2.560    19.200    yes     no   \n",
       "60  GRB130612A  bn130612141  2.0060     -2.560     4.864    yes     no   \n",
       "61  GRB130702A  bn130702004  0.1450      0.768    59.649     no    yes   \n",
       "62  GRB130925A  bn130925173  0.3470     11.008   226.563    yes     no   \n",
       "63  GRB131004A  bn131004904  0.7170     -0.192     0.960    yes     no   \n",
       "64  GRB131105A  bn131105087  1.6860      2.496   115.138    yes     no   \n",
       "65  GRB131108A  bn131108862  2.4000      0.448    18.944     no    yes   \n",
       "66  GRB131231A  bn131231198  0.6420     13.312    44.544     no    yes   \n",
       "67  GRB140206A  bn140206304  2.7400      0.512    27.776    yes     no   \n",
       "68  GRB140213A  bn140213807  1.2076      0.768    19.392    yes     no   \n",
       "69  GRB140304A  bn140304557  5.2830     -5.376    26.368    yes     no   \n",
       "70         NaN  bn120118709     NaN        NaN       NaN    yes     no   \n",
       "71         NaN  bn130907904     NaN        NaN       NaN    yes    yes   \n",
       "\n",
       "        angT0     angT30     angT60  \n",
       "0     0.00000    0.00000    0.00000  \n",
       "1     0.00000    0.00000    0.00000  \n",
       "2    27.88550   29.14960   30.45180  \n",
       "3    85.42890   85.84480   86.29240  \n",
       "4    75.83130   77.12880   78.41680  \n",
       "5    48.83960   48.65890   48.48500  \n",
       "6    45.21530   44.34000   43.47110  \n",
       "7    64.26970   64.97110   65.66190  \n",
       "8   134.73900  133.96900  133.19500  \n",
       "9    77.21590   78.93890   80.74000  \n",
       "10   49.90070   50.76500   51.67580  \n",
       "11   86.22880   87.73510   89.24650  \n",
       "12   31.08010   31.97200   32.93050  \n",
       "13   57.14650   58.67720   59.32370  \n",
       "14   64.51270   62.97220   61.31500  \n",
       "15   75.26720   76.80890   78.35220  \n",
       "16   70.97310   71.96640   72.99230  \n",
       "17   13.57920   12.64650    9.04500  \n",
       "18   47.90680   49.30760   50.71880  \n",
       "19  132.63600  133.22700  133.43600  \n",
       "20   50.70170   50.06070   45.72150  \n",
       "21   48.07080   49.13800   50.19320  \n",
       "22   99.44680   99.92010  100.40500  \n",
       "23   84.12290   91.92060   97.87650  \n",
       "24   12.26580   12.10500   10.09770  \n",
       "25  118.33000  117.87800  117.44100  \n",
       "26   97.76940   97.06400   96.38050  \n",
       "27   25.40080   23.89430   20.64760  \n",
       "28   55.55160   55.66340   54.04220  \n",
       "29   86.01780   84.86680   83.70740  \n",
       "..        ...        ...        ...  \n",
       "42    3.32674    3.94917    4.69097  \n",
       "43   95.70320   96.34560   97.01080  \n",
       "44  116.09300  115.34300  114.59400  \n",
       "45   70.37490   69.51450   68.63700  \n",
       "46   74.92280   75.34780   75.80700  \n",
       "47   46.40640   46.39220   46.37800  \n",
       "48  134.50400  134.30800  134.11800  \n",
       "49   38.32670   37.80280   37.33420  \n",
       "50   82.66120   82.74670   82.86550  \n",
       "51  134.39900  135.58800  136.78300  \n",
       "52  109.79600  110.88300  111.98000  \n",
       "53   87.88180   87.13700   86.41740  \n",
       "54   98.36220   98.73070   99.12590  \n",
       "55   62.24070   61.02800   59.81790  \n",
       "56  131.42700  132.20500  132.92500  \n",
       "57   48.17360   45.24500   39.12860  \n",
       "58   40.98280   41.81180   42.63440  \n",
       "59   82.26720   76.80590   71.39860  \n",
       "60   44.37860   44.67510   45.02550  \n",
       "61   76.41010   75.20350   73.99960  \n",
       "62   36.32580   35.84240   30.27350  \n",
       "63   93.00520   93.96540   94.94360  \n",
       "64   35.96470   36.05180   36.13680  \n",
       "65   24.41130   28.46150   28.69860  \n",
       "66   38.08670   39.13760   39.73630  \n",
       "67  123.37300  123.37300  123.37300  \n",
       "68   48.49500   48.40470   47.19750  \n",
       "69   72.58040   73.77820   74.96920  \n",
       "70   38.17200   39.16120   40.17790  \n",
       "71  105.14400  106.26400  107.38400  \n",
       "\n",
       "[72 rows x 10 columns]"
      ]
     },
     "execution_count": 20,
     "metadata": {},
     "output_type": "execute_result"
    }
   ],
   "source": [
    "data_alt"
   ]
  },
  {
   "cell_type": "markdown",
   "metadata": {},
   "source": [
    "----"
   ]
  },
  {
   "cell_type": "markdown",
   "metadata": {},
   "source": [
    "   "
   ]
  },
  {
   "cell_type": "markdown",
   "metadata": {},
   "source": [
    "# Extra Stuff:"
   ]
  },
  {
   "cell_type": "markdown",
   "metadata": {},
   "source": [
    "### Lets start with the original data frames "
   ]
  },
  {
   "cell_type": "code",
   "execution_count": 21,
   "metadata": {
    "collapsed": true
   },
   "outputs": [],
   "source": [
    "data1 = pandas.read_table(f1, delimiter=\" \", header=0)\n",
    "data2 = pandas.read_table(f2, delimiter=\" \", header=0)"
   ]
  },
  {
   "cell_type": "code",
   "execution_count": 22,
   "metadata": {
    "collapsed": false
   },
   "outputs": [
    {
     "data": {
      "text/plain": [
       "(70, 72)"
      ]
     },
     "execution_count": 22,
     "metadata": {},
     "output_type": "execute_result"
    }
   ],
   "source": [
    "len(data1), len(data2)"
   ]
  },
  {
   "cell_type": "markdown",
   "metadata": {},
   "source": [
    " "
   ]
  },
  {
   "cell_type": "markdown",
   "metadata": {},
   "source": [
    "data2 has two more Gamma-ray bursts (GRBs) in its table than data1.  We only want the GRBs that are in BOTH data frames.\n",
    "#### Here is a trick \n",
    "to find the matching or non-matching bursts between data frames."
   ]
  },
  {
   "cell_type": "markdown",
   "metadata": {},
   "source": [
    "We make them both sets so that we can use the Python set feature difference.  This will give us the difference between the two sets.\n",
    "\n",
    "    d2.difference(d1)\n",
    "    "
   ]
  },
  {
   "cell_type": "code",
   "execution_count": 23,
   "metadata": {
    "collapsed": false
   },
   "outputs": [
    {
     "data": {
      "text/plain": [
       "{'bn120118709', 'bn130907904'}"
      ]
     },
     "execution_count": 23,
     "metadata": {},
     "output_type": "execute_result"
    }
   ],
   "source": [
    "d1 = set(data1['trigger'])\n",
    "d2 = set(data2['trigger'])\n",
    "\n",
    " \n",
    "d2.difference(d1)"
   ]
  },
  {
   "cell_type": "markdown",
   "metadata": {},
   "source": [
    "#### Here is another Example to you can see you this works:"
   ]
  },
  {
   "cell_type": "code",
   "execution_count": 24,
   "metadata": {
    "collapsed": true
   },
   "outputs": [],
   "source": [
    "D2 = {\"cat\",\"dog\",\"horse\",\"bird\",\"fish\"}\n",
    "D1 = {\"cat\",\"dog\",\"bear\"}"
   ]
  },
  {
   "cell_type": "markdown",
   "metadata": {},
   "source": [
    "#### What does d2 have that d1 does not:"
   ]
  },
  {
   "cell_type": "code",
   "execution_count": 25,
   "metadata": {
    "collapsed": false
   },
   "outputs": [
    {
     "data": {
      "text/plain": [
       "{'bird', 'fish', 'horse'}"
      ]
     },
     "execution_count": 25,
     "metadata": {},
     "output_type": "execute_result"
    }
   ],
   "source": [
    "D2.difference(D1)  "
   ]
  },
  {
   "cell_type": "markdown",
   "metadata": {},
   "source": [
    "#### What does d1 have that d2 does not:"
   ]
  },
  {
   "cell_type": "code",
   "execution_count": 26,
   "metadata": {
    "collapsed": false
   },
   "outputs": [
    {
     "data": {
      "text/plain": [
       "{'bear'}"
      ]
     },
     "execution_count": 26,
     "metadata": {},
     "output_type": "execute_result"
    }
   ],
   "source": [
    "D1.difference(D2)"
   ]
  },
  {
   "cell_type": "code",
   "execution_count": 27,
   "metadata": {
    "collapsed": false
   },
   "outputs": [
    {
     "data": {
      "text/plain": [
       "{'cat', 'dog'}"
      ]
     },
     "execution_count": 27,
     "metadata": {},
     "output_type": "execute_result"
    }
   ],
   "source": [
    "D2.intersection(D1)"
   ]
  },
  {
   "cell_type": "code",
   "execution_count": 28,
   "metadata": {
    "collapsed": false
   },
   "outputs": [
    {
     "data": {
      "text/plain": [
       "{'cat', 'dog'}"
      ]
     },
     "execution_count": 28,
     "metadata": {},
     "output_type": "execute_result"
    }
   ],
   "source": [
    "D1.intersection(D2)"
   ]
  },
  {
   "cell_type": "code",
   "execution_count": 29,
   "metadata": {
    "collapsed": true
   },
   "outputs": [],
   "source": [
    "bursts_to_remove = d2.difference(d1)"
   ]
  },
  {
   "cell_type": "markdown",
   "metadata": {},
   "source": [
    "It's important to put the shorter table (d1) as a subset of (d2) because d2 has all the GRBs that d1 does, but 2 extra.  So if you take the difference d1.difference(d2), nothing will be returned because there is NOTHING that d1 has that d2 does not."
   ]
  },
  {
   "cell_type": "markdown",
   "metadata": {},
   "source": [
    "We convert it back into a list in the same step because we like the indexing feature of lists."
   ]
  },
  {
   "cell_type": "code",
   "execution_count": 30,
   "metadata": {
    "collapsed": false
   },
   "outputs": [
    {
     "data": {
      "text/plain": [
       "['bn130907904', 'bn120118709']"
      ]
     },
     "execution_count": 30,
     "metadata": {},
     "output_type": "execute_result"
    }
   ],
   "source": [
    "bursts_to_remove = list(bursts_to_remove); bursts_to_remove"
   ]
  },
  {
   "cell_type": "markdown",
   "metadata": {},
   "source": [
    "    data2[data2['trigger']=='bn120118709']\n",
    "Returns the row of data in the data frame that belongs to the trigger name 'bn120118709'. \n",
    "\n",
    "    data2[data2['trigger']=='bn120118709'].index  \n",
    "\n",
    "Returns:\n",
    "    \n",
    "    Int64Index([46], dtype='int64')\n",
    "\n",
    "which appears to act an an array with the index in the [0] and dtype='int64' in the [1] spots.\n",
    "\n",
    "So we'll use:\n",
    "    \n",
    "    data2[data2['trigger']=='bn120118709'].index[0]  \n",
    "Returns:\n",
    "    \n",
    "    46\n",
    "\n",
    "\n",
    "Again, because the drop feature defaults *inplace = False*, we either need to change it to True or set the call to a new data frame name.\n",
    "If you are looping over a list, as we will, it is quickest (and cleanist) to use *inplace=True.*"
   ]
  },
  {
   "cell_type": "code",
   "execution_count": 31,
   "metadata": {
    "collapsed": false
   },
   "outputs": [
    {
     "name": "stdout",
     "output_type": "stream",
     "text": [
      "bn130907904 63\n",
      "bn120118709 46\n"
     ]
    }
   ],
   "source": [
    "for burst in bursts_to_remove:\n",
    "    idx = data2[data2['trigger']== burst].index[0] \n",
    "    print burst, idx\n",
    "    data2.drop(idx, inplace=True)"
   ]
  },
  {
   "cell_type": "code",
   "execution_count": 32,
   "metadata": {
    "collapsed": false
   },
   "outputs": [
    {
     "data": {
      "text/plain": [
       "True"
      ]
     },
     "execution_count": 32,
     "metadata": {},
     "output_type": "execute_result"
    }
   ],
   "source": [
    "# Check that both data frames are the same lenght now.\n",
    "len(data1) == len(data2)"
   ]
  },
  {
   "cell_type": "code",
   "execution_count": 33,
   "metadata": {
    "collapsed": false
   },
   "outputs": [
    {
     "data": {
      "text/html": [
       "<div>\n",
       "<table border=\"1\" class=\"dataframe\">\n",
       "  <thead>\n",
       "    <tr style=\"text-align: right;\">\n",
       "      <th></th>\n",
       "      <th>name</th>\n",
       "      <th>trigger</th>\n",
       "      <th>z</th>\n",
       "      <th>BATdet</th>\n",
       "      <th>LATdet</th>\n",
       "      <th>angT0</th>\n",
       "      <th>angT30</th>\n",
       "      <th>angT60</th>\n",
       "    </tr>\n",
       "  </thead>\n",
       "  <tbody>\n",
       "    <tr>\n",
       "      <th>0</th>\n",
       "      <td>GRB080804</td>\n",
       "      <td>bn080804972</td>\n",
       "      <td>2.2045</td>\n",
       "      <td>yes</td>\n",
       "      <td>no</td>\n",
       "      <td>0.0</td>\n",
       "      <td>0.0</td>\n",
       "      <td>0.0</td>\n",
       "    </tr>\n",
       "    <tr>\n",
       "      <th>1</th>\n",
       "      <td>GRB080810</td>\n",
       "      <td>bn080810549</td>\n",
       "      <td>3.3604</td>\n",
       "      <td>yes</td>\n",
       "      <td>no</td>\n",
       "      <td>0.0</td>\n",
       "      <td>0.0</td>\n",
       "      <td>0.0</td>\n",
       "    </tr>\n",
       "  </tbody>\n",
       "</table>\n",
       "</div>"
      ],
      "text/plain": [
       "        name      trigger       z BATdet LATdet  angT0  angT30  angT60\n",
       "0  GRB080804  bn080804972  2.2045    yes     no    0.0     0.0     0.0\n",
       "1  GRB080810  bn080810549  3.3604    yes     no    0.0     0.0     0.0"
      ]
     },
     "execution_count": 33,
     "metadata": {},
     "output_type": "execute_result"
    }
   ],
   "source": [
    "data2[0:2]"
   ]
  },
  {
   "cell_type": "markdown",
   "metadata": {},
   "source": [
    "  "
   ]
  },
  {
   "cell_type": "markdown",
   "metadata": {},
   "source": [
    "### Again, drop unnecessary columns"
   ]
  },
  {
   "cell_type": "code",
   "execution_count": 34,
   "metadata": {
    "collapsed": false
   },
   "outputs": [],
   "source": [
    "data1.drop(labels=['number'], axis=1, inplace=True)\n",
    "data2.drop(labels=['z','name'], axis=1, inplace=True)"
   ]
  },
  {
   "cell_type": "code",
   "execution_count": 35,
   "metadata": {
    "collapsed": false
   },
   "outputs": [
    {
     "data": {
      "text/html": [
       "<div>\n",
       "<table border=\"1\" class=\"dataframe\">\n",
       "  <thead>\n",
       "    <tr style=\"text-align: right;\">\n",
       "      <th></th>\n",
       "      <th>name</th>\n",
       "      <th>trigger</th>\n",
       "      <th>z</th>\n",
       "      <th>t90_start</th>\n",
       "      <th>t90_stop</th>\n",
       "    </tr>\n",
       "  </thead>\n",
       "  <tbody>\n",
       "    <tr>\n",
       "      <th>0</th>\n",
       "      <td>GRB080804</td>\n",
       "      <td>bn080804972</td>\n",
       "      <td>2.2045</td>\n",
       "      <td>0.256</td>\n",
       "      <td>24.960</td>\n",
       "    </tr>\n",
       "    <tr>\n",
       "      <th>1</th>\n",
       "      <td>GRB080810</td>\n",
       "      <td>bn080810549</td>\n",
       "      <td>3.3604</td>\n",
       "      <td>-20.096</td>\n",
       "      <td>87.361</td>\n",
       "    </tr>\n",
       "  </tbody>\n",
       "</table>\n",
       "</div>"
      ],
      "text/plain": [
       "        name      trigger       z  t90_start  t90_stop\n",
       "0  GRB080804  bn080804972  2.2045      0.256    24.960\n",
       "1  GRB080810  bn080810549  3.3604    -20.096    87.361"
      ]
     },
     "execution_count": 35,
     "metadata": {},
     "output_type": "execute_result"
    }
   ],
   "source": [
    "data1[0:2]"
   ]
  },
  {
   "cell_type": "code",
   "execution_count": 36,
   "metadata": {
    "collapsed": false
   },
   "outputs": [
    {
     "data": {
      "text/html": [
       "<div>\n",
       "<table border=\"1\" class=\"dataframe\">\n",
       "  <thead>\n",
       "    <tr style=\"text-align: right;\">\n",
       "      <th></th>\n",
       "      <th>trigger</th>\n",
       "      <th>BATdet</th>\n",
       "      <th>LATdet</th>\n",
       "      <th>angT0</th>\n",
       "      <th>angT30</th>\n",
       "      <th>angT60</th>\n",
       "    </tr>\n",
       "  </thead>\n",
       "  <tbody>\n",
       "    <tr>\n",
       "      <th>0</th>\n",
       "      <td>bn080804972</td>\n",
       "      <td>yes</td>\n",
       "      <td>no</td>\n",
       "      <td>0.0</td>\n",
       "      <td>0.0</td>\n",
       "      <td>0.0</td>\n",
       "    </tr>\n",
       "    <tr>\n",
       "      <th>1</th>\n",
       "      <td>bn080810549</td>\n",
       "      <td>yes</td>\n",
       "      <td>no</td>\n",
       "      <td>0.0</td>\n",
       "      <td>0.0</td>\n",
       "      <td>0.0</td>\n",
       "    </tr>\n",
       "  </tbody>\n",
       "</table>\n",
       "</div>"
      ],
      "text/plain": [
       "       trigger BATdet LATdet  angT0  angT30  angT60\n",
       "0  bn080804972    yes     no    0.0     0.0     0.0\n",
       "1  bn080810549    yes     no    0.0     0.0     0.0"
      ]
     },
     "execution_count": 36,
     "metadata": {},
     "output_type": "execute_result"
    }
   ],
   "source": [
    "data2[0:2]"
   ]
  },
  {
   "cell_type": "markdown",
   "metadata": {},
   "source": [
    " "
   ]
  },
  {
   "cell_type": "markdown",
   "metadata": {},
   "source": [
    "### Just to make sure the data in both data frames are in the same order:"
   ]
  },
  {
   "cell_type": "markdown",
   "metadata": {},
   "source": [
    "I'm sure there are better ways to do this.  I just do what comes most natural for me."
   ]
  },
  {
   "cell_type": "code",
   "execution_count": 37,
   "metadata": {
    "collapsed": false
   },
   "outputs": [
    {
     "name": "stdout",
     "output_type": "stream",
     "text": [
      "True\n",
      "True\n",
      "True\n",
      "True\n",
      "True\n",
      "True\n",
      "True\n",
      "True\n",
      "True\n",
      "True\n",
      "True\n",
      "True\n",
      "True\n",
      "True\n",
      "True\n",
      "True\n",
      "True\n",
      "True\n",
      "True\n",
      "True\n",
      "True\n",
      "True\n",
      "True\n",
      "True\n",
      "True\n",
      "True\n",
      "True\n",
      "True\n",
      "True\n",
      "True\n",
      "True\n",
      "True\n",
      "True\n",
      "True\n",
      "True\n",
      "True\n",
      "True\n",
      "True\n",
      "True\n",
      "True\n",
      "True\n",
      "True\n",
      "True\n",
      "True\n",
      "True\n",
      "True\n",
      "True\n",
      "True\n",
      "True\n",
      "True\n",
      "True\n",
      "True\n",
      "True\n",
      "True\n",
      "True\n",
      "True\n",
      "True\n",
      "True\n",
      "True\n",
      "True\n",
      "True\n",
      "True\n",
      "True\n",
      "True\n",
      "True\n",
      "True\n",
      "True\n",
      "True\n",
      "True\n",
      "True\n"
     ]
    }
   ],
   "source": [
    "d1_triggers = list(data1['trigger'])\n",
    "d2_triggers = list(data2['trigger'])\n",
    "\n",
    "for i,trig in enumerate(d1_triggers):\n",
    "    print d2_triggers[i] == trig      # all should return True.\n",
    "\n"
   ]
  }
 ],
 "metadata": {
  "kernelspec": {
   "display_name": "Python 2",
   "language": "python",
   "name": "python2"
  },
  "language_info": {
   "codemirror_mode": {
    "name": "ipython",
    "version": 2
   },
   "file_extension": ".py",
   "mimetype": "text/x-python",
   "name": "python",
   "nbconvert_exporter": "python",
   "pygments_lexer": "ipython2",
   "version": "2.7.12"
  }
 },
 "nbformat": 4,
 "nbformat_minor": 0
}
