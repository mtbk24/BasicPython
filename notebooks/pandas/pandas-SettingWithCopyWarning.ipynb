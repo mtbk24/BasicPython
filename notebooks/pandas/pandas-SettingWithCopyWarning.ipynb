{
 "cells": [
  {
   "cell_type": "code",
   "execution_count": 1,
   "metadata": {
    "collapsed": true
   },
   "outputs": [],
   "source": [
    "from __future__ import division # using Python 2.7\n",
    "import numpy as np\n",
    "import pandas as pd "
   ]
  },
  {
   "cell_type": "markdown",
   "metadata": {},
   "source": [
    "## Read Data into Pandas DataFrame"
   ]
  },
  {
   "cell_type": "code",
   "execution_count": 2,
   "metadata": {
    "collapsed": false
   },
   "outputs": [
    {
     "data": {
      "text/html": [
       "<div>\n",
       "<table border=\"1\" class=\"dataframe\">\n",
       "  <thead>\n",
       "    <tr style=\"text-align: right;\">\n",
       "      <th></th>\n",
       "      <th>prob</th>\n",
       "      <th>cstat</th>\n",
       "      <th>alpha</th>\n",
       "      <th>beta</th>\n",
       "      <th>enaught</th>\n",
       "      <th>norm</th>\n",
       "    </tr>\n",
       "  </thead>\n",
       "  <tbody>\n",
       "    <tr>\n",
       "      <th>0</th>\n",
       "      <td>1.464804e-99</td>\n",
       "      <td>774.965035</td>\n",
       "      <td>-1.094847</td>\n",
       "      <td>-2.334929</td>\n",
       "      <td>607.719256</td>\n",
       "      <td>-1.724910</td>\n",
       "    </tr>\n",
       "    <tr>\n",
       "      <th>1</th>\n",
       "      <td>1.551436e-99</td>\n",
       "      <td>774.847617</td>\n",
       "      <td>-1.251852</td>\n",
       "      <td>-2.282142</td>\n",
       "      <td>1739.260013</td>\n",
       "      <td>-1.814916</td>\n",
       "    </tr>\n",
       "    <tr>\n",
       "      <th>2</th>\n",
       "      <td>1.600356e-99</td>\n",
       "      <td>774.783027</td>\n",
       "      <td>-1.222781</td>\n",
       "      <td>-2.692320</td>\n",
       "      <td>2722.137812</td>\n",
       "      <td>-1.883588</td>\n",
       "    </tr>\n",
       "    <tr>\n",
       "      <th>3</th>\n",
       "      <td>1.622601e-99</td>\n",
       "      <td>774.752918</td>\n",
       "      <td>-1.328367</td>\n",
       "      <td>-2.237835</td>\n",
       "      <td>1735.107763</td>\n",
       "      <td>-1.885350</td>\n",
       "    </tr>\n",
       "    <tr>\n",
       "      <th>4</th>\n",
       "      <td>1.778115e-99</td>\n",
       "      <td>774.567371</td>\n",
       "      <td>-1.174649</td>\n",
       "      <td>-2.390003</td>\n",
       "      <td>880.591390</td>\n",
       "      <td>-1.775047</td>\n",
       "    </tr>\n",
       "  </tbody>\n",
       "</table>\n",
       "</div>"
      ],
      "text/plain": [
       "           prob       cstat     alpha      beta      enaught      norm\n",
       "0  1.464804e-99  774.965035 -1.094847 -2.334929   607.719256 -1.724910\n",
       "1  1.551436e-99  774.847617 -1.251852 -2.282142  1739.260013 -1.814916\n",
       "2  1.600356e-99  774.783027 -1.222781 -2.692320  2722.137812 -1.883588\n",
       "3  1.622601e-99  774.752918 -1.328367 -2.237835  1735.107763 -1.885350\n",
       "4  1.778115e-99  774.567371 -1.174649 -2.390003   880.591390 -1.775047"
      ]
     },
     "execution_count": 2,
     "metadata": {},
     "output_type": "execute_result"
    }
   ],
   "source": [
    "f='/Users/KimiZ/GRBs2/analysis/LAT/bn080916009/BXA/GBMwLAT/grbm/grbm_-01-_L_.txt'\n",
    "colnames = ['prob', 'cstat', 'alpha', 'beta', 'enaught', 'norm']\n",
    "\n",
    "# Read a table of fixed-width formatted lines into DataFrame\n",
    "data = pd.read_fwf(f, names=colnames)\n",
    "data.head()"
   ]
  },
  {
   "cell_type": "markdown",
   "metadata": {},
   "source": [
    "For an easy way to retireve the original dataframe in the case we make undesirable changes to it, we make a copy."
   ]
  },
  {
   "cell_type": "code",
   "execution_count": 3,
   "metadata": {
    "collapsed": false
   },
   "outputs": [
    {
     "data": {
      "text/html": [
       "<div>\n",
       "<table border=\"1\" class=\"dataframe\">\n",
       "  <thead>\n",
       "    <tr style=\"text-align: right;\">\n",
       "      <th></th>\n",
       "      <th>prob</th>\n",
       "      <th>cstat</th>\n",
       "      <th>alpha</th>\n",
       "      <th>beta</th>\n",
       "      <th>enaught</th>\n",
       "      <th>norm</th>\n",
       "    </tr>\n",
       "  </thead>\n",
       "  <tbody>\n",
       "    <tr>\n",
       "      <th>count</th>\n",
       "      <td>1.029600e+04</td>\n",
       "      <td>10296.000000</td>\n",
       "      <td>10296.000000</td>\n",
       "      <td>10296.000000</td>\n",
       "      <td>10296.000000</td>\n",
       "      <td>10296.000000</td>\n",
       "    </tr>\n",
       "    <tr>\n",
       "      <th>mean</th>\n",
       "      <td>9.712510e-05</td>\n",
       "      <td>395.004846</td>\n",
       "      <td>-1.060994</td>\n",
       "      <td>-2.235769</td>\n",
       "      <td>765.699156</td>\n",
       "      <td>-1.776226</td>\n",
       "    </tr>\n",
       "    <tr>\n",
       "      <th>std</th>\n",
       "      <td>1.291850e-04</td>\n",
       "      <td>114.797866</td>\n",
       "      <td>0.083314</td>\n",
       "      <td>0.086807</td>\n",
       "      <td>545.741127</td>\n",
       "      <td>0.047967</td>\n",
       "    </tr>\n",
       "    <tr>\n",
       "      <th>min</th>\n",
       "      <td>1.464804e-99</td>\n",
       "      <td>311.341958</td>\n",
       "      <td>-1.332401</td>\n",
       "      <td>-2.740877</td>\n",
       "      <td>133.833608</td>\n",
       "      <td>-1.925408</td>\n",
       "    </tr>\n",
       "    <tr>\n",
       "      <th>25%</th>\n",
       "      <td>3.880925e-26</td>\n",
       "      <td>316.824998</td>\n",
       "      <td>-1.099635</td>\n",
       "      <td>-2.250655</td>\n",
       "      <td>501.571732</td>\n",
       "      <td>-1.799328</td>\n",
       "    </tr>\n",
       "    <tr>\n",
       "      <th>50%</th>\n",
       "      <td>1.980437e-07</td>\n",
       "      <td>337.816511</td>\n",
       "      <td>-1.044211</td>\n",
       "      <td>-2.207984</td>\n",
       "      <td>567.740581</td>\n",
       "      <td>-1.766239</td>\n",
       "    </tr>\n",
       "    <tr>\n",
       "      <th>75%</th>\n",
       "      <td>2.322696e-04</td>\n",
       "      <td>430.402958</td>\n",
       "      <td>-1.016682</td>\n",
       "      <td>-2.190644</td>\n",
       "      <td>763.720345</td>\n",
       "      <td>-1.750132</td>\n",
       "    </tr>\n",
       "    <tr>\n",
       "      <th>max</th>\n",
       "      <td>4.849745e-04</td>\n",
       "      <td>774.965035</td>\n",
       "      <td>-0.557594</td>\n",
       "      <td>-2.022935</td>\n",
       "      <td>4542.674944</td>\n",
       "      <td>-1.466031</td>\n",
       "    </tr>\n",
       "  </tbody>\n",
       "</table>\n",
       "</div>"
      ],
      "text/plain": [
       "               prob         cstat         alpha          beta       enaught  \\\n",
       "count  1.029600e+04  10296.000000  10296.000000  10296.000000  10296.000000   \n",
       "mean   9.712510e-05    395.004846     -1.060994     -2.235769    765.699156   \n",
       "std    1.291850e-04    114.797866      0.083314      0.086807    545.741127   \n",
       "min    1.464804e-99    311.341958     -1.332401     -2.740877    133.833608   \n",
       "25%    3.880925e-26    316.824998     -1.099635     -2.250655    501.571732   \n",
       "50%    1.980437e-07    337.816511     -1.044211     -2.207984    567.740581   \n",
       "75%    2.322696e-04    430.402958     -1.016682     -2.190644    763.720345   \n",
       "max    4.849745e-04    774.965035     -0.557594     -2.022935   4542.674944   \n",
       "\n",
       "               norm  \n",
       "count  10296.000000  \n",
       "mean      -1.776226  \n",
       "std        0.047967  \n",
       "min       -1.925408  \n",
       "25%       -1.799328  \n",
       "50%       -1.766239  \n",
       "75%       -1.750132  \n",
       "max       -1.466031  "
      ]
     },
     "execution_count": 3,
     "metadata": {},
     "output_type": "execute_result"
    }
   ],
   "source": [
    "data.describe()"
   ]
  },
  {
   "cell_type": "markdown",
   "metadata": {},
   "source": [
    "```\n",
    "\n",
    "```\n",
    "### Lets replace all cstat values above the mean value of 395 to `nan` using `numpy.nan`"
   ]
  },
  {
   "cell_type": "code",
   "execution_count": 4,
   "metadata": {
    "collapsed": false
   },
   "outputs": [
    {
     "name": "stderr",
     "output_type": "stream",
     "text": [
      "/Users/KimiZ/anaconda/lib/python2.7/site-packages/pandas/core/generic.py:2773: SettingWithCopyWarning: \n",
      "A value is trying to be set on a copy of a slice from a DataFrame.\n",
      "Try using .loc[row_indexer,col_indexer] = value instead\n",
      "\n",
      "See the caveats in the documentation: http://pandas.pydata.org/pandas-docs/stable/indexing.html#indexing-view-versus-copy\n",
      "  self[name] = value\n"
     ]
    }
   ],
   "source": [
    "data[data.cstat > data.cstat.mean()].cstat = np.nan"
   ]
  },
  {
   "cell_type": "markdown",
   "metadata": {},
   "source": [
    "**We get the following Warning:**\n",
    "\n",
    "```\n",
    "/Users/KimiZ/anaconda/lib/python2.7/site-packages/pandas/core/generic.py:2773: SettingWithCopyWarning: \n",
    "A value is trying to be set on a copy of a slice from a DataFrame.\n",
    "Try using .loc[row_indexer,col_indexer] = value instead\n",
    "\n",
    "See the caveats in the documentation: http://pandas.pydata.org/pandas-docs/stable/indexing.html#indexing-view-versus-copy\n",
    "  self[name] = value\n",
    "  \n",
    "```\n",
    "\n",
    "**In a minute we will discuss what this Warning means. But for now, lets check out our DataFrame**"
   ]
  },
  {
   "cell_type": "code",
   "execution_count": 5,
   "metadata": {
    "collapsed": false
   },
   "outputs": [
    {
     "data": {
      "text/html": [
       "<div>\n",
       "<table border=\"1\" class=\"dataframe\">\n",
       "  <thead>\n",
       "    <tr style=\"text-align: right;\">\n",
       "      <th></th>\n",
       "      <th>prob</th>\n",
       "      <th>cstat</th>\n",
       "      <th>alpha</th>\n",
       "      <th>beta</th>\n",
       "      <th>enaught</th>\n",
       "      <th>norm</th>\n",
       "    </tr>\n",
       "  </thead>\n",
       "  <tbody>\n",
       "    <tr>\n",
       "      <th>0</th>\n",
       "      <td>1.464804e-99</td>\n",
       "      <td>774.965035</td>\n",
       "      <td>-1.094847</td>\n",
       "      <td>-2.334929</td>\n",
       "      <td>607.719256</td>\n",
       "      <td>-1.724910</td>\n",
       "    </tr>\n",
       "    <tr>\n",
       "      <th>1</th>\n",
       "      <td>1.551436e-99</td>\n",
       "      <td>774.847617</td>\n",
       "      <td>-1.251852</td>\n",
       "      <td>-2.282142</td>\n",
       "      <td>1739.260013</td>\n",
       "      <td>-1.814916</td>\n",
       "    </tr>\n",
       "    <tr>\n",
       "      <th>2</th>\n",
       "      <td>1.600356e-99</td>\n",
       "      <td>774.783027</td>\n",
       "      <td>-1.222781</td>\n",
       "      <td>-2.692320</td>\n",
       "      <td>2722.137812</td>\n",
       "      <td>-1.883588</td>\n",
       "    </tr>\n",
       "    <tr>\n",
       "      <th>3</th>\n",
       "      <td>1.622601e-99</td>\n",
       "      <td>774.752918</td>\n",
       "      <td>-1.328367</td>\n",
       "      <td>-2.237835</td>\n",
       "      <td>1735.107763</td>\n",
       "      <td>-1.885350</td>\n",
       "    </tr>\n",
       "    <tr>\n",
       "      <th>4</th>\n",
       "      <td>1.778115e-99</td>\n",
       "      <td>774.567371</td>\n",
       "      <td>-1.174649</td>\n",
       "      <td>-2.390003</td>\n",
       "      <td>880.591390</td>\n",
       "      <td>-1.775047</td>\n",
       "    </tr>\n",
       "  </tbody>\n",
       "</table>\n",
       "</div>"
      ],
      "text/plain": [
       "           prob       cstat     alpha      beta      enaught      norm\n",
       "0  1.464804e-99  774.965035 -1.094847 -2.334929   607.719256 -1.724910\n",
       "1  1.551436e-99  774.847617 -1.251852 -2.282142  1739.260013 -1.814916\n",
       "2  1.600356e-99  774.783027 -1.222781 -2.692320  2722.137812 -1.883588\n",
       "3  1.622601e-99  774.752918 -1.328367 -2.237835  1735.107763 -1.885350\n",
       "4  1.778115e-99  774.567371 -1.174649 -2.390003   880.591390 -1.775047"
      ]
     },
     "execution_count": 5,
     "metadata": {},
     "output_type": "execute_result"
    }
   ],
   "source": [
    "data.head()"
   ]
  },
  {
   "cell_type": "markdown",
   "metadata": {},
   "source": [
    "**NOTHING CHANGED!!**"
   ]
  },
  {
   "cell_type": "code",
   "execution_count": 6,
   "metadata": {
    "collapsed": false
   },
   "outputs": [
    {
     "name": "stderr",
     "output_type": "stream",
     "text": [
      "/Users/KimiZ/anaconda/lib/python2.7/site-packages/ipykernel_launcher.py:2: SettingWithCopyWarning: \n",
      "A value is trying to be set on a copy of a slice from a DataFrame.\n",
      "Try using .loc[row_indexer,col_indexer] = value instead\n",
      "\n",
      "See the caveats in the documentation: http://pandas.pydata.org/pandas-docs/stable/indexing.html#indexing-view-versus-copy\n",
      "  \n"
     ]
    }
   ],
   "source": [
    "# HERE IS ANOTHER EXAMPLE OF THE SAME:\n",
    "data[data.cstat > data.cstat.mean()]['cstat'] = np.nan"
   ]
  },
  {
   "cell_type": "code",
   "execution_count": 7,
   "metadata": {
    "collapsed": false
   },
   "outputs": [
    {
     "data": {
      "text/html": [
       "<div>\n",
       "<table border=\"1\" class=\"dataframe\">\n",
       "  <thead>\n",
       "    <tr style=\"text-align: right;\">\n",
       "      <th></th>\n",
       "      <th>prob</th>\n",
       "      <th>cstat</th>\n",
       "      <th>alpha</th>\n",
       "      <th>beta</th>\n",
       "      <th>enaught</th>\n",
       "      <th>norm</th>\n",
       "    </tr>\n",
       "  </thead>\n",
       "  <tbody>\n",
       "    <tr>\n",
       "      <th>0</th>\n",
       "      <td>1.464804e-99</td>\n",
       "      <td>774.965035</td>\n",
       "      <td>-1.094847</td>\n",
       "      <td>-2.334929</td>\n",
       "      <td>607.719256</td>\n",
       "      <td>-1.724910</td>\n",
       "    </tr>\n",
       "    <tr>\n",
       "      <th>1</th>\n",
       "      <td>1.551436e-99</td>\n",
       "      <td>774.847617</td>\n",
       "      <td>-1.251852</td>\n",
       "      <td>-2.282142</td>\n",
       "      <td>1739.260013</td>\n",
       "      <td>-1.814916</td>\n",
       "    </tr>\n",
       "    <tr>\n",
       "      <th>2</th>\n",
       "      <td>1.600356e-99</td>\n",
       "      <td>774.783027</td>\n",
       "      <td>-1.222781</td>\n",
       "      <td>-2.692320</td>\n",
       "      <td>2722.137812</td>\n",
       "      <td>-1.883588</td>\n",
       "    </tr>\n",
       "    <tr>\n",
       "      <th>3</th>\n",
       "      <td>1.622601e-99</td>\n",
       "      <td>774.752918</td>\n",
       "      <td>-1.328367</td>\n",
       "      <td>-2.237835</td>\n",
       "      <td>1735.107763</td>\n",
       "      <td>-1.885350</td>\n",
       "    </tr>\n",
       "    <tr>\n",
       "      <th>4</th>\n",
       "      <td>1.778115e-99</td>\n",
       "      <td>774.567371</td>\n",
       "      <td>-1.174649</td>\n",
       "      <td>-2.390003</td>\n",
       "      <td>880.591390</td>\n",
       "      <td>-1.775047</td>\n",
       "    </tr>\n",
       "  </tbody>\n",
       "</table>\n",
       "</div>"
      ],
      "text/plain": [
       "           prob       cstat     alpha      beta      enaught      norm\n",
       "0  1.464804e-99  774.965035 -1.094847 -2.334929   607.719256 -1.724910\n",
       "1  1.551436e-99  774.847617 -1.251852 -2.282142  1739.260013 -1.814916\n",
       "2  1.600356e-99  774.783027 -1.222781 -2.692320  2722.137812 -1.883588\n",
       "3  1.622601e-99  774.752918 -1.328367 -2.237835  1735.107763 -1.885350\n",
       "4  1.778115e-99  774.567371 -1.174649 -2.390003   880.591390 -1.775047"
      ]
     },
     "execution_count": 7,
     "metadata": {},
     "output_type": "execute_result"
    }
   ],
   "source": [
    "data.head()"
   ]
  },
  {
   "cell_type": "markdown",
   "metadata": {},
   "source": [
    "**AGAIN, NOTHING CHANGED!!**"
   ]
  },
  {
   "cell_type": "markdown",
   "metadata": {},
   "source": [
    "```\n",
    "\n",
    "\n",
    "```\n",
    "## What is happening?\n",
    "\n",
    "Pandas is uncertain whether you are trying to assign values to a view or a copy of the dataframe, so it is warning you. \n",
    "\n",
    "\n",
    "<div class=\"alert alert-block alert-danger\">\n",
    "/Users/KimiZ/anaconda/lib/python2.7/site-packages/ipykernel_launcher.py:2: SettingWithCopyWarning: <br></br> \n",
    "A value is trying to be set on a copy of a slice from a DataFrame.\n",
    "Try using .loc[row_indexer,col_indexer] = value instead\n",
    "<br></br><br></br>\n",
    "See the caveats in the documentation: http://pandas.pydata.org/pandas-docs/stable/indexing.html#indexing-view-versus-copy\n",
    "</div>\n",
    "\n",
    "## What exactly does this mean?\n",
    "\n",
    "You could be setting values to a temporary object (which in our case, we are!) that will be thrown out immediatly afterward. That is exctly what `SettingWithCopy` is warning us about!\n",
    "\n",
    "\n",
    "## How to understand what is happening.\n",
    "\n",
    "Say we have a dataframe, `dfmi`:"
   ]
  },
  {
   "cell_type": "code",
   "execution_count": 8,
   "metadata": {
    "collapsed": false,
    "scrolled": true
   },
   "outputs": [
    {
     "data": {
      "text/html": [
       "<div>\n",
       "<table border=\"1\" class=\"dataframe\">\n",
       "  <thead>\n",
       "    <tr>\n",
       "      <th></th>\n",
       "      <th colspan=\"2\" halign=\"left\">one</th>\n",
       "      <th colspan=\"2\" halign=\"left\">two</th>\n",
       "    </tr>\n",
       "    <tr>\n",
       "      <th></th>\n",
       "      <th>first</th>\n",
       "      <th>second</th>\n",
       "      <th>first</th>\n",
       "      <th>second</th>\n",
       "    </tr>\n",
       "  </thead>\n",
       "  <tbody>\n",
       "    <tr>\n",
       "      <th>0</th>\n",
       "      <td>a</td>\n",
       "      <td>b</td>\n",
       "      <td>c</td>\n",
       "      <td>d</td>\n",
       "    </tr>\n",
       "    <tr>\n",
       "      <th>1</th>\n",
       "      <td>e</td>\n",
       "      <td>f</td>\n",
       "      <td>g</td>\n",
       "      <td>h</td>\n",
       "    </tr>\n",
       "    <tr>\n",
       "      <th>2</th>\n",
       "      <td>i</td>\n",
       "      <td>j</td>\n",
       "      <td>k</td>\n",
       "      <td>l</td>\n",
       "    </tr>\n",
       "    <tr>\n",
       "      <th>3</th>\n",
       "      <td>m</td>\n",
       "      <td>n</td>\n",
       "      <td>o</td>\n",
       "      <td>p</td>\n",
       "    </tr>\n",
       "  </tbody>\n",
       "</table>\n",
       "</div>"
      ],
      "text/plain": [
       "    one          two       \n",
       "  first second first second\n",
       "0     a      b     c      d\n",
       "1     e      f     g      h\n",
       "2     i      j     k      l\n",
       "3     m      n     o      p"
      ]
     },
     "execution_count": 8,
     "metadata": {},
     "output_type": "execute_result"
    }
   ],
   "source": [
    "dfmi = pd.DataFrame([list('abcd'),\n",
    "                      list('efgh'),\n",
    "                      list('ijkl'),\n",
    "                      list('mnop')],\n",
    "                     columns=pd.MultiIndex.from_product([['one', 'two'],\n",
    "                                                         ['first', 'second']]))\n",
    "\n",
    "dfmi"
   ]
  },
  {
   "cell_type": "markdown",
   "metadata": {},
   "source": [
    "If we want to assign new values to columns 'one' and 'two', **the proper way** to do this would be to use:\n",
    "```python\n",
    "dfmi.loc[:, ('one', 'second')] = value\n",
    "```\n",
    "Which under the hood is the same as:\n",
    "```python\n",
    "dfmi.loc.__setitem__((slice(None), ('one', 'second')), value)\n",
    "```\n",
    "This code first calls the `__setitem__` function for the dataframe, which means it plans on changing the original dataframe. \n",
    "\n",
    "**The improper way** to do this, which is what we did, is:\n",
    "```python\n",
    "dfmi['one']['second'] = value\n",
    "```\n",
    "\n",
    "Which under the hood is the same as:\n",
    "```python\n",
    "dfmi.__getitem__('one').__setitem__('second', value)\n",
    "```\n",
    "\n",
    "Notice the `__getitem__` is used first, to retrieve the object. This is where the problems crop up. \n",
    "\n",
    "Outside of simple cases, it’s very hard to predict whether this `__getitem__` will return a view or a copy (it depends on the memory layout of the array, about which pandas makes no guarantees), and therefore whether the `__setitem__` will modify `dfmi` or a temporary object that gets thrown out immediately afterward. That’s what `SettingWithCopy` is warning you about!\n",
    "\n",
    "\n",
    "\n",
    "## Why am I mentioning this?\n",
    "To save you from many headaches that I, and many others, have suffered from ignoring this warning. Why did I ignore the warning? Because the output was what I desired, *at the time*. \n",
    "When you write scripts to automate code, you won't see these warnings. If you continue to use this poor pandas practice, it will **certainly cause major problems** for you at some point!\n",
    "\n",
    "\n",
    "\n",
    "\n",
    "__For more information on this topic, see:__\n",
    "- Documentation on indexing and selection: [Returning a view versus a copy](http://pandas.pydata.org/pandas-docs/stable/user_guide/indexing.html#indexing-view-versus-copy)\n",
    "- Stack Overflow: [What is the point of views in pandas if it is undefined whether an indexing operation returns a view or a copy?](http://stackoverflow.com/questions/34884536/what-is-the-point-of-views-in-pandas-if-it-is-undefined-whether-an-indexing-oper)"
   ]
  },
  {
   "cell_type": "markdown",
   "metadata": {},
   "source": [
    "# Examples, with the format that is used under the hood:"
   ]
  },
  {
   "cell_type": "code",
   "execution_count": 9,
   "metadata": {
    "collapsed": true
   },
   "outputs": [],
   "source": [
    "DFMI = dfmi.copy()  # make a copy for easy fix."
   ]
  },
  {
   "cell_type": "code",
   "execution_count": 10,
   "metadata": {
    "collapsed": false
   },
   "outputs": [
    {
     "data": {
      "text/html": [
       "<div>\n",
       "<table border=\"1\" class=\"dataframe\">\n",
       "  <thead>\n",
       "    <tr>\n",
       "      <th></th>\n",
       "      <th colspan=\"2\" halign=\"left\">one</th>\n",
       "      <th colspan=\"2\" halign=\"left\">two</th>\n",
       "    </tr>\n",
       "    <tr>\n",
       "      <th></th>\n",
       "      <th>first</th>\n",
       "      <th>second</th>\n",
       "      <th>first</th>\n",
       "      <th>second</th>\n",
       "    </tr>\n",
       "  </thead>\n",
       "  <tbody>\n",
       "    <tr>\n",
       "      <th>0</th>\n",
       "      <td>a</td>\n",
       "      <td>b</td>\n",
       "      <td>c</td>\n",
       "      <td>d</td>\n",
       "    </tr>\n",
       "    <tr>\n",
       "      <th>1</th>\n",
       "      <td>e</td>\n",
       "      <td>f</td>\n",
       "      <td>g</td>\n",
       "      <td>h</td>\n",
       "    </tr>\n",
       "    <tr>\n",
       "      <th>2</th>\n",
       "      <td>i</td>\n",
       "      <td>j</td>\n",
       "      <td>k</td>\n",
       "      <td>l</td>\n",
       "    </tr>\n",
       "    <tr>\n",
       "      <th>3</th>\n",
       "      <td>m</td>\n",
       "      <td>n</td>\n",
       "      <td>o</td>\n",
       "      <td>p</td>\n",
       "    </tr>\n",
       "  </tbody>\n",
       "</table>\n",
       "</div>"
      ],
      "text/plain": [
       "    one          two       \n",
       "  first second first second\n",
       "0     a      b     c      d\n",
       "1     e      f     g      h\n",
       "2     i      j     k      l\n",
       "3     m      n     o      p"
      ]
     },
     "execution_count": 10,
     "metadata": {},
     "output_type": "execute_result"
    }
   ],
   "source": [
    "dfmi"
   ]
  },
  {
   "cell_type": "markdown",
   "metadata": {},
   "source": [
    "## The correct way:"
   ]
  },
  {
   "cell_type": "code",
   "execution_count": 11,
   "metadata": {
    "collapsed": false
   },
   "outputs": [
    {
     "data": {
      "text/html": [
       "<div>\n",
       "<table border=\"1\" class=\"dataframe\">\n",
       "  <thead>\n",
       "    <tr>\n",
       "      <th></th>\n",
       "      <th colspan=\"2\" halign=\"left\">one</th>\n",
       "      <th colspan=\"2\" halign=\"left\">two</th>\n",
       "    </tr>\n",
       "    <tr>\n",
       "      <th></th>\n",
       "      <th>first</th>\n",
       "      <th>second</th>\n",
       "      <th>first</th>\n",
       "      <th>second</th>\n",
       "    </tr>\n",
       "  </thead>\n",
       "  <tbody>\n",
       "    <tr>\n",
       "      <th>0</th>\n",
       "      <td>a</td>\n",
       "      <td>z</td>\n",
       "      <td>c</td>\n",
       "      <td>d</td>\n",
       "    </tr>\n",
       "    <tr>\n",
       "      <th>1</th>\n",
       "      <td>e</td>\n",
       "      <td>z</td>\n",
       "      <td>g</td>\n",
       "      <td>h</td>\n",
       "    </tr>\n",
       "    <tr>\n",
       "      <th>2</th>\n",
       "      <td>i</td>\n",
       "      <td>z</td>\n",
       "      <td>k</td>\n",
       "      <td>l</td>\n",
       "    </tr>\n",
       "    <tr>\n",
       "      <th>3</th>\n",
       "      <td>m</td>\n",
       "      <td>z</td>\n",
       "      <td>o</td>\n",
       "      <td>p</td>\n",
       "    </tr>\n",
       "  </tbody>\n",
       "</table>\n",
       "</div>"
      ],
      "text/plain": [
       "    one          two       \n",
       "  first second first second\n",
       "0     a      z     c      d\n",
       "1     e      z     g      h\n",
       "2     i      z     k      l\n",
       "3     m      z     o      p"
      ]
     },
     "execution_count": 11,
     "metadata": {},
     "output_type": "execute_result"
    }
   ],
   "source": [
    "dfmi.loc[:, ('one', 'second')] = 'z'\n",
    "dfmi"
   ]
  },
  {
   "cell_type": "code",
   "execution_count": 12,
   "metadata": {
    "collapsed": false
   },
   "outputs": [
    {
     "data": {
      "text/html": [
       "<div>\n",
       "<table border=\"1\" class=\"dataframe\">\n",
       "  <thead>\n",
       "    <tr>\n",
       "      <th></th>\n",
       "      <th colspan=\"2\" halign=\"left\">one</th>\n",
       "      <th colspan=\"2\" halign=\"left\">two</th>\n",
       "    </tr>\n",
       "    <tr>\n",
       "      <th></th>\n",
       "      <th>first</th>\n",
       "      <th>second</th>\n",
       "      <th>first</th>\n",
       "      <th>second</th>\n",
       "    </tr>\n",
       "  </thead>\n",
       "  <tbody>\n",
       "    <tr>\n",
       "      <th>0</th>\n",
       "      <td>a</td>\n",
       "      <td>m</td>\n",
       "      <td>c</td>\n",
       "      <td>d</td>\n",
       "    </tr>\n",
       "    <tr>\n",
       "      <th>1</th>\n",
       "      <td>e</td>\n",
       "      <td>m</td>\n",
       "      <td>g</td>\n",
       "      <td>h</td>\n",
       "    </tr>\n",
       "    <tr>\n",
       "      <th>2</th>\n",
       "      <td>i</td>\n",
       "      <td>m</td>\n",
       "      <td>k</td>\n",
       "      <td>l</td>\n",
       "    </tr>\n",
       "    <tr>\n",
       "      <th>3</th>\n",
       "      <td>m</td>\n",
       "      <td>m</td>\n",
       "      <td>o</td>\n",
       "      <td>p</td>\n",
       "    </tr>\n",
       "  </tbody>\n",
       "</table>\n",
       "</div>"
      ],
      "text/plain": [
       "    one          two       \n",
       "  first second first second\n",
       "0     a      m     c      d\n",
       "1     e      m     g      h\n",
       "2     i      m     k      l\n",
       "3     m      m     o      p"
      ]
     },
     "execution_count": 12,
     "metadata": {},
     "output_type": "execute_result"
    }
   ],
   "source": [
    "dfmi.loc.__setitem__((slice(None), ('one', 'second')), 'm')\n",
    "dfmi"
   ]
  },
  {
   "cell_type": "code",
   "execution_count": 13,
   "metadata": {
    "collapsed": false
   },
   "outputs": [
    {
     "data": {
      "text/html": [
       "<div>\n",
       "<table border=\"1\" class=\"dataframe\">\n",
       "  <thead>\n",
       "    <tr>\n",
       "      <th></th>\n",
       "      <th colspan=\"2\" halign=\"left\">one</th>\n",
       "      <th colspan=\"2\" halign=\"left\">two</th>\n",
       "    </tr>\n",
       "    <tr>\n",
       "      <th></th>\n",
       "      <th>first</th>\n",
       "      <th>second</th>\n",
       "      <th>first</th>\n",
       "      <th>second</th>\n",
       "    </tr>\n",
       "  </thead>\n",
       "  <tbody>\n",
       "    <tr>\n",
       "      <th>0</th>\n",
       "      <td>a</td>\n",
       "      <td>3.14159</td>\n",
       "      <td>c</td>\n",
       "      <td>d</td>\n",
       "    </tr>\n",
       "    <tr>\n",
       "      <th>1</th>\n",
       "      <td>e</td>\n",
       "      <td>3.14159</td>\n",
       "      <td>g</td>\n",
       "      <td>h</td>\n",
       "    </tr>\n",
       "    <tr>\n",
       "      <th>2</th>\n",
       "      <td>i</td>\n",
       "      <td>3.14159</td>\n",
       "      <td>k</td>\n",
       "      <td>l</td>\n",
       "    </tr>\n",
       "    <tr>\n",
       "      <th>3</th>\n",
       "      <td>m</td>\n",
       "      <td>3.14159</td>\n",
       "      <td>o</td>\n",
       "      <td>p</td>\n",
       "    </tr>\n",
       "  </tbody>\n",
       "</table>\n",
       "</div>"
      ],
      "text/plain": [
       "    one            two       \n",
       "  first   second first second\n",
       "0     a  3.14159     c      d\n",
       "1     e  3.14159     g      h\n",
       "2     i  3.14159     k      l\n",
       "3     m  3.14159     o      p"
      ]
     },
     "execution_count": 13,
     "metadata": {},
     "output_type": "execute_result"
    }
   ],
   "source": [
    "dfmi.loc.__setitem__((slice(None), ('one', 'second')), 3.14159) # floats work as well!\n",
    "dfmi"
   ]
  },
  {
   "cell_type": "code",
   "execution_count": 14,
   "metadata": {
    "collapsed": false
   },
   "outputs": [
    {
     "data": {
      "text/html": [
       "<div>\n",
       "<table border=\"1\" class=\"dataframe\">\n",
       "  <thead>\n",
       "    <tr>\n",
       "      <th></th>\n",
       "      <th colspan=\"2\" halign=\"left\">one</th>\n",
       "      <th colspan=\"2\" halign=\"left\">two</th>\n",
       "    </tr>\n",
       "    <tr>\n",
       "      <th></th>\n",
       "      <th>first</th>\n",
       "      <th>second</th>\n",
       "      <th>first</th>\n",
       "      <th>second</th>\n",
       "    </tr>\n",
       "  </thead>\n",
       "  <tbody>\n",
       "    <tr>\n",
       "      <th>0</th>\n",
       "      <td>a</td>\n",
       "      <td>b</td>\n",
       "      <td>c</td>\n",
       "      <td>d</td>\n",
       "    </tr>\n",
       "    <tr>\n",
       "      <th>1</th>\n",
       "      <td>e</td>\n",
       "      <td>3.14159</td>\n",
       "      <td>g</td>\n",
       "      <td>h</td>\n",
       "    </tr>\n",
       "    <tr>\n",
       "      <th>2</th>\n",
       "      <td>i</td>\n",
       "      <td>3.14159</td>\n",
       "      <td>k</td>\n",
       "      <td>l</td>\n",
       "    </tr>\n",
       "    <tr>\n",
       "      <th>3</th>\n",
       "      <td>m</td>\n",
       "      <td>3.14159</td>\n",
       "      <td>o</td>\n",
       "      <td>p</td>\n",
       "    </tr>\n",
       "  </tbody>\n",
       "</table>\n",
       "</div>"
      ],
      "text/plain": [
       "    one            two       \n",
       "  first   second first second\n",
       "0     a        b     c      d\n",
       "1     e  3.14159     g      h\n",
       "2     i  3.14159     k      l\n",
       "3     m  3.14159     o      p"
      ]
     },
     "execution_count": 14,
     "metadata": {},
     "output_type": "execute_result"
    }
   ],
   "source": [
    "dfmi.loc.__setitem__((slice(0), ('one', 'second')), 'b') \n",
    "dfmi"
   ]
  },
  {
   "cell_type": "code",
   "execution_count": 15,
   "metadata": {
    "collapsed": false
   },
   "outputs": [
    {
     "data": {
      "text/html": [
       "<div>\n",
       "<table border=\"1\" class=\"dataframe\">\n",
       "  <thead>\n",
       "    <tr>\n",
       "      <th></th>\n",
       "      <th colspan=\"2\" halign=\"left\">one</th>\n",
       "      <th colspan=\"2\" halign=\"left\">two</th>\n",
       "    </tr>\n",
       "    <tr>\n",
       "      <th></th>\n",
       "      <th>first</th>\n",
       "      <th>second</th>\n",
       "      <th>first</th>\n",
       "      <th>second</th>\n",
       "    </tr>\n",
       "  </thead>\n",
       "  <tbody>\n",
       "    <tr>\n",
       "      <th>0</th>\n",
       "      <td>a</td>\n",
       "      <td>joy</td>\n",
       "      <td>c</td>\n",
       "      <td>d</td>\n",
       "    </tr>\n",
       "    <tr>\n",
       "      <th>1</th>\n",
       "      <td>e</td>\n",
       "      <td>joy</td>\n",
       "      <td>g</td>\n",
       "      <td>h</td>\n",
       "    </tr>\n",
       "    <tr>\n",
       "      <th>2</th>\n",
       "      <td>i</td>\n",
       "      <td>joy</td>\n",
       "      <td>k</td>\n",
       "      <td>l</td>\n",
       "    </tr>\n",
       "    <tr>\n",
       "      <th>3</th>\n",
       "      <td>m</td>\n",
       "      <td>joy</td>\n",
       "      <td>o</td>\n",
       "      <td>p</td>\n",
       "    </tr>\n",
       "  </tbody>\n",
       "</table>\n",
       "</div>"
      ],
      "text/plain": [
       "    one          two       \n",
       "  first second first second\n",
       "0     a    joy     c      d\n",
       "1     e    joy     g      h\n",
       "2     i    joy     k      l\n",
       "3     m    joy     o      p"
      ]
     },
     "execution_count": 15,
     "metadata": {},
     "output_type": "execute_result"
    }
   ],
   "source": [
    "dfmi.loc.__setitem__((slice(3), ('one', 'second')), 'joy') \n",
    "dfmi"
   ]
  },
  {
   "cell_type": "code",
   "execution_count": 16,
   "metadata": {
    "collapsed": false
   },
   "outputs": [
    {
     "data": {
      "text/html": [
       "<div>\n",
       "<table border=\"1\" class=\"dataframe\">\n",
       "  <thead>\n",
       "    <tr>\n",
       "      <th></th>\n",
       "      <th colspan=\"2\" halign=\"left\">one</th>\n",
       "      <th colspan=\"2\" halign=\"left\">two</th>\n",
       "    </tr>\n",
       "    <tr>\n",
       "      <th></th>\n",
       "      <th>first</th>\n",
       "      <th>second</th>\n",
       "      <th>first</th>\n",
       "      <th>second</th>\n",
       "    </tr>\n",
       "  </thead>\n",
       "  <tbody>\n",
       "    <tr>\n",
       "      <th>0</th>\n",
       "      <td>a</td>\n",
       "      <td>joy</td>\n",
       "      <td>c</td>\n",
       "      <td>d</td>\n",
       "    </tr>\n",
       "    <tr>\n",
       "      <th>1</th>\n",
       "      <td>e</td>\n",
       "      <td>joy</td>\n",
       "      <td>g</td>\n",
       "      <td>h</td>\n",
       "    </tr>\n",
       "    <tr>\n",
       "      <th>2</th>\n",
       "      <td>i</td>\n",
       "      <td>joy</td>\n",
       "      <td>k</td>\n",
       "      <td>l</td>\n",
       "    </tr>\n",
       "    <tr>\n",
       "      <th>3</th>\n",
       "      <td>m</td>\n",
       "      <td>dog</td>\n",
       "      <td>o</td>\n",
       "      <td>p</td>\n",
       "    </tr>\n",
       "  </tbody>\n",
       "</table>\n",
       "</div>"
      ],
      "text/plain": [
       "    one          two       \n",
       "  first second first second\n",
       "0     a    joy     c      d\n",
       "1     e    joy     g      h\n",
       "2     i    joy     k      l\n",
       "3     m    dog     o      p"
      ]
     },
     "execution_count": 16,
     "metadata": {},
     "output_type": "execute_result"
    }
   ],
   "source": [
    "dfmi.loc.__setitem__((3, ('one', 'second')), 'dog') \n",
    "dfmi"
   ]
  },
  {
   "cell_type": "code",
   "execution_count": 17,
   "metadata": {
    "collapsed": false
   },
   "outputs": [
    {
     "data": {
      "text/html": [
       "<div>\n",
       "<table border=\"1\" class=\"dataframe\">\n",
       "  <thead>\n",
       "    <tr>\n",
       "      <th></th>\n",
       "      <th colspan=\"2\" halign=\"left\">one</th>\n",
       "      <th colspan=\"2\" halign=\"left\">two</th>\n",
       "    </tr>\n",
       "    <tr>\n",
       "      <th></th>\n",
       "      <th>first</th>\n",
       "      <th>second</th>\n",
       "      <th>first</th>\n",
       "      <th>second</th>\n",
       "    </tr>\n",
       "  </thead>\n",
       "  <tbody>\n",
       "    <tr>\n",
       "      <th>0</th>\n",
       "      <td>a</td>\n",
       "      <td>joy</td>\n",
       "      <td>c</td>\n",
       "      <td>d</td>\n",
       "    </tr>\n",
       "    <tr>\n",
       "      <th>1</th>\n",
       "      <td>e</td>\n",
       "      <td>joy</td>\n",
       "      <td>g</td>\n",
       "      <td>h</td>\n",
       "    </tr>\n",
       "    <tr>\n",
       "      <th>2</th>\n",
       "      <td>i</td>\n",
       "      <td>cat</td>\n",
       "      <td>k</td>\n",
       "      <td>l</td>\n",
       "    </tr>\n",
       "    <tr>\n",
       "      <th>3</th>\n",
       "      <td>m</td>\n",
       "      <td>dog</td>\n",
       "      <td>o</td>\n",
       "      <td>p</td>\n",
       "    </tr>\n",
       "  </tbody>\n",
       "</table>\n",
       "</div>"
      ],
      "text/plain": [
       "    one          two       \n",
       "  first second first second\n",
       "0     a    joy     c      d\n",
       "1     e    joy     g      h\n",
       "2     i    cat     k      l\n",
       "3     m    dog     o      p"
      ]
     },
     "execution_count": 17,
     "metadata": {},
     "output_type": "execute_result"
    }
   ],
   "source": [
    "dfmi.loc.__setitem__((2, ('one', 'second')), 'cat') \n",
    "dfmi"
   ]
  },
  {
   "cell_type": "code",
   "execution_count": 18,
   "metadata": {
    "collapsed": false
   },
   "outputs": [
    {
     "data": {
      "text/html": [
       "<div>\n",
       "<table border=\"1\" class=\"dataframe\">\n",
       "  <thead>\n",
       "    <tr>\n",
       "      <th></th>\n",
       "      <th colspan=\"2\" halign=\"left\">one</th>\n",
       "      <th colspan=\"2\" halign=\"left\">two</th>\n",
       "    </tr>\n",
       "    <tr>\n",
       "      <th></th>\n",
       "      <th>first</th>\n",
       "      <th>second</th>\n",
       "      <th>first</th>\n",
       "      <th>second</th>\n",
       "    </tr>\n",
       "  </thead>\n",
       "  <tbody>\n",
       "    <tr>\n",
       "      <th>0</th>\n",
       "      <td>a</td>\n",
       "      <td>joy</td>\n",
       "      <td>c</td>\n",
       "      <td>d</td>\n",
       "    </tr>\n",
       "    <tr>\n",
       "      <th>1</th>\n",
       "      <td>e</td>\n",
       "      <td>NaN</td>\n",
       "      <td>g</td>\n",
       "      <td>h</td>\n",
       "    </tr>\n",
       "    <tr>\n",
       "      <th>2</th>\n",
       "      <td>i</td>\n",
       "      <td>cat</td>\n",
       "      <td>k</td>\n",
       "      <td>l</td>\n",
       "    </tr>\n",
       "    <tr>\n",
       "      <th>3</th>\n",
       "      <td>m</td>\n",
       "      <td>dog</td>\n",
       "      <td>o</td>\n",
       "      <td>p</td>\n",
       "    </tr>\n",
       "  </tbody>\n",
       "</table>\n",
       "</div>"
      ],
      "text/plain": [
       "    one          two       \n",
       "  first second first second\n",
       "0     a    joy     c      d\n",
       "1     e    NaN     g      h\n",
       "2     i    cat     k      l\n",
       "3     m    dog     o      p"
      ]
     },
     "execution_count": 18,
     "metadata": {},
     "output_type": "execute_result"
    }
   ],
   "source": [
    "dfmi.loc.__setitem__((1, ('one', 'second')), np.nan) \n",
    "dfmi"
   ]
  },
  {
   "cell_type": "code",
   "execution_count": 19,
   "metadata": {
    "collapsed": false
   },
   "outputs": [
    {
     "data": {
      "text/html": [
       "<div>\n",
       "<table border=\"1\" class=\"dataframe\">\n",
       "  <thead>\n",
       "    <tr>\n",
       "      <th></th>\n",
       "      <th colspan=\"2\" halign=\"left\">one</th>\n",
       "      <th colspan=\"2\" halign=\"left\">two</th>\n",
       "    </tr>\n",
       "    <tr>\n",
       "      <th></th>\n",
       "      <th>first</th>\n",
       "      <th>second</th>\n",
       "      <th>first</th>\n",
       "      <th>second</th>\n",
       "    </tr>\n",
       "  </thead>\n",
       "  <tbody>\n",
       "    <tr>\n",
       "      <th>0</th>\n",
       "      <td>a</td>\n",
       "      <td>3.14159</td>\n",
       "      <td>c</td>\n",
       "      <td>d</td>\n",
       "    </tr>\n",
       "    <tr>\n",
       "      <th>1</th>\n",
       "      <td>e</td>\n",
       "      <td>NaN</td>\n",
       "      <td>g</td>\n",
       "      <td>h</td>\n",
       "    </tr>\n",
       "    <tr>\n",
       "      <th>2</th>\n",
       "      <td>i</td>\n",
       "      <td>cat</td>\n",
       "      <td>k</td>\n",
       "      <td>l</td>\n",
       "    </tr>\n",
       "    <tr>\n",
       "      <th>3</th>\n",
       "      <td>m</td>\n",
       "      <td>dog</td>\n",
       "      <td>o</td>\n",
       "      <td>p</td>\n",
       "    </tr>\n",
       "  </tbody>\n",
       "</table>\n",
       "</div>"
      ],
      "text/plain": [
       "    one            two       \n",
       "  first   second first second\n",
       "0     a  3.14159     c      d\n",
       "1     e      NaN     g      h\n",
       "2     i      cat     k      l\n",
       "3     m      dog     o      p"
      ]
     },
     "execution_count": 19,
     "metadata": {},
     "output_type": "execute_result"
    }
   ],
   "source": [
    "dfmi.loc.__setitem__((0, ('one', 'second')), 3.14159) \n",
    "dfmi"
   ]
  },
  {
   "cell_type": "markdown",
   "metadata": {},
   "source": [
    "```\n",
    "\n",
    "\n",
    "```"
   ]
  },
  {
   "cell_type": "markdown",
   "metadata": {},
   "source": [
    "## The wrong way:"
   ]
  },
  {
   "cell_type": "code",
   "execution_count": 20,
   "metadata": {
    "collapsed": false
   },
   "outputs": [],
   "source": [
    "dfmi = DFMI.copy()"
   ]
  },
  {
   "cell_type": "code",
   "execution_count": 21,
   "metadata": {
    "collapsed": false
   },
   "outputs": [
    {
     "data": {
      "text/html": [
       "<div>\n",
       "<table border=\"1\" class=\"dataframe\">\n",
       "  <thead>\n",
       "    <tr>\n",
       "      <th></th>\n",
       "      <th colspan=\"2\" halign=\"left\">one</th>\n",
       "      <th colspan=\"2\" halign=\"left\">two</th>\n",
       "    </tr>\n",
       "    <tr>\n",
       "      <th></th>\n",
       "      <th>first</th>\n",
       "      <th>second</th>\n",
       "      <th>first</th>\n",
       "      <th>second</th>\n",
       "    </tr>\n",
       "  </thead>\n",
       "  <tbody>\n",
       "    <tr>\n",
       "      <th>0</th>\n",
       "      <td>a</td>\n",
       "      <td>b</td>\n",
       "      <td>c</td>\n",
       "      <td>d</td>\n",
       "    </tr>\n",
       "    <tr>\n",
       "      <th>1</th>\n",
       "      <td>e</td>\n",
       "      <td>f</td>\n",
       "      <td>g</td>\n",
       "      <td>h</td>\n",
       "    </tr>\n",
       "    <tr>\n",
       "      <th>2</th>\n",
       "      <td>i</td>\n",
       "      <td>j</td>\n",
       "      <td>k</td>\n",
       "      <td>l</td>\n",
       "    </tr>\n",
       "    <tr>\n",
       "      <th>3</th>\n",
       "      <td>m</td>\n",
       "      <td>n</td>\n",
       "      <td>o</td>\n",
       "      <td>p</td>\n",
       "    </tr>\n",
       "  </tbody>\n",
       "</table>\n",
       "</div>"
      ],
      "text/plain": [
       "    one          two       \n",
       "  first second first second\n",
       "0     a      b     c      d\n",
       "1     e      f     g      h\n",
       "2     i      j     k      l\n",
       "3     m      n     o      p"
      ]
     },
     "execution_count": 21,
     "metadata": {},
     "output_type": "execute_result"
    }
   ],
   "source": [
    "dfmi"
   ]
  },
  {
   "cell_type": "code",
   "execution_count": 22,
   "metadata": {
    "collapsed": false
   },
   "outputs": [
    {
     "name": "stderr",
     "output_type": "stream",
     "text": [
      "/Users/KimiZ/anaconda/lib/python2.7/site-packages/ipykernel_launcher.py:1: SettingWithCopyWarning: \n",
      "A value is trying to be set on a copy of a slice from a DataFrame.\n",
      "Try using .loc[row_indexer,col_indexer] = value instead\n",
      "\n",
      "See the caveats in the documentation: http://pandas.pydata.org/pandas-docs/stable/indexing.html#indexing-view-versus-copy\n",
      "  \"\"\"Entry point for launching an IPython kernel.\n"
     ]
    },
    {
     "data": {
      "text/html": [
       "<div>\n",
       "<table border=\"1\" class=\"dataframe\">\n",
       "  <thead>\n",
       "    <tr>\n",
       "      <th></th>\n",
       "      <th colspan=\"2\" halign=\"left\">one</th>\n",
       "      <th colspan=\"2\" halign=\"left\">two</th>\n",
       "    </tr>\n",
       "    <tr>\n",
       "      <th></th>\n",
       "      <th>first</th>\n",
       "      <th>second</th>\n",
       "      <th>first</th>\n",
       "      <th>second</th>\n",
       "    </tr>\n",
       "  </thead>\n",
       "  <tbody>\n",
       "    <tr>\n",
       "      <th>0</th>\n",
       "      <td>car</td>\n",
       "      <td>b</td>\n",
       "      <td>c</td>\n",
       "      <td>d</td>\n",
       "    </tr>\n",
       "    <tr>\n",
       "      <th>1</th>\n",
       "      <td>car</td>\n",
       "      <td>f</td>\n",
       "      <td>g</td>\n",
       "      <td>h</td>\n",
       "    </tr>\n",
       "    <tr>\n",
       "      <th>2</th>\n",
       "      <td>car</td>\n",
       "      <td>j</td>\n",
       "      <td>k</td>\n",
       "      <td>l</td>\n",
       "    </tr>\n",
       "    <tr>\n",
       "      <th>3</th>\n",
       "      <td>car</td>\n",
       "      <td>n</td>\n",
       "      <td>o</td>\n",
       "      <td>p</td>\n",
       "    </tr>\n",
       "  </tbody>\n",
       "</table>\n",
       "</div>"
      ],
      "text/plain": [
       "    one          two       \n",
       "  first second first second\n",
       "0   car      b     c      d\n",
       "1   car      f     g      h\n",
       "2   car      j     k      l\n",
       "3   car      n     o      p"
      ]
     },
     "execution_count": 22,
     "metadata": {},
     "output_type": "execute_result"
    }
   ],
   "source": [
    "dfmi.__getitem__('one').__setitem__('first', 'car')  # works\n",
    "dfmi"
   ]
  },
  {
   "cell_type": "markdown",
   "metadata": {},
   "source": [
    "**So, it actually worked! But now watch!**"
   ]
  },
  {
   "cell_type": "code",
   "execution_count": 23,
   "metadata": {
    "collapsed": false
   },
   "outputs": [
    {
     "name": "stderr",
     "output_type": "stream",
     "text": [
      "/Users/KimiZ/anaconda/lib/python2.7/site-packages/ipykernel_launcher.py:1: SettingWithCopyWarning: \n",
      "A value is trying to be set on a copy of a slice from a DataFrame.\n",
      "Try using .loc[row_indexer,col_indexer] = value instead\n",
      "\n",
      "See the caveats in the documentation: http://pandas.pydata.org/pandas-docs/stable/indexing.html#indexing-view-versus-copy\n",
      "  \"\"\"Entry point for launching an IPython kernel.\n"
     ]
    },
    {
     "data": {
      "text/html": [
       "<div>\n",
       "<table border=\"1\" class=\"dataframe\">\n",
       "  <thead>\n",
       "    <tr>\n",
       "      <th></th>\n",
       "      <th colspan=\"2\" halign=\"left\">one</th>\n",
       "      <th colspan=\"2\" halign=\"left\">two</th>\n",
       "    </tr>\n",
       "    <tr>\n",
       "      <th></th>\n",
       "      <th>first</th>\n",
       "      <th>second</th>\n",
       "      <th>first</th>\n",
       "      <th>second</th>\n",
       "    </tr>\n",
       "  </thead>\n",
       "  <tbody>\n",
       "    <tr>\n",
       "      <th>0</th>\n",
       "      <td>car</td>\n",
       "      <td>b</td>\n",
       "      <td>c</td>\n",
       "      <td>d</td>\n",
       "    </tr>\n",
       "    <tr>\n",
       "      <th>1</th>\n",
       "      <td>car</td>\n",
       "      <td>f</td>\n",
       "      <td>g</td>\n",
       "      <td>h</td>\n",
       "    </tr>\n",
       "    <tr>\n",
       "      <th>2</th>\n",
       "      <td>car</td>\n",
       "      <td>j</td>\n",
       "      <td>k</td>\n",
       "      <td>l</td>\n",
       "    </tr>\n",
       "    <tr>\n",
       "      <th>3</th>\n",
       "      <td>car</td>\n",
       "      <td>n</td>\n",
       "      <td>o</td>\n",
       "      <td>p</td>\n",
       "    </tr>\n",
       "  </tbody>\n",
       "</table>\n",
       "</div>"
      ],
      "text/plain": [
       "    one          two       \n",
       "  first second first second\n",
       "0   car      b     c      d\n",
       "1   car      f     g      h\n",
       "2   car      j     k      l\n",
       "3   car      n     o      p"
      ]
     },
     "execution_count": 23,
     "metadata": {},
     "output_type": "execute_result"
    }
   ],
   "source": [
    "dfmi.__getitem__('one').__setitem__('first', 3.14159) # does not work\n",
    "dfmi"
   ]
  },
  {
   "cell_type": "markdown",
   "metadata": {},
   "source": [
    "**This way did not work! It seems that if it's the same data type, it'll change the original object. Otherwise, it writes to a temporary object and then throws it away.**"
   ]
  },
  {
   "cell_type": "code",
   "execution_count": 24,
   "metadata": {
    "collapsed": false
   },
   "outputs": [
    {
     "name": "stderr",
     "output_type": "stream",
     "text": [
      "/Users/KimiZ/anaconda/lib/python2.7/site-packages/ipykernel_launcher.py:1: SettingWithCopyWarning: \n",
      "A value is trying to be set on a copy of a slice from a DataFrame.\n",
      "Try using .loc[row_indexer,col_indexer] = value instead\n",
      "\n",
      "See the caveats in the documentation: http://pandas.pydata.org/pandas-docs/stable/indexing.html#indexing-view-versus-copy\n",
      "  \"\"\"Entry point for launching an IPython kernel.\n"
     ]
    },
    {
     "data": {
      "text/html": [
       "<div>\n",
       "<table border=\"1\" class=\"dataframe\">\n",
       "  <thead>\n",
       "    <tr>\n",
       "      <th></th>\n",
       "      <th colspan=\"2\" halign=\"left\">one</th>\n",
       "      <th colspan=\"2\" halign=\"left\">two</th>\n",
       "    </tr>\n",
       "    <tr>\n",
       "      <th></th>\n",
       "      <th>first</th>\n",
       "      <th>second</th>\n",
       "      <th>first</th>\n",
       "      <th>second</th>\n",
       "    </tr>\n",
       "  </thead>\n",
       "  <tbody>\n",
       "    <tr>\n",
       "      <th>0</th>\n",
       "      <td>car</td>\n",
       "      <td>b</td>\n",
       "      <td>c</td>\n",
       "      <td>d</td>\n",
       "    </tr>\n",
       "    <tr>\n",
       "      <th>1</th>\n",
       "      <td>car</td>\n",
       "      <td>f</td>\n",
       "      <td>g</td>\n",
       "      <td>h</td>\n",
       "    </tr>\n",
       "    <tr>\n",
       "      <th>2</th>\n",
       "      <td>car</td>\n",
       "      <td>j</td>\n",
       "      <td>k</td>\n",
       "      <td>l</td>\n",
       "    </tr>\n",
       "    <tr>\n",
       "      <th>3</th>\n",
       "      <td>car</td>\n",
       "      <td>n</td>\n",
       "      <td>o</td>\n",
       "      <td>p</td>\n",
       "    </tr>\n",
       "  </tbody>\n",
       "</table>\n",
       "</div>"
      ],
      "text/plain": [
       "    one          two       \n",
       "  first second first second\n",
       "0   car      b     c      d\n",
       "1   car      f     g      h\n",
       "2   car      j     k      l\n",
       "3   car      n     o      p"
      ]
     },
     "execution_count": 24,
     "metadata": {},
     "output_type": "execute_result"
    }
   ],
   "source": [
    "dfmi.__getitem__('one').__setitem__('first', 3.14159)\n",
    "dfmi"
   ]
  },
  {
   "cell_type": "code",
   "execution_count": 25,
   "metadata": {
    "collapsed": false
   },
   "outputs": [
    {
     "name": "stdout",
     "output_type": "stream",
     "text": [
      "  first second\n",
      "0   car      b\n",
      "1   car      f\n",
      "2   car      j\n",
      "3   car      n\n",
      "----------------------------------------\n",
      "0    car\n",
      "1    car\n",
      "2    car\n",
      "3    car\n",
      "Name: first, dtype: object\n",
      "----------------------------------------\n",
      "car\n"
     ]
    }
   ],
   "source": [
    "print(dfmi.__getitem__('one'))\n",
    "print('--'*20)\n",
    "print(dfmi.__getitem__('one').__getitem__('first'))\n",
    "print('--'*20)\n",
    "print(dfmi.__getitem__('one').__getitem__('first').__getitem__(0))"
   ]
  },
  {
   "cell_type": "code",
   "execution_count": 26,
   "metadata": {
    "collapsed": false
   },
   "outputs": [
    {
     "name": "stderr",
     "output_type": "stream",
     "text": [
      "/Users/KimiZ/anaconda/lib/python2.7/site-packages/IPython/core/interactiveshell.py:2882: SettingWithCopyWarning: \n",
      "A value is trying to be set on a copy of a slice from a DataFrame\n",
      "\n",
      "See the caveats in the documentation: http://pandas.pydata.org/pandas-docs/stable/indexing.html#indexing-view-versus-copy\n",
      "  exec(code_obj, self.user_global_ns, self.user_ns)\n"
     ]
    },
    {
     "data": {
      "text/html": [
       "<div>\n",
       "<table border=\"1\" class=\"dataframe\">\n",
       "  <thead>\n",
       "    <tr>\n",
       "      <th></th>\n",
       "      <th colspan=\"2\" halign=\"left\">one</th>\n",
       "      <th colspan=\"2\" halign=\"left\">two</th>\n",
       "    </tr>\n",
       "    <tr>\n",
       "      <th></th>\n",
       "      <th>first</th>\n",
       "      <th>second</th>\n",
       "      <th>first</th>\n",
       "      <th>second</th>\n",
       "    </tr>\n",
       "  </thead>\n",
       "  <tbody>\n",
       "    <tr>\n",
       "      <th>0</th>\n",
       "      <td>kim</td>\n",
       "      <td>b</td>\n",
       "      <td>c</td>\n",
       "      <td>d</td>\n",
       "    </tr>\n",
       "    <tr>\n",
       "      <th>1</th>\n",
       "      <td>car</td>\n",
       "      <td>f</td>\n",
       "      <td>g</td>\n",
       "      <td>h</td>\n",
       "    </tr>\n",
       "    <tr>\n",
       "      <th>2</th>\n",
       "      <td>car</td>\n",
       "      <td>j</td>\n",
       "      <td>k</td>\n",
       "      <td>l</td>\n",
       "    </tr>\n",
       "    <tr>\n",
       "      <th>3</th>\n",
       "      <td>car</td>\n",
       "      <td>n</td>\n",
       "      <td>o</td>\n",
       "      <td>p</td>\n",
       "    </tr>\n",
       "  </tbody>\n",
       "</table>\n",
       "</div>"
      ],
      "text/plain": [
       "    one          two       \n",
       "  first second first second\n",
       "0   kim      b     c      d\n",
       "1   car      f     g      h\n",
       "2   car      j     k      l\n",
       "3   car      n     o      p"
      ]
     },
     "execution_count": 26,
     "metadata": {},
     "output_type": "execute_result"
    }
   ],
   "source": [
    "# same dtypes work for the full column and single items.\n",
    "\n",
    "dfmi.__getitem__('one').__getitem__('first').__setitem__(0, 'kim')  # works\n",
    "dfmi"
   ]
  },
  {
   "cell_type": "code",
   "execution_count": 27,
   "metadata": {
    "collapsed": false
   },
   "outputs": [
    {
     "data": {
      "text/html": [
       "<div>\n",
       "<table border=\"1\" class=\"dataframe\">\n",
       "  <thead>\n",
       "    <tr>\n",
       "      <th></th>\n",
       "      <th colspan=\"2\" halign=\"left\">one</th>\n",
       "      <th colspan=\"2\" halign=\"left\">two</th>\n",
       "    </tr>\n",
       "    <tr>\n",
       "      <th></th>\n",
       "      <th>first</th>\n",
       "      <th>second</th>\n",
       "      <th>first</th>\n",
       "      <th>second</th>\n",
       "    </tr>\n",
       "  </thead>\n",
       "  <tbody>\n",
       "    <tr>\n",
       "      <th>0</th>\n",
       "      <td>kim</td>\n",
       "      <td>b</td>\n",
       "      <td>c</td>\n",
       "      <td>d</td>\n",
       "    </tr>\n",
       "    <tr>\n",
       "      <th>1</th>\n",
       "      <td>3.14159</td>\n",
       "      <td>f</td>\n",
       "      <td>g</td>\n",
       "      <td>h</td>\n",
       "    </tr>\n",
       "    <tr>\n",
       "      <th>2</th>\n",
       "      <td>car</td>\n",
       "      <td>j</td>\n",
       "      <td>k</td>\n",
       "      <td>l</td>\n",
       "    </tr>\n",
       "    <tr>\n",
       "      <th>3</th>\n",
       "      <td>car</td>\n",
       "      <td>n</td>\n",
       "      <td>o</td>\n",
       "      <td>p</td>\n",
       "    </tr>\n",
       "  </tbody>\n",
       "</table>\n",
       "</div>"
      ],
      "text/plain": [
       "       one          two       \n",
       "     first second first second\n",
       "0      kim      b     c      d\n",
       "1  3.14159      f     g      h\n",
       "2      car      j     k      l\n",
       "3      car      n     o      p"
      ]
     },
     "execution_count": 27,
     "metadata": {},
     "output_type": "execute_result"
    }
   ],
   "source": [
    "# different dtypes work when you select only a SINGLE item. \n",
    "\n",
    "dfmi.__getitem__('one').__getitem__('first').__setitem__(1, 3.14159) # works\n",
    "dfmi"
   ]
  },
  {
   "cell_type": "markdown",
   "metadata": {},
   "source": [
    "**If you select the EXACT item in the pandas dataframe, like we did above, this method will replace the value with whatever you pass it. However, it won't work for an entire column of values.**"
   ]
  },
  {
   "cell_type": "code",
   "execution_count": 28,
   "metadata": {
    "collapsed": false
   },
   "outputs": [
    {
     "data": {
      "text/html": [
       "<div>\n",
       "<table border=\"1\" class=\"dataframe\">\n",
       "  <thead>\n",
       "    <tr>\n",
       "      <th></th>\n",
       "      <th colspan=\"2\" halign=\"left\">one</th>\n",
       "      <th colspan=\"2\" halign=\"left\">two</th>\n",
       "    </tr>\n",
       "    <tr>\n",
       "      <th></th>\n",
       "      <th>first</th>\n",
       "      <th>second</th>\n",
       "      <th>first</th>\n",
       "      <th>second</th>\n",
       "    </tr>\n",
       "  </thead>\n",
       "  <tbody>\n",
       "    <tr>\n",
       "      <th>0</th>\n",
       "      <td>a</td>\n",
       "      <td>b</td>\n",
       "      <td>c</td>\n",
       "      <td>d</td>\n",
       "    </tr>\n",
       "    <tr>\n",
       "      <th>1</th>\n",
       "      <td>e</td>\n",
       "      <td>f</td>\n",
       "      <td>g</td>\n",
       "      <td>h</td>\n",
       "    </tr>\n",
       "    <tr>\n",
       "      <th>2</th>\n",
       "      <td>i</td>\n",
       "      <td>j</td>\n",
       "      <td>k</td>\n",
       "      <td>l</td>\n",
       "    </tr>\n",
       "    <tr>\n",
       "      <th>3</th>\n",
       "      <td>m</td>\n",
       "      <td>n</td>\n",
       "      <td>o</td>\n",
       "      <td>p</td>\n",
       "    </tr>\n",
       "  </tbody>\n",
       "</table>\n",
       "</div>"
      ],
      "text/plain": [
       "    one          two       \n",
       "  first second first second\n",
       "0     a      b     c      d\n",
       "1     e      f     g      h\n",
       "2     i      j     k      l\n",
       "3     m      n     o      p"
      ]
     },
     "execution_count": 28,
     "metadata": {},
     "output_type": "execute_result"
    }
   ],
   "source": [
    "dfmi = DFMI.copy()\n",
    "dfmi"
   ]
  },
  {
   "cell_type": "code",
   "execution_count": 29,
   "metadata": {
    "collapsed": false
   },
   "outputs": [
    {
     "data": {
      "text/plain": [
       "pandas.core.frame.DataFrame"
      ]
     },
     "execution_count": 29,
     "metadata": {},
     "output_type": "execute_result"
    }
   ],
   "source": [
    "type(dfmi.one) # dataframe itself"
   ]
  },
  {
   "cell_type": "code",
   "execution_count": 30,
   "metadata": {
    "collapsed": false
   },
   "outputs": [
    {
     "data": {
      "text/html": [
       "<div>\n",
       "<table border=\"1\" class=\"dataframe\">\n",
       "  <thead>\n",
       "    <tr style=\"text-align: right;\">\n",
       "      <th></th>\n",
       "      <th>first</th>\n",
       "      <th>second</th>\n",
       "    </tr>\n",
       "  </thead>\n",
       "  <tbody>\n",
       "    <tr>\n",
       "      <th>0</th>\n",
       "      <td>a</td>\n",
       "      <td>b</td>\n",
       "    </tr>\n",
       "    <tr>\n",
       "      <th>1</th>\n",
       "      <td>e</td>\n",
       "      <td>f</td>\n",
       "    </tr>\n",
       "    <tr>\n",
       "      <th>2</th>\n",
       "      <td>i</td>\n",
       "      <td>j</td>\n",
       "    </tr>\n",
       "    <tr>\n",
       "      <th>3</th>\n",
       "      <td>m</td>\n",
       "      <td>n</td>\n",
       "    </tr>\n",
       "  </tbody>\n",
       "</table>\n",
       "</div>"
      ],
      "text/plain": [
       "  first second\n",
       "0     a      b\n",
       "1     e      f\n",
       "2     i      j\n",
       "3     m      n"
      ]
     },
     "execution_count": 30,
     "metadata": {},
     "output_type": "execute_result"
    }
   ],
   "source": [
    "dfmi.one"
   ]
  },
  {
   "cell_type": "code",
   "execution_count": 31,
   "metadata": {
    "collapsed": false
   },
   "outputs": [
    {
     "data": {
      "text/plain": [
       "instancemethod"
      ]
     },
     "execution_count": 31,
     "metadata": {},
     "output_type": "execute_result"
    }
   ],
   "source": [
    "type(dfmi.one.first) # instance method"
   ]
  },
  {
   "cell_type": "code",
   "execution_count": 32,
   "metadata": {
    "collapsed": false
   },
   "outputs": [
    {
     "data": {
      "text/plain": [
       "<bound method DataFrame.first of   first second\n",
       "0     a      b\n",
       "1     e      f\n",
       "2     i      j\n",
       "3     m      n>"
      ]
     },
     "execution_count": 32,
     "metadata": {},
     "output_type": "execute_result"
    }
   ],
   "source": [
    "dfmi.one.first"
   ]
  },
  {
   "cell_type": "code",
   "execution_count": 33,
   "metadata": {
    "collapsed": false
   },
   "outputs": [
    {
     "data": {
      "text/plain": [
       "pandas.core.series.Series"
      ]
     },
     "execution_count": 33,
     "metadata": {},
     "output_type": "execute_result"
    }
   ],
   "source": [
    "type(dfmi.one['first']) # series, so a column"
   ]
  },
  {
   "cell_type": "code",
   "execution_count": 34,
   "metadata": {
    "collapsed": false
   },
   "outputs": [
    {
     "data": {
      "text/plain": [
       "0    a\n",
       "1    e\n",
       "2    i\n",
       "3    m\n",
       "Name: first, dtype: object"
      ]
     },
     "execution_count": 34,
     "metadata": {},
     "output_type": "execute_result"
    }
   ],
   "source": [
    "dfmi.one['first']"
   ]
  },
  {
   "cell_type": "code",
   "execution_count": 35,
   "metadata": {
    "collapsed": false
   },
   "outputs": [
    {
     "data": {
      "text/plain": [
       "pandas.core.series.Series"
      ]
     },
     "execution_count": 35,
     "metadata": {},
     "output_type": "execute_result"
    }
   ],
   "source": [
    "type(dfmi['one']['first']) # series, so a column"
   ]
  },
  {
   "cell_type": "code",
   "execution_count": 36,
   "metadata": {
    "collapsed": false
   },
   "outputs": [
    {
     "data": {
      "text/plain": [
       "0    a\n",
       "1    e\n",
       "2    i\n",
       "3    m\n",
       "Name: first, dtype: object"
      ]
     },
     "execution_count": 36,
     "metadata": {},
     "output_type": "execute_result"
    }
   ],
   "source": [
    "dfmi['one']['first']  # same as dfmi.one['first']"
   ]
  },
  {
   "cell_type": "markdown",
   "metadata": {},
   "source": [
    "## Back to my dataframe"
   ]
  },
  {
   "cell_type": "code",
   "execution_count": 37,
   "metadata": {
    "collapsed": false
   },
   "outputs": [],
   "source": [
    "DAT = data.copy()"
   ]
  },
  {
   "cell_type": "code",
   "execution_count": 38,
   "metadata": {
    "collapsed": false
   },
   "outputs": [
    {
     "data": {
      "text/html": [
       "<div>\n",
       "<table border=\"1\" class=\"dataframe\">\n",
       "  <thead>\n",
       "    <tr style=\"text-align: right;\">\n",
       "      <th></th>\n",
       "      <th>prob</th>\n",
       "      <th>cstat</th>\n",
       "      <th>alpha</th>\n",
       "      <th>beta</th>\n",
       "      <th>enaught</th>\n",
       "      <th>norm</th>\n",
       "    </tr>\n",
       "  </thead>\n",
       "  <tbody>\n",
       "    <tr>\n",
       "      <th>0</th>\n",
       "      <td>1.464804e-99</td>\n",
       "      <td>774.965035</td>\n",
       "      <td>-1.094847</td>\n",
       "      <td>-2.334929</td>\n",
       "      <td>607.719256</td>\n",
       "      <td>-1.724910</td>\n",
       "    </tr>\n",
       "    <tr>\n",
       "      <th>1</th>\n",
       "      <td>1.551436e-99</td>\n",
       "      <td>774.847617</td>\n",
       "      <td>-1.251852</td>\n",
       "      <td>-2.282142</td>\n",
       "      <td>1739.260013</td>\n",
       "      <td>-1.814916</td>\n",
       "    </tr>\n",
       "    <tr>\n",
       "      <th>2</th>\n",
       "      <td>1.600356e-99</td>\n",
       "      <td>774.783027</td>\n",
       "      <td>-1.222781</td>\n",
       "      <td>-2.692320</td>\n",
       "      <td>2722.137812</td>\n",
       "      <td>-1.883588</td>\n",
       "    </tr>\n",
       "    <tr>\n",
       "      <th>3</th>\n",
       "      <td>1.622601e-99</td>\n",
       "      <td>774.752918</td>\n",
       "      <td>-1.328367</td>\n",
       "      <td>-2.237835</td>\n",
       "      <td>1735.107763</td>\n",
       "      <td>-1.885350</td>\n",
       "    </tr>\n",
       "    <tr>\n",
       "      <th>4</th>\n",
       "      <td>1.778115e-99</td>\n",
       "      <td>774.567371</td>\n",
       "      <td>-1.174649</td>\n",
       "      <td>-2.390003</td>\n",
       "      <td>880.591390</td>\n",
       "      <td>-1.775047</td>\n",
       "    </tr>\n",
       "  </tbody>\n",
       "</table>\n",
       "</div>"
      ],
      "text/plain": [
       "           prob       cstat     alpha      beta      enaught      norm\n",
       "0  1.464804e-99  774.965035 -1.094847 -2.334929   607.719256 -1.724910\n",
       "1  1.551436e-99  774.847617 -1.251852 -2.282142  1739.260013 -1.814916\n",
       "2  1.600356e-99  774.783027 -1.222781 -2.692320  2722.137812 -1.883588\n",
       "3  1.622601e-99  774.752918 -1.328367 -2.237835  1735.107763 -1.885350\n",
       "4  1.778115e-99  774.567371 -1.174649 -2.390003   880.591390 -1.775047"
      ]
     },
     "execution_count": 38,
     "metadata": {},
     "output_type": "execute_result"
    }
   ],
   "source": [
    "data.head()"
   ]
  },
  {
   "cell_type": "code",
   "execution_count": 39,
   "metadata": {
    "collapsed": false
   },
   "outputs": [
    {
     "data": {
      "text/plain": [
       "0    774.965035\n",
       "1    774.847617\n",
       "2    774.783027\n",
       "3    774.752918\n",
       "4    774.567371\n",
       "Name: cstat, dtype: float64"
      ]
     },
     "execution_count": 39,
     "metadata": {},
     "output_type": "execute_result"
    }
   ],
   "source": [
    "data.__getitem__('cstat').head()"
   ]
  },
  {
   "cell_type": "code",
   "execution_count": 40,
   "metadata": {
    "collapsed": false
   },
   "outputs": [
    {
     "data": {
      "text/html": [
       "<div>\n",
       "<table border=\"1\" class=\"dataframe\">\n",
       "  <thead>\n",
       "    <tr style=\"text-align: right;\">\n",
       "      <th></th>\n",
       "      <th>prob</th>\n",
       "      <th>cstat</th>\n",
       "      <th>alpha</th>\n",
       "      <th>beta</th>\n",
       "      <th>enaught</th>\n",
       "      <th>norm</th>\n",
       "    </tr>\n",
       "  </thead>\n",
       "  <tbody>\n",
       "    <tr>\n",
       "      <th>0</th>\n",
       "      <td>1.464804e-99</td>\n",
       "      <td>nan</td>\n",
       "      <td>-1.094847</td>\n",
       "      <td>-2.334929</td>\n",
       "      <td>607.719256</td>\n",
       "      <td>-1.724910</td>\n",
       "    </tr>\n",
       "    <tr>\n",
       "      <th>1</th>\n",
       "      <td>1.551436e-99</td>\n",
       "      <td>nan</td>\n",
       "      <td>-1.251852</td>\n",
       "      <td>-2.282142</td>\n",
       "      <td>1739.260013</td>\n",
       "      <td>-1.814916</td>\n",
       "    </tr>\n",
       "    <tr>\n",
       "      <th>2</th>\n",
       "      <td>1.600356e-99</td>\n",
       "      <td>nan</td>\n",
       "      <td>-1.222781</td>\n",
       "      <td>-2.692320</td>\n",
       "      <td>2722.137812</td>\n",
       "      <td>-1.883588</td>\n",
       "    </tr>\n",
       "    <tr>\n",
       "      <th>3</th>\n",
       "      <td>1.622601e-99</td>\n",
       "      <td>774.753</td>\n",
       "      <td>-1.328367</td>\n",
       "      <td>-2.237835</td>\n",
       "      <td>1735.107763</td>\n",
       "      <td>-1.885350</td>\n",
       "    </tr>\n",
       "    <tr>\n",
       "      <th>4</th>\n",
       "      <td>1.778115e-99</td>\n",
       "      <td>774.567</td>\n",
       "      <td>-1.174649</td>\n",
       "      <td>-2.390003</td>\n",
       "      <td>880.591390</td>\n",
       "      <td>-1.775047</td>\n",
       "    </tr>\n",
       "  </tbody>\n",
       "</table>\n",
       "</div>"
      ],
      "text/plain": [
       "           prob    cstat     alpha      beta      enaught      norm\n",
       "0  1.464804e-99      nan -1.094847 -2.334929   607.719256 -1.724910\n",
       "1  1.551436e-99      nan -1.251852 -2.282142  1739.260013 -1.814916\n",
       "2  1.600356e-99      nan -1.222781 -2.692320  2722.137812 -1.883588\n",
       "3  1.622601e-99  774.753 -1.328367 -2.237835  1735.107763 -1.885350\n",
       "4  1.778115e-99  774.567 -1.174649 -2.390003   880.591390 -1.775047"
      ]
     },
     "execution_count": 40,
     "metadata": {},
     "output_type": "execute_result"
    }
   ],
   "source": [
    "data.__getitem__('cstat').__setitem__(slice(0,3), 'nan')  # works\n",
    "data.head()"
   ]
  },
  {
   "cell_type": "code",
   "execution_count": 41,
   "metadata": {
    "collapsed": false
   },
   "outputs": [
    {
     "name": "stderr",
     "output_type": "stream",
     "text": [
      "/Users/KimiZ/anaconda/lib/python2.7/site-packages/ipykernel_launcher.py:1: SettingWithCopyWarning: \n",
      "A value is trying to be set on a copy of a slice from a DataFrame\n",
      "\n",
      "See the caveats in the documentation: http://pandas.pydata.org/pandas-docs/stable/indexing.html#indexing-view-versus-copy\n",
      "  \"\"\"Entry point for launching an IPython kernel.\n"
     ]
    },
    {
     "data": {
      "text/html": [
       "<div>\n",
       "<table border=\"1\" class=\"dataframe\">\n",
       "  <thead>\n",
       "    <tr style=\"text-align: right;\">\n",
       "      <th></th>\n",
       "      <th>prob</th>\n",
       "      <th>cstat</th>\n",
       "      <th>alpha</th>\n",
       "      <th>beta</th>\n",
       "      <th>enaught</th>\n",
       "      <th>norm</th>\n",
       "    </tr>\n",
       "  </thead>\n",
       "  <tbody>\n",
       "    <tr>\n",
       "      <th>0</th>\n",
       "      <td>1.464804e-99</td>\n",
       "      <td>k</td>\n",
       "      <td>-1.094847</td>\n",
       "      <td>-2.334929</td>\n",
       "      <td>607.719256</td>\n",
       "      <td>-1.724910</td>\n",
       "    </tr>\n",
       "    <tr>\n",
       "      <th>1</th>\n",
       "      <td>1.551436e-99</td>\n",
       "      <td>nan</td>\n",
       "      <td>-1.251852</td>\n",
       "      <td>-2.282142</td>\n",
       "      <td>1739.260013</td>\n",
       "      <td>-1.814916</td>\n",
       "    </tr>\n",
       "    <tr>\n",
       "      <th>2</th>\n",
       "      <td>1.600356e-99</td>\n",
       "      <td>nan</td>\n",
       "      <td>-1.222781</td>\n",
       "      <td>-2.692320</td>\n",
       "      <td>2722.137812</td>\n",
       "      <td>-1.883588</td>\n",
       "    </tr>\n",
       "    <tr>\n",
       "      <th>3</th>\n",
       "      <td>1.622601e-99</td>\n",
       "      <td>774.753</td>\n",
       "      <td>-1.328367</td>\n",
       "      <td>-2.237835</td>\n",
       "      <td>1735.107763</td>\n",
       "      <td>-1.885350</td>\n",
       "    </tr>\n",
       "    <tr>\n",
       "      <th>4</th>\n",
       "      <td>1.778115e-99</td>\n",
       "      <td>774.567</td>\n",
       "      <td>-1.174649</td>\n",
       "      <td>-2.390003</td>\n",
       "      <td>880.591390</td>\n",
       "      <td>-1.775047</td>\n",
       "    </tr>\n",
       "  </tbody>\n",
       "</table>\n",
       "</div>"
      ],
      "text/plain": [
       "           prob    cstat     alpha      beta      enaught      norm\n",
       "0  1.464804e-99        k -1.094847 -2.334929   607.719256 -1.724910\n",
       "1  1.551436e-99      nan -1.251852 -2.282142  1739.260013 -1.814916\n",
       "2  1.600356e-99      nan -1.222781 -2.692320  2722.137812 -1.883588\n",
       "3  1.622601e-99  774.753 -1.328367 -2.237835  1735.107763 -1.885350\n",
       "4  1.778115e-99  774.567 -1.174649 -2.390003   880.591390 -1.775047"
      ]
     },
     "execution_count": 41,
     "metadata": {},
     "output_type": "execute_result"
    }
   ],
   "source": [
    "data.__getitem__('cstat').__setitem__(0, 'k') # works\n",
    "data.head()"
   ]
  },
  {
   "cell_type": "code",
   "execution_count": 42,
   "metadata": {
    "collapsed": false
   },
   "outputs": [
    {
     "name": "stderr",
     "output_type": "stream",
     "text": [
      "/Users/KimiZ/anaconda/lib/python2.7/site-packages/ipykernel_launcher.py:1: SettingWithCopyWarning: \n",
      "A value is trying to be set on a copy of a slice from a DataFrame\n",
      "\n",
      "See the caveats in the documentation: http://pandas.pydata.org/pandas-docs/stable/indexing.html#indexing-view-versus-copy\n",
      "  \"\"\"Entry point for launching an IPython kernel.\n"
     ]
    },
    {
     "data": {
      "text/html": [
       "<div>\n",
       "<table border=\"1\" class=\"dataframe\">\n",
       "  <thead>\n",
       "    <tr style=\"text-align: right;\">\n",
       "      <th></th>\n",
       "      <th>prob</th>\n",
       "      <th>cstat</th>\n",
       "      <th>alpha</th>\n",
       "      <th>beta</th>\n",
       "      <th>enaught</th>\n",
       "      <th>norm</th>\n",
       "    </tr>\n",
       "  </thead>\n",
       "  <tbody>\n",
       "    <tr>\n",
       "      <th>0</th>\n",
       "      <td>1.464804e-99</td>\n",
       "      <td>NaN</td>\n",
       "      <td>-1.094847</td>\n",
       "      <td>-2.334929</td>\n",
       "      <td>607.719256</td>\n",
       "      <td>-1.724910</td>\n",
       "    </tr>\n",
       "    <tr>\n",
       "      <th>1</th>\n",
       "      <td>1.551436e-99</td>\n",
       "      <td>NaN</td>\n",
       "      <td>-1.251852</td>\n",
       "      <td>-2.282142</td>\n",
       "      <td>1739.260013</td>\n",
       "      <td>-1.814916</td>\n",
       "    </tr>\n",
       "    <tr>\n",
       "      <th>2</th>\n",
       "      <td>1.600356e-99</td>\n",
       "      <td>NaN</td>\n",
       "      <td>-1.222781</td>\n",
       "      <td>-2.692320</td>\n",
       "      <td>2722.137812</td>\n",
       "      <td>-1.883588</td>\n",
       "    </tr>\n",
       "    <tr>\n",
       "      <th>3</th>\n",
       "      <td>1.622601e-99</td>\n",
       "      <td>NaN</td>\n",
       "      <td>-1.328367</td>\n",
       "      <td>-2.237835</td>\n",
       "      <td>1735.107763</td>\n",
       "      <td>-1.885350</td>\n",
       "    </tr>\n",
       "    <tr>\n",
       "      <th>4</th>\n",
       "      <td>1.778115e-99</td>\n",
       "      <td>NaN</td>\n",
       "      <td>-1.174649</td>\n",
       "      <td>-2.390003</td>\n",
       "      <td>880.591390</td>\n",
       "      <td>-1.775047</td>\n",
       "    </tr>\n",
       "  </tbody>\n",
       "</table>\n",
       "</div>"
      ],
      "text/plain": [
       "           prob cstat     alpha      beta      enaught      norm\n",
       "0  1.464804e-99   NaN -1.094847 -2.334929   607.719256 -1.724910\n",
       "1  1.551436e-99   NaN -1.251852 -2.282142  1739.260013 -1.814916\n",
       "2  1.600356e-99   NaN -1.222781 -2.692320  2722.137812 -1.883588\n",
       "3  1.622601e-99   NaN -1.328367 -2.237835  1735.107763 -1.885350\n",
       "4  1.778115e-99   NaN -1.174649 -2.390003   880.591390 -1.775047"
      ]
     },
     "execution_count": 42,
     "metadata": {},
     "output_type": "execute_result"
    }
   ],
   "source": [
    "data.__getitem__('cstat').__setitem__(slice(None), np.nan) # works\n",
    "data.head()"
   ]
  },
  {
   "cell_type": "code",
   "execution_count": 43,
   "metadata": {
    "collapsed": false
   },
   "outputs": [
    {
     "name": "stderr",
     "output_type": "stream",
     "text": [
      "/Users/KimiZ/anaconda/lib/python2.7/site-packages/ipykernel_launcher.py:1: SettingWithCopyWarning: \n",
      "A value is trying to be set on a copy of a slice from a DataFrame\n",
      "\n",
      "See the caveats in the documentation: http://pandas.pydata.org/pandas-docs/stable/indexing.html#indexing-view-versus-copy\n",
      "  \"\"\"Entry point for launching an IPython kernel.\n"
     ]
    },
    {
     "data": {
      "text/html": [
       "<div>\n",
       "<table border=\"1\" class=\"dataframe\">\n",
       "  <thead>\n",
       "    <tr style=\"text-align: right;\">\n",
       "      <th></th>\n",
       "      <th>prob</th>\n",
       "      <th>cstat</th>\n",
       "      <th>alpha</th>\n",
       "      <th>beta</th>\n",
       "      <th>enaught</th>\n",
       "      <th>norm</th>\n",
       "    </tr>\n",
       "  </thead>\n",
       "  <tbody>\n",
       "    <tr>\n",
       "      <th>0</th>\n",
       "      <td>1.464804e-99</td>\n",
       "      <td>3.14195</td>\n",
       "      <td>-1.094847</td>\n",
       "      <td>-2.334929</td>\n",
       "      <td>607.719256</td>\n",
       "      <td>-1.724910</td>\n",
       "    </tr>\n",
       "    <tr>\n",
       "      <th>1</th>\n",
       "      <td>1.551436e-99</td>\n",
       "      <td>NaN</td>\n",
       "      <td>-1.251852</td>\n",
       "      <td>-2.282142</td>\n",
       "      <td>1739.260013</td>\n",
       "      <td>-1.814916</td>\n",
       "    </tr>\n",
       "    <tr>\n",
       "      <th>2</th>\n",
       "      <td>1.600356e-99</td>\n",
       "      <td>3.14195</td>\n",
       "      <td>-1.222781</td>\n",
       "      <td>-2.692320</td>\n",
       "      <td>2722.137812</td>\n",
       "      <td>-1.883588</td>\n",
       "    </tr>\n",
       "    <tr>\n",
       "      <th>3</th>\n",
       "      <td>1.622601e-99</td>\n",
       "      <td>NaN</td>\n",
       "      <td>-1.328367</td>\n",
       "      <td>-2.237835</td>\n",
       "      <td>1735.107763</td>\n",
       "      <td>-1.885350</td>\n",
       "    </tr>\n",
       "    <tr>\n",
       "      <th>4</th>\n",
       "      <td>1.778115e-99</td>\n",
       "      <td>3.14195</td>\n",
       "      <td>-1.174649</td>\n",
       "      <td>-2.390003</td>\n",
       "      <td>880.591390</td>\n",
       "      <td>-1.775047</td>\n",
       "    </tr>\n",
       "    <tr>\n",
       "      <th>5</th>\n",
       "      <td>1.994388e-99</td>\n",
       "      <td>NaN</td>\n",
       "      <td>-1.136761</td>\n",
       "      <td>-2.095912</td>\n",
       "      <td>365.431802</td>\n",
       "      <td>-1.734409</td>\n",
       "    </tr>\n",
       "    <tr>\n",
       "      <th>6</th>\n",
       "      <td>2.168708e-99</td>\n",
       "      <td>NaN</td>\n",
       "      <td>-1.146912</td>\n",
       "      <td>-2.245102</td>\n",
       "      <td>1460.999367</td>\n",
       "      <td>-1.898970</td>\n",
       "    </tr>\n",
       "    <tr>\n",
       "      <th>7</th>\n",
       "      <td>2.512604e-99</td>\n",
       "      <td>NaN</td>\n",
       "      <td>-1.240119</td>\n",
       "      <td>-2.485094</td>\n",
       "      <td>1459.503585</td>\n",
       "      <td>-1.838669</td>\n",
       "    </tr>\n",
       "    <tr>\n",
       "      <th>8</th>\n",
       "      <td>2.581055e-99</td>\n",
       "      <td>NaN</td>\n",
       "      <td>-1.177917</td>\n",
       "      <td>-2.627564</td>\n",
       "      <td>2259.052181</td>\n",
       "      <td>-1.892149</td>\n",
       "    </tr>\n",
       "    <tr>\n",
       "      <th>9</th>\n",
       "      <td>2.664435e-99</td>\n",
       "      <td>NaN</td>\n",
       "      <td>-1.312911</td>\n",
       "      <td>-2.461130</td>\n",
       "      <td>3234.960797</td>\n",
       "      <td>-1.922764</td>\n",
       "    </tr>\n",
       "  </tbody>\n",
       "</table>\n",
       "</div>"
      ],
      "text/plain": [
       "           prob    cstat     alpha      beta      enaught      norm\n",
       "0  1.464804e-99  3.14195 -1.094847 -2.334929   607.719256 -1.724910\n",
       "1  1.551436e-99      NaN -1.251852 -2.282142  1739.260013 -1.814916\n",
       "2  1.600356e-99  3.14195 -1.222781 -2.692320  2722.137812 -1.883588\n",
       "3  1.622601e-99      NaN -1.328367 -2.237835  1735.107763 -1.885350\n",
       "4  1.778115e-99  3.14195 -1.174649 -2.390003   880.591390 -1.775047\n",
       "5  1.994388e-99      NaN -1.136761 -2.095912   365.431802 -1.734409\n",
       "6  2.168708e-99      NaN -1.146912 -2.245102  1460.999367 -1.898970\n",
       "7  2.512604e-99      NaN -1.240119 -2.485094  1459.503585 -1.838669\n",
       "8  2.581055e-99      NaN -1.177917 -2.627564  2259.052181 -1.892149\n",
       "9  2.664435e-99      NaN -1.312911 -2.461130  3234.960797 -1.922764"
      ]
     },
     "execution_count": 43,
     "metadata": {},
     "output_type": "execute_result"
    }
   ],
   "source": [
    "data.__getitem__('cstat').__setitem__([0,2,4], 3.14195) # works\n",
    "data.head(10)"
   ]
  },
  {
   "cell_type": "code",
   "execution_count": 44,
   "metadata": {
    "collapsed": false
   },
   "outputs": [
    {
     "data": {
      "text/html": [
       "<div>\n",
       "<table border=\"1\" class=\"dataframe\">\n",
       "  <thead>\n",
       "    <tr style=\"text-align: right;\">\n",
       "      <th></th>\n",
       "      <th>prob</th>\n",
       "      <th>cstat</th>\n",
       "      <th>alpha</th>\n",
       "      <th>beta</th>\n",
       "      <th>enaught</th>\n",
       "      <th>norm</th>\n",
       "    </tr>\n",
       "  </thead>\n",
       "  <tbody>\n",
       "    <tr>\n",
       "      <th>0</th>\n",
       "      <td>1.464804e-99</td>\n",
       "      <td>99</td>\n",
       "      <td>-1.094847</td>\n",
       "      <td>-2.334929</td>\n",
       "      <td>607.719256</td>\n",
       "      <td>-1.724910</td>\n",
       "    </tr>\n",
       "    <tr>\n",
       "      <th>1</th>\n",
       "      <td>1.551436e-99</td>\n",
       "      <td>99</td>\n",
       "      <td>-1.251852</td>\n",
       "      <td>-2.282142</td>\n",
       "      <td>1739.260013</td>\n",
       "      <td>-1.814916</td>\n",
       "    </tr>\n",
       "    <tr>\n",
       "      <th>2</th>\n",
       "      <td>1.600356e-99</td>\n",
       "      <td>99</td>\n",
       "      <td>-1.222781</td>\n",
       "      <td>-2.692320</td>\n",
       "      <td>2722.137812</td>\n",
       "      <td>-1.883588</td>\n",
       "    </tr>\n",
       "    <tr>\n",
       "      <th>3</th>\n",
       "      <td>1.622601e-99</td>\n",
       "      <td>99</td>\n",
       "      <td>-1.328367</td>\n",
       "      <td>-2.237835</td>\n",
       "      <td>1735.107763</td>\n",
       "      <td>-1.885350</td>\n",
       "    </tr>\n",
       "    <tr>\n",
       "      <th>4</th>\n",
       "      <td>1.778115e-99</td>\n",
       "      <td>99</td>\n",
       "      <td>-1.174649</td>\n",
       "      <td>-2.390003</td>\n",
       "      <td>880.591390</td>\n",
       "      <td>-1.775047</td>\n",
       "    </tr>\n",
       "  </tbody>\n",
       "</table>\n",
       "</div>"
      ],
      "text/plain": [
       "           prob  cstat     alpha      beta      enaught      norm\n",
       "0  1.464804e-99     99 -1.094847 -2.334929   607.719256 -1.724910\n",
       "1  1.551436e-99     99 -1.251852 -2.282142  1739.260013 -1.814916\n",
       "2  1.600356e-99     99 -1.222781 -2.692320  2722.137812 -1.883588\n",
       "3  1.622601e-99     99 -1.328367 -2.237835  1735.107763 -1.885350\n",
       "4  1.778115e-99     99 -1.174649 -2.390003   880.591390 -1.775047"
      ]
     },
     "execution_count": 44,
     "metadata": {},
     "output_type": "execute_result"
    }
   ],
   "source": [
    "data.__setitem__('cstat', 99) # works\n",
    "data.head()"
   ]
  },
  {
   "cell_type": "code",
   "execution_count": 45,
   "metadata": {
    "collapsed": false
   },
   "outputs": [
    {
     "name": "stderr",
     "output_type": "stream",
     "text": [
      "/Users/KimiZ/anaconda/lib/python2.7/site-packages/ipykernel_launcher.py:1: SettingWithCopyWarning: \n",
      "A value is trying to be set on a copy of a slice from a DataFrame\n",
      "\n",
      "See the caveats in the documentation: http://pandas.pydata.org/pandas-docs/stable/indexing.html#indexing-view-versus-copy\n",
      "  \"\"\"Entry point for launching an IPython kernel.\n",
      "/Users/KimiZ/anaconda/lib/python2.7/site-packages/pandas/core/indexing.py:141: SettingWithCopyWarning: \n",
      "A value is trying to be set on a copy of a slice from a DataFrame\n",
      "\n",
      "See the caveats in the documentation: http://pandas.pydata.org/pandas-docs/stable/indexing.html#indexing-view-versus-copy\n",
      "  self._setitem_with_indexer(indexer, value)\n"
     ]
    },
    {
     "data": {
      "text/html": [
       "<div>\n",
       "<table border=\"1\" class=\"dataframe\">\n",
       "  <thead>\n",
       "    <tr style=\"text-align: right;\">\n",
       "      <th></th>\n",
       "      <th>prob</th>\n",
       "      <th>cstat</th>\n",
       "      <th>alpha</th>\n",
       "      <th>beta</th>\n",
       "      <th>enaught</th>\n",
       "      <th>norm</th>\n",
       "    </tr>\n",
       "  </thead>\n",
       "  <tbody>\n",
       "    <tr>\n",
       "      <th>0</th>\n",
       "      <td>1.464804e-99</td>\n",
       "      <td>NaN</td>\n",
       "      <td>-1.094847</td>\n",
       "      <td>-2.334929</td>\n",
       "      <td>607.719256</td>\n",
       "      <td>-1.724910</td>\n",
       "    </tr>\n",
       "    <tr>\n",
       "      <th>1</th>\n",
       "      <td>1.551436e-99</td>\n",
       "      <td>99.0</td>\n",
       "      <td>-1.251852</td>\n",
       "      <td>-2.282142</td>\n",
       "      <td>1739.260013</td>\n",
       "      <td>-1.814916</td>\n",
       "    </tr>\n",
       "    <tr>\n",
       "      <th>2</th>\n",
       "      <td>1.600356e-99</td>\n",
       "      <td>99.0</td>\n",
       "      <td>-1.222781</td>\n",
       "      <td>-2.692320</td>\n",
       "      <td>2722.137812</td>\n",
       "      <td>-1.883588</td>\n",
       "    </tr>\n",
       "    <tr>\n",
       "      <th>3</th>\n",
       "      <td>1.622601e-99</td>\n",
       "      <td>99.0</td>\n",
       "      <td>-1.328367</td>\n",
       "      <td>-2.237835</td>\n",
       "      <td>1735.107763</td>\n",
       "      <td>-1.885350</td>\n",
       "    </tr>\n",
       "    <tr>\n",
       "      <th>4</th>\n",
       "      <td>1.778115e-99</td>\n",
       "      <td>99.0</td>\n",
       "      <td>-1.174649</td>\n",
       "      <td>-2.390003</td>\n",
       "      <td>880.591390</td>\n",
       "      <td>-1.775047</td>\n",
       "    </tr>\n",
       "  </tbody>\n",
       "</table>\n",
       "</div>"
      ],
      "text/plain": [
       "           prob  cstat     alpha      beta      enaught      norm\n",
       "0  1.464804e-99    NaN -1.094847 -2.334929   607.719256 -1.724910\n",
       "1  1.551436e-99   99.0 -1.251852 -2.282142  1739.260013 -1.814916\n",
       "2  1.600356e-99   99.0 -1.222781 -2.692320  2722.137812 -1.883588\n",
       "3  1.622601e-99   99.0 -1.328367 -2.237835  1735.107763 -1.885350\n",
       "4  1.778115e-99   99.0 -1.174649 -2.390003   880.591390 -1.775047"
      ]
     },
     "execution_count": 45,
     "metadata": {},
     "output_type": "execute_result"
    }
   ],
   "source": [
    "data.__getitem__('cstat').__setitem__(0, np.nan) \n",
    "data.head()"
   ]
  },
  {
   "cell_type": "code",
   "execution_count": 46,
   "metadata": {
    "collapsed": false
   },
   "outputs": [
    {
     "data": {
      "text/html": [
       "<div>\n",
       "<table border=\"1\" class=\"dataframe\">\n",
       "  <thead>\n",
       "    <tr style=\"text-align: right;\">\n",
       "      <th></th>\n",
       "      <th>prob</th>\n",
       "      <th>cstat</th>\n",
       "      <th>alpha</th>\n",
       "      <th>beta</th>\n",
       "      <th>enaught</th>\n",
       "      <th>norm</th>\n",
       "    </tr>\n",
       "  </thead>\n",
       "  <tbody>\n",
       "    <tr>\n",
       "      <th>0</th>\n",
       "      <td>1.464804e-99</td>\n",
       "      <td>NaN</td>\n",
       "      <td>-1.094847</td>\n",
       "      <td>-2.334929</td>\n",
       "      <td>607.719256</td>\n",
       "      <td>-1.724910</td>\n",
       "    </tr>\n",
       "    <tr>\n",
       "      <th>1</th>\n",
       "      <td>1.551436e-99</td>\n",
       "      <td>99</td>\n",
       "      <td>-1.251852</td>\n",
       "      <td>-2.282142</td>\n",
       "      <td>1739.260013</td>\n",
       "      <td>-1.814916</td>\n",
       "    </tr>\n",
       "    <tr>\n",
       "      <th>2</th>\n",
       "      <td>1.600356e-99</td>\n",
       "      <td>kim</td>\n",
       "      <td>-1.222781</td>\n",
       "      <td>-2.692320</td>\n",
       "      <td>2722.137812</td>\n",
       "      <td>-1.883588</td>\n",
       "    </tr>\n",
       "    <tr>\n",
       "      <th>3</th>\n",
       "      <td>1.622601e-99</td>\n",
       "      <td>kim</td>\n",
       "      <td>-1.328367</td>\n",
       "      <td>-2.237835</td>\n",
       "      <td>1735.107763</td>\n",
       "      <td>-1.885350</td>\n",
       "    </tr>\n",
       "    <tr>\n",
       "      <th>4</th>\n",
       "      <td>1.778115e-99</td>\n",
       "      <td>99</td>\n",
       "      <td>-1.174649</td>\n",
       "      <td>-2.390003</td>\n",
       "      <td>880.591390</td>\n",
       "      <td>-1.775047</td>\n",
       "    </tr>\n",
       "  </tbody>\n",
       "</table>\n",
       "</div>"
      ],
      "text/plain": [
       "           prob cstat     alpha      beta      enaught      norm\n",
       "0  1.464804e-99   NaN -1.094847 -2.334929   607.719256 -1.724910\n",
       "1  1.551436e-99    99 -1.251852 -2.282142  1739.260013 -1.814916\n",
       "2  1.600356e-99   kim -1.222781 -2.692320  2722.137812 -1.883588\n",
       "3  1.622601e-99   kim -1.328367 -2.237835  1735.107763 -1.885350\n",
       "4  1.778115e-99    99 -1.174649 -2.390003   880.591390 -1.775047"
      ]
     },
     "execution_count": 46,
     "metadata": {},
     "output_type": "execute_result"
    }
   ],
   "source": [
    "data.__getitem__('cstat').__setitem__(slice(2,4), 'kim') # works\n",
    "data.head()"
   ]
  },
  {
   "cell_type": "code",
   "execution_count": 47,
   "metadata": {
    "collapsed": false
   },
   "outputs": [
    {
     "name": "stderr",
     "output_type": "stream",
     "text": [
      "/Users/KimiZ/anaconda/lib/python2.7/site-packages/ipykernel_launcher.py:1: SettingWithCopyWarning: \n",
      "A value is trying to be set on a copy of a slice from a DataFrame\n",
      "\n",
      "See the caveats in the documentation: http://pandas.pydata.org/pandas-docs/stable/indexing.html#indexing-view-versus-copy\n",
      "  \"\"\"Entry point for launching an IPython kernel.\n"
     ]
    },
    {
     "data": {
      "text/html": [
       "<div>\n",
       "<table border=\"1\" class=\"dataframe\">\n",
       "  <thead>\n",
       "    <tr style=\"text-align: right;\">\n",
       "      <th></th>\n",
       "      <th>prob</th>\n",
       "      <th>cstat</th>\n",
       "      <th>alpha</th>\n",
       "      <th>beta</th>\n",
       "      <th>enaught</th>\n",
       "      <th>norm</th>\n",
       "    </tr>\n",
       "  </thead>\n",
       "  <tbody>\n",
       "    <tr>\n",
       "      <th>0</th>\n",
       "      <td>1.464804e-99</td>\n",
       "      <td>kim</td>\n",
       "      <td>-1.094847</td>\n",
       "      <td>-2.334929</td>\n",
       "      <td>607.719256</td>\n",
       "      <td>-1.724910</td>\n",
       "    </tr>\n",
       "    <tr>\n",
       "      <th>1</th>\n",
       "      <td>1.551436e-99</td>\n",
       "      <td>kim</td>\n",
       "      <td>-1.251852</td>\n",
       "      <td>-2.282142</td>\n",
       "      <td>1739.260013</td>\n",
       "      <td>-1.814916</td>\n",
       "    </tr>\n",
       "    <tr>\n",
       "      <th>2</th>\n",
       "      <td>1.600356e-99</td>\n",
       "      <td>kim</td>\n",
       "      <td>-1.222781</td>\n",
       "      <td>-2.692320</td>\n",
       "      <td>2722.137812</td>\n",
       "      <td>-1.883588</td>\n",
       "    </tr>\n",
       "    <tr>\n",
       "      <th>3</th>\n",
       "      <td>1.622601e-99</td>\n",
       "      <td>kim</td>\n",
       "      <td>-1.328367</td>\n",
       "      <td>-2.237835</td>\n",
       "      <td>1735.107763</td>\n",
       "      <td>-1.885350</td>\n",
       "    </tr>\n",
       "    <tr>\n",
       "      <th>4</th>\n",
       "      <td>1.778115e-99</td>\n",
       "      <td>kim</td>\n",
       "      <td>-1.174649</td>\n",
       "      <td>-2.390003</td>\n",
       "      <td>880.591390</td>\n",
       "      <td>-1.775047</td>\n",
       "    </tr>\n",
       "  </tbody>\n",
       "</table>\n",
       "</div>"
      ],
      "text/plain": [
       "           prob cstat     alpha      beta      enaught      norm\n",
       "0  1.464804e-99   kim -1.094847 -2.334929   607.719256 -1.724910\n",
       "1  1.551436e-99   kim -1.251852 -2.282142  1739.260013 -1.814916\n",
       "2  1.600356e-99   kim -1.222781 -2.692320  2722.137812 -1.883588\n",
       "3  1.622601e-99   kim -1.328367 -2.237835  1735.107763 -1.885350\n",
       "4  1.778115e-99   kim -1.174649 -2.390003   880.591390 -1.775047"
      ]
     },
     "execution_count": 47,
     "metadata": {},
     "output_type": "execute_result"
    }
   ],
   "source": [
    "data.__getitem__('cstat').__setitem__(slice(None), 'kim') # works\n",
    "data.head()"
   ]
  },
  {
   "cell_type": "code",
   "execution_count": 48,
   "metadata": {
    "collapsed": false
   },
   "outputs": [
    {
     "data": {
      "text/html": [
       "<div>\n",
       "<table border=\"1\" class=\"dataframe\">\n",
       "  <thead>\n",
       "    <tr style=\"text-align: right;\">\n",
       "      <th></th>\n",
       "      <th>prob</th>\n",
       "      <th>cstat</th>\n",
       "      <th>alpha</th>\n",
       "      <th>beta</th>\n",
       "      <th>enaught</th>\n",
       "      <th>norm</th>\n",
       "    </tr>\n",
       "  </thead>\n",
       "  <tbody>\n",
       "    <tr>\n",
       "      <th>0</th>\n",
       "      <td>1.464804e-99</td>\n",
       "      <td>774.965035</td>\n",
       "      <td>-1.094847</td>\n",
       "      <td>-2.334929</td>\n",
       "      <td>607.719256</td>\n",
       "      <td>-1.724910</td>\n",
       "    </tr>\n",
       "    <tr>\n",
       "      <th>1</th>\n",
       "      <td>1.551436e-99</td>\n",
       "      <td>774.847617</td>\n",
       "      <td>-1.251852</td>\n",
       "      <td>-2.282142</td>\n",
       "      <td>1739.260013</td>\n",
       "      <td>-1.814916</td>\n",
       "    </tr>\n",
       "    <tr>\n",
       "      <th>2</th>\n",
       "      <td>1.600356e-99</td>\n",
       "      <td>774.783027</td>\n",
       "      <td>-1.222781</td>\n",
       "      <td>-2.692320</td>\n",
       "      <td>2722.137812</td>\n",
       "      <td>-1.883588</td>\n",
       "    </tr>\n",
       "    <tr>\n",
       "      <th>3</th>\n",
       "      <td>1.622601e-99</td>\n",
       "      <td>774.752918</td>\n",
       "      <td>-1.328367</td>\n",
       "      <td>-2.237835</td>\n",
       "      <td>1735.107763</td>\n",
       "      <td>-1.885350</td>\n",
       "    </tr>\n",
       "    <tr>\n",
       "      <th>4</th>\n",
       "      <td>1.778115e-99</td>\n",
       "      <td>774.567371</td>\n",
       "      <td>-1.174649</td>\n",
       "      <td>-2.390003</td>\n",
       "      <td>880.591390</td>\n",
       "      <td>-1.775047</td>\n",
       "    </tr>\n",
       "  </tbody>\n",
       "</table>\n",
       "</div>"
      ],
      "text/plain": [
       "           prob       cstat     alpha      beta      enaught      norm\n",
       "0  1.464804e-99  774.965035 -1.094847 -2.334929   607.719256 -1.724910\n",
       "1  1.551436e-99  774.847617 -1.251852 -2.282142  1739.260013 -1.814916\n",
       "2  1.600356e-99  774.783027 -1.222781 -2.692320  2722.137812 -1.883588\n",
       "3  1.622601e-99  774.752918 -1.328367 -2.237835  1735.107763 -1.885350\n",
       "4  1.778115e-99  774.567371 -1.174649 -2.390003   880.591390 -1.775047"
      ]
     },
     "execution_count": 48,
     "metadata": {},
     "output_type": "execute_result"
    }
   ],
   "source": [
    "data = DAT.copy()\n",
    "\n",
    "#data.cstat = np.nan\n",
    "data.head()"
   ]
  },
  {
   "cell_type": "code",
   "execution_count": 49,
   "metadata": {
    "collapsed": false
   },
   "outputs": [
    {
     "name": "stderr",
     "output_type": "stream",
     "text": [
      "/Users/KimiZ/anaconda/lib/python2.7/site-packages/ipykernel_launcher.py:1: SettingWithCopyWarning: \n",
      "A value is trying to be set on a copy of a slice from a DataFrame.\n",
      "Try using .loc[row_indexer,col_indexer] = value instead\n",
      "\n",
      "See the caveats in the documentation: http://pandas.pydata.org/pandas-docs/stable/indexing.html#indexing-view-versus-copy\n",
      "  \"\"\"Entry point for launching an IPython kernel.\n"
     ]
    },
    {
     "data": {
      "text/html": [
       "<div>\n",
       "<table border=\"1\" class=\"dataframe\">\n",
       "  <thead>\n",
       "    <tr style=\"text-align: right;\">\n",
       "      <th></th>\n",
       "      <th>prob</th>\n",
       "      <th>cstat</th>\n",
       "      <th>alpha</th>\n",
       "      <th>beta</th>\n",
       "      <th>enaught</th>\n",
       "      <th>norm</th>\n",
       "    </tr>\n",
       "  </thead>\n",
       "  <tbody>\n",
       "    <tr>\n",
       "      <th>0</th>\n",
       "      <td>1.464804e-99</td>\n",
       "      <td>774.965035</td>\n",
       "      <td>-1.094847</td>\n",
       "      <td>-2.334929</td>\n",
       "      <td>607.719256</td>\n",
       "      <td>-1.724910</td>\n",
       "    </tr>\n",
       "    <tr>\n",
       "      <th>1</th>\n",
       "      <td>1.551436e-99</td>\n",
       "      <td>774.847617</td>\n",
       "      <td>-1.251852</td>\n",
       "      <td>-2.282142</td>\n",
       "      <td>1739.260013</td>\n",
       "      <td>-1.814916</td>\n",
       "    </tr>\n",
       "    <tr>\n",
       "      <th>2</th>\n",
       "      <td>1.600356e-99</td>\n",
       "      <td>774.783027</td>\n",
       "      <td>-1.222781</td>\n",
       "      <td>-2.692320</td>\n",
       "      <td>2722.137812</td>\n",
       "      <td>-1.883588</td>\n",
       "    </tr>\n",
       "    <tr>\n",
       "      <th>3</th>\n",
       "      <td>1.622601e-99</td>\n",
       "      <td>774.752918</td>\n",
       "      <td>-1.328367</td>\n",
       "      <td>-2.237835</td>\n",
       "      <td>1735.107763</td>\n",
       "      <td>-1.885350</td>\n",
       "    </tr>\n",
       "    <tr>\n",
       "      <th>4</th>\n",
       "      <td>1.778115e-99</td>\n",
       "      <td>774.567371</td>\n",
       "      <td>-1.174649</td>\n",
       "      <td>-2.390003</td>\n",
       "      <td>880.591390</td>\n",
       "      <td>-1.775047</td>\n",
       "    </tr>\n",
       "  </tbody>\n",
       "</table>\n",
       "</div>"
      ],
      "text/plain": [
       "           prob       cstat     alpha      beta      enaught      norm\n",
       "0  1.464804e-99  774.965035 -1.094847 -2.334929   607.719256 -1.724910\n",
       "1  1.551436e-99  774.847617 -1.251852 -2.282142  1739.260013 -1.814916\n",
       "2  1.600356e-99  774.783027 -1.222781 -2.692320  2722.137812 -1.883588\n",
       "3  1.622601e-99  774.752918 -1.328367 -2.237835  1735.107763 -1.885350\n",
       "4  1.778115e-99  774.567371 -1.174649 -2.390003   880.591390 -1.775047"
      ]
     },
     "execution_count": 49,
     "metadata": {},
     "output_type": "execute_result"
    }
   ],
   "source": [
    "data[data.cstat > 400.0]['cstat'] = np.nan\n",
    "data.head()"
   ]
  },
  {
   "cell_type": "code",
   "execution_count": 50,
   "metadata": {
    "collapsed": false
   },
   "outputs": [
    {
     "data": {
      "text/plain": [
       "0    774.965035\n",
       "1    774.847617\n",
       "2    774.783027\n",
       "3    774.752918\n",
       "4    774.567371\n",
       "Name: cstat, dtype: float64"
      ]
     },
     "execution_count": 50,
     "metadata": {},
     "output_type": "execute_result"
    }
   ],
   "source": [
    "data[data.cstat > 400.0]['cstat'].head()"
   ]
  },
  {
   "cell_type": "code",
   "execution_count": 51,
   "metadata": {
    "collapsed": false
   },
   "outputs": [
    {
     "data": {
      "text/plain": [
       "pandas.core.series.Series"
      ]
     },
     "execution_count": 51,
     "metadata": {},
     "output_type": "execute_result"
    }
   ],
   "source": [
    "type(data[data.cstat > 400.0]['cstat'])"
   ]
  },
  {
   "cell_type": "code",
   "execution_count": 52,
   "metadata": {
    "collapsed": false
   },
   "outputs": [
    {
     "data": {
      "text/plain": [
       "(3067,)"
      ]
     },
     "execution_count": 52,
     "metadata": {},
     "output_type": "execute_result"
    }
   ],
   "source": [
    "data[data.cstat > 400.0]['cstat'].shape"
   ]
  },
  {
   "cell_type": "code",
   "execution_count": 53,
   "metadata": {
    "collapsed": false
   },
   "outputs": [
    {
     "data": {
      "text/plain": [
       "(10296, 6)"
      ]
     },
     "execution_count": 53,
     "metadata": {},
     "output_type": "execute_result"
    }
   ],
   "source": [
    "data.shape"
   ]
  },
  {
   "cell_type": "markdown",
   "metadata": {},
   "source": [
    "The following works when a list of numbers is passed to `__setitem__`. \n",
    "```python\n",
    "data.__getitem__('cstat').__setitem__([2,5,7], np.nan) \n",
    "```\n",
    "Which means, we can use the indices of a conditional."
   ]
  },
  {
   "cell_type": "code",
   "execution_count": 54,
   "metadata": {
    "collapsed": false
   },
   "outputs": [
    {
     "data": {
      "text/html": [
       "<div>\n",
       "<table border=\"1\" class=\"dataframe\">\n",
       "  <thead>\n",
       "    <tr style=\"text-align: right;\">\n",
       "      <th></th>\n",
       "      <th>prob</th>\n",
       "      <th>cstat</th>\n",
       "      <th>alpha</th>\n",
       "      <th>beta</th>\n",
       "      <th>enaught</th>\n",
       "      <th>norm</th>\n",
       "    </tr>\n",
       "  </thead>\n",
       "  <tbody>\n",
       "    <tr>\n",
       "      <th>0</th>\n",
       "      <td>1.464804e-99</td>\n",
       "      <td>NaN</td>\n",
       "      <td>-1.094847</td>\n",
       "      <td>-2.334929</td>\n",
       "      <td>607.719256</td>\n",
       "      <td>-1.724910</td>\n",
       "    </tr>\n",
       "    <tr>\n",
       "      <th>1</th>\n",
       "      <td>1.551436e-99</td>\n",
       "      <td>NaN</td>\n",
       "      <td>-1.251852</td>\n",
       "      <td>-2.282142</td>\n",
       "      <td>1739.260013</td>\n",
       "      <td>-1.814916</td>\n",
       "    </tr>\n",
       "    <tr>\n",
       "      <th>2</th>\n",
       "      <td>1.600356e-99</td>\n",
       "      <td>NaN</td>\n",
       "      <td>-1.222781</td>\n",
       "      <td>-2.692320</td>\n",
       "      <td>2722.137812</td>\n",
       "      <td>-1.883588</td>\n",
       "    </tr>\n",
       "    <tr>\n",
       "      <th>3</th>\n",
       "      <td>1.622601e-99</td>\n",
       "      <td>NaN</td>\n",
       "      <td>-1.328367</td>\n",
       "      <td>-2.237835</td>\n",
       "      <td>1735.107763</td>\n",
       "      <td>-1.885350</td>\n",
       "    </tr>\n",
       "    <tr>\n",
       "      <th>4</th>\n",
       "      <td>1.778115e-99</td>\n",
       "      <td>NaN</td>\n",
       "      <td>-1.174649</td>\n",
       "      <td>-2.390003</td>\n",
       "      <td>880.591390</td>\n",
       "      <td>-1.775047</td>\n",
       "    </tr>\n",
       "    <tr>\n",
       "      <th>5</th>\n",
       "      <td>1.994388e-99</td>\n",
       "      <td>NaN</td>\n",
       "      <td>-1.136761</td>\n",
       "      <td>-2.095912</td>\n",
       "      <td>365.431802</td>\n",
       "      <td>-1.734409</td>\n",
       "    </tr>\n",
       "    <tr>\n",
       "      <th>6</th>\n",
       "      <td>2.168708e-99</td>\n",
       "      <td>NaN</td>\n",
       "      <td>-1.146912</td>\n",
       "      <td>-2.245102</td>\n",
       "      <td>1460.999367</td>\n",
       "      <td>-1.898970</td>\n",
       "    </tr>\n",
       "    <tr>\n",
       "      <th>7</th>\n",
       "      <td>2.512604e-99</td>\n",
       "      <td>NaN</td>\n",
       "      <td>-1.240119</td>\n",
       "      <td>-2.485094</td>\n",
       "      <td>1459.503585</td>\n",
       "      <td>-1.838669</td>\n",
       "    </tr>\n",
       "    <tr>\n",
       "      <th>8</th>\n",
       "      <td>2.581055e-99</td>\n",
       "      <td>NaN</td>\n",
       "      <td>-1.177917</td>\n",
       "      <td>-2.627564</td>\n",
       "      <td>2259.052181</td>\n",
       "      <td>-1.892149</td>\n",
       "    </tr>\n",
       "    <tr>\n",
       "      <th>9</th>\n",
       "      <td>2.664435e-99</td>\n",
       "      <td>NaN</td>\n",
       "      <td>-1.312911</td>\n",
       "      <td>-2.461130</td>\n",
       "      <td>3234.960797</td>\n",
       "      <td>-1.922764</td>\n",
       "    </tr>\n",
       "  </tbody>\n",
       "</table>\n",
       "</div>"
      ],
      "text/plain": [
       "           prob  cstat     alpha      beta      enaught      norm\n",
       "0  1.464804e-99    NaN -1.094847 -2.334929   607.719256 -1.724910\n",
       "1  1.551436e-99    NaN -1.251852 -2.282142  1739.260013 -1.814916\n",
       "2  1.600356e-99    NaN -1.222781 -2.692320  2722.137812 -1.883588\n",
       "3  1.622601e-99    NaN -1.328367 -2.237835  1735.107763 -1.885350\n",
       "4  1.778115e-99    NaN -1.174649 -2.390003   880.591390 -1.775047\n",
       "5  1.994388e-99    NaN -1.136761 -2.095912   365.431802 -1.734409\n",
       "6  2.168708e-99    NaN -1.146912 -2.245102  1460.999367 -1.898970\n",
       "7  2.512604e-99    NaN -1.240119 -2.485094  1459.503585 -1.838669\n",
       "8  2.581055e-99    NaN -1.177917 -2.627564  2259.052181 -1.892149\n",
       "9  2.664435e-99    NaN -1.312911 -2.461130  3234.960797 -1.922764"
      ]
     },
     "execution_count": 54,
     "metadata": {},
     "output_type": "execute_result"
    }
   ],
   "source": [
    "data = DAT.copy()\n",
    "\n",
    "# condition\n",
    "indices = data[data.cstat > 400.0]['cstat'].index\n",
    "\n",
    "data.__getitem__('cstat').__setitem__(indices, np.nan) # works\n",
    "data.head(10)"
   ]
  },
  {
   "cell_type": "code",
   "execution_count": 55,
   "metadata": {
    "collapsed": false
   },
   "outputs": [
    {
     "data": {
      "text/html": [
       "<div>\n",
       "<table border=\"1\" class=\"dataframe\">\n",
       "  <thead>\n",
       "    <tr style=\"text-align: right;\">\n",
       "      <th></th>\n",
       "      <th>prob</th>\n",
       "      <th>cstat</th>\n",
       "      <th>alpha</th>\n",
       "      <th>beta</th>\n",
       "      <th>enaught</th>\n",
       "      <th>norm</th>\n",
       "    </tr>\n",
       "  </thead>\n",
       "  <tbody>\n",
       "    <tr>\n",
       "      <th>10286</th>\n",
       "      <td>0.000226</td>\n",
       "      <td>312.867029</td>\n",
       "      <td>-1.045140</td>\n",
       "      <td>-2.195407</td>\n",
       "      <td>549.164918</td>\n",
       "      <td>-1.764438</td>\n",
       "    </tr>\n",
       "    <tr>\n",
       "      <th>10287</th>\n",
       "      <td>0.000261</td>\n",
       "      <td>312.584521</td>\n",
       "      <td>-1.030965</td>\n",
       "      <td>-2.205793</td>\n",
       "      <td>537.323704</td>\n",
       "      <td>-1.761381</td>\n",
       "    </tr>\n",
       "    <tr>\n",
       "      <th>10288</th>\n",
       "      <td>0.000211</td>\n",
       "      <td>313.007150</td>\n",
       "      <td>-1.046360</td>\n",
       "      <td>-2.207474</td>\n",
       "      <td>559.954113</td>\n",
       "      <td>-1.761374</td>\n",
       "    </tr>\n",
       "    <tr>\n",
       "      <th>10289</th>\n",
       "      <td>0.000314</td>\n",
       "      <td>312.212658</td>\n",
       "      <td>-1.016767</td>\n",
       "      <td>-2.195301</td>\n",
       "      <td>493.162455</td>\n",
       "      <td>-1.748218</td>\n",
       "    </tr>\n",
       "    <tr>\n",
       "      <th>10290</th>\n",
       "      <td>0.000227</td>\n",
       "      <td>312.863434</td>\n",
       "      <td>-1.006208</td>\n",
       "      <td>-2.188166</td>\n",
       "      <td>475.251252</td>\n",
       "      <td>-1.742081</td>\n",
       "    </tr>\n",
       "    <tr>\n",
       "      <th>10291</th>\n",
       "      <td>0.000332</td>\n",
       "      <td>312.097174</td>\n",
       "      <td>-1.022911</td>\n",
       "      <td>-2.199779</td>\n",
       "      <td>520.533772</td>\n",
       "      <td>-1.752404</td>\n",
       "    </tr>\n",
       "    <tr>\n",
       "      <th>10292</th>\n",
       "      <td>0.000250</td>\n",
       "      <td>312.666360</td>\n",
       "      <td>-1.020065</td>\n",
       "      <td>-2.190011</td>\n",
       "      <td>488.601911</td>\n",
       "      <td>-1.747570</td>\n",
       "    </tr>\n",
       "    <tr>\n",
       "      <th>10293</th>\n",
       "      <td>0.000231</td>\n",
       "      <td>312.827938</td>\n",
       "      <td>-1.022652</td>\n",
       "      <td>-2.199277</td>\n",
       "      <td>504.114026</td>\n",
       "      <td>-1.748053</td>\n",
       "    </tr>\n",
       "    <tr>\n",
       "      <th>10294</th>\n",
       "      <td>0.000302</td>\n",
       "      <td>312.288025</td>\n",
       "      <td>-1.044113</td>\n",
       "      <td>-2.201780</td>\n",
       "      <td>565.135973</td>\n",
       "      <td>-1.764887</td>\n",
       "    </tr>\n",
       "    <tr>\n",
       "      <th>10295</th>\n",
       "      <td>0.000316</td>\n",
       "      <td>312.198532</td>\n",
       "      <td>-1.031711</td>\n",
       "      <td>-2.194697</td>\n",
       "      <td>529.200351</td>\n",
       "      <td>-1.754961</td>\n",
       "    </tr>\n",
       "  </tbody>\n",
       "</table>\n",
       "</div>"
      ],
      "text/plain": [
       "           prob       cstat     alpha      beta     enaught      norm\n",
       "10286  0.000226  312.867029 -1.045140 -2.195407  549.164918 -1.764438\n",
       "10287  0.000261  312.584521 -1.030965 -2.205793  537.323704 -1.761381\n",
       "10288  0.000211  313.007150 -1.046360 -2.207474  559.954113 -1.761374\n",
       "10289  0.000314  312.212658 -1.016767 -2.195301  493.162455 -1.748218\n",
       "10290  0.000227  312.863434 -1.006208 -2.188166  475.251252 -1.742081\n",
       "10291  0.000332  312.097174 -1.022911 -2.199779  520.533772 -1.752404\n",
       "10292  0.000250  312.666360 -1.020065 -2.190011  488.601911 -1.747570\n",
       "10293  0.000231  312.827938 -1.022652 -2.199277  504.114026 -1.748053\n",
       "10294  0.000302  312.288025 -1.044113 -2.201780  565.135973 -1.764887\n",
       "10295  0.000316  312.198532 -1.031711 -2.194697  529.200351 -1.754961"
      ]
     },
     "execution_count": 55,
     "metadata": {},
     "output_type": "execute_result"
    }
   ],
   "source": [
    "data.tail(10) # worked"
   ]
  },
  {
   "cell_type": "code",
   "execution_count": null,
   "metadata": {
    "collapsed": true
   },
   "outputs": [],
   "source": []
  }
 ],
 "metadata": {
  "kernelspec": {
   "display_name": "Python 2",
   "language": "python",
   "name": "python2"
  },
  "language_info": {
   "codemirror_mode": {
    "name": "ipython",
    "version": 2
   },
   "file_extension": ".py",
   "mimetype": "text/x-python",
   "name": "python",
   "nbconvert_exporter": "python",
   "pygments_lexer": "ipython2",
   "version": "2.7.11"
  }
 },
 "nbformat": 4,
 "nbformat_minor": 0
}
