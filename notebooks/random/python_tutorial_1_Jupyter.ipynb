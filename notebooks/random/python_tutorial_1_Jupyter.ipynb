{
 "cells": [
  {
   "cell_type": "markdown",
   "metadata": {},
   "source": [
    "# Basic Python Code 1"
   ]
  },
  {
   "cell_type": "markdown",
   "metadata": {},
   "source": [
    "#### Here you will find basic Python code I've compiled from books, online tutorials, blogs, and random websites.  These are for my use only.   \n",
    "\n",
    "Sources I found helpful:\n",
    "\n",
    "https://docs.python.org/2/  For Python version 2.7.11\n",
    "\n",
    "Blogs:\n",
    "\n",
    "http://www.dotnetperls.com/set-python \n",
    "\n",
    "https://mkaz.tech/python-argparse-cookbook.html\n",
    "\n",
    "http://www.cyberciti.biz/faq/howto-get-current-date-time-in-python/  # current date and time\n"
   ]
  },
  {
   "cell_type": "code",
   "execution_count": 424,
   "metadata": {
    "collapsed": true
   },
   "outputs": [],
   "source": [
    "import time"
   ]
  },
  {
   "cell_type": "code",
   "execution_count": 425,
   "metadata": {
    "collapsed": false
   },
   "outputs": [
    {
     "name": "stdout",
     "output_type": "stream",
     "text": [
      "Current date & time: Fri Apr 15 20:39:49 2016\n",
      "Current date 04/15/16\n",
      "Current time 20:39:49\n",
      "Current time Fri Apr 15 20:39:49 2016\n"
     ]
    }
   ],
   "source": [
    "now = time.strftime(\"%c\")\n",
    "## date and time representation\n",
    "print \"Current date & time: \" + time.strftime(\"%c\")\n",
    " \n",
    "## Only date representation\n",
    "print \"Current date \"  + time.strftime(\"%x\")\n",
    " \n",
    "## Only time representation\n",
    "print \"Current time \" + time.strftime(\"%X\")\n",
    " \n",
    "## Display current date and time from now variable \n",
    "print (\"Current time %s\"  % now )"
   ]
  },
  {
   "cell_type": "code",
   "execution_count": 426,
   "metadata": {
    "collapsed": false
   },
   "outputs": [
    {
     "name": "stdout",
     "output_type": "stream",
     "text": [
      "15/04/2016\n",
      "08:39:49\n"
     ]
    }
   ],
   "source": [
    "## dd/mm/yyyy format\n",
    "print (time.strftime(\"%d/%m/%Y\"))\n",
    "#time.strftime(\"%H:%M:%S\")\n",
    "## 12 hour format ##\n",
    "print (time.strftime(\"%I:%M:%S\"))"
   ]
  },
  {
   "cell_type": "code",
   "execution_count": 427,
   "metadata": {
    "collapsed": false
   },
   "outputs": [],
   "source": [
    "import numpy as np\n",
    "import sys\n",
    "# sys.argv"
   ]
  },
  {
   "cell_type": "code",
   "execution_count": 428,
   "metadata": {
    "collapsed": false
   },
   "outputs": [],
   "source": [
    "# dir(np)  # shows the possible np.<tab>"
   ]
  },
  {
   "cell_type": "markdown",
   "metadata": {},
   "source": [
    "# $$  \\color{blue} {\\text{Built-in Functions} }$$"
   ]
  },
  {
   "cell_type": "raw",
   "metadata": {},
   "source": [
    "abs()\tdivmod()\tinput()\topen()\tstaticmethod()\n",
    "all()\tenumerate()\tint()\tord()\tstr()\n",
    "any()\teval()\tisinstance()\tpow()\tsum()\n",
    "basestring()\texecfile()\tissubclass()\tprint()\tsuper()\n",
    "bin()\tfile()\titer()\tproperty()\ttuple()\n",
    "bool()\tfilter()\tlen()\trange()\ttype()\n",
    "bytearray()\tfloat()\tlist()\traw_input()\tunichr()\n",
    "callable()\tformat()\tlocals()\treduce()\tunicode()\n",
    "chr()\tfrozenset()\tlong()\treload()\tvars()\n",
    "classmethod()\tgetattr()\tmap()\trepr()\txrange()\n",
    "cmp()\tglobals()\tmax()\treversed()\tzip()\n",
    "compile()\thasattr()\tmemoryview()\tround()\t__import__()\n",
    "complex()\thash()\tmin()\tset()\t\n",
    "delattr()\thelp()\tnext()\tsetattr()\t\n",
    "dict()\thex()\tobject()\tslice()\t\n",
    "dir()\tid()\toct()\tsorted()\t"
   ]
  },
  {
   "cell_type": "code",
   "execution_count": 429,
   "metadata": {
    "collapsed": false
   },
   "outputs": [
    {
     "data": {
      "text/plain": [
       "3"
      ]
     },
     "execution_count": 429,
     "metadata": {},
     "output_type": "execute_result"
    }
   ],
   "source": [
    "''' abs() '''\n",
    "abs(-3) # 3"
   ]
  },
  {
   "cell_type": "code",
   "execution_count": 430,
   "metadata": {
    "collapsed": false
   },
   "outputs": [
    {
     "name": "stdout",
     "output_type": "stream",
     "text": [
      "False\n",
      "True\n"
     ]
    }
   ],
   "source": [
    "''' all() '''\n",
    "# Return True if all elements of the iterable are true (or if the iterable is empty). \n",
    "x = [0,1,1,2,0,-2]; print(all(x)) # False b/c any non-zero integer is considered to be true.  Zero is false.\n",
    "\n",
    "x = [4,1,1,2,-6,-2]; print(all(x)) # True b/c any non-zero integer is considered to be true.  Zero is false."
   ]
  },
  {
   "cell_type": "code",
   "execution_count": 431,
   "metadata": {
    "collapsed": false
   },
   "outputs": [
    {
     "name": "stdout",
     "output_type": "stream",
     "text": [
      "True\n",
      "False\n",
      "False\n"
     ]
    }
   ],
   "source": [
    "''' any() '''\n",
    "# Return True if any element of the iterable is true. If the iterable is empty, return False.\n",
    "x = [4,1,0,0]; print(any(x))  # True\n",
    "x = [0,0,0,0]; print(any(x)) # False\n",
    "x = []; print(any(x))  # False"
   ]
  },
  {
   "cell_type": "code",
   "execution_count": 432,
   "metadata": {
    "collapsed": false
   },
   "outputs": [
    {
     "data": {
      "text/plain": [
       "' basestring() '"
      ]
     },
     "execution_count": 432,
     "metadata": {},
     "output_type": "execute_result"
    }
   ],
   "source": [
    "''' basestring() '''"
   ]
  },
  {
   "cell_type": "code",
   "execution_count": 433,
   "metadata": {
    "collapsed": false
   },
   "outputs": [
    {
     "data": {
      "text/plain": [
       "'0b101'"
      ]
     },
     "execution_count": 433,
     "metadata": {},
     "output_type": "execute_result"
    }
   ],
   "source": [
    "''' bin() '''\n",
    "# binary\n",
    "bin(1) # '0b1'\n",
    "bin(2) # '0b10'\n",
    "bin(3) # '0b11'\n",
    "bin(4) # '0b100'\n",
    "bin(5) # '0b101'"
   ]
  },
  {
   "cell_type": "code",
   "execution_count": 434,
   "metadata": {
    "collapsed": false
   },
   "outputs": [
    {
     "data": {
      "text/plain": [
       "True"
      ]
     },
     "execution_count": 434,
     "metadata": {},
     "output_type": "execute_result"
    }
   ],
   "source": [
    "''' bool() '''\n",
    "x = 1; bool(x) # True\n",
    "x = -1; bool(x) # True\n",
    "x = 0; bool(x) # False\n",
    "x = [0]; bool(x) # True \n",
    "x = []; bool(x) # False\n",
    "x = ['kim']; bool(x) # True\n",
    "x = ['0']; bool(x) # True\n",
    "bool(0) # False\n",
    "bool(3) # True\n",
    "bool('kim') #True"
   ]
  },
  {
   "cell_type": "code",
   "execution_count": 435,
   "metadata": {
    "collapsed": false
   },
   "outputs": [
    {
     "data": {
      "text/plain": [
       "True"
      ]
     },
     "execution_count": 435,
     "metadata": {},
     "output_type": "execute_result"
    }
   ],
   "source": [
    "''' callable() '''\n",
    "# is it a callable function?\n",
    "callable(x) # False\n",
    "callable(int) # True\n",
    "callable(float) # True\n",
    "callable(bool) # True\n",
    "callable(bin) # True"
   ]
  },
  {
   "cell_type": "code",
   "execution_count": 436,
   "metadata": {
    "collapsed": true
   },
   "outputs": [],
   "source": [
    "''' classmethod(function) '''\n",
    "class C(object):\n",
    "    @classmethod\n",
    "\n",
    "    def any(iterable):\n",
    "        for element in iterable:\n",
    "            if element:\n",
    "                return True\n",
    "        return False"
   ]
  },
  {
   "cell_type": "code",
   "execution_count": 437,
   "metadata": {
    "collapsed": false
   },
   "outputs": [
    {
     "data": {
      "text/plain": [
       "' dir() '"
      ]
     },
     "execution_count": 437,
     "metadata": {},
     "output_type": "execute_result"
    }
   ],
   "source": [
    "''' dir() '''\n",
    "# These are commented out because they take up too much room on GitHub.\n",
    "# dir(np)\n",
    "# prints all the options for numpy.call (the call you want, when you hit the tab button)\n",
    "# dir(np.zeros)\n",
    "#   The default dir() mechanism behaves differently with different types of objects, as it attempts to produce the most relevant, rather than complete, information:\n",
    "#   If the object is a module object, the list contains the names of the module’s attributes.\n",
    "#   If the object is a type or class object, the list contains the names of its attributes, and recursively of the attributes of its bases.\n",
    "#   Otherwise, the list contains the object’s attributes’ names, the names of its class’s attributes, and recursively of the attributes of its class’s base classes.'''"
   ]
  },
  {
   "cell_type": "code",
   "execution_count": 438,
   "metadata": {
    "collapsed": false
   },
   "outputs": [
    {
     "data": {
      "text/plain": [
       "(0.0, 1.0)"
      ]
     },
     "execution_count": 438,
     "metadata": {},
     "output_type": "execute_result"
    }
   ],
   "source": [
    "''' divmod() '''\n",
    "# Take two (non complex) numbers as arguments and return a pair of numbers consisting of their quotient and remainder when using long division. \n",
    "divmod(1,2)\n",
    "divmod(1.,2.)"
   ]
  },
  {
   "cell_type": "code",
   "execution_count": 439,
   "metadata": {
    "collapsed": false
   },
   "outputs": [
    {
     "name": "stdout",
     "output_type": "stream",
     "text": [
      "['Spring', 'Summer', 'Fall', 'Winter']\n",
      "[(0, 'Spring'), (1, 'Summer'), (2, 'Fall'), (3, 'Winter')]\n",
      "[(1, 'Spring'), (2, 'Summer'), (3, 'Fall'), (4, 'Winter')]\n"
     ]
    }
   ],
   "source": [
    "''' enumerate(sequence, start=0) '''\n",
    "seasons = ['Spring', 'Summer', 'Fall', 'Winter']; print(seasons)\n",
    "x = list(enumerate(seasons)); print(x)\n",
    "x = list(enumerate(seasons, start=1)); print(x)"
   ]
  },
  {
   "cell_type": "code",
   "execution_count": 440,
   "metadata": {
    "collapsed": false
   },
   "outputs": [
    {
     "name": "stdout",
     "output_type": "stream",
     "text": [
      "6\n",
      "10\n",
      "10\n",
      "4\n",
      "['Spring', 'Summer', 'Fall', 'Winter', 'Spring', 'Summer', 'Fall', 'Winter']\n",
      "['Spring', 'Summer', 'Fall', 'Winter']\n"
     ]
    }
   ],
   "source": [
    "''' eval() '''\n",
    "# evaluates an expression in quotes\n",
    "x = 5\n",
    "y = eval('x+1'); print(y)\n",
    "y = eval('x*2'); print(y)\n",
    "y = eval(\"x*2\"); print(y)\n",
    "y = eval(\"2*2\"); print(y)\n",
    "y = eval(\"seasons*2\"); print(y)\n",
    "y = eval(\"seasons\"); print(y)"
   ]
  },
  {
   "cell_type": "code",
   "execution_count": 441,
   "metadata": {
    "collapsed": false
   },
   "outputs": [
    {
     "data": {
      "text/plain": [
       "' execfile(filename[, globals[, locals]]) '"
      ]
     },
     "execution_count": 441,
     "metadata": {},
     "output_type": "execute_result"
    }
   ],
   "source": [
    "''' execfile(filename[, globals[, locals]]) '''\n",
    "#   This function is similar to the exec statement, but parses a file instead of a string. It is different from the import statement in that it does not use the module administration — it reads the file unconditionally and does not create a new module. \n",
    "\n",
    "#   The arguments are a file name and two optional dictionaries. The file is parsed and evaluated as a sequence of Python statements (similarly to a module) using the globals and locals dictionaries as global and local namespace. If provided, locals can be any mapping object. Remember that at module level, globals and locals are the same dictionary. If two separate objects are passed as globals and locals, the code will be executed as if it were embedded in a class definition."
   ]
  },
  {
   "cell_type": "code",
   "execution_count": 442,
   "metadata": {
    "collapsed": false
   },
   "outputs": [
    {
     "data": {
      "text/plain": [
       "' file(name[, mode[, buffering]]) '"
      ]
     },
     "execution_count": 442,
     "metadata": {},
     "output_type": "execute_result"
    }
   ],
   "source": [
    "''' file(name[, mode[, buffering]]) '''\n",
    "#   Constructor function for the file type, described further in section File Objects. The constructor’s arguments are the same as those of the open() built-in function described below.\n",
    "#   When opening a file, it’s preferable to use open() instead of invoking this constructor directly. file is more suited to type testing (for example, writing isinstance(f, file))."
   ]
  },
  {
   "cell_type": "code",
   "execution_count": 443,
   "metadata": {
    "collapsed": false
   },
   "outputs": [
    {
     "name": "stdout",
     "output_type": "stream",
     "text": [
      "[1, 3, 4]\n",
      "[9, 10, 11, 12, 13, 14, 15, 16, 17, 18, 19, 20, 21, 22, 23, 24, 25, 26, 27, 28, 29, 30, 31, 32, 33, 34, 35, 36, 37, 38, 39, 40, 41, 42, 43, 44, 45, 46, 47, 48, 49, 50, 51, 52, 53, 54, 55, 56, 57, 58, 59, 60, 61, 62, 63, 64, 65, 66, 67, 68, 69, 70, 71, 72, 73, 74, 75, 76, 77, 78, 79, 80, 81, 82, 83, 84, 85, 86, 87, 88, 89, 90, 91, 92, 93, 94, 95, 96, 97, 98, 99, 100, 101, 102, 103, 104, 105, 106, 107, 108, 109, 110, 111, 112, 113, 114, 115, 116, 117, 118, 119, 120, 121, 122, 123, 124]\n"
     ]
    }
   ],
   "source": [
    "''' filter(function, iterable) '''\n",
    "numbers = [1, 6, 3, 8, 4, 9]\n",
    "def lessThanFive(element):\n",
    "    return element < 5\n",
    " \n",
    "x = filter(lessThanFive, numbers); print(x)\n",
    "\n",
    "\n",
    "channels = np.arange(1,128+1,1)\n",
    "def GoodChannels(element):\n",
    "    return ( (element > 8) & (element < 125) )\n",
    " \n",
    "x = filter(GoodChannels, channels); print(x)\n",
    "\n",
    "#####  See the section on sets for better way of making channel cuts."
   ]
  },
  {
   "cell_type": "code",
   "execution_count": 444,
   "metadata": {
    "collapsed": false
   },
   "outputs": [
    {
     "data": {
      "text/plain": [
       "('Alice', 'Jenna', 'Anna')"
      ]
     },
     "execution_count": 444,
     "metadata": {},
     "output_type": "execute_result"
    }
   ],
   "source": [
    "names = ('Alice', 'Jenna', 'Anna', '')\n",
    "filter(None, names)  # need to assign it to a variable or else it's not removed."
   ]
  },
  {
   "cell_type": "code",
   "execution_count": 445,
   "metadata": {
    "collapsed": false
   },
   "outputs": [
    {
     "name": "stdout",
     "output_type": "stream",
     "text": [
      "('Alice', 'Anna')\n"
     ]
    }
   ],
   "source": [
    "def startsWithA(element):\n",
    "     if len(element) > 0:\n",
    "             return element[0] == 'A'\n",
    "     return False\n",
    "     \n",
    "x = filter(startsWithA, names); print(x)"
   ]
  },
  {
   "cell_type": "code",
   "execution_count": 446,
   "metadata": {
    "collapsed": false
   },
   "outputs": [],
   "source": [
    "# the following doesn't work and needs to be worked on more.\n",
    "customers = [('Jack', 'jack@example.com', True), ('Jill', 'jill@example.com', False), ('Kim', 'kzm@example.com', True), ('Derek', 'djm@example.com', False)]"
   ]
  },
  {
   "cell_type": "markdown",
   "metadata": {},
   "source": [
    "### ''' format(value[, format_spec]) ''',  see Section Below on Formatting"
   ]
  },
  {
   "cell_type": "code",
   "execution_count": 447,
   "metadata": {
    "collapsed": false
   },
   "outputs": [
    {
     "ename": "AttributeError",
     "evalue": "'tuple' object has no attribute 'Alice'",
     "output_type": "error",
     "traceback": [
      "\u001b[0;31m---------------------------------------------------------------------------\u001b[0m",
      "\u001b[0;31mAttributeError\u001b[0m                            Traceback (most recent call last)",
      "\u001b[0;32m<ipython-input-447-67045dde4f04>\u001b[0m in \u001b[0;36m<module>\u001b[0;34m()\u001b[0m\n\u001b[1;32m      2\u001b[0m \u001b[0;31m#  getattr(x, 'foobar') is equivalent to x.foobar\u001b[0m\u001b[0;34m\u001b[0m\u001b[0;34m\u001b[0m\u001b[0m\n\u001b[1;32m      3\u001b[0m \u001b[0;31m# np.arange or getattr(np, arange)\u001b[0m\u001b[0;34m\u001b[0m\u001b[0;34m\u001b[0m\u001b[0m\n\u001b[0;32m----> 4\u001b[0;31m \u001b[0mgetattr\u001b[0m\u001b[0;34m(\u001b[0m\u001b[0mnames\u001b[0m\u001b[0;34m,\u001b[0m \u001b[0;34m'Alice'\u001b[0m\u001b[0;34m)\u001b[0m\u001b[0;34m\u001b[0m\u001b[0m\n\u001b[0m",
      "\u001b[0;31mAttributeError\u001b[0m: 'tuple' object has no attribute 'Alice'"
     ]
    }
   ],
   "source": [
    "''' getattr(object, name[, default]) '''\n",
    "#  getattr(x, 'foobar') is equivalent to x.foobar\n",
    "# np.arange or getattr(np, arange)\n",
    "getattr(names, 'Alice')"
   ]
  },
  {
   "cell_type": "code",
   "execution_count": 448,
   "metadata": {
    "collapsed": false
   },
   "outputs": [
    {
     "name": "stdout",
     "output_type": "stream",
     "text": [
      "Please enter your initials: kz\n",
      "Please enter your favorite number: 24\n"
     ]
    }
   ],
   "source": [
    "'''###################### raw_input() ####################### '''\n",
    "initials = raw_input(\"Please enter your initials: \")  # enter kz and it becomes the string 'kz'\n",
    "\n",
    "favnum = int(raw_input(\"Please enter your favorite number: \")) "
   ]
  },
  {
   "cell_type": "code",
   "execution_count": 449,
   "metadata": {
    "collapsed": false
   },
   "outputs": [
    {
     "name": "stdout",
     "output_type": "stream",
     "text": [
      "0 Mary\n",
      "1 had\n",
      "2 a\n",
      "3 little\n",
      "4 lamb\n"
     ]
    }
   ],
   "source": [
    "'''###################### range() function ####################### '''\n",
    "\n",
    "range(10) # makes a list from 0 to 9.\n",
    "\n",
    "range(10+1) # makes a list from 0 to 10.\n",
    "range(10,15) # makes a list from 10 to 14.\n",
    "range(10,15+1) # makes a list from 10 to 15.\n",
    "\n",
    "range(0, 10, 3)  # start, stop, step.  Stop is still stop 1 before.\n",
    "# prints [0, 3, 6, 9]\n",
    "\n",
    "range(-10, -100, -10)\n",
    "\n",
    "\n",
    "a = ['Mary', 'had', 'a', 'little', 'lamb']\n",
    "for i in range(len(a)):\n",
    "    print i, a[i]\n",
    "\n",
    "  "
   ]
  },
  {
   "cell_type": "code",
   "execution_count": 450,
   "metadata": {
    "collapsed": false
   },
   "outputs": [
    {
     "name": "stdout",
     "output_type": "stream",
     "text": [
      "['Spring', 'Summer', 'Fall', 'Winter']\n"
     ]
    }
   ],
   "source": [
    "'''###################### enumerate() function ###################### '''\n",
    "#In most such cases, however, it is convenient to use the enumerate() function, see Looping Techniques.  \n",
    "\n",
    "seasons = ['Spring', 'Summer', 'Fall', 'Winter']\n",
    "list(seasons)\n",
    "print(seasons)\n",
    "list(enumerate(seasons))\n",
    "#enumerate(iterable[,start])\n",
    "list(enumerate(seasons[2:]))\n",
    "list(enumerate(seasons[:2]))\n",
    "list(enumerate(seasons))\n",
    "\n",
    "seasons = ['Spring', 'Summer', 'Fall', 'Winter']\n",
    "list(enumerate(seasons, start=1))  # staart = 1 starts the list at 1 instead of 0.  Python's built in is to start at place 0.\n",
    "# Equivalent to:\n",
    "def enumerate(sequence, start=0):\n",
    "    n = start\n",
    "    for elem in sequence:\n",
    "        yield n, elem\n",
    "        n += 1\n",
    "        "
   ]
  },
  {
   "cell_type": "code",
   "execution_count": 451,
   "metadata": {
    "collapsed": false
   },
   "outputs": [
    {
     "data": {
      "text/plain": [
       "25"
      ]
     },
     "execution_count": 451,
     "metadata": {},
     "output_type": "execute_result"
    }
   ],
   "source": [
    "        \n",
    "'''################### eval() function  #################### '''\n",
    "x = 5\n",
    "eval('x+1') # 6\n",
    "eval('x**2') # 25"
   ]
  },
  {
   "cell_type": "code",
   "execution_count": 452,
   "metadata": {
    "collapsed": false
   },
   "outputs": [
    {
     "data": {
      "text/plain": [
       "-1"
      ]
     },
     "execution_count": 452,
     "metadata": {},
     "output_type": "execute_result"
    }
   ],
   "source": [
    "'''################### cmp() function (compare) #################### '''\n",
    "x = 1\n",
    "y = 2\n",
    "# Compare the two objects x and y and return an integer according to the outcome. The return value is negative if x < y, zero if x == y and strictly positive if x > y.\n",
    "cmp(x,y)"
   ]
  },
  {
   "cell_type": "markdown",
   "metadata": {},
   "source": [
    "## None\n",
    "The built-in $\\bf{None}$ denotes a null object.  $\\bf{None}$ had no methods or other attributes.  You can use $\\bf{None}$ as a placeholder when you need to reference but you don't care what object you refer to, or when you need to indicate that no object is there.  Functions return $\\bf{None}$ as their result unless they have specific $\\bf{return}$ statements coded to return other values."
   ]
  },
  {
   "cell_type": "markdown",
   "metadata": {
    "collapsed": true
   },
   "source": [
    " "
   ]
  },
  {
   "cell_type": "markdown",
   "metadata": {},
   "source": [
    " "
   ]
  },
  {
   "cell_type": "markdown",
   "metadata": {
    "collapsed": true
   },
   "source": [
    "# $$  \\color{blue} {\\text{Data Types} }$$"
   ]
  },
  {
   "cell_type": "markdown",
   "metadata": {},
   "source": [
    "''' ############### Options for tuples ############### '''\n",
    "\n",
    "numbers1 = (1, 2, 3, 4)\n",
    "\n",
    "$\\textbf{count, index}$\n",
    "\n",
    "\n",
    "\n",
    "''' ############### Options for lists ############### '''\n",
    "\n",
    "numbers1 = [1, 2, 3, 4] \n",
    "\n",
    "$\\textbf{append, count, extend, index, insert, pop, remove, reverse, sort}$\n",
    "\n",
    "\n",
    "''' ############### Options for sets ############### '''\n",
    "\n",
    "numbers1 = {1, 2, 3, 4} \n",
    "\n",
    "$\\bf{add,\\ clear,\\ copy,\\ difference,\\ difference\\_update,\\ discard,\\ intersection,}$ $\\bf{intersection\\_update,\\ isdisjoint,\\ issubset,\\ issuperset,\\ pop,\\ remove,}$\n",
    "$\\bf{symmetric\\_difference,\\ symmetric\\_difference\\_update,\\ union,\\ update}$"
   ]
  },
  {
   "cell_type": "markdown",
   "metadata": {},
   "source": [
    " "
   ]
  },
  {
   "cell_type": "markdown",
   "metadata": {},
   "source": [
    " "
   ]
  },
  {
   "cell_type": "markdown",
   "metadata": {
    "collapsed": true
   },
   "source": [
    "## Tuples "
   ]
  },
  {
   "cell_type": "code",
   "execution_count": 453,
   "metadata": {
    "collapsed": false
   },
   "outputs": [
    {
     "data": {
      "text/plain": [
       "tuple"
      ]
     },
     "execution_count": 453,
     "metadata": {},
     "output_type": "execute_result"
    }
   ],
   "source": [
    "x = (100,200,300); type(x) # Tuple with 3 items"
   ]
  },
  {
   "cell_type": "code",
   "execution_count": 454,
   "metadata": {
    "collapsed": false
   },
   "outputs": [
    {
     "data": {
      "text/plain": [
       "tuple"
      ]
     },
     "execution_count": 454,
     "metadata": {},
     "output_type": "execute_result"
    }
   ],
   "source": [
    "x = (3.14,); type(x)"
   ]
  },
  {
   "cell_type": "code",
   "execution_count": 455,
   "metadata": {
    "collapsed": false
   },
   "outputs": [
    {
     "data": {
      "text/plain": [
       "tuple"
      ]
     },
     "execution_count": 455,
     "metadata": {},
     "output_type": "execute_result"
    }
   ],
   "source": [
    "x = (); type(x)  # empty tuple"
   ]
  },
  {
   "cell_type": "code",
   "execution_count": 456,
   "metadata": {
    "collapsed": false
   },
   "outputs": [
    {
     "name": "stdout",
     "output_type": "stream",
     "text": [
      "('w', 'o', 'w')\n"
     ]
    }
   ],
   "source": [
    "print(tuple('wow'))"
   ]
  },
  {
   "cell_type": "code",
   "execution_count": 457,
   "metadata": {
    "collapsed": false
   },
   "outputs": [
    {
     "name": "stdout",
     "output_type": "stream",
     "text": [
      "(1, 2, 3, 4)\n",
      "<type 'tuple'>\n"
     ]
    }
   ],
   "source": [
    "y = (1,2,3,4)\n",
    "a,b,c,d = y\n",
    "print(a,b,c,d)\n",
    "print(type(y))"
   ]
  },
  {
   "cell_type": "markdown",
   "metadata": {},
   "source": [
    " "
   ]
  },
  {
   "cell_type": "markdown",
   "metadata": {},
   "source": [
    " "
   ]
  },
  {
   "cell_type": "markdown",
   "metadata": {},
   "source": [
    "## Lists"
   ]
  },
  {
   "cell_type": "code",
   "execution_count": 458,
   "metadata": {
    "collapsed": false
   },
   "outputs": [
    {
     "data": {
      "text/plain": [
       "list"
      ]
     },
     "execution_count": 458,
     "metadata": {},
     "output_type": "execute_result"
    }
   ],
   "source": [
    "x = [12, 12.345, 'wow']; type(x)  # list items can be int, float, and strings"
   ]
  },
  {
   "cell_type": "code",
   "execution_count": 459,
   "metadata": {
    "collapsed": false
   },
   "outputs": [
    {
     "data": {
      "text/plain": [
       "list"
      ]
     },
     "execution_count": 459,
     "metadata": {},
     "output_type": "execute_result"
    }
   ],
   "source": [
    "x = [100]; type(x) "
   ]
  },
  {
   "cell_type": "code",
   "execution_count": 460,
   "metadata": {
    "collapsed": false
   },
   "outputs": [
    {
     "data": {
      "text/plain": [
       "list"
      ]
     },
     "execution_count": 460,
     "metadata": {},
     "output_type": "execute_result"
    }
   ],
   "source": [
    "x = []; type(x)  # must make an empty list to append items to in a for loop."
   ]
  },
  {
   "cell_type": "code",
   "execution_count": 461,
   "metadata": {
    "collapsed": false
   },
   "outputs": [
    {
     "name": "stdout",
     "output_type": "stream",
     "text": [
      "['w', 'o', 'w']\n"
     ]
    }
   ],
   "source": [
    "x = list('wow'); print(x)"
   ]
  },
  {
   "cell_type": "code",
   "execution_count": 462,
   "metadata": {
    "collapsed": false
   },
   "outputs": [
    {
     "name": "stdout",
     "output_type": "stream",
     "text": [
      "[1, 2, 3, 4, 5, 6, 7, 8]\n"
     ]
    }
   ],
   "source": [
    "kz = list()  # or kz = []   works the same and is simpler.\n",
    "for i in range(1,9):\n",
    "    kz.append(i)\n",
    "print(kz)"
   ]
  },
  {
   "cell_type": "code",
   "execution_count": 463,
   "metadata": {
    "collapsed": false
   },
   "outputs": [
    {
     "name": "stdout",
     "output_type": "stream",
     "text": [
      "Commands available for lists are:\n",
      " append \n",
      " count \n",
      " extend \n",
      " index \n",
      " insert \n",
      " pop \n",
      " remove \n",
      " reverse \n",
      " sort\n"
     ]
    }
   ],
   "source": [
    "# Check for list options using dir(list()). These are available by hitting the tab button after\n",
    "# defining your list.  kz.<tab>\n",
    "print('Commands available for lists are:')\n",
    "print(' append \\n count \\n extend \\n index \\n insert \\n pop \\n remove \\n reverse \\n sort')\n"
   ]
  },
  {
   "cell_type": "code",
   "execution_count": 464,
   "metadata": {
    "collapsed": false
   },
   "outputs": [
    {
     "data": {
      "text/plain": [
       "True"
      ]
     },
     "execution_count": 464,
     "metadata": {},
     "output_type": "execute_result"
    }
   ],
   "source": [
    "# a list of strings\n",
    "\n",
    "seasons = ['Spring', 'Summer', 'Fall', 'Winter']\n",
    "type(seasons) # list\n",
    "type(seasons[1])  # str\n",
    "isinstance(seasons, str)  # False\n",
    "isinstance(seasons[0], str)  # True"
   ]
  },
  {
   "cell_type": "code",
   "execution_count": 465,
   "metadata": {
    "collapsed": false
   },
   "outputs": [
    {
     "name": "stdout",
     "output_type": "stream",
     "text": [
      "[1, 42, 3, 4]\n"
     ]
    }
   ],
   "source": [
    "#############\n",
    "# replaces the 1st index holder with the # 42. and deletes what was there before.\n",
    "x = [1,2,3,4]\n",
    "x[1] = 42  # now x = [1, 42, 3, 4]\n",
    "print(x)"
   ]
  },
  {
   "cell_type": "code",
   "execution_count": 466,
   "metadata": {
    "collapsed": false
   },
   "outputs": [
    {
     "name": "stdout",
     "output_type": "stream",
     "text": [
      "[1, 2, 3, 4]\n",
      "[1, 3, 4]\n"
     ]
    }
   ],
   "source": [
    "# places numbers into an empty array.\n",
    "m = []\n",
    "m[0:3] = [1,2,3,4]; print(m)\n",
    "\n",
    "# and then deletes the 1 index number\n",
    "del m[1]; print(m) # deletes the 2"
   ]
  },
  {
   "cell_type": "code",
   "execution_count": 467,
   "metadata": {
    "collapsed": false
   },
   "outputs": [
    {
     "name": "stdout",
     "output_type": "stream",
     "text": [
      "[1, 2, 3, 3, 5, 3, 7, 3, 9]\n",
      "4\n",
      "2\n"
     ]
    }
   ],
   "source": [
    "a = [1,2,3,3,5,3,7,3,9]; print(a)\n",
    "x = a.count(3); print(x)\n",
    "x = a.index(3); print(x)\n",
    "# x = list(enumerate(a[a.index(3)])); print(x)"
   ]
  },
  {
   "cell_type": "markdown",
   "metadata": {},
   "source": [
    " "
   ]
  },
  {
   "cell_type": "markdown",
   "metadata": {},
   "source": [
    " "
   ]
  },
  {
   "cell_type": "markdown",
   "metadata": {},
   "source": [
    "## Sets"
   ]
  },
  {
   "cell_type": "raw",
   "metadata": {},
   "source": [
    "# this is old, from Python 2.4.  Set is now a built-in function to be called, set().\n",
    "try:\n",
    "    set\n",
    "except NameError:\n",
    "    from sets import Set as set, ImmutableSet as frozenset"
   ]
  },
  {
   "cell_type": "code",
   "execution_count": 468,
   "metadata": {
    "collapsed": false
   },
   "outputs": [
    {
     "name": "stdout",
     "output_type": "stream",
     "text": [
      "<type 'set'>\n",
      "set([1, 2, 3, 4, 5, 6, 7, 8, 9, 10])\n"
     ]
    }
   ],
   "source": [
    "x = set({1,2,3,4,5,6,7,8,9,10}); print(type(x)); print(x)"
   ]
  },
  {
   "cell_type": "code",
   "execution_count": 469,
   "metadata": {
    "collapsed": false
   },
   "outputs": [
    {
     "data": {
      "text/plain": [
       "{1, 2, 3, 4, 5, 6, 7, 8, 9, 10}"
      ]
     },
     "execution_count": 469,
     "metadata": {},
     "output_type": "execute_result"
    }
   ],
   "source": [
    "x"
   ]
  },
  {
   "cell_type": "code",
   "execution_count": 470,
   "metadata": {
    "collapsed": false
   },
   "outputs": [
    {
     "data": {
      "text/plain": [
       "set"
      ]
     },
     "execution_count": 470,
     "metadata": {},
     "output_type": "execute_result"
    }
   ],
   "source": [
    "# another way to define the set:\n",
    "y = {3, 4, 5}; type(y)"
   ]
  },
  {
   "cell_type": "code",
   "execution_count": 471,
   "metadata": {
    "collapsed": false
   },
   "outputs": [
    {
     "data": {
      "text/plain": [
       "{3, 4, 5}"
      ]
     },
     "execution_count": 471,
     "metadata": {},
     "output_type": "execute_result"
    }
   ],
   "source": [
    "y"
   ]
  },
  {
   "cell_type": "code",
   "execution_count": 472,
   "metadata": {
    "collapsed": false
   },
   "outputs": [
    {
     "name": "stdout",
     "output_type": "stream",
     "text": [
      "set([1, 2, 6, 7, 8, 9, 10])\n"
     ]
    }
   ],
   "source": [
    "z = x-y ; print(z)  # subtract sets to remove the overlapping variables"
   ]
  },
  {
   "cell_type": "code",
   "execution_count": 473,
   "metadata": {
    "collapsed": false
   },
   "outputs": [
    {
     "data": {
      "text/plain": [
       "{1, 2, 6, 7, 8, 9, 10}"
      ]
     },
     "execution_count": 473,
     "metadata": {},
     "output_type": "execute_result"
    }
   ],
   "source": [
    "z"
   ]
  },
  {
   "cell_type": "code",
   "execution_count": 474,
   "metadata": {
    "collapsed": false
   },
   "outputs": [
    {
     "name": "stdout",
     "output_type": "stream",
     "text": [
      "set([1, 2, 6, 7, 8, 9, 10])\n"
     ]
    }
   ],
   "source": [
    "z = set() # clearing the set to make sure it doesn't print the already defined z.\n",
    "z = x.difference(y); print(z)  # this works the same."
   ]
  },
  {
   "cell_type": "markdown",
   "metadata": {},
   "source": [
    " "
   ]
  },
  {
   "cell_type": "markdown",
   "metadata": {},
   "source": [
    " "
   ]
  },
  {
   "cell_type": "markdown",
   "metadata": {},
   "source": [
    "## Dictionaries"
   ]
  },
  {
   "cell_type": "markdown",
   "metadata": {},
   "source": [
    "Dictionaries are used for mapping. They map a collection of $\\it{objects}$ that are indexed by values called $\\it{keys}$."
   ]
  },
  {
   "cell_type": "code",
   "execution_count": 475,
   "metadata": {
    "collapsed": false
   },
   "outputs": [],
   "source": [
    "dict_grades = {'Kim':'A', 'Derek':'B', 'Sirius':'A'} # Dictionary with three items and string keys"
   ]
  },
  {
   "cell_type": "code",
   "execution_count": 476,
   "metadata": {
    "collapsed": false
   },
   "outputs": [],
   "source": [
    "dict_grades2 = {'Kim':95.8, 'Derek':89.1, 'Sirius':99.2} # Dictionary with three items and string keys"
   ]
  },
  {
   "cell_type": "code",
   "execution_count": 477,
   "metadata": {
    "collapsed": false
   },
   "outputs": [
    {
     "data": {
      "text/plain": [
       "dict"
      ]
     },
     "execution_count": 477,
     "metadata": {},
     "output_type": "execute_result"
    }
   ],
   "source": [
    "type(dict_grades)"
   ]
  },
  {
   "cell_type": "code",
   "execution_count": 478,
   "metadata": {
    "collapsed": false
   },
   "outputs": [],
   "source": [
    "# example\n",
    "keys_grades = set(dict_grades)"
   ]
  },
  {
   "cell_type": "code",
   "execution_count": 479,
   "metadata": {
    "collapsed": false
   },
   "outputs": [
    {
     "name": "stdout",
     "output_type": "stream",
     "text": [
      "<type 'dict'>\n",
      "<type 'set'>\n"
     ]
    }
   ],
   "source": [
    "print(type(dict_grades)) # dict    or  dictionary\n",
    "print(type(keys_grades))  # set\n"
   ]
  },
  {
   "cell_type": "code",
   "execution_count": 480,
   "metadata": {
    "collapsed": false
   },
   "outputs": [
    {
     "name": "stdout",
     "output_type": "stream",
     "text": [
      " clear \n",
      " copy \n",
      " fromkeys \n",
      " get \n",
      " has_key \n",
      " items \n",
      " iteritems \n",
      " iterkeys \n",
      " itervalues \n",
      " keys \n",
      " pop \n",
      " popitem \n",
      " setdefault \n",
      " update \n",
      " values \n",
      " viewitems \n",
      " viewkeys \n",
      " viewvalues\n"
     ]
    }
   ],
   "source": [
    "# dir(dict_grades)\n",
    "# Check for list options using dir(list()). These are available by hitting the tab button after\n",
    "# defining your list.  kz.<tab>\n",
    "\n",
    "print(' clear \\n copy \\n fromkeys \\n get \\n has_key \\n items \\n iteritems \\n iterkeys \\n itervalues \\n keys \\n pop \\n popitem \\n setdefault \\n update \\n values \\n viewitems \\n viewkeys \\n viewvalues'\n",
    ")"
   ]
  },
  {
   "cell_type": "code",
   "execution_count": 481,
   "metadata": {
    "collapsed": false
   },
   "outputs": [
    {
     "name": "stdout",
     "output_type": "stream",
     "text": [
      "Commands available for sets, and therefore dictionary keys are:\n",
      " add \n",
      " clear \n",
      " copy \n",
      " difference \n",
      " difference_update \n",
      " discard \n",
      " intersection \n",
      " intersection_update \n",
      " isdisjoint \n",
      " issubset \n",
      " issuperset \n",
      " pop \n",
      " remove \n",
      " symmetric_difference \n",
      " symmetric_difference_update \n",
      " union \n",
      " update\n"
     ]
    }
   ],
   "source": [
    "#  dir(keys_grades)  or   dir(set())\n",
    "# keys have the same options at sets.\n",
    "print('Commands available for sets, and therefore dictionary keys are:')\n",
    "print(' add \\n clear \\n copy \\n difference \\n difference_update \\n discard \\n intersection \\n intersection_update \\n isdisjoint \\n issubset \\n issuperset \\n pop \\n remove \\n symmetric_difference \\n symmetric_difference_update \\n union \\n update')"
   ]
  },
  {
   "cell_type": "code",
   "execution_count": 482,
   "metadata": {
    "collapsed": false
   },
   "outputs": [
    {
     "name": "stdout",
     "output_type": "stream",
     "text": [
      "{'Auriga': 2, 'Sirius': 1, 'Carina': 3}\n",
      "set(['Auriga', 'Sirius', 'Carina'])\n",
      "2\n",
      "3\n"
     ]
    }
   ],
   "source": [
    "# Dictionaries map a collection of objects (star names)\n",
    "dictionary = {\"Sirius\": 1, \"Auriga\": 2, \"Carina\": 3} # objects are: Sirius, Auriga, and Carina\n",
    "print(dictionary)\n",
    "\n",
    "# The keys \n",
    "keys = set(dictionary) ; print(keys)\n",
    "\n",
    "print(dictionary.get('Auriga')); print(dictionary.get('Carina')) # 3 then 2\n",
    "\n",
    "#dictionary.discard(\"Auriga\")  # can not remove from this one\n",
    "#print(dictionary)"
   ]
  },
  {
   "cell_type": "markdown",
   "metadata": {},
   "source": [
    " "
   ]
  },
  {
   "cell_type": "markdown",
   "metadata": {},
   "source": [
    " "
   ]
  },
  {
   "cell_type": "markdown",
   "metadata": {},
   "source": [
    "## Formatting"
   ]
  },
  {
   "cell_type": "code",
   "execution_count": 483,
   "metadata": {
    "collapsed": false
   },
   "outputs": [
    {
     "name": "stdout",
     "output_type": "stream",
     "text": [
      "3.14\n",
      "3.14159\n",
      "so much depends upon a red wheel barrow\n",
      "glazed with rain water beside the white chickens\n",
      " emacs is better than vim \n",
      " vim is better than emacs \n",
      " \n",
      " \n",
      " I took the cheese off the table \n",
      "Oh Romeo, Romeo! wherefore art thou Romeo?\n",
      " \n",
      " \n",
      "Your email address was bob@example.com\n",
      "Your email address was bob@example.com\n",
      "Jack, you have an 82.3 percent which means your grade is a(n) B\n",
      "Jill, you have an 92.8 percent which means your grade is a(n) A\n",
      "Kim, you have an 100 percent which means your grade is a(n) A\n"
     ]
    }
   ],
   "source": [
    "''' format(value[, format_spec]) '''\n",
    "\n",
    "print(\"{:.2f}\".format(3.1415926)) # 3.14\n",
    "print(\"{:.5f}\".format(3.1415926)) # 3.14159\n",
    "\n",
    "\n",
    "s1 = \"so much depends upon {}\".format(\"a red wheel barrow\")\n",
    "s2 = \"glazed with {} water beside the {} chickens\".format(\"rain\", \"white\")\n",
    "print(s1)\n",
    "print(s2)\n",
    "\n",
    "s1 = \" {0} is better than {1} \".format(\"emacs\", \"vim\")\n",
    "s2 = \" {1} is better than {0} \".format(\"emacs\", \"vim\")\n",
    "print(s1)\n",
    "print(s2)\n",
    "\n",
    "print ''' '''\n",
    "print ''' '''\n",
    "madlib = \" I {verb} the {object} off the {place} \".format(verb=\"took\", object=\"cheese\", place=\"table\")\n",
    "print(madlib)\n",
    "\n",
    "statement = \"Oh {0}, {0}! wherefore art thou {0}?\".format(\"Romeo\")\n",
    "print(statement)\n",
    "\n",
    "print ''' '''\n",
    "print ''' '''\n",
    "\n",
    "## defining formats\n",
    "email_f = \"Your email address was {email}\".format\n",
    "## use elsewhere\n",
    "print(email_f(email=\"bob@example.com\"))\n",
    "# same as\n",
    "s3 = \"Your email address was {email}\".format(email=\"bob@example.com\")\n",
    "print s3\n",
    "\n",
    "students = [('Jack', 82.3, 'B'), ('Jill', 92.8, 'A'), ('Kim', 100, 'A')]\n",
    "\n",
    "for i in range(0, len(students)):\n",
    "    print \"{Name}, you have an {percentage} percent which means your grade is a(n) {grade}\".format(Name=students[i][0], percentage=students[i][1], grade=students[i][2])"
   ]
  },
  {
   "cell_type": "markdown",
   "metadata": {
    "collapsed": true
   },
   "source": [
    " "
   ]
  },
  {
   "cell_type": "markdown",
   "metadata": {
    "collapsed": true
   },
   "source": [
    " "
   ]
  },
  {
   "cell_type": "markdown",
   "metadata": {
    "collapsed": true
   },
   "source": [
    "## Python program that creates set"
   ]
  },
  {
   "cell_type": "code",
   "execution_count": 484,
   "metadata": {
    "collapsed": false
   },
   "outputs": [
    {
     "name": "stdout",
     "output_type": "stream",
     "text": [
      "set(['spear', 'arrow', 'rock'])\n",
      "3\n",
      "Rock exists\n",
      "Clock not found\n"
     ]
    }
   ],
   "source": [
    "# Create a set.\n",
    "items = {\"arrow\", \"spear\", \"arrow\", \"arrow\", \"rock\"}\n",
    "\n",
    "# Print set.\n",
    "print(items)\n",
    "print(len(items))\n",
    "\n",
    "# Use in-keyword.\n",
    "if \"rock\" in items:\n",
    "    print(\"Rock exists\")\n",
    "\n",
    "# Use not-in keywords.\n",
    "if \"clock\" not in items:\n",
    "    print(\"Clock not found\")"
   ]
  },
  {
   "cell_type": "markdown",
   "metadata": {},
   "source": [
    " "
   ]
  },
  {
   "cell_type": "markdown",
   "metadata": {},
   "source": [
    " "
   ]
  },
  {
   "cell_type": "markdown",
   "metadata": {},
   "source": [
    "## Python program that adds, discards, removes "
   ]
  },
  {
   "cell_type": "code",
   "execution_count": 485,
   "metadata": {
    "collapsed": false
   },
   "outputs": [
    {
     "name": "stdout",
     "output_type": "stream",
     "text": [
      "set(['gerbil', 'dog', 'cat'])\n",
      "set(['gerbil', 'dog'])\n",
      "['cat', 'cat', 'dog']\n",
      "['cat', 'dog']\n"
     ]
    }
   ],
   "source": [
    "# An empty set.\n",
    "items = set()\n",
    "\n",
    "# Add three strings.\n",
    "items.add(\"cat\")\n",
    "items.add(\"dog\")\n",
    "items.add(\"gerbil\")\n",
    "print(items)\n",
    "\n",
    "items.remove(\"cat\") \n",
    "print(items)\n",
    "\n",
    "items = [\"cat\",\"cat\",\"dog\"]\n",
    "print(items)\n",
    "items.remove(\"cat\")\n",
    "print(items)"
   ]
  },
  {
   "cell_type": "markdown",
   "metadata": {},
   "source": [
    " "
   ]
  },
  {
   "cell_type": "markdown",
   "metadata": {},
   "source": [
    " "
   ]
  },
  {
   "cell_type": "markdown",
   "metadata": {},
   "source": [
    "## Python program that uses $\\underline{set}$ methods:  sub$\\underline{set}$ and super$\\underline{set}$ and intersection"
   ]
  },
  {
   "cell_type": "code",
   "execution_count": 486,
   "metadata": {
    "collapsed": false
   },
   "outputs": [
    {
     "name": "stdout",
     "output_type": "stream",
     "text": [
      "Is a subset\n",
      "Is a superset\n",
      "set([9, 15, 1])\n"
     ]
    }
   ],
   "source": [
    "numbers1 = {1, 4, 5, 9, 11, 15, 17, 22}\n",
    "numbers2 = {1, 9, 15}\n",
    "# Is subset.\n",
    "if numbers2.issubset(numbers1):\n",
    "    print(\"Is a subset\")\n",
    "\n",
    "# Is superset.\n",
    "if numbers1.issuperset(numbers2):\n",
    "    print(\"Is a superset\")\n",
    "\n",
    "# Intersection of the two sets.\n",
    "print(numbers1.intersection(numbers2))"
   ]
  },
  {
   "cell_type": "markdown",
   "metadata": {},
   "source": [
    " "
   ]
  },
  {
   "cell_type": "markdown",
   "metadata": {},
   "source": [
    " "
   ]
  },
  {
   "cell_type": "markdown",
   "metadata": {},
   "source": [
    "## Python program that subtracts sets"
   ]
  },
  {
   "cell_type": "code",
   "execution_count": 487,
   "metadata": {
    "collapsed": false,
    "scrolled": true
   },
   "outputs": [
    {
     "name": "stdout",
     "output_type": "stream",
     "text": [
      "set(['California', 'Arkansas'])\n",
      "set(['California', 'Arkansas'])\n",
      "set(['Pennsylvania', 'Michigan'])\n",
      "set(['Pennsylvania', 'Michigan'])\n"
     ]
    }
   ],
   "source": [
    "a = {\"Arkansas\", \"Connecticut\", \"California\", \"Colorado\"}\n",
    "b = {\"Connecticut\", \"Pennsylvania\", \"Colorado\", \"Michigan\"}\n",
    "\n",
    "# Subtract.\n",
    "c = a - b\n",
    "print(c)\n",
    "\n",
    "# Difference.\n",
    "c = a.difference(b)\n",
    "print(c)\n",
    "\n",
    "# Subtract in opposite order.\n",
    "c = b - a\n",
    "print(c)\n",
    "\n",
    "# Difference in opposite order.\n",
    "c = b.difference(a)\n",
    "print(c)"
   ]
  },
  {
   "cell_type": "code",
   "execution_count": 488,
   "metadata": {
    "collapsed": false
   },
   "outputs": [
    {
     "name": "stdout",
     "output_type": "stream",
     "text": [
      "set([1, 2, 3, 4, 5, 6, 7, 8, 9, 10, 11, 12, 13, 14, 15, 16, 17, 18, 19, 20, 21, 22, 23, 24, 25, 26, 27, 28, 29, 30, 31, 32, 33, 34, 35, 36, 37, 38, 39, 40, 41, 42, 43, 44, 45, 46, 47, 48, 49, 50, 51, 52, 53, 54, 55, 56, 57, 58, 59, 60, 61, 62, 63, 64, 65, 66, 67, 68, 69, 70, 71, 72, 73, 74, 75, 76, 77, 78, 79, 80, 81, 82, 83, 84, 85, 86, 87, 88, 89, 90, 91, 92, 93, 94, 95, 96, 97, 98, 99, 100, 101, 102, 103, 104, 105, 106, 107, 108, 109, 110, 111, 112, 113, 114, 115, 116, 117, 118, 119, 120, 121, 122, 123, 124, 125, 126, 127, 128])\n",
      "[1 2 3]\n",
      "[124 125 126 127 128]\n",
      "[30 31 32 33 34 35 36 37 38 39 40]\n",
      "set([4, 5, 6, 7, 8, 9, 10, 11, 12, 13, 14, 15, 16, 17, 18, 19, 20, 21, 22, 23, 24, 25, 26, 27, 28, 29, 41, 42, 43, 44, 45, 46, 47, 48, 49, 50, 51, 52, 53, 54, 55, 56, 57, 58, 59, 60, 61, 62, 63, 64, 65, 66, 67, 68, 69, 70, 71, 72, 73, 74, 75, 76, 77, 78, 79, 80, 81, 82, 83, 84, 85, 86, 87, 88, 89, 90, 91, 92, 93, 94, 95, 96, 97, 98, 99, 100, 101, 102, 103, 104, 105, 106, 107, 108, 109, 110, 111, 112, 113, 114, 115, 116, 117, 118, 119, 120, 121, 122, 123])\n",
      "set([4, 5, 6, 7, 8, 9, 10, 11, 12, 13, 14, 15, 16, 17, 18, 19, 20, 21, 22, 23, 24, 25, 26, 27, 28, 29, 41, 42, 43, 44, 45, 46, 47, 48, 49, 50, 51, 52, 53, 54, 55, 56, 57, 58, 59, 60, 61, 62, 63, 64, 65, 66, 67, 68, 69, 70, 71, 72, 73, 74, 75, 76, 77, 78, 79, 80, 81, 82, 83, 84, 85, 86, 87, 88, 89, 90, 91, 92, 93, 94, 95, 96, 97, 98, 99, 100, 101, 102, 103, 104, 105, 106, 107, 108, 109, 110, 111, 112, 113, 114, 115, 116, 117, 118, 119, 120, 121, 122, 123])\n",
      "\n",
      "[4, 5, 6, 7, 8, 9, 10, 11, 12, 13, 14, 15, 16, 17, 18, 19, 20, 21, 22, 23, 24, 25, 26, 27, 28, 29, 41, 42, 43, 44, 45, 46, 47, 48, 49, 50, 51, 52, 53, 54, 55, 56, 57, 58, 59, 60, 61, 62, 63, 64, 65, 66, 67, 68, 69, 70, 71, 72, 73, 74, 75, 76, 77, 78, 79, 80, 81, 82, 83, 84, 85, 86, 87, 88, 89, 90, 91, 92, 93, 94, 95, 96, 97, 98, 99, 100, 101, 102, 103, 104, 105, 106, 107, 108, 109, 110, 111, 112, 113, 114, 115, 116, 117, 118, 119, 120, 121, 122, 123]\n"
     ]
    }
   ],
   "source": [
    "# Now do this to make cuts for good NaI channels (Fermi GBM telescope)\n",
    "a = np.arange(1,129,1)\n",
    "a = set(a); print(a)\n",
    "\n",
    "# make a set of the bad channels to cut.\n",
    "b = np.arange(1,4,1); print(b)\n",
    "c = np.arange(124,129,1);print(c)\n",
    "d = np.arange(30,41,1); print(d)\n",
    "b = set(b)\n",
    "c = set(c)\n",
    "d = set(d)\n",
    "\n",
    "# subtract the values in sets b, c, and d from set a and store them in the set called goodchannels.\n",
    "goodchannels = a - b - c - d\n",
    "goodchannels = a.difference(b,c,d); print(goodchannels)   # is the same thing\n",
    "print(goodchannels)\n",
    "\n",
    "print \"\"\"\"\"\"\n",
    "\n",
    "# place the values in the set within an array.\n",
    "good_channels = []\n",
    "for i in goodchannels:\n",
    "    good_channels.append(i)\n",
    "    \n",
    "print(good_channels)"
   ]
  },
  {
   "cell_type": "markdown",
   "metadata": {},
   "source": [
    " "
   ]
  },
  {
   "cell_type": "markdown",
   "metadata": {},
   "source": [
    " "
   ]
  },
  {
   "cell_type": "markdown",
   "metadata": {},
   "source": [
    "## Discard and Remove from sets"
   ]
  },
  {
   "cell_type": "code",
   "execution_count": 489,
   "metadata": {
    "collapsed": false
   },
   "outputs": [
    {
     "name": "stdout",
     "output_type": "stream",
     "text": [
      "set(['Auriga', 'Carina', 'Deneb', 'Albireo', 'Polaris', 'Sirius'])\n",
      "set(['Auriga', 'Carina', 'Deneb', 'Albireo', 'Polaris', 'Sirius'])\n",
      "set(['Carina', 'Deneb', 'Albireo', 'Polaris', 'Sirius'])\n",
      "set(['Deneb', 'Albireo', 'Polaris', 'Sirius'])\n"
     ]
    }
   ],
   "source": [
    "stars = {\"Sirius\", \"Auriga\", \"Polaris\", \"Carina\", \"Deneb\", \"Albireo\"}\n",
    "print(stars)\n",
    "\n",
    "# Discard nonexistent element, nothing happens.\n",
    "stars.discard(\"Cancer\")\n",
    "print(stars)\n",
    "\n",
    "# Discard element that exists.\n",
    "stars.discard(\"Auriga\")\n",
    "print(stars)\n",
    "\n",
    "# Remove element that exists.\n",
    "stars.remove(\"Carina\")\n",
    "print(stars)\n",
    "\n",
    "# Remove causes an error if the element is not found.\n",
    "# stars.remove(\"Cancer\")\n"
   ]
  },
  {
   "cell_type": "markdown",
   "metadata": {},
   "source": [
    " "
   ]
  },
  {
   "cell_type": "markdown",
   "metadata": {},
   "source": [
    " "
   ]
  },
  {
   "cell_type": "markdown",
   "metadata": {},
   "source": [
    "## Dictionary and set keys"
   ]
  },
  {
   "cell_type": "code",
   "execution_count": 490,
   "metadata": {
    "collapsed": false
   },
   "outputs": [
    {
     "name": "stdout",
     "output_type": "stream",
     "text": [
      "{'Auriga': 2, 'Sirius': 1, 'Carina': 3}\n",
      "set(['Auriga', 'Sirius', 'Carina'])\n",
      "2\n",
      "3\n"
     ]
    }
   ],
   "source": [
    "# This dictionary contains key-value pairs.\n",
    "dictionary = {\"Sirius\": 1, \"Auriga\": 2, \"Carina\": 3}\n",
    "print(dictionary)\n",
    "\n",
    "# This set contains just the dictionary's keys.\n",
    "keys = set(dictionary)\n",
    "print(keys)\n",
    "\n",
    "print(dictionary.get('Auriga')); print(dictionary.get('Carina')) # 3 then 2\n",
    "\n",
    "# dictionary.discard(\"Auriga\")  # can not remove from this one\n",
    "#print(dictionary)\n"
   ]
  },
  {
   "cell_type": "markdown",
   "metadata": {},
   "source": [
    " "
   ]
  },
  {
   "cell_type": "markdown",
   "metadata": {},
   "source": [
    " "
   ]
  },
  {
   "cell_type": "markdown",
   "metadata": {},
   "source": [
    "## Dictionary and set keys 2"
   ]
  },
  {
   "cell_type": "code",
   "execution_count": 491,
   "metadata": {
    "collapsed": false
   },
   "outputs": [
    {
     "name": "stdout",
     "output_type": "stream",
     "text": [
      "{'Auriga': 2, 'Sirius': 1, 'Carina': 3}\n",
      "set(['Auriga', 'Sirius', 'Carina'])\n",
      "['Auriga', 'Sirius', 'Carina']\n",
      "  \n",
      "[('Auriga', 2), ('Sirius', 1), ('Carina', 3)]\n",
      "dict_values([2, 1, 3])\n"
     ]
    }
   ],
   "source": [
    "# This dictionary contains key-value pairs.\n",
    "dictionary = {\"Sirius\": 1, \"Auriga\": 2, \"Carina\": 3}\n",
    "print(dictionary)\n",
    "\n",
    "# This set contains just the dictionary's keys.\n",
    "keys = set(dictionary)\n",
    "print(keys)\n",
    "\n",
    "print(dictionary.keys())\n",
    "print '''  '''\n",
    "print(dictionary.items())\n",
    "print(dictionary.viewvalues())"
   ]
  },
  {
   "cell_type": "code",
   "execution_count": 492,
   "metadata": {
    "collapsed": false
   },
   "outputs": [
    {
     "name": "stdout",
     "output_type": "stream",
     "text": [
      "{}\n"
     ]
    }
   ],
   "source": [
    "# clear dictionary\n",
    "dictionary.clear(); print(dictionary)"
   ]
  },
  {
   "cell_type": "markdown",
   "metadata": {},
   "source": [
    "## CONTROL FORMATTING"
   ]
  },
  {
   "cell_type": "code",
   "execution_count": 493,
   "metadata": {
    "collapsed": false
   },
   "outputs": [
    {
     "name": "stdout",
     "output_type": "stream",
     "text": [
      "Kim is awesome\n",
      "Kim is awesome\n",
      "You must have chose 0 because 0 is False\n"
     ]
    }
   ],
   "source": [
    "'''###################### if statement ####################### '''\n",
    "if True:\n",
    "    print \"Kim is awesome\"\n",
    "    \n",
    "if 1:   # any non-zero integer is considered to be true.  Zero is false.\n",
    "    print \"Kim is awesome\"\n",
    "\n",
    "\n",
    "if 0:\n",
    "    print \"Kim is awesome\"\n",
    "else:\n",
    "    print \"You must have chose 0 because 0 is False\""
   ]
  },
  {
   "cell_type": "code",
   "execution_count": 494,
   "metadata": {
    "collapsed": false
   },
   "outputs": [
    {
     "name": "stdout",
     "output_type": "stream",
     "text": [
      "1 2 3 4 5 6 7 8 9 1\n",
      "2\n",
      "3\n",
      "4\n",
      "5\n",
      "6\n",
      "7\n",
      "8\n",
      "9\n",
      "cat 3\n",
      "window 6\n",
      "defenestrate 12\n",
      "cat 3\n",
      "window 6\n",
      "defenestrate 12\n",
      "['defenestrate', 'cat', 'window', 'defenestrate']\n"
     ]
    }
   ],
   "source": [
    "'''###################### for statement ####################### '''\n",
    "# A trailing comma avoids the newline after the output:\n",
    "for i in range(1,10):\n",
    "    print i,\n",
    "for i in range(1,10):\n",
    "    print i    \n",
    "\n",
    "\n",
    "# These two do the same thing.  The w or i stands for the iterable item.\n",
    "words = ['cat', 'window', 'defenestrate']\n",
    "for w in words:\n",
    "    print w, len(w)\n",
    "\n",
    "words = ['cat', 'window', 'defenestrate']\n",
    "for i in words:\n",
    "    print i, len(i)\n",
    "    \n",
    "# If you need to modify the sequence you are iterating over while inside the loop (for example to duplicate selected items), it is recommended that you first make a copy. Iterating over a sequence does not implicitly make a copy. The slice notation makes this especially convenient:    \n",
    "for w in words[:]:  # Loop over a slice copy of the entire list.\n",
    "    if len(w) > 6:\n",
    "        words.insert(0, w) # inserts the third word at the beginning of the list (place 0).\n",
    "        \n",
    "print words # ['defenestrate', 'cat', 'window', 'defenestrate']"
   ]
  },
  {
   "cell_type": "markdown",
   "metadata": {},
   "source": [
    " "
   ]
  },
  {
   "cell_type": "markdown",
   "metadata": {},
   "source": [
    " "
   ]
  },
  {
   "cell_type": "markdown",
   "metadata": {},
   "source": [
    "## Classes"
   ]
  },
  {
   "cell_type": "code",
   "execution_count": 495,
   "metadata": {
    "collapsed": false
   },
   "outputs": [],
   "source": [
    "seasons = ['Spring', 'Summer', 'Fall', 'Winter']\n",
    "seasons\n",
    "type(seasons)  # seasons is a list.\n",
    "\n",
    "enumerate(seasons)\n",
    "list(enumerate(seasons))\n",
    "\n",
    "\n",
    "class C:\n",
    "   def meth(self, arg):\n",
    "      self.val = arg\n",
    "      return self.val\n",
    "      \n",
    "      \n",
    "class CC:\n",
    "   def meth(arg):  # Look ma, no self!\n",
    "      self.val = arg\n",
    "      return self.val      \n",
    "      \n",
    "# Define an empty class:\n",
    "class CM:\n",
    "   pass\n",
    "\n",
    "# Define a global function:\n",
    "def meth(self, arg):\n",
    "   self.val = arg\n",
    "   return self.val    \n",
    "   \n",
    "# Poke the method into the class:\n",
    "CM.meth = meth   "
   ]
  },
  {
   "cell_type": "code",
   "execution_count": null,
   "metadata": {
    "collapsed": true
   },
   "outputs": [],
   "source": []
  },
  {
   "cell_type": "code",
   "execution_count": null,
   "metadata": {
    "collapsed": true
   },
   "outputs": [],
   "source": []
  }
 ],
 "metadata": {
  "kernelspec": {
   "display_name": "Python 2",
   "language": "python",
   "name": "python2"
  },
  "language_info": {
   "codemirror_mode": {
    "name": "ipython",
    "version": 2
   },
   "file_extension": ".py",
   "mimetype": "text/x-python",
   "name": "python",
   "nbconvert_exporter": "python",
   "pygments_lexer": "ipython2",
   "version": "2.7.11"
  }
 },
 "nbformat": 4,
 "nbformat_minor": 0
}
