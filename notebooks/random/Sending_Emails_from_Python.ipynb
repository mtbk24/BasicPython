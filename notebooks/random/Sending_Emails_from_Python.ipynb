{
 "cells": [
  {
   "cell_type": "markdown",
   "metadata": {},
   "source": [
    "### Using the following blog post to help me send an email from Python:\n",
    "http://stackabuse.com/how-to-send-emails-with-gmail-using-python/"
   ]
  },
  {
   "cell_type": "code",
   "execution_count": 1,
   "metadata": {
    "collapsed": true
   },
   "outputs": [],
   "source": [
    "import smtplib"
   ]
  },
  {
   "cell_type": "markdown",
   "metadata": {},
   "source": [
    "When an SMTP connection is secured via TLS/SSL, it is done over port 465 and is typically called SMTPS. Needless to say, you should always use a secured connection.\n",
    "\n",
    "There are a few different ways you can secure your SMTP connections in the smtplib library. The first way is to first create an insecure connection and then upgrading to TLS. This is done using the .starttls() method."
   ]
  },
  {
   "cell_type": "raw",
   "metadata": {},
   "source": [
    "try:  \n",
    "    # setup an insecure connection\n",
    "    server = smtplib.SMTP('smtp.gmail.com', 587)\n",
    "    server.ehlo()\n",
    "    # upgrades the connection to a secure one.\n",
    "    server.starttls()  \n",
    "    # ...send emails\n",
    "except:  \n",
    "    print 'Something went wrong...'"
   ]
  },
  {
   "cell_type": "markdown",
   "metadata": {},
   "source": [
    "Notice that while this is very similar to the previous insecure connection we created, all that's different is that we're using the .starttls() method to upgrade the connection to secure.\n",
    "\n",
    "Your other option is to create an SSL connection right from the start. In this case, you'll want to use the .SMTP_SSL() method instead:"
   ]
  },
  {
   "cell_type": "raw",
   "metadata": {},
   "source": [
    "try:  \n",
    "    server_ssl = smtplib.SMTP_SSL('smtp.gmail.com', 465)\n",
    "    server_ssl.ehlo()   # optional\n",
    "    # ...send emails\n",
    "except:  \n",
    "    print 'Something went wrong...'"
   ]
  },
  {
   "cell_type": "markdown",
   "metadata": {},
   "source": [
    "## Writing the email:"
   ]
  },
  {
   "cell_type": "markdown",
   "metadata": {},
   "source": [
    "If you need to send the email to more than one recepient, simply use a comma and space between email addresses.  You can make them into a list like:\n",
    "    \n",
    "    to_ = ['me@gmail.com', 'bill@gmail.com'] \n",
    "\n",
    "but you will have to join them up again using:\n",
    "\n",
    "    \", \".join(to_)\n",
    "    \n",
    "to get\n",
    "\n",
    "    'me@gmail.com, bill@gmail.com'\n"
   ]
  },
  {
   "cell_type": "markdown",
   "metadata": {},
   "source": [
    "In the body, I use ''' ''' around the text so that new lines are included.  If I use regular quotes, I'd need to use \\n to indicate new lines."
   ]
  },
  {
   "cell_type": "code",
   "execution_count": 30,
   "metadata": {
    "collapsed": false
   },
   "outputs": [],
   "source": [
    "from_ = 'k.a.zoldak@gmail.com' \n",
    "to_ = 'kzoldak@email.uark.edu'   \n",
    "subject = 'email from Python'  \n",
    "body = '''\n",
    "Hello!  I'm sending you this email from Python. \n",
    "\n",
    "Have a nice day! \n",
    "-Kim\n",
    "'''\n",
    "\n",
    "email_text = \"\"\" \n",
    "Subject: %s\n",
    "\n",
    "%s\n",
    "\"\"\" %(subject, body)"
   ]
  },
  {
   "cell_type": "code",
   "execution_count": 29,
   "metadata": {
    "collapsed": false
   },
   "outputs": [
    {
     "name": "stdout",
     "output_type": "stream",
     "text": [
      " \n",
      "Subject: email from Python\n",
      "\n",
      "\n",
      "Hello!  I'm sending you this email from Python. \n",
      "Have a nice day! \n",
      "-Kim\n",
      "\n",
      "\n"
     ]
    }
   ],
   "source": [
    "print email_text"
   ]
  },
  {
   "cell_type": "markdown",
   "metadata": {},
   "source": [
    "Now all you have to do is pass the email_text string to smtplib, which we'll show in the next section, and you're good to go."
   ]
  },
  {
   "cell_type": "code",
   "execution_count": 25,
   "metadata": {
    "collapsed": false
   },
   "outputs": [
    {
     "name": "stdout",
     "output_type": "stream",
     "text": [
      "Email sent!\n"
     ]
    }
   ],
   "source": [
    "gmail_user = 'k.a.zoldak@gmail.com'  \n",
    "gmail_password = 'MyPassword'  # I'm not actually giving out my password\n",
    "\n",
    "\n",
    "try:  \n",
    "    server = smtplib.SMTP_SSL('smtp.gmail.com', 465)  # 465 is the default.\n",
    "    server.ehlo()\n",
    "    server.login(gmail_user, gmail_password)\n",
    "    server.sendmail(from_, to_, email_text)\n",
    "    server.close()\n",
    "\n",
    "    print 'Email sent!'\n",
    "except:  \n",
    "    print 'Something went wrong...'"
   ]
  },
  {
   "cell_type": "code",
   "execution_count": null,
   "metadata": {
    "collapsed": true
   },
   "outputs": [],
   "source": []
  }
 ],
 "metadata": {
  "kernelspec": {
   "display_name": "Python 2",
   "language": "python",
   "name": "python2"
  },
  "language_info": {
   "codemirror_mode": {
    "name": "ipython",
    "version": 2
   },
   "file_extension": ".py",
   "mimetype": "text/x-python",
   "name": "python",
   "nbconvert_exporter": "python",
   "pygments_lexer": "ipython2",
   "version": "2.7.12"
  }
 },
 "nbformat": 4,
 "nbformat_minor": 0
}
