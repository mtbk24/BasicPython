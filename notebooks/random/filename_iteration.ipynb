{
 "cells": [
  {
   "cell_type": "code",
   "execution_count": 1,
   "metadata": {
    "collapsed": true
   },
   "outputs": [],
   "source": [
    "import os, sys"
   ]
  },
  {
   "cell_type": "markdown",
   "metadata": {},
   "source": [
    "Create an empty file\n",
    "---"
   ]
  },
  {
   "cell_type": "code",
   "execution_count": 2,
   "metadata": {
    "collapsed": false
   },
   "outputs": [
    {
     "data": {
      "text/plain": [
       "0"
      ]
     },
     "execution_count": 2,
     "metadata": {},
     "output_type": "execute_result"
    }
   ],
   "source": [
    "filename = '/Users/KimiZ/Python/Github/BasicPython/notebooks/random/results_-01-.txt'\n",
    "os.system('touch %s'%filename)"
   ]
  },
  {
   "cell_type": "markdown",
   "metadata": {},
   "source": [
    "Check if File exists\n",
    "---"
   ]
  },
  {
   "cell_type": "code",
   "execution_count": 3,
   "metadata": {
    "collapsed": true
   },
   "outputs": [],
   "source": [
    "def _fileExists(filename):\n",
    "    '''\n",
    "    Parameters:\n",
    "    -----------\n",
    "    filename : str, filename you wish to see if exists.\n",
    "    '''\n",
    "    if os.path.exists(filename):\n",
    "        #raise Exception, \"File already exists.\"\n",
    "        print(\"File exists.\")\n",
    "    else:\n",
    "        print(\"File does not exist.\")"
   ]
  },
  {
   "cell_type": "code",
   "execution_count": 4,
   "metadata": {
    "collapsed": false
   },
   "outputs": [
    {
     "name": "stdout",
     "output_type": "stream",
     "text": [
      "File exists.\n"
     ]
    }
   ],
   "source": [
    "_fileExists(filename)"
   ]
  },
  {
   "cell_type": "markdown",
   "metadata": {},
   "source": [
    "Increase version number on file name\n",
    "---"
   ]
  },
  {
   "cell_type": "code",
   "execution_count": 5,
   "metadata": {
    "collapsed": true
   },
   "outputs": [],
   "source": [
    "def _iterate_version(filename, identifiers):\n",
    "    '''\n",
    "    Parameters:\n",
    "    -----------\n",
    "    filename : str, filename you wish to see if exists.\n",
    "    identifiers : list, list of strings, with length = 2.\n",
    "                these will identify what surroudns the version number in the filename.    \n",
    "    \n",
    "    Returns:\n",
    "    --------\n",
    "    Retruns a string with the new filename with version number increaed by 1.\n",
    "    '''\n",
    "    direc = os.path.dirname(filename)\n",
    "    filebase = os.path.basename(filename)\n",
    "    prefix = filebase.split(identifiers[0])[0]\n",
    "    # .split(id[0], 1)  The 1 in this split means split on the first occurrance only.\n",
    "    version, suffix = filebase.split(identifiers[0], 1)[1].split(identifiers[1])\n",
    "    # iterate version\n",
    "    version = int(version)\n",
    "    version = version + 1\n",
    "    version = '%.2i'%version\n",
    "    newfilename = os.path.join(direc, prefix + identifiers[0] + version + identifiers[1] + suffix)\n",
    "    return newfilename"
   ]
  },
  {
   "cell_type": "code",
   "execution_count": 6,
   "metadata": {
    "collapsed": false
   },
   "outputs": [
    {
     "data": {
      "text/plain": [
       "'/Users/KimiZ/Python/Github/BasicPython/notebooks/random/results_-02-.txt'"
      ]
     },
     "execution_count": 6,
     "metadata": {},
     "output_type": "execute_result"
    }
   ],
   "source": [
    "filename = '/Users/KimiZ/Python/Github/BasicPython/notebooks/random/results_-01-.txt'\n",
    "\n",
    "identifiers = ['-', '-']\n",
    "\n",
    "_iterate_version(filename, identifiers)"
   ]
  },
  {
   "cell_type": "code",
   "execution_count": 7,
   "metadata": {
    "collapsed": false
   },
   "outputs": [
    {
     "data": {
      "text/plain": [
       "'/Users/KimiZ/Python/Github/BasicPython/notebooks/random/results_-23-.txt'"
      ]
     },
     "execution_count": 7,
     "metadata": {},
     "output_type": "execute_result"
    }
   ],
   "source": [
    "filename = '/Users/KimiZ/Python/Github/BasicPython/notebooks/random/results_-22-.txt'\n",
    "\n",
    "identifiers = ['-', '-']\n",
    "\n",
    "_iterate_version(filename, identifiers)"
   ]
  },
  {
   "cell_type": "code",
   "execution_count": 8,
   "metadata": {
    "collapsed": false
   },
   "outputs": [
    {
     "data": {
      "text/plain": [
       "'/Users/KimiZ/Python/Github/BasicPython/notebooks/random/results_-10000-.txt'"
      ]
     },
     "execution_count": 8,
     "metadata": {},
     "output_type": "execute_result"
    }
   ],
   "source": [
    "filename = '/Users/KimiZ/Python/Github/BasicPython/notebooks/random/results_-9999-.txt'\n",
    "\n",
    "identifiers = ['-', '-']\n",
    "\n",
    "_iterate_version(filename, identifiers)"
   ]
  },
  {
   "cell_type": "code",
   "execution_count": 9,
   "metadata": {
    "collapsed": false
   },
   "outputs": [
    {
     "data": {
      "text/plain": [
       "'/Users/KimiZ/Python/Github/BasicPython/notebooks/random/results_v04.txt'"
      ]
     },
     "execution_count": 9,
     "metadata": {},
     "output_type": "execute_result"
    }
   ],
   "source": [
    "filename = '/Users/KimiZ/Python/Github/BasicPython/notebooks/random/results_v03.txt'\n",
    "\n",
    "identifiers = ['_v', '.']\n",
    "\n",
    "_iterate_version(filename, identifiers)"
   ]
  },
  {
   "cell_type": "code",
   "execution_count": 10,
   "metadata": {
    "collapsed": false
   },
   "outputs": [
    {
     "data": {
      "text/plain": [
       "'/Users/KimiZ/Python/Github/BasicPython/notebooks/random/results_v1000.txt'"
      ]
     },
     "execution_count": 10,
     "metadata": {},
     "output_type": "execute_result"
    }
   ],
   "source": [
    "filename = '/Users/KimiZ/Python/Github/BasicPython/notebooks/random/results_v999.txt'\n",
    "\n",
    "identifiers = ['_v', '.']\n",
    "\n",
    "_iterate_version(filename, identifiers)"
   ]
  },
  {
   "cell_type": "code",
   "execution_count": 11,
   "metadata": {
    "collapsed": false
   },
   "outputs": [
    {
     "data": {
      "text/plain": [
       "'/Users/KimiZ/Python/Github/BasicPython/notebooks/random/results_v57.txt'"
      ]
     },
     "execution_count": 11,
     "metadata": {},
     "output_type": "execute_result"
    }
   ],
   "source": [
    "filename = '/Users/KimiZ/Python/Github/BasicPython/notebooks/random/results_v56.txt'\n",
    "\n",
    "identifiers = ['_v', '.']\n",
    "\n",
    "_iterate_version(filename, identifiers)"
   ]
  },
  {
   "cell_type": "markdown",
   "metadata": {},
   "source": [
    "If file exists, increase version number by 1 and return new file name\n",
    "---"
   ]
  },
  {
   "cell_type": "code",
   "execution_count": 12,
   "metadata": {
    "collapsed": true
   },
   "outputs": [],
   "source": [
    "def _fileExistsIterate(filename, identifiers):\n",
    "    '''\n",
    "    Parameters:\n",
    "    -----------\n",
    "    filename : str, filename you wish to see if exists.\n",
    "    identifiers : list, list of strings, with length = 2.\n",
    "                these will identify what surroudns the version number in the filename.    \n",
    "    \n",
    "    Returns:\n",
    "    --------\n",
    "    Retruns a string with the new filename. If file does NOT already exist, it returns the same \n",
    "      file name. If it DOES exist, the function increases the version number by 1 and returns \n",
    "      the new file name so that the old file is not overwritten.\n",
    "    '''\n",
    "    if os.path.exists(filename):\n",
    "        print('File exists. Will iterate version.')\n",
    "        newfilename = _iterate_version(filename, identifiers)\n",
    "        return newfilename\n",
    "    else:\n",
    "        return filename"
   ]
  },
  {
   "cell_type": "code",
   "execution_count": 13,
   "metadata": {
    "collapsed": false
   },
   "outputs": [
    {
     "name": "stdout",
     "output_type": "stream",
     "text": [
      "File exists. Will iterate version.\n"
     ]
    },
    {
     "data": {
      "text/plain": [
       "'/Users/KimiZ/Python/Github/BasicPython/notebooks/random/results_-02-.txt'"
      ]
     },
     "execution_count": 13,
     "metadata": {},
     "output_type": "execute_result"
    }
   ],
   "source": [
    "filename = '/Users/KimiZ/Python/Github/BasicPython/notebooks/random/results_-01-.txt'\n",
    "\n",
    "identifiers = ['-', '-']\n",
    "\n",
    "_fileExistsIterate(filename, identifiers)"
   ]
  },
  {
   "cell_type": "code",
   "execution_count": 14,
   "metadata": {
    "collapsed": false
   },
   "outputs": [
    {
     "data": {
      "text/plain": [
       "'/Users/KimiZ/Python/Github/BasicPython/notebooks/random/results_v01.txt'"
      ]
     },
     "execution_count": 14,
     "metadata": {},
     "output_type": "execute_result"
    }
   ],
   "source": [
    "filename = '/Users/KimiZ/Python/Github/BasicPython/notebooks/random/results_v01.txt'\n",
    "\n",
    "identifiers = ['_v', '.']\n",
    "\n",
    "_fileExistsIterate(filename, identifiers)"
   ]
  },
  {
   "cell_type": "code",
   "execution_count": 15,
   "metadata": {
    "collapsed": false
   },
   "outputs": [
    {
     "data": {
      "text/plain": [
       "0"
      ]
     },
     "execution_count": 15,
     "metadata": {},
     "output_type": "execute_result"
    }
   ],
   "source": [
    "os.system(\"touch '/Users/KimiZ/Python/Github/BasicPython/notebooks/random/results_v01.txt'\")"
   ]
  },
  {
   "cell_type": "code",
   "execution_count": 16,
   "metadata": {
    "collapsed": false
   },
   "outputs": [
    {
     "name": "stdout",
     "output_type": "stream",
     "text": [
      "File exists. Will iterate version.\n"
     ]
    },
    {
     "data": {
      "text/plain": [
       "'/Users/KimiZ/Python/Github/BasicPython/notebooks/random/results_v02.txt'"
      ]
     },
     "execution_count": 16,
     "metadata": {},
     "output_type": "execute_result"
    }
   ],
   "source": [
    "filename = '/Users/KimiZ/Python/Github/BasicPython/notebooks/random/results_v01.txt'\n",
    "\n",
    "identifiers = ['_v', '.']\n",
    "\n",
    "_fileExistsIterate(filename, identifiers)"
   ]
  },
  {
   "cell_type": "markdown",
   "metadata": {},
   "source": [
    "Remove files you created in this notebook\n",
    "---"
   ]
  },
  {
   "cell_type": "code",
   "execution_count": 17,
   "metadata": {
    "collapsed": false
   },
   "outputs": [],
   "source": [
    "filenames = ['/Users/KimiZ/Python/Github/BasicPython/notebooks/random/results_v01.txt', \n",
    "             '/Users/KimiZ/Python/Github/BasicPython/notebooks/random/results_-01-.txt']\n",
    "\n",
    "for filename in filenames:\n",
    "    #print(\"rm %s\"%filename)\n",
    "    os.system(\"rm %s\"%filename)"
   ]
  },
  {
   "cell_type": "code",
   "execution_count": 18,
   "metadata": {
    "collapsed": false
   },
   "outputs": [
    {
     "name": "stdout",
     "output_type": "stream",
     "text": [
      "File does not exist.\n",
      "File does not exist.\n"
     ]
    }
   ],
   "source": [
    "for filename in filenames:\n",
    "    _fileExists(filename)"
   ]
  }
 ],
 "metadata": {
  "kernelspec": {
   "display_name": "Python 2",
   "language": "python",
   "name": "python2"
  },
  "language_info": {
   "codemirror_mode": {
    "name": "ipython",
    "version": 2
   },
   "file_extension": ".py",
   "mimetype": "text/x-python",
   "name": "python",
   "nbconvert_exporter": "python",
   "pygments_lexer": "ipython2",
   "version": "2.7.11"
  }
 },
 "nbformat": 4,
 "nbformat_minor": 0
}
