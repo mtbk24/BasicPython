{
 "cells": [
  {
   "cell_type": "markdown",
   "metadata": {},
   "source": [
    "For more information of re.search:\n",
    "\n",
    "https://docs.python.org/2/library/re.html"
   ]
  },
  {
   "cell_type": "code",
   "execution_count": 1,
   "metadata": {
    "collapsed": true
   },
   "outputs": [],
   "source": [
    "import re"
   ]
  },
  {
   "cell_type": "code",
   "execution_count": 2,
   "metadata": {
    "collapsed": true
   },
   "outputs": [],
   "source": [
    "files = ['copl/bxa_fitresults_copl_-01-_G_.fit', \n",
    "         'copl+blackb/bxa_fitresults_copl+blackb_-01-_G_.fit', \n",
    "         'copl+blackb/bxa_fitresults_copl+blackb_-02-_G_.fit', \n",
    "         'copl+blackb+lpow/bxa_fitresults_copl+blackb+lpow_-01-_G_.fit', \n",
    "         'copl+lpow/bxa_fitresults_copl+lpow_-01-_G_.fit', \n",
    "         'grbm/bxa_fitresults_grbm_-01-_G_.fit', \n",
    "         'grbm+blackb/bxa_fitresults_grbm+blackb_-01-_G_.fit', \n",
    "         'grbm+blackb/bxa_fitresults_grbm+blackb_-02-_G_.fit', \n",
    "         'grbm+blackb+lpow/bxa_fitresults_grbm+blackb+lpow_-01-_G_.fit', \n",
    "         'grbm+lpow/bxa_fitresults_grbm+lpow_-01-_G_.fit', \n",
    "         'sbpl/bxa_fitresults_sbpl_-01-_G_.fit', \n",
    "         'sbpl+blackb/bxa_fitresults_sbpl+blackb_-01-_G_.fit', \n",
    "         'sbpl+blackb/bxa_fitresults_sbpl+blackb_-02-_G_.fit', \n",
    "         'sbpl+blackb+lpow/bxa_fitresults_sbpl+blackb+lpow_-01-_G_.fit', \n",
    "         'sbpl+lpow/bxa_fitresults_sbpl+lpow_-01-_G_.fit']"
   ]
  },
  {
   "cell_type": "code",
   "execution_count": 3,
   "metadata": {
    "collapsed": false
   },
   "outputs": [
    {
     "data": {
      "text/plain": [
       "15"
      ]
     },
     "execution_count": 3,
     "metadata": {},
     "output_type": "execute_result"
    }
   ],
   "source": [
    "len(files)"
   ]
  },
  {
   "cell_type": "code",
   "execution_count": 4,
   "metadata": {
    "collapsed": true
   },
   "outputs": [],
   "source": [
    "bad_files = [\"grbm+blackb+lpow\", \n",
    "             \"sbpl+blackb+lpow\", \n",
    "             \"grbm+blackb_-02-\"]"
   ]
  },
  {
   "cell_type": "code",
   "execution_count": 5,
   "metadata": {
    "collapsed": true
   },
   "outputs": [],
   "source": [
    "#pattern = r'grbm(.*)'"
   ]
  },
  {
   "cell_type": "code",
   "execution_count": 6,
   "metadata": {
    "collapsed": true
   },
   "outputs": [],
   "source": [
    "pattern = r'(.*)grbm(.*)-02-(.*)'"
   ]
  },
  {
   "cell_type": "code",
   "execution_count": 7,
   "metadata": {
    "collapsed": false
   },
   "outputs": [],
   "source": [
    "a=[]  # holds full match\n",
    "b=[]  # holds all characters before grbm\n",
    "c=[]  # holds all characters after grbm and before -02-\n",
    "d=[]  # holds all characters after -02-\n",
    "'''\n",
    "The full match will be 'grbm+blackb/bxa_fitresults_grbm+blackb_-02-_G_.fit'\n",
    "but this won't split the match on the first grbm, \n",
    "but the 2nd one (that comes after fitresults_).\n",
    "\n",
    "This is because we specified that there are characters before grbm \n",
    "by placing (.*) before grbm.\n",
    "\n",
    "If we wanted to determine the groups based on the first one, \n",
    "we'd leave the first (.*) out we'd get one less group returned.\n",
    "'''\n",
    "\n",
    "for line in files:\n",
    "    match = re.search(pattern, line)\n",
    "    if match:\n",
    "        a.append(match.group(0))\n",
    "        b.append(match.group(1))\n",
    "        c.append(match.group(2))\n",
    "        d.append(match.group(3))      "
   ]
  },
  {
   "cell_type": "code",
   "execution_count": 8,
   "metadata": {
    "collapsed": false
   },
   "outputs": [
    {
     "data": {
      "text/plain": [
       "['grbm+blackb/bxa_fitresults_grbm+blackb_-02-_G_.fit']"
      ]
     },
     "execution_count": 8,
     "metadata": {},
     "output_type": "execute_result"
    }
   ],
   "source": [
    "a"
   ]
  },
  {
   "cell_type": "code",
   "execution_count": 9,
   "metadata": {
    "collapsed": false
   },
   "outputs": [
    {
     "data": {
      "text/plain": [
       "['grbm+blackb/bxa_fitresults_']"
      ]
     },
     "execution_count": 9,
     "metadata": {},
     "output_type": "execute_result"
    }
   ],
   "source": [
    "b"
   ]
  },
  {
   "cell_type": "code",
   "execution_count": 10,
   "metadata": {
    "collapsed": false
   },
   "outputs": [
    {
     "data": {
      "text/plain": [
       "['+blackb_']"
      ]
     },
     "execution_count": 10,
     "metadata": {},
     "output_type": "execute_result"
    }
   ],
   "source": [
    "c"
   ]
  },
  {
   "cell_type": "code",
   "execution_count": 11,
   "metadata": {
    "collapsed": false
   },
   "outputs": [
    {
     "data": {
      "text/plain": [
       "['_G_.fit']"
      ]
     },
     "execution_count": 11,
     "metadata": {},
     "output_type": "execute_result"
    }
   ],
   "source": [
    "d"
   ]
  },
  {
   "cell_type": "code",
   "execution_count": 12,
   "metadata": {
    "collapsed": true
   },
   "outputs": [],
   "source": [
    "pattern = r'grbm(.*)-02-(.*)'"
   ]
  },
  {
   "cell_type": "code",
   "execution_count": 13,
   "metadata": {
    "collapsed": false
   },
   "outputs": [],
   "source": [
    "a=[]  # holds full match\n",
    "b=[]  # holds all characters after first grbm and before -02-\n",
    "c=[]  # holds all characters after -02-\n",
    "#d=[]\n",
    "\n",
    "for line in files:\n",
    "    match = re.search(pattern, line)\n",
    "    if match:\n",
    "        a.append(match.group(0))\n",
    "        b.append(match.group(1))\n",
    "        c.append(match.group(2))\n",
    "        #d.append(match.group(3))"
   ]
  },
  {
   "cell_type": "code",
   "execution_count": 14,
   "metadata": {
    "collapsed": false
   },
   "outputs": [
    {
     "data": {
      "text/plain": [
       "['grbm+blackb/bxa_fitresults_grbm+blackb_-02-_G_.fit']"
      ]
     },
     "execution_count": 14,
     "metadata": {},
     "output_type": "execute_result"
    }
   ],
   "source": [
    "a"
   ]
  },
  {
   "cell_type": "code",
   "execution_count": 15,
   "metadata": {
    "collapsed": false
   },
   "outputs": [
    {
     "data": {
      "text/plain": [
       "['+blackb/bxa_fitresults_grbm+blackb_']"
      ]
     },
     "execution_count": 15,
     "metadata": {},
     "output_type": "execute_result"
    }
   ],
   "source": [
    "b"
   ]
  },
  {
   "cell_type": "code",
   "execution_count": 16,
   "metadata": {
    "collapsed": false
   },
   "outputs": [
    {
     "data": {
      "text/plain": [
       "['_G_.fit']"
      ]
     },
     "execution_count": 16,
     "metadata": {},
     "output_type": "execute_result"
    }
   ],
   "source": [
    "c"
   ]
  },
  {
   "cell_type": "markdown",
   "metadata": {},
   "source": [
    "  "
   ]
  },
  {
   "cell_type": "markdown",
   "metadata": {},
   "source": [
    "---"
   ]
  },
  {
   "cell_type": "markdown",
   "metadata": {},
   "source": [
    "## Now using this tool for my research"
   ]
  },
  {
   "cell_type": "code",
   "execution_count": 17,
   "metadata": {
    "collapsed": false
   },
   "outputs": [
    {
     "data": {
      "text/plain": [
       "['copl/bxa_fitresults_copl_-01-_G_.fit',\n",
       " 'copl+blackb/bxa_fitresults_copl+blackb_-01-_G_.fit',\n",
       " 'copl+blackb/bxa_fitresults_copl+blackb_-02-_G_.fit',\n",
       " 'copl+blackb+lpow/bxa_fitresults_copl+blackb+lpow_-01-_G_.fit',\n",
       " 'copl+lpow/bxa_fitresults_copl+lpow_-01-_G_.fit',\n",
       " 'grbm/bxa_fitresults_grbm_-01-_G_.fit',\n",
       " 'grbm+blackb/bxa_fitresults_grbm+blackb_-01-_G_.fit',\n",
       " 'grbm+blackb/bxa_fitresults_grbm+blackb_-02-_G_.fit',\n",
       " 'grbm+blackb+lpow/bxa_fitresults_grbm+blackb+lpow_-01-_G_.fit',\n",
       " 'grbm+lpow/bxa_fitresults_grbm+lpow_-01-_G_.fit',\n",
       " 'sbpl/bxa_fitresults_sbpl_-01-_G_.fit',\n",
       " 'sbpl+blackb/bxa_fitresults_sbpl+blackb_-01-_G_.fit',\n",
       " 'sbpl+blackb/bxa_fitresults_sbpl+blackb_-02-_G_.fit',\n",
       " 'sbpl+blackb+lpow/bxa_fitresults_sbpl+blackb+lpow_-01-_G_.fit',\n",
       " 'sbpl+lpow/bxa_fitresults_sbpl+lpow_-01-_G_.fit']"
      ]
     },
     "execution_count": 17,
     "metadata": {},
     "output_type": "execute_result"
    }
   ],
   "source": [
    "files"
   ]
  },
  {
   "cell_type": "code",
   "execution_count": 18,
   "metadata": {
    "collapsed": true
   },
   "outputs": [],
   "source": [
    "Files = files[:]"
   ]
  },
  {
   "cell_type": "code",
   "execution_count": 19,
   "metadata": {
    "collapsed": true
   },
   "outputs": [],
   "source": [
    "bad_files = [\"grbm+blackb+lpow_-01-\", \n",
    "             \"sbpl+blackb+lpow_-01-\", \n",
    "             \"grbm+blackb_-02-\"]"
   ]
  },
  {
   "cell_type": "markdown",
   "metadata": {},
   "source": [
    "We set up a list of bad files based on an identifier that will ensure to remove only one version of each file from the list.\n",
    "\n",
    "Although we only have 1 version each for the grbm+blackb+lpow and sbpl+blackb+lpow files, we still use the version numbers for consistency."
   ]
  },
  {
   "cell_type": "code",
   "execution_count": 20,
   "metadata": {
    "collapsed": true
   },
   "outputs": [],
   "source": [
    "#pattern = r'(.*)grbm(.*)-02-(.*)'"
   ]
  },
  {
   "cell_type": "code",
   "execution_count": 21,
   "metadata": {
    "collapsed": true
   },
   "outputs": [],
   "source": [
    "pattern = r'grbm\\+blackb\\+lpow(.*)-01-(.*)'"
   ]
  },
  {
   "cell_type": "code",
   "execution_count": 22,
   "metadata": {
    "collapsed": false
   },
   "outputs": [],
   "source": [
    "a=[]  # holds full match\n",
    "b=[]  # holds all characters before grbm\n",
    "c=[]  # holds all characters after grbm and before -02-\n",
    "d=[]  # holds all characters after -02-\n",
    "'''\n",
    "The full match will be 'grbm+blackb/bxa_fitresults_grbm+blackb_-02-_G_.fit'\n",
    "but this won't split the match on the first grbm, \n",
    "but the 2nd one (that comes after fitresults_).\n",
    "\n",
    "This is because we specified that there are characters before grbm \n",
    "by placing (.*) before grbm.\n",
    "\n",
    "If we wanted to determine the groups based on the first one, \n",
    "we'd leave the first (.*) out we'd get one less group returned.\n",
    "'''\n",
    "\n",
    "for line in files:\n",
    "    match = re.search(pattern, line)\n",
    "    if match:\n",
    "        a.append(match.group(0))\n",
    "        b.append(match.group(1))\n",
    "        c.append(match.group(2))\n",
    "        #d.append(match.group(3))"
   ]
  },
  {
   "cell_type": "code",
   "execution_count": 23,
   "metadata": {
    "collapsed": false
   },
   "outputs": [
    {
     "data": {
      "text/plain": [
       "['grbm+blackb+lpow/bxa_fitresults_grbm+blackb+lpow_-01-_G_.fit']"
      ]
     },
     "execution_count": 23,
     "metadata": {},
     "output_type": "execute_result"
    }
   ],
   "source": [
    "a"
   ]
  },
  {
   "cell_type": "markdown",
   "metadata": {},
   "source": [
    "  ---"
   ]
  },
  {
   "cell_type": "markdown",
   "metadata": {},
   "source": [
    "## Doesn't work with the + symbol in the pattern names because + stands for something in pattern searching.  We need to precede it with a backslash."
   ]
  },
  {
   "cell_type": "code",
   "execution_count": 24,
   "metadata": {
    "collapsed": false
   },
   "outputs": [],
   "source": [
    "to_remove = []\n",
    "for bad in bad_files:\n",
    "    if '+' in bad:\n",
    "        b = bad.replace('+', '\\+')\n",
    "    pattern = r'(.*)'+b+'(.*)'\n",
    "    for line in files:\n",
    "        match = re.search(pattern, line)\n",
    "        if match:\n",
    "            to_remove.append(match.group(0))"
   ]
  },
  {
   "cell_type": "code",
   "execution_count": 25,
   "metadata": {
    "collapsed": false
   },
   "outputs": [
    {
     "data": {
      "text/plain": [
       "['grbm+blackb+lpow/bxa_fitresults_grbm+blackb+lpow_-01-_G_.fit',\n",
       " 'sbpl+blackb+lpow/bxa_fitresults_sbpl+blackb+lpow_-01-_G_.fit',\n",
       " 'grbm+blackb/bxa_fitresults_grbm+blackb_-02-_G_.fit']"
      ]
     },
     "execution_count": 25,
     "metadata": {},
     "output_type": "execute_result"
    }
   ],
   "source": [
    "to_remove"
   ]
  },
  {
   "cell_type": "code",
   "execution_count": 26,
   "metadata": {
    "collapsed": false
   },
   "outputs": [],
   "source": [
    "for i in to_remove:\n",
    "    Files.remove(i)"
   ]
  },
  {
   "cell_type": "code",
   "execution_count": 27,
   "metadata": {
    "collapsed": false
   },
   "outputs": [
    {
     "data": {
      "text/plain": [
       "['copl/bxa_fitresults_copl_-01-_G_.fit',\n",
       " 'copl+blackb/bxa_fitresults_copl+blackb_-01-_G_.fit',\n",
       " 'copl+blackb/bxa_fitresults_copl+blackb_-02-_G_.fit',\n",
       " 'copl+blackb+lpow/bxa_fitresults_copl+blackb+lpow_-01-_G_.fit',\n",
       " 'copl+lpow/bxa_fitresults_copl+lpow_-01-_G_.fit',\n",
       " 'grbm/bxa_fitresults_grbm_-01-_G_.fit',\n",
       " 'grbm+blackb/bxa_fitresults_grbm+blackb_-01-_G_.fit',\n",
       " 'grbm+lpow/bxa_fitresults_grbm+lpow_-01-_G_.fit',\n",
       " 'sbpl/bxa_fitresults_sbpl_-01-_G_.fit',\n",
       " 'sbpl+blackb/bxa_fitresults_sbpl+blackb_-01-_G_.fit',\n",
       " 'sbpl+blackb/bxa_fitresults_sbpl+blackb_-02-_G_.fit',\n",
       " 'sbpl+lpow/bxa_fitresults_sbpl+lpow_-01-_G_.fit']"
      ]
     },
     "execution_count": 27,
     "metadata": {},
     "output_type": "execute_result"
    }
   ],
   "source": [
    "Files"
   ]
  },
  {
   "cell_type": "code",
   "execution_count": null,
   "metadata": {
    "collapsed": true
   },
   "outputs": [],
   "source": []
  }
 ],
 "metadata": {
  "kernelspec": {
   "display_name": "Python 2",
   "language": "python",
   "name": "python2"
  },
  "language_info": {
   "codemirror_mode": {
    "name": "ipython",
    "version": 2
   },
   "file_extension": ".py",
   "mimetype": "text/x-python",
   "name": "python",
   "nbconvert_exporter": "python",
   "pygments_lexer": "ipython2",
   "version": "2.7.12"
  }
 },
 "nbformat": 4,
 "nbformat_minor": 0
}
