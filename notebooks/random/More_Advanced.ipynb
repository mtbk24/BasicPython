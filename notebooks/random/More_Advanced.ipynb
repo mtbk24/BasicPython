{
 "cells": [
  {
   "cell_type": "markdown",
   "metadata": {},
   "source": [
    "### This is supposed to work according to a Python book I'm using.\n",
    "a=1 and b=2 from the outer block are supposed to be visible in all inner blocks.  However, if we bind any of the two variables to new variables, like we do in the f2 function, a and b become local to that block.\n",
    "\n",
    "b=3+a and a=0 are only noticed within the f2 funciton block.\n",
    "\n",
    "They are both unitialized variables."
   ]
  },
  {
   "cell_type": "raw",
   "metadata": {},
   "source": [
    "# THIS WON'T WORK BECAUSE a AND b AREN'T RECOGNIZED IN THE INNER BLOCK \n",
    "# UNLESS THEY ARE PASSED TO THE F2 FUNCTION: f2(a,b)\n",
    "def f1(a=1):\n",
    "    b = 2  # visible in f1 and f2\n",
    "    def f2():\n",
    "        if b:\n",
    "            b = 3 + a\n",
    "            print b\n",
    "            a = 0\n",
    "    f2()\n"
   ]
  },
  {
   "cell_type": "code",
   "execution_count": 13,
   "metadata": {
    "collapsed": true
   },
   "outputs": [],
   "source": [
    "def f1(a=1):\n",
    "    b = 2  # visible in f1 and f2\n",
    "    def f2(b):\n",
    "        if b:\n",
    "            c = 3 + b # b here is =2, or whatever we give it in f2(b=)\n",
    "            print c\n",
    "            a = 0\n",
    "    f2(b)\n"
   ]
  },
  {
   "cell_type": "code",
   "execution_count": 12,
   "metadata": {
    "collapsed": false
   },
   "outputs": [
    {
     "name": "stdout",
     "output_type": "stream",
     "text": [
      "6\n"
     ]
    }
   ],
   "source": [
    "f1(1)"
   ]
  },
  {
   "cell_type": "code",
   "execution_count": 16,
   "metadata": {
    "collapsed": true
   },
   "outputs": [],
   "source": [
    "def f1(a=1):\n",
    "    b = 2\n",
    "    def f2(a,b):\n",
    "        if b:\n",
    "            b = 3 + a\n",
    "            print b\n",
    "            a = 0\n",
    "    f2(a,b)"
   ]
  },
  {
   "cell_type": "code",
   "execution_count": 17,
   "metadata": {
    "collapsed": false
   },
   "outputs": [
    {
     "name": "stdout",
     "output_type": "stream",
     "text": [
      "4\n"
     ]
    }
   ],
   "source": [
    "f1(1)  "
   ]
  },
  {
   "cell_type": "markdown",
   "metadata": {},
   "source": [
    "#### This works without having to pass a or b to the inner block, f2."
   ]
  },
  {
   "cell_type": "markdown",
   "metadata": {},
   "source": [
    "##### "
   ]
  },
  {
   "cell_type": "code",
   "execution_count": 30,
   "metadata": {
    "collapsed": true
   },
   "outputs": [],
   "source": [
    "def f3(a=1):\n",
    "    b = [2]  \n",
    "    def f2():\n",
    "        if b:\n",
    "            b[0] = 3 + a \n",
    "    f2()\n",
    "    return b\n"
   ]
  },
  {
   "cell_type": "markdown",
   "metadata": {},
   "source": [
    "\n",
    "If you'd like to return b = 2, then you will have to remove the call to the f2 function right before the return statement."
   ]
  },
  {
   "cell_type": "code",
   "execution_count": 29,
   "metadata": {
    "collapsed": false
   },
   "outputs": [
    {
     "data": {
      "text/plain": [
       "[2]"
      ]
     },
     "execution_count": 29,
     "metadata": {},
     "output_type": "execute_result"
    }
   ],
   "source": [
    "f3(1)"
   ]
  },
  {
   "cell_type": "code",
   "execution_count": 31,
   "metadata": {
    "collapsed": false
   },
   "outputs": [
    {
     "data": {
      "text/plain": [
       "{'In': ['',\n",
       "  u'def f1(a=1):\\n    b = 2\\n    def f2():\\n        if b:\\n            b = 3 + a\\n            print b\\n            a = 0\\n    f2()',\n",
       "  u'f1(1)',\n",
       "  u'def f1(a=1):\\n    b = 2\\n    def f2():\\n        if b:\\n            b = 3 + a\\n            print b\\n            a = 0',\n",
       "  u'f1(1)',\n",
       "  u'def f1(a=1):\\n    b = 2  # visible in f1 and f2\\n    def f2():\\n        if b:\\n            c = 3 + a\\n            print c\\n            a = 0\\n    f2()',\n",
       "  u'f1(1)',\n",
       "  u'def f1(a=1):\\n    b = 2  # visible in f1 and f2\\n    def f2(b):\\n        if b:\\n            c = 3 + a\\n            print c\\n            a = 0\\n    f2(b)',\n",
       "  u'f1(1)',\n",
       "  u'def f1(a=1):\\n    b = 2  # visible in f1 and f2\\n    def f2(b):\\n        if b:\\n            c = 3 + b\\n            print c\\n            a = 0\\n    f2(b)',\n",
       "  u'f1(1)',\n",
       "  u'def f1(a=1):\\n    b = 2  # visible in f1 and f2\\n    def f2(b):\\n        if b:\\n            c = 3 + b # b here is =2, or whatever we give it in f2(b=)\\n            print c\\n            a = 0\\n    f2(b=3)',\n",
       "  u'f1(1)',\n",
       "  u'def f1(a=1):\\n    b = 2  # visible in f1 and f2\\n    def f2(b):\\n        if b:\\n            c = 3 + b # b here is =2, or whatever we give it in f2(b=)\\n            print c\\n            a = 0\\n    f2(b)',\n",
       "  u'def f3(a=1):\\n    b = [2]  \\n    def f2():\\n        if b:\\n            b[0] = 3 + a ',\n",
       "  u'f3(1)',\n",
       "  u'def f1(a=1):\\n    b = 2\\n    def f2(a,b):\\n        if b:\\n            b = 3 + a\\n            print b\\n            a = 0\\n    f2(a,b)',\n",
       "  u'f1(1)  ',\n",
       "  u'def f3(a=1):\\n    b = [2]  \\n    def f2():\\n        if b:\\n            b[0] = 3 + a \\n    f2()',\n",
       "  u'f3(1)',\n",
       "  u'def f3(a=1):\\n    b = [2]  \\n    def f2():\\n        if b:\\n            print b\\n            b[0] = 3 + a \\n    f2()',\n",
       "  u'f3(1)',\n",
       "  u'def f3(a=1):\\n    b = [2]  \\n    def f2():\\n        if b:\\n            b[0] = 3 + a \\n            print b\\n    f2()',\n",
       "  u'f3(1)',\n",
       "  u'def f3(a=1):\\n    b = [2]  \\n    def f2():\\n        if b:\\n            b[0] = 3 + a \\n            print b\\n    f2()',\n",
       "  u'f3(1)',\n",
       "  u'def f3(a=1):\\n    b = [2]  \\n    def f2():\\n        if b:\\n            b[0] = 3 + a \\n    f2()\\n    return b',\n",
       "  u'f3(1)',\n",
       "  u'def f3(a=1):\\n    b = [2]  \\n    def f2():\\n        if b:\\n            b[0] = 3 + a \\n    #f2()\\n    return b',\n",
       "  u'f3(1)',\n",
       "  u'def f3(a=1):\\n    b = [2]  \\n    def f2():\\n        if b:\\n            b[0] = 3 + a \\n    f2()\\n    return b',\n",
       "  u'vars()'],\n",
       " 'Out': {27: [4], 29: [2]},\n",
       " '_': [2],\n",
       " '_27': [4],\n",
       " '_29': [2],\n",
       " '__': [4],\n",
       " '___': '',\n",
       " '__builtin__': <module '__builtin__' (built-in)>,\n",
       " '__builtins__': <module '__builtin__' (built-in)>,\n",
       " '__doc__': 'Automatically created module for IPython interactive environment',\n",
       " '__name__': '__main__',\n",
       " '__package__': None,\n",
       " '_dh': [u'/Users/KimiZ/Python/PythonBasics'],\n",
       " '_i': u'def f3(a=1):\\n    b = [2]  \\n    def f2():\\n        if b:\\n            b[0] = 3 + a \\n    f2()\\n    return b',\n",
       " '_i1': u'def f1(a=1):\\n    b = 2\\n    def f2():\\n        if b:\\n            b = 3 + a\\n            print b\\n            a = 0\\n    f2()',\n",
       " '_i10': u'f1(1)',\n",
       " '_i11': u'def f1(a=1):\\n    b = 2  # visible in f1 and f2\\n    def f2(b):\\n        if b:\\n            c = 3 + b # b here is =2, or whatever we give it in f2(b=)\\n            print c\\n            a = 0\\n    f2(b=3)',\n",
       " '_i12': u'f1(1)',\n",
       " '_i13': u'def f1(a=1):\\n    b = 2  # visible in f1 and f2\\n    def f2(b):\\n        if b:\\n            c = 3 + b # b here is =2, or whatever we give it in f2(b=)\\n            print c\\n            a = 0\\n    f2(b)',\n",
       " '_i14': u'def f3(a=1):\\n    b = [2]  \\n    def f2():\\n        if b:\\n            b[0] = 3 + a ',\n",
       " '_i15': u'f3(1)',\n",
       " '_i16': u'def f1(a=1):\\n    b = 2\\n    def f2(a,b):\\n        if b:\\n            b = 3 + a\\n            print b\\n            a = 0\\n    f2(a,b)',\n",
       " '_i17': u'f1(1)  ',\n",
       " '_i18': u'def f3(a=1):\\n    b = [2]  \\n    def f2():\\n        if b:\\n            b[0] = 3 + a \\n    f2()',\n",
       " '_i19': u'f3(1)',\n",
       " '_i2': u'f1(1)',\n",
       " '_i20': u'def f3(a=1):\\n    b = [2]  \\n    def f2():\\n        if b:\\n            print b\\n            b[0] = 3 + a \\n    f2()',\n",
       " '_i21': u'f3(1)',\n",
       " '_i22': u'def f3(a=1):\\n    b = [2]  \\n    def f2():\\n        if b:\\n            b[0] = 3 + a \\n            print b\\n    f2()',\n",
       " '_i23': u'f3(1)',\n",
       " '_i24': u'def f3(a=1):\\n    b = [2]  \\n    def f2():\\n        if b:\\n            b[0] = 3 + a \\n            print b\\n    f2()',\n",
       " '_i25': u'f3(1)',\n",
       " '_i26': u'def f3(a=1):\\n    b = [2]  \\n    def f2():\\n        if b:\\n            b[0] = 3 + a \\n    f2()\\n    return b',\n",
       " '_i27': u'f3(1)',\n",
       " '_i28': u'def f3(a=1):\\n    b = [2]  \\n    def f2():\\n        if b:\\n            b[0] = 3 + a \\n    #f2()\\n    return b',\n",
       " '_i29': u'f3(1)',\n",
       " '_i3': u'def f1(a=1):\\n    b = 2\\n    def f2():\\n        if b:\\n            b = 3 + a\\n            print b\\n            a = 0',\n",
       " '_i30': u'def f3(a=1):\\n    b = [2]  \\n    def f2():\\n        if b:\\n            b[0] = 3 + a \\n    f2()\\n    return b',\n",
       " '_i31': u'vars()',\n",
       " '_i4': u'f1(1)',\n",
       " '_i5': u'def f1(a=1):\\n    b = 2  # visible in f1 and f2\\n    def f2():\\n        if b:\\n            c = 3 + a\\n            print c\\n            a = 0\\n    f2()',\n",
       " '_i6': u'f1(1)',\n",
       " '_i7': u'def f1(a=1):\\n    b = 2  # visible in f1 and f2\\n    def f2(b):\\n        if b:\\n            c = 3 + a\\n            print c\\n            a = 0\\n    f2(b)',\n",
       " '_i8': u'f1(1)',\n",
       " '_i9': u'def f1(a=1):\\n    b = 2  # visible in f1 and f2\\n    def f2(b):\\n        if b:\\n            c = 3 + b\\n            print c\\n            a = 0\\n    f2(b)',\n",
       " '_ih': ['',\n",
       "  u'def f1(a=1):\\n    b = 2\\n    def f2():\\n        if b:\\n            b = 3 + a\\n            print b\\n            a = 0\\n    f2()',\n",
       "  u'f1(1)',\n",
       "  u'def f1(a=1):\\n    b = 2\\n    def f2():\\n        if b:\\n            b = 3 + a\\n            print b\\n            a = 0',\n",
       "  u'f1(1)',\n",
       "  u'def f1(a=1):\\n    b = 2  # visible in f1 and f2\\n    def f2():\\n        if b:\\n            c = 3 + a\\n            print c\\n            a = 0\\n    f2()',\n",
       "  u'f1(1)',\n",
       "  u'def f1(a=1):\\n    b = 2  # visible in f1 and f2\\n    def f2(b):\\n        if b:\\n            c = 3 + a\\n            print c\\n            a = 0\\n    f2(b)',\n",
       "  u'f1(1)',\n",
       "  u'def f1(a=1):\\n    b = 2  # visible in f1 and f2\\n    def f2(b):\\n        if b:\\n            c = 3 + b\\n            print c\\n            a = 0\\n    f2(b)',\n",
       "  u'f1(1)',\n",
       "  u'def f1(a=1):\\n    b = 2  # visible in f1 and f2\\n    def f2(b):\\n        if b:\\n            c = 3 + b # b here is =2, or whatever we give it in f2(b=)\\n            print c\\n            a = 0\\n    f2(b=3)',\n",
       "  u'f1(1)',\n",
       "  u'def f1(a=1):\\n    b = 2  # visible in f1 and f2\\n    def f2(b):\\n        if b:\\n            c = 3 + b # b here is =2, or whatever we give it in f2(b=)\\n            print c\\n            a = 0\\n    f2(b)',\n",
       "  u'def f3(a=1):\\n    b = [2]  \\n    def f2():\\n        if b:\\n            b[0] = 3 + a ',\n",
       "  u'f3(1)',\n",
       "  u'def f1(a=1):\\n    b = 2\\n    def f2(a,b):\\n        if b:\\n            b = 3 + a\\n            print b\\n            a = 0\\n    f2(a,b)',\n",
       "  u'f1(1)  ',\n",
       "  u'def f3(a=1):\\n    b = [2]  \\n    def f2():\\n        if b:\\n            b[0] = 3 + a \\n    f2()',\n",
       "  u'f3(1)',\n",
       "  u'def f3(a=1):\\n    b = [2]  \\n    def f2():\\n        if b:\\n            print b\\n            b[0] = 3 + a \\n    f2()',\n",
       "  u'f3(1)',\n",
       "  u'def f3(a=1):\\n    b = [2]  \\n    def f2():\\n        if b:\\n            b[0] = 3 + a \\n            print b\\n    f2()',\n",
       "  u'f3(1)',\n",
       "  u'def f3(a=1):\\n    b = [2]  \\n    def f2():\\n        if b:\\n            b[0] = 3 + a \\n            print b\\n    f2()',\n",
       "  u'f3(1)',\n",
       "  u'def f3(a=1):\\n    b = [2]  \\n    def f2():\\n        if b:\\n            b[0] = 3 + a \\n    f2()\\n    return b',\n",
       "  u'f3(1)',\n",
       "  u'def f3(a=1):\\n    b = [2]  \\n    def f2():\\n        if b:\\n            b[0] = 3 + a \\n    #f2()\\n    return b',\n",
       "  u'f3(1)',\n",
       "  u'def f3(a=1):\\n    b = [2]  \\n    def f2():\\n        if b:\\n            b[0] = 3 + a \\n    f2()\\n    return b',\n",
       "  u'vars()'],\n",
       " '_ii': u'f3(1)',\n",
       " '_iii': u'def f3(a=1):\\n    b = [2]  \\n    def f2():\\n        if b:\\n            b[0] = 3 + a \\n    #f2()\\n    return b',\n",
       " '_oh': {27: [4], 29: [2]},\n",
       " '_sh': <module 'IPython.core.shadowns' from '/Users/KimiZ/anaconda/lib/python2.7/site-packages/IPython/core/shadowns.pyc'>,\n",
       " 'division': _Feature((2, 2, 0, 'alpha', 2), (3, 0, 0, 'alpha', 0), 8192),\n",
       " 'exit': <IPython.core.autocall.ZMQExitAutocall at 0x104120090>,\n",
       " 'f1': <function __main__.f1>,\n",
       " 'f3': <function __main__.f3>,\n",
       " 'get_ipython': <bound method ZMQInteractiveShell.get_ipython of <ipykernel.zmqshell.ZMQInteractiveShell object at 0x103992610>>,\n",
       " 'quit': <IPython.core.autocall.ZMQExitAutocall at 0x104120090>}"
      ]
     },
     "execution_count": 31,
     "metadata": {},
     "output_type": "execute_result"
    }
   ],
   "source": [
    "vars()"
   ]
  },
  {
   "cell_type": "code",
   "execution_count": 36,
   "metadata": {
    "collapsed": false
   },
   "outputs": [
    {
     "ename": "KeyError",
     "evalue": "'myvar'",
     "output_type": "error",
     "traceback": [
      "\u001b[0;31m---------------------------------------------------------------------------\u001b[0m",
      "\u001b[0;31mKeyError\u001b[0m                                  Traceback (most recent call last)",
      "\u001b[0;32m<ipython-input-36-f7e4fe5ab96f>\u001b[0m in \u001b[0;36m<module>\u001b[0;34m()\u001b[0m\n\u001b[0;32m----> 1\u001b[0;31m \u001b[0ms\u001b[0m \u001b[0;34m=\u001b[0m \u001b[0;34m'%(myvar)d=%(yourvar)s'\u001b[0m \u001b[0;34m%\u001b[0m\u001b[0mvars\u001b[0m\u001b[0;34m(\u001b[0m\u001b[0;34m)\u001b[0m\u001b[0;34m\u001b[0m\u001b[0m\n\u001b[0m",
      "\u001b[0;31mKeyError\u001b[0m: 'myvar'"
     ]
    }
   ],
   "source": [
    "s = '%(myvar)d=%(yourvar)s' %vars()"
   ]
  },
  {
   "cell_type": "code",
   "execution_count": null,
   "metadata": {
    "collapsed": true
   },
   "outputs": [],
   "source": []
  }
 ],
 "metadata": {
  "kernelspec": {
   "display_name": "Python 2",
   "language": "python",
   "name": "python2"
  },
  "language_info": {
   "codemirror_mode": {
    "name": "ipython",
    "version": 2
   },
   "file_extension": ".py",
   "mimetype": "text/x-python",
   "name": "python",
   "nbconvert_exporter": "python",
   "pygments_lexer": "ipython2",
   "version": "2.7.11"
  }
 },
 "nbformat": 4,
 "nbformat_minor": 0
}
