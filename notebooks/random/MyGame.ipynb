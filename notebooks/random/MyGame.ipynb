{
 "cells": [
  {
   "cell_type": "code",
   "execution_count": 49,
   "metadata": {
    "collapsed": true
   },
   "outputs": [],
   "source": [
    "import random"
   ]
  },
  {
   "cell_type": "code",
   "execution_count": 4,
   "metadata": {
    "collapsed": false
   },
   "outputs": [
    {
     "name": "stdout",
     "output_type": "stream",
     "text": [
      "Help on method randint in module random:\n",
      "\n",
      "randint(self, a, b) method of random.Random instance\n",
      "    Return random integer in range [a, b], including both end points.\n",
      "\n"
     ]
    }
   ],
   "source": [
    "help(random.randint)"
   ]
  },
  {
   "cell_type": "code",
   "execution_count": 9,
   "metadata": {
    "collapsed": false
   },
   "outputs": [
    {
     "name": "stdout",
     "output_type": "stream",
     "text": [
      "Help on built-in function random:\n",
      "\n",
      "random(...)\n",
      "    random() -> x in the interval [0, 1).\n",
      "\n"
     ]
    }
   ],
   "source": [
    "help(random.random)"
   ]
  },
  {
   "cell_type": "code",
   "execution_count": 50,
   "metadata": {
    "collapsed": false
   },
   "outputs": [],
   "source": [
    "symb = ['+', '-']"
   ]
  },
  {
   "cell_type": "markdown",
   "metadata": {},
   "source": [
    "### Level 1\n",
    "Basic adding and subtracting.  If question is answered correctly, a point is earned. If answered incorrectly, a point is deducted."
   ]
  },
  {
   "cell_type": "code",
   "execution_count": 44,
   "metadata": {
    "collapsed": false
   },
   "outputs": [
    {
     "name": "stdout",
     "output_type": "stream",
     "text": [
      "1 - 6 = \n",
      "-5\n",
      "good job\n"
     ]
    }
   ],
   "source": [
    "sign = random.choice(symb)\n",
    "x = random.randint(0,9)\n",
    "y = random.randint(0,9)\n",
    "ans = eval('x' + sign + 'y') \n",
    "print( \"%i %s %i = \" ) %(x, sign, y)\n",
    "response = int(raw_input())\n",
    "\n",
    "if response == ans:\n",
    "    print \"good job\"\n",
    "else:\n",
    "    print \"wrong answer\""
   ]
  },
  {
   "cell_type": "code",
   "execution_count": 48,
   "metadata": {
    "collapsed": false
   },
   "outputs": [
    {
     "name": "stdout",
     "output_type": "stream",
     "text": [
      "8 - 4 = \n",
      "4\n",
      "good job\n",
      "score is =  1 \n",
      "\n",
      "0 - 7 = \n",
      "-7\n",
      "good job\n",
      "score is =  2 \n",
      "\n",
      "0 - 6 = \n",
      "-6\n",
      "good job\n",
      "score is =  3 \n",
      "\n",
      "7 - 9 = \n",
      "-2\n",
      "good job\n",
      "score is =  4 \n",
      "\n",
      "5 - 4 = \n",
      "1\n",
      "good job\n",
      "score is =  5 \n",
      "\n",
      "0 - 6 = \n",
      "-6\n",
      "good job\n",
      "score is =  6 \n",
      "\n",
      "6 - 5 = \n",
      "1\n",
      "good job\n",
      "score is =  7 \n",
      "\n",
      "8 - 3 = \n",
      "5\n",
      "good job\n",
      "score is =  8 \n",
      "\n",
      "2 - 0 = \n",
      "2\n",
      "good job\n",
      "score is =  9 \n",
      "\n",
      "2 - 6 = \n",
      "-4\n",
      "good job\n",
      "score is =  10 \n",
      "\n",
      "*** CONGRATULATIONS, YOU ARE FINISHED! ***\n"
     ]
    }
   ],
   "source": [
    "points = 0\n",
    "\n",
    "while points < 10:\n",
    "    x = random.randint(0,9)\n",
    "    y = random.randint(0,9)\n",
    "    ans = eval('x' + sign + 'y') \n",
    "    print( \"%i %s %i = \" ) %(x, sign, y)\n",
    "    response = int(raw_input())\n",
    "\n",
    "    if response == ans:\n",
    "        print \"good job\"\n",
    "        points = points + 1\n",
    "        print \"score is = \", points, \"\\n\"\n",
    "    else:\n",
    "        print \"wrong answer\"\n",
    "        points = points - 1\n",
    "        print \"score is = \", points, \"\\n\"\n",
    "print \"*** CONGRATULATIONS, YOU ARE FINISHED! ***\""
   ]
  },
  {
   "cell_type": "code",
   "execution_count": 67,
   "metadata": {
    "collapsed": false
   },
   "outputs": [
    {
     "name": "stdout",
     "output_type": "stream",
     "text": [
      "\t 1 \n",
      "     - \t 7 \n",
      "   --------- \n",
      "-6\n",
      "good job\n",
      "score is =  1 \n",
      "\n",
      "\t 6 \n",
      "     - \t 3 \n",
      "   --------- \n",
      "3\n",
      "good job\n",
      "score is =  2 \n",
      "\n",
      "*** CONGRATULATIONS, YOU ARE FINISHED! ***\n"
     ]
    }
   ],
   "source": [
    "#sign = random.choice(symb)\n",
    "#x = random.randint(0,9)\n",
    "#y = random.randint(0,9)\n",
    "\n",
    "points = 0\n",
    "\n",
    "while points < 10:\n",
    "    sign = random.choice(symb)\n",
    "    x = random.randint(0,9)\n",
    "    y = random.randint(0,9)\n",
    "    ans = eval('x' + sign + 'y') \n",
    "    print(\"\\t %i \\n     %s \\t %i \\n   --------- \" ) %(x, sign, y)\n",
    "    response = int(raw_input())\n",
    "\n",
    "    if response == ans:\n",
    "        print \"good job\"\n",
    "        points = points + 1\n",
    "        print \"score is = \", points, \"\\n\"\n",
    "    else:\n",
    "        print \"wrong answer\"\n",
    "        points = points - 1\n",
    "        print \"score is = \", points, \"\\n\"\n",
    "print \"*** CONGRATULATIONS, YOU ARE FINISHED! ***\""
   ]
  },
  {
   "cell_type": "code",
   "execution_count": null,
   "metadata": {
    "collapsed": true
   },
   "outputs": [],
   "source": []
  }
 ],
 "metadata": {
  "kernelspec": {
   "display_name": "Python 2",
   "language": "python",
   "name": "python2"
  },
  "language_info": {
   "codemirror_mode": {
    "name": "ipython",
    "version": 2
   },
   "file_extension": ".py",
   "mimetype": "text/x-python",
   "name": "python",
   "nbconvert_exporter": "python",
   "pygments_lexer": "ipython2",
   "version": "2.7.11"
  }
 },
 "nbformat": 4,
 "nbformat_minor": 0
}
