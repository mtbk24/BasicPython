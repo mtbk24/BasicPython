{
 "cells": [
  {
   "cell_type": "markdown",
   "metadata": {},
   "source": [
    "# The Guess My Number Game\n",
    "\n",
    "I found a version of this somwhere online and I rewrote it to fix the issues it had.\n",
    "It was not actually updating its guess properly on the users previous responses to the guess.\n",
    "So I fixed that. See my version at the bottom.\n",
    "\n",
    "This version is my first run at the number guessing game. There are still some issues, like the program failing if I hit a letter key instead of a number key for 0 (lower) or 1 (higher).\n",
    "It's not that I can't fix this, but I need to move on and work on other things. I'd like to optimize this someday. "
   ]
  },
  {
   "cell_type": "markdown",
   "metadata": {},
   "source": [
    "## Their version of the game.\n",
    "### You should try theirs out to see what problems it has."
   ]
  },
  {
   "cell_type": "raw",
   "metadata": {
    "collapsed": false
   },
   "source": [
    "computer_tries = 0\n",
    "player_number  = None\n",
    "computer_guess = random.randint(1, 100)\n",
    "\n",
    "print(\n",
    "    \"\"\"\n",
    "    Welcome Player to the fabulous number guessing game.\n",
    "    Please allow me to show you my incredible deduction skills\n",
    "    \"\"\")\n",
    "\n",
    "question = None\n",
    "while question != (\"yes\"):\n",
    "    question = raw_input(\"Has the player picked a number? \")\n",
    "    #question = question.lower()\n",
    "    if question == \"yes\":\n",
    "        print(\"\\nI will now guess your number!!!\\n\")\n",
    "        while player_number == None:\n",
    "            computer_tries += 1\n",
    "            print(computer_guess)\n",
    "            confirmation = raw_input(\"Is this the correct number? \")\n",
    "            #confirmation = confirmation.lower()\n",
    "            if confirmation == \"yes\":\n",
    "                player_number = computer_guess\n",
    "                if computer_tries < 2:\n",
    "                    print(\"I did it! I guessed your number was\", computer_guess,\n",
    "                           \"and it only took me\", computer_tries,\n",
    "                           \"try to get it right!\")\n",
    "                else:\n",
    "                    print(\"I did it! I guessed your number was\", computer_guess,\n",
    "                           \"and it only took me\", computer_tries,\n",
    "                           \"tries to get it right!\")\n",
    "            else:\n",
    "                higher_lower = None\n",
    "                while higher_lower not in (\"higher\", \"lower\"):\n",
    "                    higher_lower = raw_input(\"Is my guess higher or lower\"\n",
    "                                + \" than your number? \")\n",
    "                    higher_lower = higher_lower.lower()\n",
    "                    if higher_lower == \"lower\":\n",
    "                        higher = computer_guess\n",
    "                        computer_guess = random.randint(higher, 101)\n",
    "                    elif higher_lower == \"higher\":\n",
    "                        lower = computer_guess\n",
    "                        computer_guess = random.randint(0, lower)\n",
    "                    else:\n",
    "                        print(\"Please choose either higher or lower.\")"
   ]
  },
  {
   "cell_type": "code",
   "execution_count": 1,
   "metadata": {
    "collapsed": true
   },
   "outputs": [],
   "source": [
    "import random\n",
    "import numpy as np"
   ]
  },
  {
   "cell_type": "markdown",
   "metadata": {},
   "source": [
    "## My version of the Game, setup as a function to be used multiple times."
   ]
  },
  {
   "cell_type": "markdown",
   "metadata": {},
   "source": [
    "### I will choose the number 24 every time I use the program so you can see how it works. "
   ]
  },
  {
   "cell_type": "code",
   "execution_count": 2,
   "metadata": {
    "collapsed": false
   },
   "outputs": [],
   "source": [
    "def guess_my_number():\n",
    "\n",
    "    tries = 1 # first guess counts as a try.\n",
    "    number = None   # your number \n",
    "    guess = random.randint(1, 100)  # random guess from 1 to 100.\n",
    "\n",
    "    # we will store all guesses in a dictionary of keys 0 and 1.\n",
    "    # numbers too high will be stored in key 1 and numbers too low will be stored\n",
    "    # in key 0. This is so we narrow down our guesses as we go. \n",
    "    guesses = dict()\n",
    "    guesses[0] = []\n",
    "    guesses[1] = []\n",
    "\n",
    "\n",
    "    print(\n",
    "        \"\"\"\n",
    "\n",
    "        Pick a number between 1 and 100 and I will guess it. \n",
    "\n",
    "        \"\"\")\n",
    "\n",
    "    question = 'no' \n",
    "    while question.lower() not in (\"y\",\"ye\",\"yes\",\"yep\", \"ya\", \"yea\", \"yeah\"):\n",
    "\n",
    "        question = raw_input(\"\\n\\nIs your number %i ? \\n\"%guess)\n",
    "        if question.lower() in (\"y\",\"ye\",\"yes\",\"yep\", \"ya\", \"yea\", \"yeah\"):\n",
    "            print(\"\\nGreat News!\")\n",
    "            print(\"I guessed your number and it took me %i %s!!!\\n\"%(tries, np.where(tries < 2,'try','tries')))\n",
    "            break\n",
    "\n",
    "        else:\n",
    "            lower_higher = None # needs to be False for while statement to run.\n",
    "            retries = 4        # 4 retries before program fails, or while look will go on forever. \n",
    "            while lower_higher not in (0,1):\n",
    "                lower_higher = int(raw_input(\"\\nPress 0 if I was too low and 1 if I was too high.\" + \n",
    "                                             \"\\n 0 - too low \\n 1 - too high \\n\"))\n",
    "                # this  will fail if you accidentaly hit a letter on the keyboard. \n",
    "\n",
    "                if lower_higher == 0:\n",
    "                    # guesses that were too low\n",
    "                    guesses[0].append(int(guess))\n",
    "\n",
    "                elif lower_higher == 1:\n",
    "                    # guesses that were too high\n",
    "                    guesses[1].append(int(guess))\n",
    "\n",
    "                else:\n",
    "                    print(\"\\n*** Please only use 0 or 1. ***\\n\")\n",
    "                    retries = retries - 1\n",
    "                    if retries < 1:\n",
    "                        raise Exception, \"User Not Cooperating\"\n",
    "                        break # just incase\n",
    "\n",
    "\n",
    "            print(\"\\nOkay, %i is too %s.\\n\"%(guess, np.where(lower_higher==0, 'low','high')))\n",
    "                  \n",
    "            try:\n",
    "                lower_bound = max(guesses[0]) # update lower boundary to be max of all other guesses\n",
    "            except:\n",
    "                lower_bound = 1\n",
    "            try:\n",
    "                upper_bound = min(guesses[1]) # upper boundary\n",
    "            except:\n",
    "                upper_bound = 100\n",
    "\n",
    "            try:\n",
    "                guess = random.randint(lower_bound+1, upper_bound-1) # we want +1 and -1 to exclude those already guessed.\n",
    "            except:\n",
    "                raise Exception, \"You must be a liar ;)\"\n",
    "            tries = tries + 1\n",
    "\n",
    "        \n",
    "    "
   ]
  },
  {
   "cell_type": "markdown",
   "metadata": {},
   "source": [
    "# RUN 1 -- I hit all proper keys and run the entire program through."
   ]
  },
  {
   "cell_type": "code",
   "execution_count": 3,
   "metadata": {
    "collapsed": false,
    "scrolled": false
   },
   "outputs": [
    {
     "name": "stdout",
     "output_type": "stream",
     "text": [
      "\n",
      "\n",
      "        Pick a number between 1 and 100 and I will guess it. \n",
      "\n",
      "        \n",
      "\n",
      "\n",
      "Is your number 20 ? \n",
      "n\n",
      "\n",
      "Press 0 if I was too low and 1 if I was too high.\n",
      " 0 - too low \n",
      " 1 - too high \n",
      "0\n",
      "\n",
      "Okay, 20 is too low.\n",
      "\n",
      "\n",
      "\n",
      "Is your number 61 ? \n",
      "no\n",
      "\n",
      "Press 0 if I was too low and 1 if I was too high.\n",
      " 0 - too low \n",
      " 1 - too high \n",
      "1\n",
      "\n",
      "Okay, 61 is too high.\n",
      "\n",
      "\n",
      "\n",
      "Is your number 32 ? \n",
      "no\n",
      "\n",
      "Press 0 if I was too low and 1 if I was too high.\n",
      " 0 - too low \n",
      " 1 - too high \n",
      "1\n",
      "\n",
      "Okay, 32 is too high.\n",
      "\n",
      "\n",
      "\n",
      "Is your number 21 ? \n",
      "no\n",
      "\n",
      "Press 0 if I was too low and 1 if I was too high.\n",
      " 0 - too low \n",
      " 1 - too high \n",
      "0\n",
      "\n",
      "Okay, 21 is too low.\n",
      "\n",
      "\n",
      "\n",
      "Is your number 30 ? \n",
      "no\n",
      "\n",
      "Press 0 if I was too low and 1 if I was too high.\n",
      " 0 - too low \n",
      " 1 - too high \n",
      "1\n",
      "\n",
      "Okay, 30 is too high.\n",
      "\n",
      "\n",
      "\n",
      "Is your number 29 ? \n",
      "no\n",
      "\n",
      "Press 0 if I was too low and 1 if I was too high.\n",
      " 0 - too low \n",
      " 1 - too high \n",
      "1\n",
      "\n",
      "Okay, 29 is too high.\n",
      "\n",
      "\n",
      "\n",
      "Is your number 24 ? \n",
      "yes\n",
      "\n",
      "Great News!\n",
      "I guessed your number and it took me 7 tries!!!\n",
      "\n"
     ]
    }
   ],
   "source": [
    "guess_my_number()"
   ]
  },
  {
   "cell_type": "markdown",
   "metadata": {},
   "source": [
    "# RUN 2 -- fault on entering 0 or 1."
   ]
  },
  {
   "cell_type": "code",
   "execution_count": 4,
   "metadata": {
    "collapsed": false
   },
   "outputs": [
    {
     "name": "stdout",
     "output_type": "stream",
     "text": [
      "\n",
      "\n",
      "        Pick a number between 1 and 100 and I will guess it. \n",
      "\n",
      "        \n",
      "\n",
      "\n",
      "Is your number 7 ? \n",
      "no\n",
      "\n",
      "Press 0 if I was too low and 1 if I was too high.\n",
      " 0 - too low \n",
      " 1 - too high \n",
      "9\n",
      "\n",
      "*** Please only use 0 or 1. ***\n",
      "\n",
      "\n",
      "Press 0 if I was too low and 1 if I was too high.\n",
      " 0 - too low \n",
      " 1 - too high \n",
      "4\n",
      "\n",
      "*** Please only use 0 or 1. ***\n",
      "\n",
      "\n",
      "Press 0 if I was too low and 1 if I was too high.\n",
      " 0 - too low \n",
      " 1 - too high \n",
      "3\n",
      "\n",
      "*** Please only use 0 or 1. ***\n",
      "\n",
      "\n",
      "Press 0 if I was too low and 1 if I was too high.\n",
      " 0 - too low \n",
      " 1 - too high \n",
      "7\n",
      "\n",
      "*** Please only use 0 or 1. ***\n",
      "\n"
     ]
    },
    {
     "ename": "Exception",
     "evalue": "User Not Cooperating",
     "output_type": "error",
     "traceback": [
      "\u001b[0;31m---------------------------------------------------------------------------\u001b[0m",
      "\u001b[0;31mException\u001b[0m                                 Traceback (most recent call last)",
      "\u001b[0;32m<ipython-input-4-43ba905f284d>\u001b[0m in \u001b[0;36m<module>\u001b[0;34m()\u001b[0m\n\u001b[0;32m----> 1\u001b[0;31m \u001b[0mguess_my_number\u001b[0m\u001b[0;34m(\u001b[0m\u001b[0;34m)\u001b[0m\u001b[0;34m\u001b[0m\u001b[0m\n\u001b[0m",
      "\u001b[0;32m<ipython-input-2-c39869a28847>\u001b[0m in \u001b[0;36mguess_my_number\u001b[0;34m()\u001b[0m\n\u001b[1;32m     49\u001b[0m                     \u001b[0mretries\u001b[0m \u001b[0;34m=\u001b[0m \u001b[0mretries\u001b[0m \u001b[0;34m-\u001b[0m \u001b[0;36m1\u001b[0m\u001b[0;34m\u001b[0m\u001b[0m\n\u001b[1;32m     50\u001b[0m                     \u001b[0;32mif\u001b[0m \u001b[0mretries\u001b[0m \u001b[0;34m<\u001b[0m \u001b[0;36m1\u001b[0m\u001b[0;34m:\u001b[0m\u001b[0;34m\u001b[0m\u001b[0m\n\u001b[0;32m---> 51\u001b[0;31m                         \u001b[0;32mraise\u001b[0m \u001b[0mException\u001b[0m\u001b[0;34m,\u001b[0m \u001b[0;34m\"User Not Cooperating\"\u001b[0m\u001b[0;34m\u001b[0m\u001b[0m\n\u001b[0m\u001b[1;32m     52\u001b[0m                         \u001b[0;32mbreak\u001b[0m \u001b[0;31m# just incase\u001b[0m\u001b[0;34m\u001b[0m\u001b[0m\n\u001b[1;32m     53\u001b[0m \u001b[0;34m\u001b[0m\u001b[0m\n",
      "\u001b[0;31mException\u001b[0m: User Not Cooperating"
     ]
    }
   ],
   "source": [
    "guess_my_number()"
   ]
  },
  {
   "cell_type": "markdown",
   "metadata": {},
   "source": [
    "# Run 3 -- I mess up on selecting higher/lower. "
   ]
  },
  {
   "cell_type": "code",
   "execution_count": 5,
   "metadata": {
    "collapsed": false
   },
   "outputs": [
    {
     "name": "stdout",
     "output_type": "stream",
     "text": [
      "\n",
      "\n",
      "        Pick a number between 1 and 100 and I will guess it. \n",
      "\n",
      "        \n",
      "\n",
      "\n",
      "Is your number 94 ? \n",
      "no\n",
      "\n",
      "Press 0 if I was too low and 1 if I was too high.\n",
      " 0 - too low \n",
      " 1 - too high \n",
      "1\n",
      "\n",
      "Okay, 94 is too high.\n",
      "\n",
      "\n",
      "\n",
      "Is your number 56 ? \n",
      "no\n",
      "\n",
      "Press 0 if I was too low and 1 if I was too high.\n",
      " 0 - too low \n",
      " 1 - too high \n",
      "1\n",
      "\n",
      "Okay, 56 is too high.\n",
      "\n",
      "\n",
      "\n",
      "Is your number 11 ? \n",
      "no\n",
      "\n",
      "Press 0 if I was too low and 1 if I was too high.\n",
      " 0 - too low \n",
      " 1 - too high \n",
      "0\n",
      "\n",
      "Okay, 11 is too low.\n",
      "\n",
      "\n",
      "\n",
      "Is your number 34 ? \n",
      "no\n",
      "\n",
      "Press 0 if I was too low and 1 if I was too high.\n",
      " 0 - too low \n",
      " 1 - too high \n",
      "0\n",
      "\n",
      "Okay, 34 is too low.\n",
      "\n",
      "\n",
      "\n",
      "Is your number 44 ? \n",
      "no\n",
      "\n",
      "Press 0 if I was too low and 1 if I was too high.\n",
      " 0 - too low \n",
      " 1 - too high \n",
      "1\n",
      "\n",
      "Okay, 44 is too high.\n",
      "\n",
      "\n",
      "\n",
      "Is your number 41 ? \n",
      "no\n",
      "\n",
      "Press 0 if I was too low and 1 if I was too high.\n",
      " 0 - too low \n",
      " 1 - too high \n",
      "1\n",
      "\n",
      "Okay, 41 is too high.\n",
      "\n",
      "\n",
      "\n",
      "Is your number 39 ? \n",
      "no\n",
      "\n",
      "Press 0 if I was too low and 1 if I was too high.\n",
      " 0 - too low \n",
      " 1 - too high \n",
      "1\n",
      "\n",
      "Okay, 39 is too high.\n",
      "\n",
      "\n",
      "\n",
      "Is your number 35 ? \n",
      "no\n",
      "\n",
      "Press 0 if I was too low and 1 if I was too high.\n",
      " 0 - too low \n",
      " 1 - too high \n",
      "1\n",
      "\n",
      "Okay, 35 is too high.\n",
      "\n"
     ]
    },
    {
     "ename": "Exception",
     "evalue": "You must be a liar ;)",
     "output_type": "error",
     "traceback": [
      "\u001b[0;31m---------------------------------------------------------------------------\u001b[0m",
      "\u001b[0;31mException\u001b[0m                                 Traceback (most recent call last)",
      "\u001b[0;32m<ipython-input-5-43ba905f284d>\u001b[0m in \u001b[0;36m<module>\u001b[0;34m()\u001b[0m\n\u001b[0;32m----> 1\u001b[0;31m \u001b[0mguess_my_number\u001b[0m\u001b[0;34m(\u001b[0m\u001b[0;34m)\u001b[0m\u001b[0;34m\u001b[0m\u001b[0m\n\u001b[0m",
      "\u001b[0;32m<ipython-input-2-c39869a28847>\u001b[0m in \u001b[0;36mguess_my_number\u001b[0;34m()\u001b[0m\n\u001b[1;32m     67\u001b[0m                 \u001b[0mguess\u001b[0m \u001b[0;34m=\u001b[0m \u001b[0mrandom\u001b[0m\u001b[0;34m.\u001b[0m\u001b[0mrandint\u001b[0m\u001b[0;34m(\u001b[0m\u001b[0mlower_bound\u001b[0m\u001b[0;34m+\u001b[0m\u001b[0;36m1\u001b[0m\u001b[0;34m,\u001b[0m \u001b[0mupper_bound\u001b[0m\u001b[0;34m-\u001b[0m\u001b[0;36m1\u001b[0m\u001b[0;34m)\u001b[0m \u001b[0;31m# we want +1 and -1 to exclude those already guessed.\u001b[0m\u001b[0;34m\u001b[0m\u001b[0m\n\u001b[1;32m     68\u001b[0m             \u001b[0;32mexcept\u001b[0m\u001b[0;34m:\u001b[0m\u001b[0;34m\u001b[0m\u001b[0m\n\u001b[0;32m---> 69\u001b[0;31m                 \u001b[0;32mraise\u001b[0m \u001b[0mException\u001b[0m\u001b[0;34m,\u001b[0m \u001b[0;34m\"You must be a liar ;)\"\u001b[0m\u001b[0;34m\u001b[0m\u001b[0m\n\u001b[0m\u001b[1;32m     70\u001b[0m             \u001b[0mtries\u001b[0m \u001b[0;34m=\u001b[0m \u001b[0mtries\u001b[0m \u001b[0;34m+\u001b[0m \u001b[0;36m1\u001b[0m\u001b[0;34m\u001b[0m\u001b[0m\n\u001b[1;32m     71\u001b[0m \u001b[0;34m\u001b[0m\u001b[0m\n",
      "\u001b[0;31mException\u001b[0m: You must be a liar ;)"
     ]
    }
   ],
   "source": [
    "guess_my_number()"
   ]
  },
  {
   "cell_type": "markdown",
   "metadata": {},
   "source": [
    "### I get this because I accidentally responded that 34 was too low. My number was 24, so I should have responeded that 34 was too high. "
   ]
  },
  {
   "cell_type": "code",
   "execution_count": null,
   "metadata": {
    "collapsed": true
   },
   "outputs": [],
   "source": []
  }
 ],
 "metadata": {
  "kernelspec": {
   "display_name": "Python 2",
   "language": "python",
   "name": "python2"
  },
  "language_info": {
   "codemirror_mode": {
    "name": "ipython",
    "version": 2
   },
   "file_extension": ".py",
   "mimetype": "text/x-python",
   "name": "python",
   "nbconvert_exporter": "python",
   "pygments_lexer": "ipython2",
   "version": "2.7.11"
  }
 },
 "nbformat": 4,
 "nbformat_minor": 0
}
