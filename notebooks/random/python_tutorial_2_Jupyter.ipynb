{
 "cells": [
  {
   "cell_type": "markdown",
   "metadata": {},
   "source": [
    "## For this notebook I will use the Python 2.7.11 tutorial online at https://docs.python.org/2/tutorial/index.html\n",
    "\n",
    "Warning:  I will be skipping sections I am already comfortable with."
   ]
  },
  {
   "cell_type": "code",
   "execution_count": 30,
   "metadata": {
    "collapsed": false
   },
   "outputs": [
    {
     "name": "stdout",
     "output_type": "stream",
     "text": [
      "Current time Fri Apr 15 20:44:12 2016\n"
     ]
    }
   ],
   "source": [
    "import time\n",
    "now = time.strftime(\"%c\") ## Display current date and time from now variable \n",
    "print (\"Current time %s\"  % now )  ## Display current date and time from now variable"
   ]
  },
  {
   "cell_type": "code",
   "execution_count": 31,
   "metadata": {
    "collapsed": true
   },
   "outputs": [],
   "source": [
    "from __future__ import division\n",
    "import numpy as np"
   ]
  },
  {
   "cell_type": "markdown",
   "metadata": {},
   "source": [
    "### 3. An Informal Introduction to Python"
   ]
  },
  {
   "cell_type": "markdown",
   "metadata": {},
   "source": [
    "#### In interactive mode, the last printed expression is assigned to the variable _. This means that when you are using Python as a desk calculator, it is somewhat easier to continue calculations, for example:"
   ]
  },
  {
   "cell_type": "code",
   "execution_count": 32,
   "metadata": {
    "collapsed": false
   },
   "outputs": [
    {
     "data": {
      "text/plain": [
       "12.5625"
      ]
     },
     "execution_count": 32,
     "metadata": {},
     "output_type": "execute_result"
    }
   ],
   "source": [
    "tax = 12.5 / 100\n",
    "price = 100.50\n",
    "price * tax"
   ]
  },
  {
   "cell_type": "code",
   "execution_count": 33,
   "metadata": {
    "collapsed": false
   },
   "outputs": [
    {
     "data": {
      "text/plain": [
       "113.0625"
      ]
     },
     "execution_count": 33,
     "metadata": {},
     "output_type": "execute_result"
    }
   ],
   "source": [
    "# This will give you price + ( price * tax )   _ stands for the last assigned variable\n",
    "price + _ # 113.0625"
   ]
  },
  {
   "cell_type": "code",
   "execution_count": 34,
   "metadata": {
    "collapsed": false
   },
   "outputs": [
    {
     "data": {
      "text/plain": [
       "89.46929361"
      ]
     },
     "execution_count": 34,
     "metadata": {},
     "output_type": "execute_result"
    }
   ],
   "source": [
    "89.46929361"
   ]
  },
  {
   "cell_type": "code",
   "execution_count": 35,
   "metadata": {
    "collapsed": false,
    "scrolled": true
   },
   "outputs": [
    {
     "data": {
      "text/plain": [
       "89.46929361"
      ]
     },
     "execution_count": 35,
     "metadata": {},
     "output_type": "execute_result"
    }
   ],
   "source": [
    "_  # stands for the last calculation, but doesn't work if you use x = price * tax.  Need to just\n",
    "# do price * tax or just enter a number you want it to hold the place of: 89.46929361"
   ]
  },
  {
   "cell_type": "markdown",
   "metadata": {},
   "source": [
    "### Don’t explicitly assign a value to it _ you would create an independent local variable with the same name masking the built-in variable with its magic behavior.\n",
    "i.e., don't do this:    _ = 1.2345 "
   ]
  },
  {
   "cell_type": "code",
   "execution_count": 36,
   "metadata": {
    "collapsed": false
   },
   "outputs": [
    {
     "data": {
      "text/plain": [
       "89.47"
      ]
     },
     "execution_count": 36,
     "metadata": {},
     "output_type": "execute_result"
    }
   ],
   "source": [
    "# round the value of grade to 2 decimal places.\n",
    "round(_, 2)"
   ]
  },
  {
   "cell_type": "code",
   "execution_count": 37,
   "metadata": {
    "collapsed": false
   },
   "outputs": [
    {
     "name": "stdout",
     "output_type": "stream",
     "text": [
      "0.0\n",
      "1.0\n",
      "1025.0\n",
      "1\n"
     ]
    }
   ],
   "source": [
    "import math\n",
    "x = 2; y = 3\n",
    "print( math.floor(x / y) ) # truncates the float, does not round up.\n",
    "print( math.floor(1.3) ) # truncates the float, does not round up.\n",
    "print( math.floor(1025.67) ) # truncates the float, does not round up.\n",
    "print( math.trunc(1.6) ) # same as above but make it an integer instead of a float."
   ]
  },
  {
   "cell_type": "markdown",
   "metadata": {},
   "source": [
    "### Strings"
   ]
  },
  {
   "cell_type": "markdown",
   "metadata": {},
   "source": [
    "To avoid issues when trying to print code that has ' in them, use \" instead.  See:"
   ]
  },
  {
   "cell_type": "code",
   "execution_count": 38,
   "metadata": {
    "collapsed": false
   },
   "outputs": [
    {
     "name": "stdout",
     "output_type": "stream",
     "text": [
      "letters[2:5] = ['C', 'D', 'E']  works\n",
      "but you'll get an error on: \n"
     ]
    },
    {
     "data": {
      "text/plain": [
       "\"print('letters[2:5] = ['C', 'D', 'E']  works')\""
      ]
     },
     "execution_count": 38,
     "metadata": {},
     "output_type": "execute_result"
    }
   ],
   "source": [
    "print(\"letters[2:5] = ['C', 'D', 'E']  works\")\n",
    "print(\"but you'll get an error on: \")\n",
    "'''print('letters[2:5] = ['C', 'D', 'E']  works')'''"
   ]
  },
  {
   "cell_type": "code",
   "execution_count": 39,
   "metadata": {
    "collapsed": false
   },
   "outputs": [
    {
     "name": "stdout",
     "output_type": "stream",
     "text": [
      "('n', 'o', 'h', 't', 'y', 'P')\n",
      "Pyt\n"
     ]
    }
   ],
   "source": [
    "word = 'Python'\n",
    "print(word[-1], word[-2], word[-3], word[-4], word[-5], word[-6])\n",
    "# Works just like arrays and lists\n",
    "print(word[0:3])"
   ]
  },
  {
   "cell_type": "code",
   "execution_count": 40,
   "metadata": {
    "collapsed": false
   },
   "outputs": [
    {
     "name": "stdout",
     "output_type": "stream",
     "text": [
      "sky\n",
      "('dog', 'car')\n"
     ]
    }
   ],
   "source": [
    "words = ('dog','car','sky')  # List of strings\n",
    "print(words[-1])\n",
    "print(words[0:2])"
   ]
  },
  {
   "cell_type": "code",
   "execution_count": 41,
   "metadata": {
    "collapsed": false
   },
   "outputs": [
    {
     "name": "stdout",
     "output_type": "stream",
     "text": [
      "sky\n",
      "['dog', 'car']\n"
     ]
    }
   ],
   "source": [
    "words = ['dog','car','sky'] # another list of strings\n",
    "print(words[-1])\n",
    "print(words[0:2])"
   ]
  },
  {
   "cell_type": "code",
   "execution_count": 42,
   "metadata": {
    "collapsed": false
   },
   "outputs": [
    {
     "name": "stdout",
     "output_type": "stream",
     "text": [
      "set(['car', 'sky', 'dog'])\n",
      "set(['car', 'green', 'sky', 'dog', 'ocean'])\n",
      "['car', 'green', 'sky', 'dog', 'ocean']\n",
      "['car' 'green' 'sky' 'dog' 'ocean']\n"
     ]
    }
   ],
   "source": [
    "words = {'dog','car','sky'} # a set\n",
    "print(words)\n",
    "# print(words[-1]) # this won't work because sets can't be indexed.\n",
    "words.add('ocean')\n",
    "words.add('green')\n",
    "print(words)\n",
    "new_words = list(words)\n",
    "print(new_words)\n",
    "new_words_array = np.array(new_words)\n",
    "print(new_words_array)"
   ]
  },
  {
   "cell_type": "code",
   "execution_count": 43,
   "metadata": {
    "collapsed": false
   },
   "outputs": [
    {
     "data": {
      "text/plain": [
       "'car'"
      ]
     },
     "execution_count": 43,
     "metadata": {},
     "output_type": "execute_result"
    }
   ],
   "source": [
    "new_words_array[0]"
   ]
  },
  {
   "cell_type": "markdown",
   "metadata": {},
   "source": [
    "####  NOTE:\n",
    "It is very easy to add and remove words from sets and even easier to convert them into \n",
    "lists and then arrays when you are done with them. Converting them directly to arrays without\n",
    "converting to a list first will cause the word set to be carried along.\n",
    "You may want to consider doing this instead of appending to an array within a for or while loop."
   ]
  },
  {
   "cell_type": "markdown",
   "metadata": {},
   "source": [
    "#### words = ['dog','car','sky'] is a list, not an array.  Arrays can only be built with numpy.  \n",
    "import numpy as np\n",
    "\n",
    "np.array(['dog','car','sky'])"
   ]
  },
  {
   "cell_type": "code",
   "execution_count": 44,
   "metadata": {
    "collapsed": false
   },
   "outputs": [],
   "source": [
    "import numpy as np\n",
    "words = np.array(['dog','car','sky'])"
   ]
  },
  {
   "cell_type": "code",
   "execution_count": 45,
   "metadata": {
    "collapsed": false
   },
   "outputs": [
    {
     "data": {
      "text/plain": [
       "numpy.ndarray"
      ]
     },
     "execution_count": 45,
     "metadata": {},
     "output_type": "execute_result"
    }
   ],
   "source": [
    "type(words)"
   ]
  },
  {
   "cell_type": "markdown",
   "metadata": {},
   "source": [
    "## Lists"
   ]
  },
  {
   "cell_type": "markdown",
   "metadata": {},
   "source": [
    "Lists use [ ] and tuple's use ( ).  You will run into issues if you try to use ( ) for lists, as you will see in a few lines."
   ]
  },
  {
   "cell_type": "code",
   "execution_count": 46,
   "metadata": {
    "collapsed": false
   },
   "outputs": [
    {
     "data": {
      "text/plain": [
       "[1, 2, 3, 4, 5, 6, 7, 8, 9, 10]"
      ]
     },
     "execution_count": 46,
     "metadata": {},
     "output_type": "execute_result"
    }
   ],
   "source": [
    "first = [1,2,3,4,5]\n",
    "last = [6,7,8,9,10]\n",
    "first+last"
   ]
  },
  {
   "cell_type": "code",
   "execution_count": 47,
   "metadata": {
    "collapsed": false
   },
   "outputs": [
    {
     "data": {
      "text/plain": [
       "[1, 2, 3, 4, 5, 6, 7, 8, 9, 10]"
      ]
     },
     "execution_count": 47,
     "metadata": {},
     "output_type": "execute_result"
    }
   ],
   "source": [
    "all = first+last ; all"
   ]
  },
  {
   "cell_type": "code",
   "execution_count": 48,
   "metadata": {
    "collapsed": false
   },
   "outputs": [
    {
     "data": {
      "text/plain": [
       "[1, 2, 3, 4, 5, 6, 7, 8, 9, 10, 11]"
      ]
     },
     "execution_count": 48,
     "metadata": {},
     "output_type": "execute_result"
    }
   ],
   "source": [
    "all.append(11); all"
   ]
  },
  {
   "cell_type": "markdown",
   "metadata": {},
   "source": [
    "Assignment to slices is possible, and this can even change the size of the list or clear it entirely:"
   ]
  },
  {
   "cell_type": "code",
   "execution_count": 49,
   "metadata": {
    "collapsed": false
   },
   "outputs": [
    {
     "name": "stdout",
     "output_type": "stream",
     "text": [
      "['a', 'b', 'c', 'd', 'e', 'f', 'g']\n",
      "['a', 'b', 'C', 'D', 'E', 'f', 'g']\n",
      "['a', 'b', 'f', 'g']\n",
      "[]\n"
     ]
    },
    {
     "data": {
      "text/plain": [
       "list"
      ]
     },
     "execution_count": 49,
     "metadata": {},
     "output_type": "execute_result"
    }
   ],
   "source": [
    "letters = ['a', 'b', 'c', 'd', 'e', 'f', 'g']\n",
    "print(letters)\n",
    "\n",
    "# replace some values\n",
    "letters[2:5] = ['C', 'D', 'E']\n",
    "print(letters)\n",
    "\n",
    "# now remove them\n",
    "letters[2:5] = []\n",
    "print(letters)\n",
    "\n",
    "# clear the list by replacing all the elements with an empty list\n",
    "letters[:] = []\n",
    "print(letters)\n",
    "type(letters) # is a list"
   ]
  },
  {
   "cell_type": "code",
   "execution_count": 50,
   "metadata": {
    "collapsed": false
   },
   "outputs": [
    {
     "name": "stdout",
     "output_type": "stream",
     "text": [
      "('a', 'b', 'c', 'd', 'e', 'f', 'g')\n",
      "('c', 'd', 'e')\n",
      "letters[2:5] = ['C', 'D', 'E']  # does not work.  Original assignment must be done with [].\n"
     ]
    },
    {
     "data": {
      "text/plain": [
       "tuple"
      ]
     },
     "execution_count": 50,
     "metadata": {},
     "output_type": "execute_result"
    }
   ],
   "source": [
    "letters = ('a', 'b', 'c', 'd', 'e', 'f', 'g')\n",
    "print(letters)\n",
    "print(letters[2:5])\n",
    "\n",
    "# replace some values\n",
    "print(\"letters[2:5] = ['C', 'D', 'E']  # does not work.  Original assignment must be done with [].\")\n",
    "# print(letters)\n",
    "\n",
    "type(letters)\n",
    "\n",
    "# now remove them\n",
    "#letters[2:5] = []  # doesn't work either because letters is a tuple."
   ]
  },
  {
   "cell_type": "markdown",
   "metadata": {},
   "source": [
    "It is possible to nest lists:"
   ]
  },
  {
   "cell_type": "code",
   "execution_count": 51,
   "metadata": {
    "collapsed": false
   },
   "outputs": [
    {
     "name": "stdout",
     "output_type": "stream",
     "text": [
      "[['a', 'b', 'c'], [1, 2, 3]]\n",
      "['a', 'b', 'c']\n",
      "b\n"
     ]
    }
   ],
   "source": [
    "a = ['a', 'b', 'c']\n",
    "n = [1, 2, 3]\n",
    "x = [a, n]\n",
    "print(x)\n",
    "\n",
    "print( x[0] )\n",
    "\n",
    "print( x[0][1] )"
   ]
  },
  {
   "cell_type": "code",
   "execution_count": 52,
   "metadata": {
    "collapsed": false
   },
   "outputs": [
    {
     "name": "stdout",
     "output_type": "stream",
     "text": [
      "[['Kim', 'Derek', 'Sirius'], [88.23, 92.8, 99.13]]\n",
      "['Kim', 'Derek', 'Sirius']\n",
      "Derek\n"
     ]
    }
   ],
   "source": [
    "name = ['Kim', 'Derek', 'Sirius']\n",
    "percentage = [88.23, 92.80, 99.13]\n",
    "x = [name, percentage]\n",
    "print(x)\n",
    "\n",
    "print( x[0] )\n",
    "\n",
    "print( x[0][1] )"
   ]
  },
  {
   "cell_type": "code",
   "execution_count": 53,
   "metadata": {
    "collapsed": false
   },
   "outputs": [
    {
     "data": {
      "text/plain": [
       "[['Kim', 'Derek', 'Sirius'], [88.23, 92.8, 99.13]]"
      ]
     },
     "execution_count": 53,
     "metadata": {},
     "output_type": "execute_result"
    }
   ],
   "source": [
    "x"
   ]
  },
  {
   "cell_type": "code",
   "execution_count": 54,
   "metadata": {
    "collapsed": false
   },
   "outputs": [
    {
     "name": "stdout",
     "output_type": "stream",
     "text": [
      "('Kim', 88.23)\n",
      "('Derek', 92.8)\n",
      "('Sirius', 99.13)\n"
     ]
    }
   ],
   "source": [
    "print(x[0][0], x[1][0])\n",
    "print(x[0][1], x[1][1])\n",
    "print(x[0][2], x[1][2])"
   ]
  },
  {
   "cell_type": "code",
   "execution_count": 55,
   "metadata": {
    "collapsed": false
   },
   "outputs": [
    {
     "name": "stdout",
     "output_type": "stream",
     "text": [
      "{('Kim', 'Derek', 'Sirius'): (88.23, 92.8, 99.13)}\n"
     ]
    }
   ],
   "source": [
    "name = ('Kim', 'Derek', 'Sirius')\n",
    "percentage = (88.23, 92.80, 99.13)\n",
    "dict_grades = {name:percentage}\n",
    "#x = (name, percentage)\n",
    "print(dict_grades)\n",
    "\n",
    "#print( x[0] )\n",
    "\n",
    "#print( x[0][1] )"
   ]
  },
  {
   "cell_type": "code",
   "execution_count": null,
   "metadata": {
    "collapsed": true
   },
   "outputs": [],
   "source": []
  }
 ],
 "metadata": {
  "kernelspec": {
   "display_name": "Python 2",
   "language": "python",
   "name": "python2"
  },
  "language_info": {
   "codemirror_mode": {
    "name": "ipython",
    "version": 2
   },
   "file_extension": ".py",
   "mimetype": "text/x-python",
   "name": "python",
   "nbconvert_exporter": "python",
   "pygments_lexer": "ipython2",
   "version": "2.7.11"
  }
 },
 "nbformat": 4,
 "nbformat_minor": 0
}
