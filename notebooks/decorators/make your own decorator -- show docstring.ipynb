{
 "cells": [
  {
   "cell_type": "markdown",
   "metadata": {},
   "source": [
    "# Decorators"
   ]
  },
  {
   "cell_type": "markdown",
   "metadata": {},
   "source": [
    "Types of Decorators:\n",
    "\n",
    "    - @sttaticmethod   *\n",
    "    - @classmethod     *\n",
    "    - @funcname        ***\n",
    "\n",
    "\n",
    "\\* These are the two most commonly used decorators.\n",
    "\n",
    "\\*** funcname is the name of any function that you want to run at the initialization of any other function. You can make your own decorators!"
   ]
  },
  {
   "cell_type": "markdown",
   "metadata": {},
   "source": [
    "## Example of making your own decorators:"
   ]
  },
  {
   "cell_type": "code",
   "execution_count": 279,
   "metadata": {
    "collapsed": true
   },
   "outputs": [],
   "source": [
    "#  Use @showdoc before every function you want to automatically \n",
    "#  print its docstring at initialization.\n",
    "\n",
    "def showdoc(f):\n",
    "    if f.__doc__:\n",
    "        print('%s: %s' %(f.__name__, f.__doc__))\n",
    "    else:\n",
    "        print('%s: No docstring' %(f.__name__))\n",
    "    return f"
   ]
  },
  {
   "cell_type": "code",
   "execution_count": 280,
   "metadata": {
    "collapsed": false
   },
   "outputs": [
    {
     "name": "stdout",
     "output_type": "stream",
     "text": [
      "f1: Kim's doc string\n",
      "f2: No docstring\n"
     ]
    }
   ],
   "source": [
    "@showdoc\n",
    "def f1():\n",
    "    '''Kim's doc string'''\n",
    "    pass\n",
    "\n",
    "@showdoc\n",
    "def f2():\n",
    "    pass"
   ]
  },
  {
   "cell_type": "code",
   "execution_count": 282,
   "metadata": {
    "collapsed": false
   },
   "outputs": [
    {
     "name": "stdout",
     "output_type": "stream",
     "text": [
      "Area:  Calculates the Area of a Pizza.\n",
      "    radius: float or int, radius of pizza.\n",
      "    \n",
      "Volume:  Calculates the Volume of a Pizza.  Uses Area function.\n",
      "    height: float or int, height of pizza.\n",
      "    radius: float or int, radius of pizza.\n",
      "    \n"
     ]
    }
   ],
   "source": [
    "import math\n",
    "\n",
    "@showdoc\n",
    "def Area(radius):\n",
    "    ''' Calculates the Area of a Pizza.\n",
    "    radius: float or int, radius of pizza.\n",
    "    '''\n",
    "    return math.pi * (radius ** 2)\n",
    "\n",
    "\n",
    "@showdoc\n",
    "def Volume(height, radius):\n",
    "    ''' Calculates the Volume of a Pizza.  Uses Area function.\n",
    "    height: float or int, height of pizza.\n",
    "    radius: float or int, radius of pizza.\n",
    "    '''\n",
    "    return height * Area(radius)"
   ]
  },
  {
   "cell_type": "code",
   "execution_count": 283,
   "metadata": {
    "collapsed": false
   },
   "outputs": [
    {
     "data": {
      "text/plain": [
       "28.274333882308138"
      ]
     },
     "execution_count": 283,
     "metadata": {},
     "output_type": "execute_result"
    }
   ],
   "source": [
    "Area(3)"
   ]
  },
  {
   "cell_type": "code",
   "execution_count": null,
   "metadata": {
    "collapsed": true
   },
   "outputs": [],
   "source": []
  }
 ],
 "metadata": {
  "kernelspec": {
   "display_name": "Python 2",
   "language": "python",
   "name": "python2"
  },
  "language_info": {
   "codemirror_mode": {
    "name": "ipython",
    "version": 2
   },
   "file_extension": ".py",
   "mimetype": "text/x-python",
   "name": "python",
   "nbconvert_exporter": "python",
   "pygments_lexer": "ipython2",
   "version": "2.7.12"
  }
 },
 "nbformat": 4,
 "nbformat_minor": 0
}
