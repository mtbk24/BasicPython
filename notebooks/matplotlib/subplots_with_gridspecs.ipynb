{
 "cells": [
  {
   "cell_type": "code",
   "execution_count": 26,
   "metadata": {
    "collapsed": true
   },
   "outputs": [],
   "source": [
    "import matplotlib.pyplot as plt\n",
    "%matplotlib inline"
   ]
  },
  {
   "cell_type": "code",
   "execution_count": 27,
   "metadata": {
    "collapsed": false
   },
   "outputs": [
    {
     "data": {
      "image/png": "[encoded data removed]",
      "text/plain": [
       "<matplotlib.figure.Figure at 0x108ff1450>"
      ]
     },
     "metadata": {},
     "output_type": "display_data"
    }
   ],
   "source": [
    "def make_ticklabels_invisible(fig):\n",
    "    for i, ax in enumerate(fig.axes):\n",
    "        ax.text(0.5, 0.5, \"ax%d\" % (i+1), va=\"center\", ha=\"center\")\n",
    "        for tl in ax.get_xticklabels() + ax.get_yticklabels():\n",
    "            tl.set_visible(False)\n",
    "\n",
    "\n",
    "plt.figure(0)\n",
    "ax1 = plt.subplot2grid((3,3), (0, 0), colspan=3)\n",
    "ax2 = plt.subplot2grid((3,3), (1, 0), colspan=2)\n",
    "ax3 = plt.subplot2grid((3,3), (1, 2), rowspan=2)\n",
    "ax4 = plt.subplot2grid((3,3), (2, 0))\n",
    "ax5 = plt.subplot2grid((3,3), (2, 1))\n",
    "\n",
    "plt.suptitle(\"subplot2grid\")\n",
    "make_ticklabels_invisible(plt.gcf())\n",
    "plt.show()\n"
   ]
  },
  {
   "cell_type": "code",
   "execution_count": 28,
   "metadata": {
    "collapsed": false
   },
   "outputs": [
    {
     "data": {
      "image/png": "[encoded data removed]",
      "text/plain": [
       "<matplotlib.figure.Figure at 0x10c8fde90>"
      ]
     },
     "metadata": {},
     "output_type": "display_data"
    }
   ],
   "source": [
    "import matplotlib.gridspec as gridspec\n",
    "\n",
    "gs = gridspec.GridSpec(2, 2,\n",
    "                       width_ratios=[1,2],\n",
    "                       height_ratios=[4,1]\n",
    "                       )\n",
    "\n",
    "ax1 = plt.subplot(gs[0])\n",
    "ax2 = plt.subplot(gs[1])\n",
    "ax3 = plt.subplot(gs[2])\n",
    "ax4 = plt.subplot(gs[3])"
   ]
  },
  {
   "cell_type": "code",
   "execution_count": 29,
   "metadata": {
    "collapsed": false
   },
   "outputs": [
    {
     "name": "stdout",
     "output_type": "stream",
     "text": [
      "Help on module matplotlib.gridspec in matplotlib:\n",
      "\n",
      "NAME\n",
      "    matplotlib.gridspec\n",
      "\n",
      "FILE\n",
      "    /Users/KimiZ/anaconda/lib/python2.7/site-packages/matplotlib/gridspec.py\n",
      "\n",
      "DESCRIPTION\n",
      "    :mod:`~matplotlib.gridspec` is a module which specifies the location\n",
      "    of the subplot in the figure.\n",
      "    \n",
      "        ``GridSpec``\n",
      "            specifies the geometry of the grid that a subplot will be\n",
      "            placed. The number of rows and number of columns of the grid\n",
      "            need to be set. Optionally, the subplot layout parameters\n",
      "            (e.g., left, right, etc.) can be tuned.\n",
      "    \n",
      "        ``SubplotSpec``\n",
      "            specifies the location of the subplot in the given *GridSpec*.\n",
      "\n",
      "CLASSES\n",
      "    __builtin__.object\n",
      "        GridSpecBase\n",
      "            GridSpec\n",
      "            GridSpecFromSubplotSpec\n",
      "        SubplotSpec\n",
      "    \n",
      "    class GridSpec(GridSpecBase)\n",
      "     |  A class that specifies the geometry of the grid that a subplot\n",
      "     |  will be placed. The location of grid is determined by similar way\n",
      "     |  as the SubplotParams.\n",
      "     |  \n",
      "     |  Method resolution order:\n",
      "     |      GridSpec\n",
      "     |      GridSpecBase\n",
      "     |      __builtin__.object\n",
      "     |  \n",
      "     |  Methods defined here:\n",
      "     |  \n",
      "     |  __init__(self, nrows, ncols, left=None, bottom=None, right=None, top=None, wspace=None, hspace=None, width_ratios=None, height_ratios=None)\n",
      "     |      The number of rows and number of columns of the\n",
      "     |      grid need to be set. Optionally, the subplot layout parameters\n",
      "     |      (e.g., left, right, etc.) can be tuned.\n",
      "     |  \n",
      "     |  get_subplot_params(self, fig=None)\n",
      "     |      return a dictionary of subplot layout parameters. The default\n",
      "     |      parameters are from rcParams unless a figure attribute is set.\n",
      "     |  \n",
      "     |  locally_modified_subplot_params(self)\n",
      "     |  \n",
      "     |  tight_layout(self, fig, renderer=None, pad=1.08, h_pad=None, w_pad=None, rect=None)\n",
      "     |      Adjust subplot parameters to give specified padding.\n",
      "     |      \n",
      "     |      Parameters:\n",
      "     |      \n",
      "     |      pad : float\n",
      "     |          padding between the figure edge and the edges of subplots, as a fraction of the font-size.\n",
      "     |      h_pad, w_pad : float\n",
      "     |          padding (height/width) between edges of adjacent subplots.\n",
      "     |          Defaults to `pad_inches`.\n",
      "     |      rect : if rect is given, it is interpreted as a rectangle\n",
      "     |          (left, bottom, right, top) in the normalized figure\n",
      "     |          coordinate that the whole subplots area (including\n",
      "     |          labels) will fit into. Default is (0, 0, 1, 1).\n",
      "     |  \n",
      "     |  update(self, **kwargs)\n",
      "     |      Update the current values.  If any kwarg is None, default to\n",
      "     |      the current value, if set, otherwise to rc.\n",
      "     |  \n",
      "     |  ----------------------------------------------------------------------\n",
      "     |  Methods inherited from GridSpecBase:\n",
      "     |  \n",
      "     |  __getitem__(self, key)\n",
      "     |      create and return a SuplotSpec instance.\n",
      "     |  \n",
      "     |  get_geometry(self)\n",
      "     |      get the geometry of the grid, e.g., 2,3\n",
      "     |  \n",
      "     |  get_grid_positions(self, fig)\n",
      "     |      return lists of bottom and top position of rows, left and\n",
      "     |      right positions of columns.\n",
      "     |  \n",
      "     |  get_height_ratios(self)\n",
      "     |  \n",
      "     |  get_width_ratios(self)\n",
      "     |  \n",
      "     |  new_subplotspec(self, loc, rowspan=1, colspan=1)\n",
      "     |      create and return a SuplotSpec instance.\n",
      "     |  \n",
      "     |  set_height_ratios(self, height_ratios)\n",
      "     |  \n",
      "     |  set_width_ratios(self, width_ratios)\n",
      "     |  \n",
      "     |  ----------------------------------------------------------------------\n",
      "     |  Data descriptors inherited from GridSpecBase:\n",
      "     |  \n",
      "     |  __dict__\n",
      "     |      dictionary for instance variables (if defined)\n",
      "     |  \n",
      "     |  __weakref__\n",
      "     |      list of weak references to the object (if defined)\n",
      "    \n",
      "    class GridSpecBase(__builtin__.object)\n",
      "     |  A base class of GridSpec that specifies the geometry of the grid\n",
      "     |  that a subplot will be placed.\n",
      "     |  \n",
      "     |  Methods defined here:\n",
      "     |  \n",
      "     |  __getitem__(self, key)\n",
      "     |      create and return a SuplotSpec instance.\n",
      "     |  \n",
      "     |  __init__(self, nrows, ncols, height_ratios=None, width_ratios=None)\n",
      "     |      The number of rows and number of columns of the grid need to\n",
      "     |      be set. Optionally, the ratio of heights and widths of rows and\n",
      "     |      columns can be specified.\n",
      "     |  \n",
      "     |  get_geometry(self)\n",
      "     |      get the geometry of the grid, e.g., 2,3\n",
      "     |  \n",
      "     |  get_grid_positions(self, fig)\n",
      "     |      return lists of bottom and top position of rows, left and\n",
      "     |      right positions of columns.\n",
      "     |  \n",
      "     |  get_height_ratios(self)\n",
      "     |  \n",
      "     |  get_subplot_params(self, fig=None)\n",
      "     |  \n",
      "     |  get_width_ratios(self)\n",
      "     |  \n",
      "     |  new_subplotspec(self, loc, rowspan=1, colspan=1)\n",
      "     |      create and return a SuplotSpec instance.\n",
      "     |  \n",
      "     |  set_height_ratios(self, height_ratios)\n",
      "     |  \n",
      "     |  set_width_ratios(self, width_ratios)\n",
      "     |  \n",
      "     |  ----------------------------------------------------------------------\n",
      "     |  Data descriptors defined here:\n",
      "     |  \n",
      "     |  __dict__\n",
      "     |      dictionary for instance variables (if defined)\n",
      "     |  \n",
      "     |  __weakref__\n",
      "     |      list of weak references to the object (if defined)\n",
      "    \n",
      "    class GridSpecFromSubplotSpec(GridSpecBase)\n",
      "     |  GridSpec whose subplot layout parameters are inherited from the\n",
      "     |  location specified by a given SubplotSpec.\n",
      "     |  \n",
      "     |  Method resolution order:\n",
      "     |      GridSpecFromSubplotSpec\n",
      "     |      GridSpecBase\n",
      "     |      __builtin__.object\n",
      "     |  \n",
      "     |  Methods defined here:\n",
      "     |  \n",
      "     |  __init__(self, nrows, ncols, subplot_spec, wspace=None, hspace=None, height_ratios=None, width_ratios=None)\n",
      "     |      The number of rows and number of columns of the grid need to\n",
      "     |      be set. An instance of SubplotSpec is also needed to be set\n",
      "     |      from which the layout parameters will be inherited. The wspace\n",
      "     |      and hspace of the layout can be optionally specified or the\n",
      "     |      default values (from the figure or rcParams) will be used.\n",
      "     |  \n",
      "     |  get_subplot_params(self, fig=None)\n",
      "     |      return a dictionary of subplot layout parameters.\n",
      "     |  \n",
      "     |  get_topmost_subplotspec(self)\n",
      "     |      get the topmost SubplotSpec instance associated with the subplot\n",
      "     |  \n",
      "     |  ----------------------------------------------------------------------\n",
      "     |  Methods inherited from GridSpecBase:\n",
      "     |  \n",
      "     |  __getitem__(self, key)\n",
      "     |      create and return a SuplotSpec instance.\n",
      "     |  \n",
      "     |  get_geometry(self)\n",
      "     |      get the geometry of the grid, e.g., 2,3\n",
      "     |  \n",
      "     |  get_grid_positions(self, fig)\n",
      "     |      return lists of bottom and top position of rows, left and\n",
      "     |      right positions of columns.\n",
      "     |  \n",
      "     |  get_height_ratios(self)\n",
      "     |  \n",
      "     |  get_width_ratios(self)\n",
      "     |  \n",
      "     |  new_subplotspec(self, loc, rowspan=1, colspan=1)\n",
      "     |      create and return a SuplotSpec instance.\n",
      "     |  \n",
      "     |  set_height_ratios(self, height_ratios)\n",
      "     |  \n",
      "     |  set_width_ratios(self, width_ratios)\n",
      "     |  \n",
      "     |  ----------------------------------------------------------------------\n",
      "     |  Data descriptors inherited from GridSpecBase:\n",
      "     |  \n",
      "     |  __dict__\n",
      "     |      dictionary for instance variables (if defined)\n",
      "     |  \n",
      "     |  __weakref__\n",
      "     |      list of weak references to the object (if defined)\n",
      "    \n",
      "    class SubplotSpec(__builtin__.object)\n",
      "     |  specifies the location of the subplot in the given *GridSpec*.\n",
      "     |  \n",
      "     |  Methods defined here:\n",
      "     |  \n",
      "     |  __eq__(self, other)\n",
      "     |  \n",
      "     |  __hash__(self)\n",
      "     |  \n",
      "     |  __init__(self, gridspec, num1, num2=None)\n",
      "     |      The subplot will occupy the num1-th cell of the given\n",
      "     |      gridspec.  If num2 is provided, the subplot will span between\n",
      "     |      num1-th cell and num2-th cell.\n",
      "     |      \n",
      "     |      The index stars from 0.\n",
      "     |  \n",
      "     |  get_geometry(self)\n",
      "     |      get the subplot geometry, e.g., 2,2,3. Unlike SuplorParams,\n",
      "     |      index is 0-based\n",
      "     |  \n",
      "     |  get_gridspec(self)\n",
      "     |  \n",
      "     |  get_position(self, fig, return_all=False)\n",
      "     |      update the subplot position from fig.subplotpars\n",
      "     |  \n",
      "     |  get_topmost_subplotspec(self)\n",
      "     |      get the topmost SubplotSpec instance associated with the subplot\n",
      "     |  \n",
      "     |  ----------------------------------------------------------------------\n",
      "     |  Data descriptors defined here:\n",
      "     |  \n",
      "     |  __dict__\n",
      "     |      dictionary for instance variables (if defined)\n",
      "     |  \n",
      "     |  __weakref__\n",
      "     |      list of weak references to the object (if defined)\n",
      "\n",
      "DATA\n",
      "    absolute_import = _Feature((2, 5, 0, 'alpha', 1), (3, 0, 0, 'alpha', 0...\n",
      "    division = _Feature((2, 2, 0, 'alpha', 2), (3, 0, 0, 'alpha', 0), 8192...\n",
      "    print_function = _Feature((2, 6, 0, 'alpha', 2), (3, 0, 0, 'alpha', 0)...\n",
      "    rcParams = RcParams({u'agg.path.chunksize': 0,\n",
      "              u'...le': Fal...\n",
      "    unicode_literals = _Feature((2, 6, 0, 'alpha', 2), (3, 0, 0, 'alpha', ...\n",
      "\n",
      "\n"
     ]
    }
   ],
   "source": [
    "help(gridspec)"
   ]
  },
  {
   "cell_type": "code",
   "execution_count": 30,
   "metadata": {
    "collapsed": false
   },
   "outputs": [
    {
     "data": {
      "image/png": "[encoded data removed]",
      "text/plain": [
       "<matplotlib.figure.Figure at 0x10d2c0090>"
      ]
     },
     "metadata": {},
     "output_type": "display_data"
    }
   ],
   "source": [
    "import matplotlib.gridspec as gridspec\n",
    "\n",
    "fig1 = plt.figure(figsize=(11,7))\n",
    "\n",
    "gs = gridspec.GridSpec(2, 1,\n",
    "                       width_ratios=[1,1],\n",
    "                       height_ratios=[4,1]\n",
    "                       )\n",
    "\n",
    "fig1.subplots_adjust(hspace=0.0)\n",
    "ax1 = plt.subplot(gs[0])\n",
    "ax2 = plt.subplot(gs[1])\n",
    "#ax3 = plt.subplot(gs[2])\n",
    "#ax4 = plt.subplot(gs[3])\n",
    "\n",
    "ax2.axes.autoscale_view(tight='y')\n",
    "#plt.tight_layout()\n",
    "\n",
    "# with warnings.catch_warnings():\n",
    "#     # This raises warnings since tight layout cannot\n",
    "#     # handle gridspec automatically. We are going to\n",
    "#     # do that manually so we can filter the warning.\n",
    "#     warnings.simplefilter(\"ignore\", UserWarning)\n",
    "#     gs.tight_layout(fig, rect=[0.45, None, None, None])"
   ]
  },
  {
   "cell_type": "code",
   "execution_count": 31,
   "metadata": {
    "collapsed": false
   },
   "outputs": [
    {
     "data": {
      "image/png": "[encoded data removed]",
      "text/plain": [
       "<matplotlib.figure.Figure at 0x10ceca410>"
      ]
     },
     "metadata": {},
     "output_type": "display_data"
    }
   ],
   "source": [
    "import numpy as np\n",
    "import matplotlib.pyplot as plt\n",
    "\n",
    "# generate some data\n",
    "x = np.arange(0, 10, 0.2)\n",
    "y = np.sin(x)\n",
    "\n",
    "# plot it\n",
    "fig = plt.figure(figsize=(8, 6))\n",
    "ax0 = plt.subplot2grid((1, 3), (0, 0), colspan=2)\n",
    "ax0.plot(x, y)\n",
    "ax1 = plt.subplot2grid((1, 3), (0, 2))\n",
    "ax1.plot(y, x)\n",
    "\n",
    "plt.tight_layout()\n",
    "plt.savefig('grid_figure.pdf')"
   ]
  },
  {
   "cell_type": "raw",
   "metadata": {},
   "source": [
    "ax = plt.subplot2grid((2,2),(0, 0))\n",
    "    is identical to:\n",
    "ax = plt.subplot(2,2,1)    \n",
    "\n",
    "Note that, unlike matplotlib’s subplot, the index starts from 0 in gridspec."
   ]
  },
  {
   "cell_type": "code",
   "execution_count": null,
   "metadata": {
    "collapsed": true
   },
   "outputs": [],
   "source": []
  }
 ],
 "metadata": {
  "kernelspec": {
   "display_name": "Python 2",
   "language": "python",
   "name": "python2"
  },
  "language_info": {
   "codemirror_mode": {
    "name": "ipython",
    "version": 2
   },
   "file_extension": ".py",
   "mimetype": "text/x-python",
   "name": "python",
   "nbconvert_exporter": "python",
   "pygments_lexer": "ipython2",
   "version": "2.7.12"
  }
 },
 "nbformat": 4,
 "nbformat_minor": 0
}
